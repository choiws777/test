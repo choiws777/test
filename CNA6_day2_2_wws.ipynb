{
  "nbformat": 4,
  "nbformat_minor": 0,
  "metadata": {
    "kernelspec": {
      "display_name": "Python 3",
      "name": "python3"
    },
    "language_info": {
      "name": "python"
    },
    "latex_envs": {
      "LaTeX_envs_menu_present": true,
      "autoclose": false,
      "autocomplete": true,
      "bibliofile": "biblio.bib",
      "cite_by": "apalike",
      "current_citInitial": 1,
      "eqLabelWithNumbers": true,
      "eqNumInitial": 1,
      "hotkeys": {
        "equation": "Ctrl-E",
        "itemize": "Ctrl-I"
      },
      "labels_anchors": false,
      "latex_user_defs": false,
      "report_style_numbering": false,
      "user_envs_cfg": false
    },
    "toc": {
      "base_numbering": 1,
      "nav_menu": {},
      "number_sections": true,
      "sideBar": true,
      "skip_h1_title": true,
      "title_cell": "Table of Contents",
      "title_sidebar": "Contents",
      "toc_cell": true,
      "toc_position": {
        "height": "calc(100% - 180px)",
        "left": "10px",
        "top": "150px",
        "width": "250px"
      },
      "toc_section_display": true,
      "toc_window_display": true
    },
    "varInspector": {
      "cols": {
        "lenName": 16,
        "lenType": 16,
        "lenVar": 40
      },
      "kernels_config": {
        "python": {
          "delete_cmd_postfix": "",
          "delete_cmd_prefix": "del ",
          "library": "var_list.py",
          "varRefreshCmd": "print(var_dic_list())"
        },
        "r": {
          "delete_cmd_postfix": ") ",
          "delete_cmd_prefix": "rm(",
          "library": "var_list.r",
          "varRefreshCmd": "cat(var_dic_list()) "
        }
      },
      "types_to_exclude": [
        "module",
        "function",
        "builtin_function_or_method",
        "instance",
        "_Feature"
      ],
      "window_display": false
    },
    "colab": {
      "name": "CNA6_day2-2_wws.ipynb",
      "provenance": [],
      "collapsed_sections": [],
      "include_colab_link": true
    }
  },
  "cells": [
    {
      "cell_type": "markdown",
      "metadata": {
        "id": "view-in-github",
        "colab_type": "text"
      },
      "source": [
        "<a href=\"https://colab.research.google.com/github/choiws777/test/blob/master/CNA6_day2_2_wws.ipynb\" target=\"_parent\"><img src=\"https://colab.research.google.com/assets/colab-badge.svg\" alt=\"Open In Colab\"/></a>"
      ]
    },
    {
      "cell_type": "markdown",
      "metadata": {
        "id": "NDYhUqn6-4sQ"
      },
      "source": [
        "---"
      ]
    },
    {
      "cell_type": "markdown",
      "metadata": {
        "id": "g9jct_tE-4sT"
      },
      "source": [
        "# <center>멤버십 고객 탈회 예측</center>"
      ]
    },
    {
      "cell_type": "markdown",
      "metadata": {
        "id": "RuEpLgbm-4sU"
      },
      "source": [
        "컬럼 | 설명 | 컬럼 | 설명\n",
        "---|---|---|---\n",
        "id | 멤버십 번호 | MEMBERSHIP_TERM_YEARS | 멤버십 기간\n",
        "ANNUAL_FEES | 연간 회비 | MEMBER_MARITAL_STATUS | 기혼 여부, M(기혼), S(미혼)\n",
        "MEMBER_GENDER | 성별, M(남),F(여) | MEMBER_ANNUAL_INCOME | 연봉(연간 수입)\n",
        "MEMBER_OCCUPATION_CD | 직업 | MEMBERSHIP_PACKAGE | 멤버십 유형\n",
        "MEMBER_AGE_AT_ISSUE | 나이 | ADDITIONAL_MEMBERS | 가족 회원의 수\n",
        "PAYMENT_MODE | 지불 방식 | AGENT_CODE | 직원 코드 \n",
        "START_DATE (YYYYMMDD) | 시작 날짜 | END_DATE  (YYYYMMDD) | 종료 날짜 \n",
        "MEMBERSHIP_STATUS | 0(유지), 1(탈회) | "
      ]
    },
    {
      "cell_type": "code",
      "metadata": {
        "id": "nUSDH9ul_2QM"
      },
      "source": [
        "# 이 과제에서는 F1 스코어를 쓸거니 잘 보삼"
      ],
      "execution_count": null,
      "outputs": []
    },
    {
      "cell_type": "markdown",
      "metadata": {
        "id": "_P5jCpj3-4sU"
      },
      "source": [
        "# Import Library"
      ]
    },
    {
      "cell_type": "code",
      "metadata": {
        "id": "ea6uNBTY-4sV"
      },
      "source": [
        "import pandas as pd\n",
        "import numpy as np\n",
        "\n",
        "import matplotlib.pyplot as plt\n",
        "import seaborn as sns\n",
        "\n",
        "import warnings\n",
        "warnings.filterwarnings(action='ignore')"
      ],
      "execution_count": null,
      "outputs": []
    },
    {
      "cell_type": "markdown",
      "metadata": {
        "id": "aff5a922-6058-432e-9b19-48ee589e0596"
      },
      "source": [
        "# 데이터셋 업로드"
      ]
    },
    {
      "cell_type": "code",
      "metadata": {
        "id": "2f2c24ff-1f3d-430d-85fe-bab82940b12f",
        "colab": {
          "base_uri": "https://localhost:8080/"
        },
        "outputId": "f8fa5ebc-5be0-4f42-adce-d8a6580e628b"
      },
      "source": [
        "# 구글 드라이브 연결하기\n",
        "from google.colab import drive\n",
        "drive.mount('./MyDrive')"
      ],
      "execution_count": null,
      "outputs": [
        {
          "output_type": "stream",
          "name": "stdout",
          "text": [
            "Mounted at ./MyDrive\n"
          ]
        }
      ]
    },
    {
      "cell_type": "markdown",
      "metadata": {
        "id": "-TrLuW0X-4sW"
      },
      "source": [
        "# Load Dataset"
      ]
    },
    {
      "cell_type": "code",
      "metadata": {
        "id": "RMr5etHr-4sW",
        "colab": {
          "base_uri": "https://localhost:8080/",
          "height": 245
        },
        "outputId": "15621c92-8c2c-4aa5-c66b-2dbc66f45910"
      },
      "source": [
        "train = pd.read_csv(\"/content/MyDrive/MyDrive/membership/train.csv\")\n",
        "print(train.shape)\n",
        "train.head()"
      ],
      "execution_count": null,
      "outputs": [
        {
          "output_type": "stream",
          "name": "stdout",
          "text": [
            "(8807, 15)\n"
          ]
        },
        {
          "output_type": "execute_result",
          "data": {
            "text/html": [
              "<div>\n",
              "<style scoped>\n",
              "    .dataframe tbody tr th:only-of-type {\n",
              "        vertical-align: middle;\n",
              "    }\n",
              "\n",
              "    .dataframe tbody tr th {\n",
              "        vertical-align: top;\n",
              "    }\n",
              "\n",
              "    .dataframe thead th {\n",
              "        text-align: right;\n",
              "    }\n",
              "</style>\n",
              "<table border=\"1\" class=\"dataframe\">\n",
              "  <thead>\n",
              "    <tr style=\"text-align: right;\">\n",
              "      <th></th>\n",
              "      <th>id</th>\n",
              "      <th>MEMBERSHIP_TERM_YEARS</th>\n",
              "      <th>ANNUAL_FEES</th>\n",
              "      <th>MEMBER_MARITAL_STATUS</th>\n",
              "      <th>MEMBER_GENDER</th>\n",
              "      <th>MEMBER_ANNUAL_INCOME</th>\n",
              "      <th>MEMBER_OCCUPATION_CD</th>\n",
              "      <th>MEMBERSHIP_PACKAGE</th>\n",
              "      <th>MEMBER_AGE_AT_ISSUE</th>\n",
              "      <th>ADDITIONAL_MEMBERS</th>\n",
              "      <th>PAYMENT_MODE</th>\n",
              "      <th>AGENT_CODE</th>\n",
              "      <th>MEMBERSHIP_STATUS</th>\n",
              "      <th>START_DATE</th>\n",
              "      <th>END_DATE</th>\n",
              "    </tr>\n",
              "  </thead>\n",
              "  <tbody>\n",
              "    <tr>\n",
              "      <th>0</th>\n",
              "      <td>0</td>\n",
              "      <td>22</td>\n",
              "      <td>100000.00</td>\n",
              "      <td>M</td>\n",
              "      <td>M</td>\n",
              "      <td>450000.0</td>\n",
              "      <td>1.0</td>\n",
              "      <td>TYPE-B</td>\n",
              "      <td>27</td>\n",
              "      <td>1</td>\n",
              "      <td>ANNUAL</td>\n",
              "      <td>666099</td>\n",
              "      <td>0</td>\n",
              "      <td>20091029</td>\n",
              "      <td>NaN</td>\n",
              "    </tr>\n",
              "    <tr>\n",
              "      <th>1</th>\n",
              "      <td>1</td>\n",
              "      <td>88</td>\n",
              "      <td>149029.58</td>\n",
              "      <td>NaN</td>\n",
              "      <td>M</td>\n",
              "      <td>NaN</td>\n",
              "      <td>6.0</td>\n",
              "      <td>TYPE-A</td>\n",
              "      <td>75</td>\n",
              "      <td>0</td>\n",
              "      <td>ANNUAL</td>\n",
              "      <td>132000</td>\n",
              "      <td>0</td>\n",
              "      <td>20131014</td>\n",
              "      <td>NaN</td>\n",
              "    </tr>\n",
              "    <tr>\n",
              "      <th>2</th>\n",
              "      <td>2</td>\n",
              "      <td>93</td>\n",
              "      <td>102999.94</td>\n",
              "      <td>NaN</td>\n",
              "      <td>M</td>\n",
              "      <td>600000.0</td>\n",
              "      <td>1.0</td>\n",
              "      <td>TYPE-A</td>\n",
              "      <td>49</td>\n",
              "      <td>0</td>\n",
              "      <td>ANNUAL</td>\n",
              "      <td>1407177</td>\n",
              "      <td>0</td>\n",
              "      <td>20130531</td>\n",
              "      <td>NaN</td>\n",
              "    </tr>\n",
              "    <tr>\n",
              "      <th>3</th>\n",
              "      <td>3</td>\n",
              "      <td>17</td>\n",
              "      <td>147576.48</td>\n",
              "      <td>M</td>\n",
              "      <td>F</td>\n",
              "      <td>450000.0</td>\n",
              "      <td>1.0</td>\n",
              "      <td>TYPE-A</td>\n",
              "      <td>47</td>\n",
              "      <td>3</td>\n",
              "      <td>MONTHLY</td>\n",
              "      <td>343344</td>\n",
              "      <td>0</td>\n",
              "      <td>20130331</td>\n",
              "      <td>NaN</td>\n",
              "    </tr>\n",
              "    <tr>\n",
              "      <th>4</th>\n",
              "      <td>4</td>\n",
              "      <td>39</td>\n",
              "      <td>100000.00</td>\n",
              "      <td>M</td>\n",
              "      <td>M</td>\n",
              "      <td>600000.0</td>\n",
              "      <td>1.0</td>\n",
              "      <td>TYPE-B</td>\n",
              "      <td>36</td>\n",
              "      <td>3</td>\n",
              "      <td>ANNUAL</td>\n",
              "      <td>119199</td>\n",
              "      <td>0</td>\n",
              "      <td>20080313</td>\n",
              "      <td>NaN</td>\n",
              "    </tr>\n",
              "  </tbody>\n",
              "</table>\n",
              "</div>"
            ],
            "text/plain": [
              "   id  MEMBERSHIP_TERM_YEARS  ...  START_DATE END_DATE\n",
              "0   0                     22  ...    20091029      NaN\n",
              "1   1                     88  ...    20131014      NaN\n",
              "2   2                     93  ...    20130531      NaN\n",
              "3   3                     17  ...    20130331      NaN\n",
              "4   4                     39  ...    20080313      NaN\n",
              "\n",
              "[5 rows x 15 columns]"
            ]
          },
          "metadata": {},
          "execution_count": 3
        }
      ]
    },
    {
      "cell_type": "code",
      "metadata": {
        "id": "bO03THxw-4sX",
        "colab": {
          "base_uri": "https://localhost:8080/",
          "height": 262
        },
        "outputId": "b720b481-4b4f-4eaf-b183-3f94ee286157"
      },
      "source": [
        "test = pd.read_csv(\"/content/MyDrive/MyDrive/membership/test.csv\")\n",
        "print(test.shape)\n",
        "test.head()"
      ],
      "execution_count": null,
      "outputs": [
        {
          "output_type": "stream",
          "name": "stdout",
          "text": [
            "(1555, 13)\n"
          ]
        },
        {
          "output_type": "execute_result",
          "data": {
            "text/html": [
              "<div>\n",
              "<style scoped>\n",
              "    .dataframe tbody tr th:only-of-type {\n",
              "        vertical-align: middle;\n",
              "    }\n",
              "\n",
              "    .dataframe tbody tr th {\n",
              "        vertical-align: top;\n",
              "    }\n",
              "\n",
              "    .dataframe thead th {\n",
              "        text-align: right;\n",
              "    }\n",
              "</style>\n",
              "<table border=\"1\" class=\"dataframe\">\n",
              "  <thead>\n",
              "    <tr style=\"text-align: right;\">\n",
              "      <th></th>\n",
              "      <th>id</th>\n",
              "      <th>MEMBERSHIP_TERM_YEARS</th>\n",
              "      <th>ANNUAL_FEES</th>\n",
              "      <th>MEMBER_MARITAL_STATUS</th>\n",
              "      <th>MEMBER_GENDER</th>\n",
              "      <th>MEMBER_ANNUAL_INCOME</th>\n",
              "      <th>MEMBER_OCCUPATION_CD</th>\n",
              "      <th>MEMBERSHIP_PACKAGE</th>\n",
              "      <th>MEMBER_AGE_AT_ISSUE</th>\n",
              "      <th>ADDITIONAL_MEMBERS</th>\n",
              "      <th>PAYMENT_MODE</th>\n",
              "      <th>AGENT_CODE</th>\n",
              "      <th>START_DATE</th>\n",
              "    </tr>\n",
              "  </thead>\n",
              "  <tbody>\n",
              "    <tr>\n",
              "      <th>0</th>\n",
              "      <td>8807</td>\n",
              "      <td>12</td>\n",
              "      <td>100000.00</td>\n",
              "      <td>M</td>\n",
              "      <td>F</td>\n",
              "      <td>999996.0</td>\n",
              "      <td>1.0</td>\n",
              "      <td>TYPE-B</td>\n",
              "      <td>41</td>\n",
              "      <td>1</td>\n",
              "      <td>ANNUAL</td>\n",
              "      <td>944999</td>\n",
              "      <td>20100331</td>\n",
              "    </tr>\n",
              "    <tr>\n",
              "      <th>1</th>\n",
              "      <td>8808</td>\n",
              "      <td>50</td>\n",
              "      <td>100000.00</td>\n",
              "      <td>M</td>\n",
              "      <td>M</td>\n",
              "      <td>399996.0</td>\n",
              "      <td>1.0</td>\n",
              "      <td>TYPE-B</td>\n",
              "      <td>34</td>\n",
              "      <td>2</td>\n",
              "      <td>SEMI-ANNUAL</td>\n",
              "      <td>546366</td>\n",
              "      <td>20090331</td>\n",
              "    </tr>\n",
              "    <tr>\n",
              "      <th>2</th>\n",
              "      <td>8809</td>\n",
              "      <td>12</td>\n",
              "      <td>100000.00</td>\n",
              "      <td>M</td>\n",
              "      <td>M</td>\n",
              "      <td>1200000.0</td>\n",
              "      <td>1.0</td>\n",
              "      <td>TYPE-B</td>\n",
              "      <td>36</td>\n",
              "      <td>3</td>\n",
              "      <td>ANNUAL</td>\n",
              "      <td>1207933</td>\n",
              "      <td>20120316</td>\n",
              "    </tr>\n",
              "    <tr>\n",
              "      <th>3</th>\n",
              "      <td>8810</td>\n",
              "      <td>12</td>\n",
              "      <td>250000.00</td>\n",
              "      <td>NaN</td>\n",
              "      <td>M</td>\n",
              "      <td>799992.0</td>\n",
              "      <td>2.0</td>\n",
              "      <td>TYPE-B</td>\n",
              "      <td>60</td>\n",
              "      <td>0</td>\n",
              "      <td>ANNUAL</td>\n",
              "      <td>1267000</td>\n",
              "      <td>20120327</td>\n",
              "    </tr>\n",
              "    <tr>\n",
              "      <th>4</th>\n",
              "      <td>8811</td>\n",
              "      <td>17</td>\n",
              "      <td>200000.24</td>\n",
              "      <td>NaN</td>\n",
              "      <td>M</td>\n",
              "      <td>1999992.0</td>\n",
              "      <td>2.0</td>\n",
              "      <td>TYPE-A</td>\n",
              "      <td>55</td>\n",
              "      <td>0</td>\n",
              "      <td>ANNUAL</td>\n",
              "      <td>923455</td>\n",
              "      <td>20130330</td>\n",
              "    </tr>\n",
              "  </tbody>\n",
              "</table>\n",
              "</div>"
            ],
            "text/plain": [
              "     id  MEMBERSHIP_TERM_YEARS  ...  AGENT_CODE START_DATE\n",
              "0  8807                     12  ...      944999   20100331\n",
              "1  8808                     50  ...      546366   20090331\n",
              "2  8809                     12  ...     1207933   20120316\n",
              "3  8810                     12  ...     1267000   20120327\n",
              "4  8811                     17  ...      923455   20130330\n",
              "\n",
              "[5 rows x 13 columns]"
            ]
          },
          "metadata": {},
          "execution_count": 4
        }
      ]
    },
    {
      "cell_type": "code",
      "metadata": {
        "id": "gULpK49K-4sX",
        "colab": {
          "base_uri": "https://localhost:8080/",
          "height": 206
        },
        "outputId": "03401ff9-8176-43c9-af91-031f0e74bc4a"
      },
      "source": [
        "submission = pd.read_csv(\"/content/MyDrive/MyDrive/membership/sample_submission.csv\")\n",
        "submission.head()"
      ],
      "execution_count": null,
      "outputs": [
        {
          "output_type": "execute_result",
          "data": {
            "text/html": [
              "<div>\n",
              "<style scoped>\n",
              "    .dataframe tbody tr th:only-of-type {\n",
              "        vertical-align: middle;\n",
              "    }\n",
              "\n",
              "    .dataframe tbody tr th {\n",
              "        vertical-align: top;\n",
              "    }\n",
              "\n",
              "    .dataframe thead th {\n",
              "        text-align: right;\n",
              "    }\n",
              "</style>\n",
              "<table border=\"1\" class=\"dataframe\">\n",
              "  <thead>\n",
              "    <tr style=\"text-align: right;\">\n",
              "      <th></th>\n",
              "      <th>id</th>\n",
              "      <th>MEMBERSHIP_STATUS</th>\n",
              "    </tr>\n",
              "  </thead>\n",
              "  <tbody>\n",
              "    <tr>\n",
              "      <th>0</th>\n",
              "      <td>8807</td>\n",
              "      <td>0</td>\n",
              "    </tr>\n",
              "    <tr>\n",
              "      <th>1</th>\n",
              "      <td>8808</td>\n",
              "      <td>1</td>\n",
              "    </tr>\n",
              "    <tr>\n",
              "      <th>2</th>\n",
              "      <td>8809</td>\n",
              "      <td>0</td>\n",
              "    </tr>\n",
              "    <tr>\n",
              "      <th>3</th>\n",
              "      <td>8810</td>\n",
              "      <td>0</td>\n",
              "    </tr>\n",
              "    <tr>\n",
              "      <th>4</th>\n",
              "      <td>8811</td>\n",
              "      <td>1</td>\n",
              "    </tr>\n",
              "  </tbody>\n",
              "</table>\n",
              "</div>"
            ],
            "text/plain": [
              "     id  MEMBERSHIP_STATUS\n",
              "0  8807                  0\n",
              "1  8808                  1\n",
              "2  8809                  0\n",
              "3  8810                  0\n",
              "4  8811                  1"
            ]
          },
          "metadata": {},
          "execution_count": 5
        }
      ]
    },
    {
      "cell_type": "markdown",
      "metadata": {
        "id": "8OeWpkjW-4sY"
      },
      "source": [
        "# 데이터 탐색 (EDA)"
      ]
    },
    {
      "cell_type": "markdown",
      "metadata": {
        "id": "g-apHLCj-4sY"
      },
      "source": [
        "### 데이터프레임 기본 정보"
      ]
    },
    {
      "cell_type": "code",
      "metadata": {
        "id": "O99Kgx8s-4sY",
        "colab": {
          "base_uri": "https://localhost:8080/"
        },
        "outputId": "f49690aa-3328-4682-aa0e-ad6b1def199a"
      },
      "source": [
        "train.info()"
      ],
      "execution_count": null,
      "outputs": [
        {
          "output_type": "stream",
          "name": "stdout",
          "text": [
            "<class 'pandas.core.frame.DataFrame'>\n",
            "RangeIndex: 8807 entries, 0 to 8806\n",
            "Data columns (total 15 columns):\n",
            " #   Column                 Non-Null Count  Dtype  \n",
            "---  ------                 --------------  -----  \n",
            " 0   id                     8807 non-null   int64  \n",
            " 1   MEMBERSHIP_TERM_YEARS  8807 non-null   int64  \n",
            " 2   ANNUAL_FEES            8807 non-null   float64\n",
            " 3   MEMBER_MARITAL_STATUS  6597 non-null   object \n",
            " 4   MEMBER_GENDER          8305 non-null   object \n",
            " 5   MEMBER_ANNUAL_INCOME   7338 non-null   float64\n",
            " 6   MEMBER_OCCUPATION_CD   8773 non-null   float64\n",
            " 7   MEMBERSHIP_PACKAGE     8807 non-null   object \n",
            " 8   MEMBER_AGE_AT_ISSUE    8807 non-null   int64  \n",
            " 9   ADDITIONAL_MEMBERS     8807 non-null   int64  \n",
            " 10  PAYMENT_MODE           8807 non-null   object \n",
            " 11  AGENT_CODE             8807 non-null   object \n",
            " 12  MEMBERSHIP_STATUS      8807 non-null   int64  \n",
            " 13  START_DATE             8807 non-null   int64  \n",
            " 14  END_DATE               2671 non-null   float64\n",
            "dtypes: float64(4), int64(6), object(5)\n",
            "memory usage: 1.0+ MB\n"
          ]
        }
      ]
    },
    {
      "cell_type": "markdown",
      "metadata": {
        "id": "YLbNNGA8-4sZ"
      },
      "source": [
        "### 통계정보 요약"
      ]
    },
    {
      "cell_type": "code",
      "metadata": {
        "id": "7xUsKxDv-4sZ",
        "colab": {
          "base_uri": "https://localhost:8080/",
          "height": 300
        },
        "outputId": "1ac82dfd-c628-4dea-8e7b-66f971442d22"
      },
      "source": [
        "train.describe()"
      ],
      "execution_count": null,
      "outputs": [
        {
          "output_type": "execute_result",
          "data": {
            "text/html": [
              "<div>\n",
              "<style scoped>\n",
              "    .dataframe tbody tr th:only-of-type {\n",
              "        vertical-align: middle;\n",
              "    }\n",
              "\n",
              "    .dataframe tbody tr th {\n",
              "        vertical-align: top;\n",
              "    }\n",
              "\n",
              "    .dataframe thead th {\n",
              "        text-align: right;\n",
              "    }\n",
              "</style>\n",
              "<table border=\"1\" class=\"dataframe\">\n",
              "  <thead>\n",
              "    <tr style=\"text-align: right;\">\n",
              "      <th></th>\n",
              "      <th>id</th>\n",
              "      <th>MEMBERSHIP_TERM_YEARS</th>\n",
              "      <th>ANNUAL_FEES</th>\n",
              "      <th>MEMBER_ANNUAL_INCOME</th>\n",
              "      <th>MEMBER_OCCUPATION_CD</th>\n",
              "      <th>MEMBER_AGE_AT_ISSUE</th>\n",
              "      <th>ADDITIONAL_MEMBERS</th>\n",
              "      <th>MEMBERSHIP_STATUS</th>\n",
              "      <th>START_DATE</th>\n",
              "      <th>END_DATE</th>\n",
              "    </tr>\n",
              "  </thead>\n",
              "  <tbody>\n",
              "    <tr>\n",
              "      <th>count</th>\n",
              "      <td>8807.000000</td>\n",
              "      <td>8807.000000</td>\n",
              "      <td>8.807000e+03</td>\n",
              "      <td>7.338000e+03</td>\n",
              "      <td>8773.000000</td>\n",
              "      <td>8807.000000</td>\n",
              "      <td>8807.000000</td>\n",
              "      <td>8807.000000</td>\n",
              "      <td>8.807000e+03</td>\n",
              "      <td>2.671000e+03</td>\n",
              "    </tr>\n",
              "    <tr>\n",
              "      <th>mean</th>\n",
              "      <td>4403.000000</td>\n",
              "      <td>29.518451</td>\n",
              "      <td>1.806998e+05</td>\n",
              "      <td>1.375036e+06</td>\n",
              "      <td>1.711159</td>\n",
              "      <td>46.766322</td>\n",
              "      <td>1.412967</td>\n",
              "      <td>0.303281</td>\n",
              "      <td>2.010835e+07</td>\n",
              "      <td>2.011390e+07</td>\n",
              "    </tr>\n",
              "    <tr>\n",
              "      <th>std</th>\n",
              "      <td>2542.506244</td>\n",
              "      <td>22.584187</td>\n",
              "      <td>2.854986e+05</td>\n",
              "      <td>1.499773e+07</td>\n",
              "      <td>1.449801</td>\n",
              "      <td>13.909048</td>\n",
              "      <td>1.146395</td>\n",
              "      <td>0.459702</td>\n",
              "      <td>1.727042e+04</td>\n",
              "      <td>1.395780e+04</td>\n",
              "    </tr>\n",
              "    <tr>\n",
              "      <th>min</th>\n",
              "      <td>0.000000</td>\n",
              "      <td>9.000000</td>\n",
              "      <td>0.000000e+00</td>\n",
              "      <td>9.996000e+03</td>\n",
              "      <td>1.000000</td>\n",
              "      <td>0.000000</td>\n",
              "      <td>0.000000</td>\n",
              "      <td>0.000000</td>\n",
              "      <td>2.006091e+07</td>\n",
              "      <td>2.007083e+07</td>\n",
              "    </tr>\n",
              "    <tr>\n",
              "      <th>25%</th>\n",
              "      <td>2201.500000</td>\n",
              "      <td>12.000000</td>\n",
              "      <td>1.000000e+05</td>\n",
              "      <td>3.999960e+05</td>\n",
              "      <td>1.000000</td>\n",
              "      <td>37.000000</td>\n",
              "      <td>0.000000</td>\n",
              "      <td>0.000000</td>\n",
              "      <td>2.009123e+07</td>\n",
              "      <td>2.010121e+07</td>\n",
              "    </tr>\n",
              "    <tr>\n",
              "      <th>50%</th>\n",
              "      <td>4403.000000</td>\n",
              "      <td>19.000000</td>\n",
              "      <td>1.191941e+05</td>\n",
              "      <td>5.499960e+05</td>\n",
              "      <td>1.000000</td>\n",
              "      <td>46.000000</td>\n",
              "      <td>1.000000</td>\n",
              "      <td>0.000000</td>\n",
              "      <td>2.011011e+07</td>\n",
              "      <td>2.011121e+07</td>\n",
              "    </tr>\n",
              "    <tr>\n",
              "      <th>75%</th>\n",
              "      <td>6604.500000</td>\n",
              "      <td>37.000000</td>\n",
              "      <td>1.909890e+05</td>\n",
              "      <td>9.999960e+05</td>\n",
              "      <td>2.000000</td>\n",
              "      <td>57.000000</td>\n",
              "      <td>2.000000</td>\n",
              "      <td>1.000000</td>\n",
              "      <td>2.012123e+07</td>\n",
              "      <td>2.013020e+07</td>\n",
              "    </tr>\n",
              "    <tr>\n",
              "      <th>max</th>\n",
              "      <td>8806.000000</td>\n",
              "      <td>102.000000</td>\n",
              "      <td>1.010000e+07</td>\n",
              "      <td>1.000000e+09</td>\n",
              "      <td>6.000000</td>\n",
              "      <td>92.000000</td>\n",
              "      <td>3.000000</td>\n",
              "      <td>1.000000</td>\n",
              "      <td>2.013113e+07</td>\n",
              "      <td>2.013112e+07</td>\n",
              "    </tr>\n",
              "  </tbody>\n",
              "</table>\n",
              "</div>"
            ],
            "text/plain": [
              "                id  MEMBERSHIP_TERM_YEARS  ...    START_DATE      END_DATE\n",
              "count  8807.000000            8807.000000  ...  8.807000e+03  2.671000e+03\n",
              "mean   4403.000000              29.518451  ...  2.010835e+07  2.011390e+07\n",
              "std    2542.506244              22.584187  ...  1.727042e+04  1.395780e+04\n",
              "min       0.000000               9.000000  ...  2.006091e+07  2.007083e+07\n",
              "25%    2201.500000              12.000000  ...  2.009123e+07  2.010121e+07\n",
              "50%    4403.000000              19.000000  ...  2.011011e+07  2.011121e+07\n",
              "75%    6604.500000              37.000000  ...  2.012123e+07  2.013020e+07\n",
              "max    8806.000000             102.000000  ...  2.013113e+07  2.013112e+07\n",
              "\n",
              "[8 rows x 10 columns]"
            ]
          },
          "metadata": {},
          "execution_count": 7
        }
      ]
    },
    {
      "cell_type": "markdown",
      "metadata": {
        "id": "T5OcLQ1f-4sZ"
      },
      "source": [
        "### 중복행 개수"
      ]
    },
    {
      "cell_type": "code",
      "metadata": {
        "id": "iwnkg6oR-4sZ",
        "colab": {
          "base_uri": "https://localhost:8080/"
        },
        "outputId": "0d1aa481-edc8-4b92-8090-dc3cef7f4a29"
      },
      "source": [
        "train.duplicated().sum()"
      ],
      "execution_count": null,
      "outputs": [
        {
          "output_type": "execute_result",
          "data": {
            "text/plain": [
              "0"
            ]
          },
          "metadata": {},
          "execution_count": 8
        }
      ]
    },
    {
      "cell_type": "code",
      "metadata": {
        "id": "by3d498g-4sa",
        "colab": {
          "base_uri": "https://localhost:8080/"
        },
        "outputId": "2f839576-963c-4409-aad3-b0bf7e5ec962"
      },
      "source": [
        "test.duplicated().sum()"
      ],
      "execution_count": null,
      "outputs": [
        {
          "output_type": "execute_result",
          "data": {
            "text/plain": [
              "0"
            ]
          },
          "metadata": {},
          "execution_count": 9
        }
      ]
    },
    {
      "cell_type": "markdown",
      "metadata": {
        "id": "4QR1l8ny-4sa"
      },
      "source": [
        "### 결측치 개수"
      ]
    },
    {
      "cell_type": "code",
      "metadata": {
        "id": "BIK42CnZ-4sa",
        "colab": {
          "base_uri": "https://localhost:8080/"
        },
        "outputId": "b91f3304-c169-4e8b-ca92-e38219bfe9f3"
      },
      "source": [
        "train.isnull().sum()"
      ],
      "execution_count": null,
      "outputs": [
        {
          "output_type": "execute_result",
          "data": {
            "text/plain": [
              "id                          0\n",
              "MEMBERSHIP_TERM_YEARS       0\n",
              "ANNUAL_FEES                 0\n",
              "MEMBER_MARITAL_STATUS    2210\n",
              "MEMBER_GENDER             502\n",
              "MEMBER_ANNUAL_INCOME     1469\n",
              "MEMBER_OCCUPATION_CD       34\n",
              "MEMBERSHIP_PACKAGE          0\n",
              "MEMBER_AGE_AT_ISSUE         0\n",
              "ADDITIONAL_MEMBERS          0\n",
              "PAYMENT_MODE                0\n",
              "AGENT_CODE                  0\n",
              "MEMBERSHIP_STATUS           0\n",
              "START_DATE                  0\n",
              "END_DATE                 6136\n",
              "dtype: int64"
            ]
          },
          "metadata": {},
          "execution_count": 10
        }
      ]
    },
    {
      "cell_type": "code",
      "metadata": {
        "id": "Se7h4Z7n-4sa",
        "colab": {
          "base_uri": "https://localhost:8080/"
        },
        "outputId": "583a9b09-66bb-4ffc-9536-b9de0ac38d85"
      },
      "source": [
        "test.isnull().sum()"
      ],
      "execution_count": null,
      "outputs": [
        {
          "output_type": "execute_result",
          "data": {
            "text/plain": [
              "id                         0\n",
              "MEMBERSHIP_TERM_YEARS      0\n",
              "ANNUAL_FEES                0\n",
              "MEMBER_MARITAL_STATUS    387\n",
              "MEMBER_GENDER            109\n",
              "MEMBER_ANNUAL_INCOME     285\n",
              "MEMBER_OCCUPATION_CD       9\n",
              "MEMBERSHIP_PACKAGE         0\n",
              "MEMBER_AGE_AT_ISSUE        0\n",
              "ADDITIONAL_MEMBERS         0\n",
              "PAYMENT_MODE               0\n",
              "AGENT_CODE                 0\n",
              "START_DATE                 0\n",
              "dtype: int64"
            ]
          },
          "metadata": {},
          "execution_count": 11
        }
      ]
    },
    {
      "cell_type": "markdown",
      "metadata": {
        "id": "uR5Nn8Sm-4sb"
      },
      "source": [
        "# Preprocessing"
      ]
    },
    {
      "cell_type": "markdown",
      "metadata": {
        "id": "FXSXH3kI-4sb"
      },
      "source": [
        "## 컬럼명을 간결하게 바꾸기"
      ]
    },
    {
      "cell_type": "code",
      "source": [
        "train"
      ],
      "metadata": {
        "colab": {
          "base_uri": "https://localhost:8080/",
          "height": 444
        },
        "id": "iCjapqWmkHkt",
        "outputId": "e9bbcbc8-e255-4ea6-e357-892dd240e913"
      },
      "execution_count": null,
      "outputs": [
        {
          "output_type": "execute_result",
          "data": {
            "text/html": [
              "<div>\n",
              "<style scoped>\n",
              "    .dataframe tbody tr th:only-of-type {\n",
              "        vertical-align: middle;\n",
              "    }\n",
              "\n",
              "    .dataframe tbody tr th {\n",
              "        vertical-align: top;\n",
              "    }\n",
              "\n",
              "    .dataframe thead th {\n",
              "        text-align: right;\n",
              "    }\n",
              "</style>\n",
              "<table border=\"1\" class=\"dataframe\">\n",
              "  <thead>\n",
              "    <tr style=\"text-align: right;\">\n",
              "      <th></th>\n",
              "      <th>id</th>\n",
              "      <th>MEMBERSHIP_TERM_YEARS</th>\n",
              "      <th>ANNUAL_FEES</th>\n",
              "      <th>MEMBER_MARITAL_STATUS</th>\n",
              "      <th>MEMBER_GENDER</th>\n",
              "      <th>MEMBER_ANNUAL_INCOME</th>\n",
              "      <th>MEMBER_OCCUPATION_CD</th>\n",
              "      <th>MEMBERSHIP_PACKAGE</th>\n",
              "      <th>MEMBER_AGE_AT_ISSUE</th>\n",
              "      <th>ADDITIONAL_MEMBERS</th>\n",
              "      <th>PAYMENT_MODE</th>\n",
              "      <th>AGENT_CODE</th>\n",
              "      <th>MEMBERSHIP_STATUS</th>\n",
              "      <th>START_DATE</th>\n",
              "      <th>END_DATE</th>\n",
              "    </tr>\n",
              "  </thead>\n",
              "  <tbody>\n",
              "    <tr>\n",
              "      <th>0</th>\n",
              "      <td>0</td>\n",
              "      <td>22</td>\n",
              "      <td>100000.00</td>\n",
              "      <td>M</td>\n",
              "      <td>M</td>\n",
              "      <td>450000.0</td>\n",
              "      <td>1.0</td>\n",
              "      <td>TYPE-B</td>\n",
              "      <td>27</td>\n",
              "      <td>1</td>\n",
              "      <td>ANNUAL</td>\n",
              "      <td>666099</td>\n",
              "      <td>0</td>\n",
              "      <td>20091029</td>\n",
              "      <td>NaN</td>\n",
              "    </tr>\n",
              "    <tr>\n",
              "      <th>1</th>\n",
              "      <td>1</td>\n",
              "      <td>88</td>\n",
              "      <td>149029.58</td>\n",
              "      <td>NaN</td>\n",
              "      <td>M</td>\n",
              "      <td>NaN</td>\n",
              "      <td>6.0</td>\n",
              "      <td>TYPE-A</td>\n",
              "      <td>75</td>\n",
              "      <td>0</td>\n",
              "      <td>ANNUAL</td>\n",
              "      <td>132000</td>\n",
              "      <td>0</td>\n",
              "      <td>20131014</td>\n",
              "      <td>NaN</td>\n",
              "    </tr>\n",
              "    <tr>\n",
              "      <th>2</th>\n",
              "      <td>2</td>\n",
              "      <td>93</td>\n",
              "      <td>102999.94</td>\n",
              "      <td>NaN</td>\n",
              "      <td>M</td>\n",
              "      <td>600000.0</td>\n",
              "      <td>1.0</td>\n",
              "      <td>TYPE-A</td>\n",
              "      <td>49</td>\n",
              "      <td>0</td>\n",
              "      <td>ANNUAL</td>\n",
              "      <td>1407177</td>\n",
              "      <td>0</td>\n",
              "      <td>20130531</td>\n",
              "      <td>NaN</td>\n",
              "    </tr>\n",
              "    <tr>\n",
              "      <th>3</th>\n",
              "      <td>3</td>\n",
              "      <td>17</td>\n",
              "      <td>147576.48</td>\n",
              "      <td>M</td>\n",
              "      <td>F</td>\n",
              "      <td>450000.0</td>\n",
              "      <td>1.0</td>\n",
              "      <td>TYPE-A</td>\n",
              "      <td>47</td>\n",
              "      <td>3</td>\n",
              "      <td>MONTHLY</td>\n",
              "      <td>343344</td>\n",
              "      <td>0</td>\n",
              "      <td>20130331</td>\n",
              "      <td>NaN</td>\n",
              "    </tr>\n",
              "    <tr>\n",
              "      <th>4</th>\n",
              "      <td>4</td>\n",
              "      <td>39</td>\n",
              "      <td>100000.00</td>\n",
              "      <td>M</td>\n",
              "      <td>M</td>\n",
              "      <td>600000.0</td>\n",
              "      <td>1.0</td>\n",
              "      <td>TYPE-B</td>\n",
              "      <td>36</td>\n",
              "      <td>3</td>\n",
              "      <td>ANNUAL</td>\n",
              "      <td>119199</td>\n",
              "      <td>0</td>\n",
              "      <td>20080313</td>\n",
              "      <td>NaN</td>\n",
              "    </tr>\n",
              "    <tr>\n",
              "      <th>...</th>\n",
              "      <td>...</td>\n",
              "      <td>...</td>\n",
              "      <td>...</td>\n",
              "      <td>...</td>\n",
              "      <td>...</td>\n",
              "      <td>...</td>\n",
              "      <td>...</td>\n",
              "      <td>...</td>\n",
              "      <td>...</td>\n",
              "      <td>...</td>\n",
              "      <td>...</td>\n",
              "      <td>...</td>\n",
              "      <td>...</td>\n",
              "      <td>...</td>\n",
              "      <td>...</td>\n",
              "    </tr>\n",
              "    <tr>\n",
              "      <th>8802</th>\n",
              "      <td>8802</td>\n",
              "      <td>17</td>\n",
              "      <td>100000.00</td>\n",
              "      <td>NaN</td>\n",
              "      <td>NaN</td>\n",
              "      <td>NaN</td>\n",
              "      <td>1.0</td>\n",
              "      <td>TYPE-B</td>\n",
              "      <td>53</td>\n",
              "      <td>0</td>\n",
              "      <td>ANNUAL</td>\n",
              "      <td>744188</td>\n",
              "      <td>0</td>\n",
              "      <td>20100115</td>\n",
              "      <td>NaN</td>\n",
              "    </tr>\n",
              "    <tr>\n",
              "      <th>8803</th>\n",
              "      <td>8803</td>\n",
              "      <td>49</td>\n",
              "      <td>100000.00</td>\n",
              "      <td>M</td>\n",
              "      <td>M</td>\n",
              "      <td>399996.0</td>\n",
              "      <td>1.0</td>\n",
              "      <td>TYPE-B</td>\n",
              "      <td>46</td>\n",
              "      <td>1</td>\n",
              "      <td>ANNUAL</td>\n",
              "      <td>841477</td>\n",
              "      <td>0</td>\n",
              "      <td>20100208</td>\n",
              "      <td>NaN</td>\n",
              "    </tr>\n",
              "    <tr>\n",
              "      <th>8804</th>\n",
              "      <td>8804</td>\n",
              "      <td>54</td>\n",
              "      <td>600001.16</td>\n",
              "      <td>M</td>\n",
              "      <td>M</td>\n",
              "      <td>2250000.0</td>\n",
              "      <td>2.0</td>\n",
              "      <td>TYPE-A</td>\n",
              "      <td>51</td>\n",
              "      <td>3</td>\n",
              "      <td>ANNUAL</td>\n",
              "      <td>1347855</td>\n",
              "      <td>0</td>\n",
              "      <td>20130331</td>\n",
              "      <td>NaN</td>\n",
              "    </tr>\n",
              "    <tr>\n",
              "      <th>8805</th>\n",
              "      <td>8805</td>\n",
              "      <td>27</td>\n",
              "      <td>100000.00</td>\n",
              "      <td>M</td>\n",
              "      <td>M</td>\n",
              "      <td>600000.0</td>\n",
              "      <td>1.0</td>\n",
              "      <td>TYPE-B</td>\n",
              "      <td>27</td>\n",
              "      <td>2</td>\n",
              "      <td>ANNUAL</td>\n",
              "      <td>798833</td>\n",
              "      <td>0</td>\n",
              "      <td>20100127</td>\n",
              "      <td>NaN</td>\n",
              "    </tr>\n",
              "    <tr>\n",
              "      <th>8806</th>\n",
              "      <td>8806</td>\n",
              "      <td>12</td>\n",
              "      <td>100000.80</td>\n",
              "      <td>M</td>\n",
              "      <td>M</td>\n",
              "      <td>2000004.0</td>\n",
              "      <td>1.0</td>\n",
              "      <td>TYPE-B</td>\n",
              "      <td>41</td>\n",
              "      <td>1</td>\n",
              "      <td>MONTHLY</td>\n",
              "      <td>664844</td>\n",
              "      <td>0</td>\n",
              "      <td>20100827</td>\n",
              "      <td>NaN</td>\n",
              "    </tr>\n",
              "  </tbody>\n",
              "</table>\n",
              "<p>8807 rows × 15 columns</p>\n",
              "</div>"
            ],
            "text/plain": [
              "        id  MEMBERSHIP_TERM_YEARS  ...  START_DATE END_DATE\n",
              "0        0                     22  ...    20091029      NaN\n",
              "1        1                     88  ...    20131014      NaN\n",
              "2        2                     93  ...    20130531      NaN\n",
              "3        3                     17  ...    20130331      NaN\n",
              "4        4                     39  ...    20080313      NaN\n",
              "...    ...                    ...  ...         ...      ...\n",
              "8802  8802                     17  ...    20100115      NaN\n",
              "8803  8803                     49  ...    20100208      NaN\n",
              "8804  8804                     54  ...    20130331      NaN\n",
              "8805  8805                     27  ...    20100127      NaN\n",
              "8806  8806                     12  ...    20100827      NaN\n",
              "\n",
              "[8807 rows x 15 columns]"
            ]
          },
          "metadata": {},
          "execution_count": 12
        }
      ]
    },
    {
      "cell_type": "code",
      "metadata": {
        "id": "0lJk5UPD-4sb",
        "colab": {
          "base_uri": "https://localhost:8080/"
        },
        "outputId": "f882f145-6723-4427-9650-e25a84913cde"
      },
      "source": [
        "train.columns"
      ],
      "execution_count": null,
      "outputs": [
        {
          "output_type": "execute_result",
          "data": {
            "text/plain": [
              "Index(['id', 'MEMBERSHIP_TERM_YEARS', 'ANNUAL_FEES', 'MEMBER_MARITAL_STATUS',\n",
              "       'MEMBER_GENDER', 'MEMBER_ANNUAL_INCOME', 'MEMBER_OCCUPATION_CD',\n",
              "       'MEMBERSHIP_PACKAGE', 'MEMBER_AGE_AT_ISSUE', 'ADDITIONAL_MEMBERS',\n",
              "       'PAYMENT_MODE', 'AGENT_CODE', 'MEMBERSHIP_STATUS', 'START_DATE',\n",
              "       'END_DATE'],\n",
              "      dtype='object')"
            ]
          },
          "metadata": {},
          "execution_count": 13
        }
      ]
    },
    {
      "cell_type": "code",
      "metadata": {
        "id": "EnCgB7AK-4sb"
      },
      "source": [
        "train.columns = ['id', 'term', 'fee', 'married', 'gender', 'income', 'job',\n",
        "'package', 'age', 'family', 'payment', 'agent', 'target', 'stard_date', 'end_date']"
      ],
      "execution_count": null,
      "outputs": []
    },
    {
      "cell_type": "code",
      "metadata": {
        "id": "p_FGZusZ-4sb",
        "colab": {
          "base_uri": "https://localhost:8080/"
        },
        "outputId": "3da6469f-09f7-4c11-8275-f887a8286b30"
      },
      "source": [
        "test.columns"
      ],
      "execution_count": null,
      "outputs": [
        {
          "output_type": "execute_result",
          "data": {
            "text/plain": [
              "Index(['id', 'term', 'fee', 'married', 'gender', 'income', 'job', 'package',\n",
              "       'age', 'family', 'payment', 'agent', 'stard_date'],\n",
              "      dtype='object')"
            ]
          },
          "metadata": {},
          "execution_count": 17
        }
      ]
    },
    {
      "cell_type": "code",
      "metadata": {
        "id": "KWJSHmIt-4sb"
      },
      "source": [
        "test.columns = ['id', 'term', 'fee', 'married', 'gender', 'income', 'job',\n",
        "'package', 'age', 'family', 'payment', 'agent', 'stard_date']"
      ],
      "execution_count": null,
      "outputs": []
    },
    {
      "cell_type": "code",
      "source": [
        "test.head()"
      ],
      "metadata": {
        "colab": {
          "base_uri": "https://localhost:8080/",
          "height": 206
        },
        "id": "0PBaaa09kMP-",
        "outputId": "139467d0-952b-4def-a3f7-c1115b45ea0f"
      },
      "execution_count": null,
      "outputs": [
        {
          "output_type": "execute_result",
          "data": {
            "text/html": [
              "<div>\n",
              "<style scoped>\n",
              "    .dataframe tbody tr th:only-of-type {\n",
              "        vertical-align: middle;\n",
              "    }\n",
              "\n",
              "    .dataframe tbody tr th {\n",
              "        vertical-align: top;\n",
              "    }\n",
              "\n",
              "    .dataframe thead th {\n",
              "        text-align: right;\n",
              "    }\n",
              "</style>\n",
              "<table border=\"1\" class=\"dataframe\">\n",
              "  <thead>\n",
              "    <tr style=\"text-align: right;\">\n",
              "      <th></th>\n",
              "      <th>id</th>\n",
              "      <th>term</th>\n",
              "      <th>fee</th>\n",
              "      <th>married</th>\n",
              "      <th>gender</th>\n",
              "      <th>income</th>\n",
              "      <th>job</th>\n",
              "      <th>package</th>\n",
              "      <th>age</th>\n",
              "      <th>family</th>\n",
              "      <th>payment</th>\n",
              "      <th>agent</th>\n",
              "      <th>stard_date</th>\n",
              "    </tr>\n",
              "  </thead>\n",
              "  <tbody>\n",
              "    <tr>\n",
              "      <th>0</th>\n",
              "      <td>8807</td>\n",
              "      <td>12</td>\n",
              "      <td>100000.00</td>\n",
              "      <td>M</td>\n",
              "      <td>F</td>\n",
              "      <td>999996.0</td>\n",
              "      <td>1.0</td>\n",
              "      <td>TYPE-B</td>\n",
              "      <td>41</td>\n",
              "      <td>1</td>\n",
              "      <td>ANNUAL</td>\n",
              "      <td>944999</td>\n",
              "      <td>20100331</td>\n",
              "    </tr>\n",
              "    <tr>\n",
              "      <th>1</th>\n",
              "      <td>8808</td>\n",
              "      <td>50</td>\n",
              "      <td>100000.00</td>\n",
              "      <td>M</td>\n",
              "      <td>M</td>\n",
              "      <td>399996.0</td>\n",
              "      <td>1.0</td>\n",
              "      <td>TYPE-B</td>\n",
              "      <td>34</td>\n",
              "      <td>2</td>\n",
              "      <td>SEMI-ANNUAL</td>\n",
              "      <td>546366</td>\n",
              "      <td>20090331</td>\n",
              "    </tr>\n",
              "    <tr>\n",
              "      <th>2</th>\n",
              "      <td>8809</td>\n",
              "      <td>12</td>\n",
              "      <td>100000.00</td>\n",
              "      <td>M</td>\n",
              "      <td>M</td>\n",
              "      <td>1200000.0</td>\n",
              "      <td>1.0</td>\n",
              "      <td>TYPE-B</td>\n",
              "      <td>36</td>\n",
              "      <td>3</td>\n",
              "      <td>ANNUAL</td>\n",
              "      <td>1207933</td>\n",
              "      <td>20120316</td>\n",
              "    </tr>\n",
              "    <tr>\n",
              "      <th>3</th>\n",
              "      <td>8810</td>\n",
              "      <td>12</td>\n",
              "      <td>250000.00</td>\n",
              "      <td>NaN</td>\n",
              "      <td>M</td>\n",
              "      <td>799992.0</td>\n",
              "      <td>2.0</td>\n",
              "      <td>TYPE-B</td>\n",
              "      <td>60</td>\n",
              "      <td>0</td>\n",
              "      <td>ANNUAL</td>\n",
              "      <td>1267000</td>\n",
              "      <td>20120327</td>\n",
              "    </tr>\n",
              "    <tr>\n",
              "      <th>4</th>\n",
              "      <td>8811</td>\n",
              "      <td>17</td>\n",
              "      <td>200000.24</td>\n",
              "      <td>NaN</td>\n",
              "      <td>M</td>\n",
              "      <td>1999992.0</td>\n",
              "      <td>2.0</td>\n",
              "      <td>TYPE-A</td>\n",
              "      <td>55</td>\n",
              "      <td>0</td>\n",
              "      <td>ANNUAL</td>\n",
              "      <td>923455</td>\n",
              "      <td>20130330</td>\n",
              "    </tr>\n",
              "  </tbody>\n",
              "</table>\n",
              "</div>"
            ],
            "text/plain": [
              "     id  term        fee married  ... family      payment    agent stard_date\n",
              "0  8807    12  100000.00       M  ...      1       ANNUAL   944999   20100331\n",
              "1  8808    50  100000.00       M  ...      2  SEMI-ANNUAL   546366   20090331\n",
              "2  8809    12  100000.00       M  ...      3       ANNUAL  1207933   20120316\n",
              "3  8810    12  250000.00     NaN  ...      0       ANNUAL  1267000   20120327\n",
              "4  8811    17  200000.24     NaN  ...      0       ANNUAL   923455   20130330\n",
              "\n",
              "[5 rows x 13 columns]"
            ]
          },
          "metadata": {},
          "execution_count": 18
        }
      ]
    },
    {
      "cell_type": "code",
      "source": [
        "sns.countplot(x='package' , hue='target' , data=train)"
      ],
      "metadata": {
        "id": "OU0VZi3MkPvp"
      },
      "execution_count": null,
      "outputs": []
    },
    {
      "cell_type": "code",
      "source": [
        "sns.displot(x='age'  , data=train)"
      ],
      "metadata": {
        "id": "fgKyufWKkrxH"
      },
      "execution_count": null,
      "outputs": []
    },
    {
      "cell_type": "code",
      "source": [
        "sns.displot(x='age'  , hue='target' ,  data=train)"
      ],
      "metadata": {
        "id": "Eifdukr2k29R"
      },
      "execution_count": null,
      "outputs": []
    },
    {
      "cell_type": "code",
      "source": [
        "sns.displot(x='age'  , hue='target' , kind='kde' , fill=True , data=train)"
      ],
      "metadata": {
        "id": "wjNwSEKDlTd_"
      },
      "execution_count": null,
      "outputs": []
    },
    {
      "cell_type": "code",
      "source": [
        "sns.displot(x='age'  , kind='kde' , fill=True , data=test)"
      ],
      "metadata": {
        "id": "llVtuNzemSCv"
      },
      "execution_count": null,
      "outputs": []
    },
    {
      "cell_type": "markdown",
      "metadata": {
        "id": "lutxF18V-4sc"
      },
      "source": [
        "## 결측값 처리"
      ]
    },
    {
      "cell_type": "code",
      "metadata": {
        "id": "l6mbGDqr-4sc",
        "colab": {
          "base_uri": "https://localhost:8080/"
        },
        "outputId": "94992c38-6909-44f1-d97f-4f73934a96de"
      },
      "source": [
        "train.isnull().sum()"
      ],
      "execution_count": null,
      "outputs": [
        {
          "output_type": "execute_result",
          "data": {
            "text/plain": [
              "id               0\n",
              "term             0\n",
              "fee              0\n",
              "married       2210\n",
              "gender         502\n",
              "income        1469\n",
              "job             34\n",
              "package          0\n",
              "age              0\n",
              "family           0\n",
              "payment          0\n",
              "agent            0\n",
              "target           0\n",
              "stard_date       0\n",
              "end_date      6136\n",
              "dtype: int64"
            ]
          },
          "metadata": {},
          "execution_count": 19
        }
      ]
    },
    {
      "cell_type": "code",
      "metadata": {
        "id": "mQn5Zjif-4sc",
        "colab": {
          "base_uri": "https://localhost:8080/"
        },
        "outputId": "cc4fa95f-166e-4aed-a5b0-ec2fdf4521fb"
      },
      "source": [
        "test.isnull().sum()"
      ],
      "execution_count": null,
      "outputs": [
        {
          "output_type": "execute_result",
          "data": {
            "text/plain": [
              "id              0\n",
              "term            0\n",
              "fee             0\n",
              "married       387\n",
              "gender        109\n",
              "income        285\n",
              "job             9\n",
              "package         0\n",
              "age             0\n",
              "family          0\n",
              "payment         0\n",
              "agent           0\n",
              "stard_date      0\n",
              "dtype: int64"
            ]
          },
          "metadata": {},
          "execution_count": 20
        }
      ]
    },
    {
      "cell_type": "markdown",
      "metadata": {
        "id": "OWSPH6FP-4sc"
      },
      "source": [
        "### 결측값 제거"
      ]
    },
    {
      "cell_type": "code",
      "source": [
        ""
      ],
      "metadata": {
        "id": "kpb9AHaZmvBQ"
      },
      "execution_count": null,
      "outputs": []
    },
    {
      "cell_type": "code",
      "metadata": {
        "id": "XwCPRGrN-4sc",
        "colab": {
          "base_uri": "https://localhost:8080/",
          "height": 424
        },
        "outputId": "2020e6aa-cfe4-421f-a3cf-4d257ea814d6"
      },
      "source": [
        "# end_date 열 삭제  #원본에서 제거는 아님\n",
        "train.drop(['end_date'], axis=1)"
      ],
      "execution_count": null,
      "outputs": [
        {
          "output_type": "execute_result",
          "data": {
            "text/html": [
              "<div>\n",
              "<style scoped>\n",
              "    .dataframe tbody tr th:only-of-type {\n",
              "        vertical-align: middle;\n",
              "    }\n",
              "\n",
              "    .dataframe tbody tr th {\n",
              "        vertical-align: top;\n",
              "    }\n",
              "\n",
              "    .dataframe thead th {\n",
              "        text-align: right;\n",
              "    }\n",
              "</style>\n",
              "<table border=\"1\" class=\"dataframe\">\n",
              "  <thead>\n",
              "    <tr style=\"text-align: right;\">\n",
              "      <th></th>\n",
              "      <th>id</th>\n",
              "      <th>term</th>\n",
              "      <th>fee</th>\n",
              "      <th>married</th>\n",
              "      <th>gender</th>\n",
              "      <th>income</th>\n",
              "      <th>job</th>\n",
              "      <th>package</th>\n",
              "      <th>age</th>\n",
              "      <th>family</th>\n",
              "      <th>payment</th>\n",
              "      <th>agent</th>\n",
              "      <th>target</th>\n",
              "      <th>stard_date</th>\n",
              "    </tr>\n",
              "  </thead>\n",
              "  <tbody>\n",
              "    <tr>\n",
              "      <th>0</th>\n",
              "      <td>0</td>\n",
              "      <td>22</td>\n",
              "      <td>100000.00</td>\n",
              "      <td>M</td>\n",
              "      <td>M</td>\n",
              "      <td>450000.0</td>\n",
              "      <td>1.0</td>\n",
              "      <td>TYPE-B</td>\n",
              "      <td>27</td>\n",
              "      <td>1</td>\n",
              "      <td>ANNUAL</td>\n",
              "      <td>666099</td>\n",
              "      <td>0</td>\n",
              "      <td>20091029</td>\n",
              "    </tr>\n",
              "    <tr>\n",
              "      <th>1</th>\n",
              "      <td>1</td>\n",
              "      <td>88</td>\n",
              "      <td>149029.58</td>\n",
              "      <td>NaN</td>\n",
              "      <td>M</td>\n",
              "      <td>NaN</td>\n",
              "      <td>6.0</td>\n",
              "      <td>TYPE-A</td>\n",
              "      <td>75</td>\n",
              "      <td>0</td>\n",
              "      <td>ANNUAL</td>\n",
              "      <td>132000</td>\n",
              "      <td>0</td>\n",
              "      <td>20131014</td>\n",
              "    </tr>\n",
              "    <tr>\n",
              "      <th>2</th>\n",
              "      <td>2</td>\n",
              "      <td>93</td>\n",
              "      <td>102999.94</td>\n",
              "      <td>NaN</td>\n",
              "      <td>M</td>\n",
              "      <td>600000.0</td>\n",
              "      <td>1.0</td>\n",
              "      <td>TYPE-A</td>\n",
              "      <td>49</td>\n",
              "      <td>0</td>\n",
              "      <td>ANNUAL</td>\n",
              "      <td>1407177</td>\n",
              "      <td>0</td>\n",
              "      <td>20130531</td>\n",
              "    </tr>\n",
              "    <tr>\n",
              "      <th>3</th>\n",
              "      <td>3</td>\n",
              "      <td>17</td>\n",
              "      <td>147576.48</td>\n",
              "      <td>M</td>\n",
              "      <td>F</td>\n",
              "      <td>450000.0</td>\n",
              "      <td>1.0</td>\n",
              "      <td>TYPE-A</td>\n",
              "      <td>47</td>\n",
              "      <td>3</td>\n",
              "      <td>MONTHLY</td>\n",
              "      <td>343344</td>\n",
              "      <td>0</td>\n",
              "      <td>20130331</td>\n",
              "    </tr>\n",
              "    <tr>\n",
              "      <th>4</th>\n",
              "      <td>4</td>\n",
              "      <td>39</td>\n",
              "      <td>100000.00</td>\n",
              "      <td>M</td>\n",
              "      <td>M</td>\n",
              "      <td>600000.0</td>\n",
              "      <td>1.0</td>\n",
              "      <td>TYPE-B</td>\n",
              "      <td>36</td>\n",
              "      <td>3</td>\n",
              "      <td>ANNUAL</td>\n",
              "      <td>119199</td>\n",
              "      <td>0</td>\n",
              "      <td>20080313</td>\n",
              "    </tr>\n",
              "    <tr>\n",
              "      <th>...</th>\n",
              "      <td>...</td>\n",
              "      <td>...</td>\n",
              "      <td>...</td>\n",
              "      <td>...</td>\n",
              "      <td>...</td>\n",
              "      <td>...</td>\n",
              "      <td>...</td>\n",
              "      <td>...</td>\n",
              "      <td>...</td>\n",
              "      <td>...</td>\n",
              "      <td>...</td>\n",
              "      <td>...</td>\n",
              "      <td>...</td>\n",
              "      <td>...</td>\n",
              "    </tr>\n",
              "    <tr>\n",
              "      <th>8802</th>\n",
              "      <td>8802</td>\n",
              "      <td>17</td>\n",
              "      <td>100000.00</td>\n",
              "      <td>NaN</td>\n",
              "      <td>NaN</td>\n",
              "      <td>NaN</td>\n",
              "      <td>1.0</td>\n",
              "      <td>TYPE-B</td>\n",
              "      <td>53</td>\n",
              "      <td>0</td>\n",
              "      <td>ANNUAL</td>\n",
              "      <td>744188</td>\n",
              "      <td>0</td>\n",
              "      <td>20100115</td>\n",
              "    </tr>\n",
              "    <tr>\n",
              "      <th>8803</th>\n",
              "      <td>8803</td>\n",
              "      <td>49</td>\n",
              "      <td>100000.00</td>\n",
              "      <td>M</td>\n",
              "      <td>M</td>\n",
              "      <td>399996.0</td>\n",
              "      <td>1.0</td>\n",
              "      <td>TYPE-B</td>\n",
              "      <td>46</td>\n",
              "      <td>1</td>\n",
              "      <td>ANNUAL</td>\n",
              "      <td>841477</td>\n",
              "      <td>0</td>\n",
              "      <td>20100208</td>\n",
              "    </tr>\n",
              "    <tr>\n",
              "      <th>8804</th>\n",
              "      <td>8804</td>\n",
              "      <td>54</td>\n",
              "      <td>600001.16</td>\n",
              "      <td>M</td>\n",
              "      <td>M</td>\n",
              "      <td>2250000.0</td>\n",
              "      <td>2.0</td>\n",
              "      <td>TYPE-A</td>\n",
              "      <td>51</td>\n",
              "      <td>3</td>\n",
              "      <td>ANNUAL</td>\n",
              "      <td>1347855</td>\n",
              "      <td>0</td>\n",
              "      <td>20130331</td>\n",
              "    </tr>\n",
              "    <tr>\n",
              "      <th>8805</th>\n",
              "      <td>8805</td>\n",
              "      <td>27</td>\n",
              "      <td>100000.00</td>\n",
              "      <td>M</td>\n",
              "      <td>M</td>\n",
              "      <td>600000.0</td>\n",
              "      <td>1.0</td>\n",
              "      <td>TYPE-B</td>\n",
              "      <td>27</td>\n",
              "      <td>2</td>\n",
              "      <td>ANNUAL</td>\n",
              "      <td>798833</td>\n",
              "      <td>0</td>\n",
              "      <td>20100127</td>\n",
              "    </tr>\n",
              "    <tr>\n",
              "      <th>8806</th>\n",
              "      <td>8806</td>\n",
              "      <td>12</td>\n",
              "      <td>100000.80</td>\n",
              "      <td>M</td>\n",
              "      <td>M</td>\n",
              "      <td>2000004.0</td>\n",
              "      <td>1.0</td>\n",
              "      <td>TYPE-B</td>\n",
              "      <td>41</td>\n",
              "      <td>1</td>\n",
              "      <td>MONTHLY</td>\n",
              "      <td>664844</td>\n",
              "      <td>0</td>\n",
              "      <td>20100827</td>\n",
              "    </tr>\n",
              "  </tbody>\n",
              "</table>\n",
              "<p>8807 rows × 14 columns</p>\n",
              "</div>"
            ],
            "text/plain": [
              "        id  term        fee married  ...  payment    agent  target stard_date\n",
              "0        0    22  100000.00       M  ...   ANNUAL   666099       0   20091029\n",
              "1        1    88  149029.58     NaN  ...   ANNUAL   132000       0   20131014\n",
              "2        2    93  102999.94     NaN  ...   ANNUAL  1407177       0   20130531\n",
              "3        3    17  147576.48       M  ...  MONTHLY   343344       0   20130331\n",
              "4        4    39  100000.00       M  ...   ANNUAL   119199       0   20080313\n",
              "...    ...   ...        ...     ...  ...      ...      ...     ...        ...\n",
              "8802  8802    17  100000.00     NaN  ...   ANNUAL   744188       0   20100115\n",
              "8803  8803    49  100000.00       M  ...   ANNUAL   841477       0   20100208\n",
              "8804  8804    54  600001.16       M  ...   ANNUAL  1347855       0   20130331\n",
              "8805  8805    27  100000.00       M  ...   ANNUAL   798833       0   20100127\n",
              "8806  8806    12  100000.80       M  ...  MONTHLY   664844       0   20100827\n",
              "\n",
              "[8807 rows x 14 columns]"
            ]
          },
          "metadata": {},
          "execution_count": 21
        }
      ]
    },
    {
      "cell_type": "code",
      "metadata": {
        "id": "Fmhh0gQ_-4sc"
      },
      "source": [
        "train = train.drop(['end_date'], axis=1)\n",
        "#삭제처리한 사본을 저장하는 방법이 주로 권장"
      ],
      "execution_count": null,
      "outputs": []
    },
    {
      "cell_type": "code",
      "source": [
        "# train.drop(['end_date'], axis=1, inplace=True)  #실제 원본 데이터에 삭제 바로 반영"
      ],
      "metadata": {
        "id": "Tz8b6EMCnMhC"
      },
      "execution_count": null,
      "outputs": []
    },
    {
      "cell_type": "code",
      "source": [
        "train = train.drop(['end_date' ,'married' ], axis=1)"
      ],
      "metadata": {
        "id": "_0JQvgaPn1Gn"
      },
      "execution_count": null,
      "outputs": []
    },
    {
      "cell_type": "markdown",
      "metadata": {
        "id": "OHEt8P_Q-4sc"
      },
      "source": [
        "### 평균값 대체"
      ]
    },
    {
      "cell_type": "code",
      "source": [
        "train.isnull().sum()"
      ],
      "metadata": {
        "colab": {
          "base_uri": "https://localhost:8080/"
        },
        "id": "5vz2SGzuoqLi",
        "outputId": "dfd58b53-e619-4b6b-bcce-350213ebb26b"
      },
      "execution_count": null,
      "outputs": [
        {
          "output_type": "execute_result",
          "data": {
            "text/plain": [
              "id               0\n",
              "term             0\n",
              "fee              0\n",
              "married       2210\n",
              "gender         502\n",
              "income        1469\n",
              "job             34\n",
              "package          0\n",
              "age              0\n",
              "family           0\n",
              "payment          0\n",
              "agent            0\n",
              "target           0\n",
              "stard_date       0\n",
              "dtype: int64"
            ]
          },
          "metadata": {},
          "execution_count": 23
        }
      ]
    },
    {
      "cell_type": "code",
      "metadata": {
        "id": "C9Ay7pjg-4sd",
        "colab": {
          "base_uri": "https://localhost:8080/"
        },
        "outputId": "441c0e9c-2ac6-4206-ec3e-feb594f2d20d"
      },
      "source": [
        "# income\n",
        "train['income'].mean()"
      ],
      "execution_count": null,
      "outputs": [
        {
          "output_type": "execute_result",
          "data": {
            "text/plain": [
              "1375036.0850367947"
            ]
          },
          "metadata": {},
          "execution_count": 24
        }
      ]
    },
    {
      "cell_type": "code",
      "source": [
        "train"
      ],
      "metadata": {
        "colab": {
          "base_uri": "https://localhost:8080/",
          "height": 424
        },
        "id": "2x9psvDvo-TJ",
        "outputId": "bed58ab4-ca47-4458-e2e1-0774ce94a559"
      },
      "execution_count": null,
      "outputs": [
        {
          "output_type": "execute_result",
          "data": {
            "text/html": [
              "<div>\n",
              "<style scoped>\n",
              "    .dataframe tbody tr th:only-of-type {\n",
              "        vertical-align: middle;\n",
              "    }\n",
              "\n",
              "    .dataframe tbody tr th {\n",
              "        vertical-align: top;\n",
              "    }\n",
              "\n",
              "    .dataframe thead th {\n",
              "        text-align: right;\n",
              "    }\n",
              "</style>\n",
              "<table border=\"1\" class=\"dataframe\">\n",
              "  <thead>\n",
              "    <tr style=\"text-align: right;\">\n",
              "      <th></th>\n",
              "      <th>id</th>\n",
              "      <th>term</th>\n",
              "      <th>fee</th>\n",
              "      <th>married</th>\n",
              "      <th>gender</th>\n",
              "      <th>income</th>\n",
              "      <th>job</th>\n",
              "      <th>package</th>\n",
              "      <th>age</th>\n",
              "      <th>family</th>\n",
              "      <th>payment</th>\n",
              "      <th>agent</th>\n",
              "      <th>target</th>\n",
              "      <th>stard_date</th>\n",
              "    </tr>\n",
              "  </thead>\n",
              "  <tbody>\n",
              "    <tr>\n",
              "      <th>0</th>\n",
              "      <td>0</td>\n",
              "      <td>22</td>\n",
              "      <td>100000.00</td>\n",
              "      <td>M</td>\n",
              "      <td>M</td>\n",
              "      <td>450000.0</td>\n",
              "      <td>1.0</td>\n",
              "      <td>TYPE-B</td>\n",
              "      <td>27</td>\n",
              "      <td>1</td>\n",
              "      <td>ANNUAL</td>\n",
              "      <td>666099</td>\n",
              "      <td>0</td>\n",
              "      <td>20091029</td>\n",
              "    </tr>\n",
              "    <tr>\n",
              "      <th>1</th>\n",
              "      <td>1</td>\n",
              "      <td>88</td>\n",
              "      <td>149029.58</td>\n",
              "      <td>NaN</td>\n",
              "      <td>M</td>\n",
              "      <td>NaN</td>\n",
              "      <td>6.0</td>\n",
              "      <td>TYPE-A</td>\n",
              "      <td>75</td>\n",
              "      <td>0</td>\n",
              "      <td>ANNUAL</td>\n",
              "      <td>132000</td>\n",
              "      <td>0</td>\n",
              "      <td>20131014</td>\n",
              "    </tr>\n",
              "    <tr>\n",
              "      <th>2</th>\n",
              "      <td>2</td>\n",
              "      <td>93</td>\n",
              "      <td>102999.94</td>\n",
              "      <td>NaN</td>\n",
              "      <td>M</td>\n",
              "      <td>600000.0</td>\n",
              "      <td>1.0</td>\n",
              "      <td>TYPE-A</td>\n",
              "      <td>49</td>\n",
              "      <td>0</td>\n",
              "      <td>ANNUAL</td>\n",
              "      <td>1407177</td>\n",
              "      <td>0</td>\n",
              "      <td>20130531</td>\n",
              "    </tr>\n",
              "    <tr>\n",
              "      <th>3</th>\n",
              "      <td>3</td>\n",
              "      <td>17</td>\n",
              "      <td>147576.48</td>\n",
              "      <td>M</td>\n",
              "      <td>F</td>\n",
              "      <td>450000.0</td>\n",
              "      <td>1.0</td>\n",
              "      <td>TYPE-A</td>\n",
              "      <td>47</td>\n",
              "      <td>3</td>\n",
              "      <td>MONTHLY</td>\n",
              "      <td>343344</td>\n",
              "      <td>0</td>\n",
              "      <td>20130331</td>\n",
              "    </tr>\n",
              "    <tr>\n",
              "      <th>4</th>\n",
              "      <td>4</td>\n",
              "      <td>39</td>\n",
              "      <td>100000.00</td>\n",
              "      <td>M</td>\n",
              "      <td>M</td>\n",
              "      <td>600000.0</td>\n",
              "      <td>1.0</td>\n",
              "      <td>TYPE-B</td>\n",
              "      <td>36</td>\n",
              "      <td>3</td>\n",
              "      <td>ANNUAL</td>\n",
              "      <td>119199</td>\n",
              "      <td>0</td>\n",
              "      <td>20080313</td>\n",
              "    </tr>\n",
              "    <tr>\n",
              "      <th>...</th>\n",
              "      <td>...</td>\n",
              "      <td>...</td>\n",
              "      <td>...</td>\n",
              "      <td>...</td>\n",
              "      <td>...</td>\n",
              "      <td>...</td>\n",
              "      <td>...</td>\n",
              "      <td>...</td>\n",
              "      <td>...</td>\n",
              "      <td>...</td>\n",
              "      <td>...</td>\n",
              "      <td>...</td>\n",
              "      <td>...</td>\n",
              "      <td>...</td>\n",
              "    </tr>\n",
              "    <tr>\n",
              "      <th>8802</th>\n",
              "      <td>8802</td>\n",
              "      <td>17</td>\n",
              "      <td>100000.00</td>\n",
              "      <td>NaN</td>\n",
              "      <td>NaN</td>\n",
              "      <td>NaN</td>\n",
              "      <td>1.0</td>\n",
              "      <td>TYPE-B</td>\n",
              "      <td>53</td>\n",
              "      <td>0</td>\n",
              "      <td>ANNUAL</td>\n",
              "      <td>744188</td>\n",
              "      <td>0</td>\n",
              "      <td>20100115</td>\n",
              "    </tr>\n",
              "    <tr>\n",
              "      <th>8803</th>\n",
              "      <td>8803</td>\n",
              "      <td>49</td>\n",
              "      <td>100000.00</td>\n",
              "      <td>M</td>\n",
              "      <td>M</td>\n",
              "      <td>399996.0</td>\n",
              "      <td>1.0</td>\n",
              "      <td>TYPE-B</td>\n",
              "      <td>46</td>\n",
              "      <td>1</td>\n",
              "      <td>ANNUAL</td>\n",
              "      <td>841477</td>\n",
              "      <td>0</td>\n",
              "      <td>20100208</td>\n",
              "    </tr>\n",
              "    <tr>\n",
              "      <th>8804</th>\n",
              "      <td>8804</td>\n",
              "      <td>54</td>\n",
              "      <td>600001.16</td>\n",
              "      <td>M</td>\n",
              "      <td>M</td>\n",
              "      <td>2250000.0</td>\n",
              "      <td>2.0</td>\n",
              "      <td>TYPE-A</td>\n",
              "      <td>51</td>\n",
              "      <td>3</td>\n",
              "      <td>ANNUAL</td>\n",
              "      <td>1347855</td>\n",
              "      <td>0</td>\n",
              "      <td>20130331</td>\n",
              "    </tr>\n",
              "    <tr>\n",
              "      <th>8805</th>\n",
              "      <td>8805</td>\n",
              "      <td>27</td>\n",
              "      <td>100000.00</td>\n",
              "      <td>M</td>\n",
              "      <td>M</td>\n",
              "      <td>600000.0</td>\n",
              "      <td>1.0</td>\n",
              "      <td>TYPE-B</td>\n",
              "      <td>27</td>\n",
              "      <td>2</td>\n",
              "      <td>ANNUAL</td>\n",
              "      <td>798833</td>\n",
              "      <td>0</td>\n",
              "      <td>20100127</td>\n",
              "    </tr>\n",
              "    <tr>\n",
              "      <th>8806</th>\n",
              "      <td>8806</td>\n",
              "      <td>12</td>\n",
              "      <td>100000.80</td>\n",
              "      <td>M</td>\n",
              "      <td>M</td>\n",
              "      <td>2000004.0</td>\n",
              "      <td>1.0</td>\n",
              "      <td>TYPE-B</td>\n",
              "      <td>41</td>\n",
              "      <td>1</td>\n",
              "      <td>MONTHLY</td>\n",
              "      <td>664844</td>\n",
              "      <td>0</td>\n",
              "      <td>20100827</td>\n",
              "    </tr>\n",
              "  </tbody>\n",
              "</table>\n",
              "<p>8807 rows × 14 columns</p>\n",
              "</div>"
            ],
            "text/plain": [
              "        id  term        fee married  ...  payment    agent  target stard_date\n",
              "0        0    22  100000.00       M  ...   ANNUAL   666099       0   20091029\n",
              "1        1    88  149029.58     NaN  ...   ANNUAL   132000       0   20131014\n",
              "2        2    93  102999.94     NaN  ...   ANNUAL  1407177       0   20130531\n",
              "3        3    17  147576.48       M  ...  MONTHLY   343344       0   20130331\n",
              "4        4    39  100000.00       M  ...   ANNUAL   119199       0   20080313\n",
              "...    ...   ...        ...     ...  ...      ...      ...     ...        ...\n",
              "8802  8802    17  100000.00     NaN  ...   ANNUAL   744188       0   20100115\n",
              "8803  8803    49  100000.00       M  ...   ANNUAL   841477       0   20100208\n",
              "8804  8804    54  600001.16       M  ...   ANNUAL  1347855       0   20130331\n",
              "8805  8805    27  100000.00       M  ...   ANNUAL   798833       0   20100127\n",
              "8806  8806    12  100000.80       M  ...  MONTHLY   664844       0   20100827\n",
              "\n",
              "[8807 rows x 14 columns]"
            ]
          },
          "metadata": {},
          "execution_count": 25
        }
      ]
    },
    {
      "cell_type": "code",
      "source": [
        "train['income'] = train['income'].fillna(train['income'].mean())"
      ],
      "metadata": {
        "id": "17DHUkhjsdVb"
      },
      "execution_count": null,
      "outputs": []
    },
    {
      "cell_type": "code",
      "metadata": {
        "id": "FpM3Une_-4sd"
      },
      "source": [
        "income_mean = train['income'].mean()\n",
        "train['income'] = train['income'].fillna(income_mean)    #기준은 train data로 낮춘다\n",
        "test['income'] = test['income'].fillna(income_mean)"
      ],
      "execution_count": null,
      "outputs": []
    },
    {
      "cell_type": "code",
      "metadata": {
        "id": "CYqBqef3-4sd"
      },
      "source": [
        "sns.displot(x='income', hue='target', data=train, palette=\"PRGn\");"
      ],
      "execution_count": null,
      "outputs": []
    },
    {
      "cell_type": "markdown",
      "metadata": {
        "id": "K_J3JY7B-4sd"
      },
      "source": [
        "### 최빈값 대체"
      ]
    },
    {
      "cell_type": "code",
      "source": [
        "train.isnull().sum()"
      ],
      "metadata": {
        "colab": {
          "base_uri": "https://localhost:8080/"
        },
        "id": "0kqWBp7esv7w",
        "outputId": "46176350-ade1-4bae-f9e6-db78d4851fa2"
      },
      "execution_count": null,
      "outputs": [
        {
          "output_type": "execute_result",
          "data": {
            "text/plain": [
              "id               0\n",
              "term             0\n",
              "fee              0\n",
              "married       2210\n",
              "gender         502\n",
              "income           0\n",
              "job             34\n",
              "package          0\n",
              "age              0\n",
              "family           0\n",
              "payment          0\n",
              "agent            0\n",
              "target           0\n",
              "stard_date       0\n",
              "dtype: int64"
            ]
          },
          "metadata": {},
          "execution_count": 29
        }
      ]
    },
    {
      "cell_type": "code",
      "source": [
        "train.isnull().sum()"
      ],
      "metadata": {
        "colab": {
          "base_uri": "https://localhost:8080/"
        },
        "id": "3y7IHV47UdSA",
        "outputId": "473aa68d-be7c-4da2-e0f5-63f6eb4211ee"
      },
      "execution_count": null,
      "outputs": [
        {
          "output_type": "execute_result",
          "data": {
            "text/plain": [
              "id               0\n",
              "term             0\n",
              "fee              0\n",
              "married       2210\n",
              "gender         502\n",
              "income           0\n",
              "job             34\n",
              "package          0\n",
              "age              0\n",
              "family           0\n",
              "payment          0\n",
              "agent            0\n",
              "target           0\n",
              "stard_date       0\n",
              "dtype: int64"
            ]
          },
          "metadata": {},
          "execution_count": 30
        }
      ]
    },
    {
      "cell_type": "code",
      "source": [
        "train['gender'].value_counts(dropna=False)"
      ],
      "metadata": {
        "colab": {
          "base_uri": "https://localhost:8080/"
        },
        "id": "UskCsoCNtEcJ",
        "outputId": "a6fb1635-accb-424f-c460-5ae58e92c1db"
      },
      "execution_count": null,
      "outputs": [
        {
          "output_type": "execute_result",
          "data": {
            "text/plain": [
              "M      6249\n",
              "F      2056\n",
              "NaN     502\n",
              "Name: gender, dtype: int64"
            ]
          },
          "metadata": {},
          "execution_count": 31
        }
      ]
    },
    {
      "cell_type": "code",
      "source": [
        "train['income'].value_counts(dropna=False)"
      ],
      "metadata": {
        "colab": {
          "base_uri": "https://localhost:8080/"
        },
        "id": "K57q58fJUhHq",
        "outputId": "f5bc4b2b-950d-49f0-aa84-a1b424619ca8"
      },
      "execution_count": null,
      "outputs": [
        {
          "output_type": "execute_result",
          "data": {
            "text/plain": [
              "1.375036e+06    1469\n",
              "3.999960e+05     518\n",
              "9.999960e+05     512\n",
              "3.000000e+05     489\n",
              "6.000000e+05     458\n",
              "                ... \n",
              "1.535520e+05       1\n",
              "1.323533e+07       1\n",
              "6.469920e+05       1\n",
              "2.150004e+06       1\n",
              "1.015776e+06       1\n",
              "Name: income, Length: 720, dtype: int64"
            ]
          },
          "metadata": {},
          "execution_count": 32
        }
      ]
    },
    {
      "cell_type": "code",
      "source": [
        "train['gender'].value_counts(dropna=False).index\n",
        "#train['gender'].value_counts(dropna=False).index[0]"
      ],
      "metadata": {
        "colab": {
          "base_uri": "https://localhost:8080/"
        },
        "id": "3UWKGsVMviLb",
        "outputId": "4e05e878-9167-4ae0-f404-175685fcf0c1"
      },
      "execution_count": null,
      "outputs": [
        {
          "output_type": "execute_result",
          "data": {
            "text/plain": [
              "Index(['M', 'F', nan], dtype='object')"
            ]
          },
          "metadata": {},
          "execution_count": 33
        }
      ]
    },
    {
      "cell_type": "code",
      "source": [
        "train['income'].value_counts(dropna=False).index\n",
        "#train['gender'].value_counts(dropna=False).index[0]"
      ],
      "metadata": {
        "colab": {
          "base_uri": "https://localhost:8080/"
        },
        "id": "-eaD587fUwb7",
        "outputId": "7860f9ba-dbbe-4129-b742-5a239448cb19"
      },
      "execution_count": null,
      "outputs": [
        {
          "output_type": "execute_result",
          "data": {
            "text/plain": [
              "Float64Index([1375036.0850367947,           399996.0,           999996.0,\n",
              "                        300000.0,           600000.0,           499992.0,\n",
              "                        500004.0,           699996.0,           799992.0,\n",
              "                        450000.0,\n",
              "              ...\n",
              "                        696000.0,           244992.0,          1130004.0,\n",
              "                        642000.0,          1851000.0,           153552.0,\n",
              "                      13235328.0,           646992.0,          2150004.0,\n",
              "                       1015776.0],\n",
              "             dtype='float64', length=720)"
            ]
          },
          "metadata": {},
          "execution_count": 34
        }
      ]
    },
    {
      "cell_type": "code",
      "source": [
        "# gender\n",
        "train['gender'].mode()"
      ],
      "metadata": {
        "colab": {
          "base_uri": "https://localhost:8080/"
        },
        "id": "9hdoTCqYtyHD",
        "outputId": "ddc7503c-fb85-4fe1-cf31-a18f6102d07b"
      },
      "execution_count": null,
      "outputs": [
        {
          "output_type": "execute_result",
          "data": {
            "text/plain": [
              "0    M\n",
              "dtype: object"
            ]
          },
          "metadata": {},
          "execution_count": 35
        }
      ]
    },
    {
      "cell_type": "code",
      "source": [
        "# income\n",
        "train['income'].mode()"
      ],
      "metadata": {
        "colab": {
          "base_uri": "https://localhost:8080/"
        },
        "id": "mzI0238uU3eo",
        "outputId": "069883b3-42ae-478a-9f8b-9356bea20581"
      },
      "execution_count": null,
      "outputs": [
        {
          "output_type": "execute_result",
          "data": {
            "text/plain": [
              "0    1.375036e+06\n",
              "dtype: float64"
            ]
          },
          "metadata": {},
          "execution_count": 36
        }
      ]
    },
    {
      "cell_type": "code",
      "metadata": {
        "id": "2QJ8AkEg-4sd",
        "colab": {
          "base_uri": "https://localhost:8080/",
          "height": 35
        },
        "outputId": "b7c87a4b-d960-45cd-a352-477215489664"
      },
      "source": [
        "# gender\n",
        "train['gender'].mode()[0]"
      ],
      "execution_count": null,
      "outputs": [
        {
          "output_type": "execute_result",
          "data": {
            "application/vnd.google.colaboratory.intrinsic+json": {
              "type": "string"
            },
            "text/plain": [
              "'M'"
            ]
          },
          "metadata": {},
          "execution_count": 37
        }
      ]
    },
    {
      "cell_type": "code",
      "source": [
        "# income\n",
        "train['income'].mode()[0]"
      ],
      "metadata": {
        "colab": {
          "base_uri": "https://localhost:8080/"
        },
        "id": "hWVU7FugU-35",
        "outputId": "5c9aa734-66ce-41cf-faef-529ec582a1de"
      },
      "execution_count": null,
      "outputs": [
        {
          "output_type": "execute_result",
          "data": {
            "text/plain": [
              "1375036.0850367947"
            ]
          },
          "metadata": {},
          "execution_count": 38
        }
      ]
    },
    {
      "cell_type": "code",
      "metadata": {
        "id": "8aC7De99-4sd"
      },
      "source": [
        "train['gender'] = train['gender'].fillna(train['gender'].mode()[0])\n",
        "test['gender'] = test['gender'].fillna(train['gender'].mode()[0])"
      ],
      "execution_count": null,
      "outputs": []
    },
    {
      "cell_type": "code",
      "source": [
        "train['income'] = train['income'].fillna(train['income'].mode()[0])\n",
        "test['income'] = test['income'].fillna(train['income'].mode()[0])"
      ],
      "metadata": {
        "id": "kMa7cRrNVMlf"
      },
      "execution_count": null,
      "outputs": []
    },
    {
      "cell_type": "code",
      "source": [
        "test['gender']"
      ],
      "metadata": {
        "colab": {
          "base_uri": "https://localhost:8080/"
        },
        "id": "N5wsKrF_UMYm",
        "outputId": "6a1b2b08-990f-49f7-a9a8-f4e1eb5a49cd"
      },
      "execution_count": null,
      "outputs": [
        {
          "output_type": "execute_result",
          "data": {
            "text/plain": [
              "0       F\n",
              "1       M\n",
              "2       M\n",
              "3       M\n",
              "4       M\n",
              "       ..\n",
              "1550    M\n",
              "1551    F\n",
              "1552    M\n",
              "1553    F\n",
              "1554    F\n",
              "Name: gender, Length: 1555, dtype: object"
            ]
          },
          "metadata": {},
          "execution_count": 41
        }
      ]
    },
    {
      "cell_type": "code",
      "source": [
        "test['income']"
      ],
      "metadata": {
        "colab": {
          "base_uri": "https://localhost:8080/"
        },
        "id": "A2047YdjVXOb",
        "outputId": "3aacf2e5-4465-4dfd-9b08-b3a8adbcbafb"
      },
      "execution_count": null,
      "outputs": [
        {
          "output_type": "execute_result",
          "data": {
            "text/plain": [
              "0       9.999960e+05\n",
              "1       3.999960e+05\n",
              "2       1.200000e+06\n",
              "3       7.999920e+05\n",
              "4       1.999992e+06\n",
              "            ...     \n",
              "1550    1.375036e+06\n",
              "1551    1.500000e+06\n",
              "1552    2.460000e+06\n",
              "1553    3.999960e+05\n",
              "1554    9.999600e+04\n",
              "Name: income, Length: 1555, dtype: float64"
            ]
          },
          "metadata": {},
          "execution_count": 42
        }
      ]
    },
    {
      "cell_type": "code",
      "metadata": {
        "id": "ECQWQG0o-4sd"
      },
      "source": [
        "sns.countplot(x='gender', hue='target', data=train);"
      ],
      "execution_count": null,
      "outputs": []
    },
    {
      "cell_type": "code",
      "source": [
        "test.isnull().sum()"
      ],
      "metadata": {
        "colab": {
          "base_uri": "https://localhost:8080/"
        },
        "id": "fs7ZRq5wwA0_",
        "outputId": "2ed49811-f385-4a01-b26e-97a61e5368ff"
      },
      "execution_count": null,
      "outputs": [
        {
          "output_type": "execute_result",
          "data": {
            "text/plain": [
              "id              0\n",
              "term            0\n",
              "fee             0\n",
              "married       387\n",
              "gender          0\n",
              "income          0\n",
              "job             9\n",
              "package         0\n",
              "age             0\n",
              "family          0\n",
              "payment         0\n",
              "agent           0\n",
              "stard_date      0\n",
              "dtype: int64"
            ]
          },
          "metadata": {},
          "execution_count": 43
        }
      ]
    },
    {
      "cell_type": "code",
      "source": [
        "test.head()"
      ],
      "metadata": {
        "colab": {
          "base_uri": "https://localhost:8080/",
          "height": 206
        },
        "id": "klpmoanyVq4D",
        "outputId": "0cb43f96-af33-4802-a692-466ba34000f5"
      },
      "execution_count": null,
      "outputs": [
        {
          "output_type": "execute_result",
          "data": {
            "text/html": [
              "<div>\n",
              "<style scoped>\n",
              "    .dataframe tbody tr th:only-of-type {\n",
              "        vertical-align: middle;\n",
              "    }\n",
              "\n",
              "    .dataframe tbody tr th {\n",
              "        vertical-align: top;\n",
              "    }\n",
              "\n",
              "    .dataframe thead th {\n",
              "        text-align: right;\n",
              "    }\n",
              "</style>\n",
              "<table border=\"1\" class=\"dataframe\">\n",
              "  <thead>\n",
              "    <tr style=\"text-align: right;\">\n",
              "      <th></th>\n",
              "      <th>id</th>\n",
              "      <th>term</th>\n",
              "      <th>fee</th>\n",
              "      <th>married</th>\n",
              "      <th>gender</th>\n",
              "      <th>income</th>\n",
              "      <th>job</th>\n",
              "      <th>package</th>\n",
              "      <th>age</th>\n",
              "      <th>family</th>\n",
              "      <th>payment</th>\n",
              "      <th>agent</th>\n",
              "      <th>stard_date</th>\n",
              "    </tr>\n",
              "  </thead>\n",
              "  <tbody>\n",
              "    <tr>\n",
              "      <th>0</th>\n",
              "      <td>8807</td>\n",
              "      <td>12</td>\n",
              "      <td>100000.00</td>\n",
              "      <td>M</td>\n",
              "      <td>F</td>\n",
              "      <td>999996.0</td>\n",
              "      <td>1.0</td>\n",
              "      <td>TYPE-B</td>\n",
              "      <td>41</td>\n",
              "      <td>1</td>\n",
              "      <td>ANNUAL</td>\n",
              "      <td>944999</td>\n",
              "      <td>20100331</td>\n",
              "    </tr>\n",
              "    <tr>\n",
              "      <th>1</th>\n",
              "      <td>8808</td>\n",
              "      <td>50</td>\n",
              "      <td>100000.00</td>\n",
              "      <td>M</td>\n",
              "      <td>M</td>\n",
              "      <td>399996.0</td>\n",
              "      <td>1.0</td>\n",
              "      <td>TYPE-B</td>\n",
              "      <td>34</td>\n",
              "      <td>2</td>\n",
              "      <td>SEMI-ANNUAL</td>\n",
              "      <td>546366</td>\n",
              "      <td>20090331</td>\n",
              "    </tr>\n",
              "    <tr>\n",
              "      <th>2</th>\n",
              "      <td>8809</td>\n",
              "      <td>12</td>\n",
              "      <td>100000.00</td>\n",
              "      <td>M</td>\n",
              "      <td>M</td>\n",
              "      <td>1200000.0</td>\n",
              "      <td>1.0</td>\n",
              "      <td>TYPE-B</td>\n",
              "      <td>36</td>\n",
              "      <td>3</td>\n",
              "      <td>ANNUAL</td>\n",
              "      <td>1207933</td>\n",
              "      <td>20120316</td>\n",
              "    </tr>\n",
              "    <tr>\n",
              "      <th>3</th>\n",
              "      <td>8810</td>\n",
              "      <td>12</td>\n",
              "      <td>250000.00</td>\n",
              "      <td>NaN</td>\n",
              "      <td>M</td>\n",
              "      <td>799992.0</td>\n",
              "      <td>2.0</td>\n",
              "      <td>TYPE-B</td>\n",
              "      <td>60</td>\n",
              "      <td>0</td>\n",
              "      <td>ANNUAL</td>\n",
              "      <td>1267000</td>\n",
              "      <td>20120327</td>\n",
              "    </tr>\n",
              "    <tr>\n",
              "      <th>4</th>\n",
              "      <td>8811</td>\n",
              "      <td>17</td>\n",
              "      <td>200000.24</td>\n",
              "      <td>NaN</td>\n",
              "      <td>M</td>\n",
              "      <td>1999992.0</td>\n",
              "      <td>2.0</td>\n",
              "      <td>TYPE-A</td>\n",
              "      <td>55</td>\n",
              "      <td>0</td>\n",
              "      <td>ANNUAL</td>\n",
              "      <td>923455</td>\n",
              "      <td>20130330</td>\n",
              "    </tr>\n",
              "  </tbody>\n",
              "</table>\n",
              "</div>"
            ],
            "text/plain": [
              "     id  term        fee married  ... family      payment    agent stard_date\n",
              "0  8807    12  100000.00       M  ...      1       ANNUAL   944999   20100331\n",
              "1  8808    50  100000.00       M  ...      2  SEMI-ANNUAL   546366   20090331\n",
              "2  8809    12  100000.00       M  ...      3       ANNUAL  1207933   20120316\n",
              "3  8810    12  250000.00     NaN  ...      0       ANNUAL  1267000   20120327\n",
              "4  8811    17  200000.24     NaN  ...      0       ANNUAL   923455   20130330\n",
              "\n",
              "[5 rows x 13 columns]"
            ]
          },
          "metadata": {},
          "execution_count": 44
        }
      ]
    },
    {
      "cell_type": "markdown",
      "metadata": {
        "id": "UFGd3Yhf-4se"
      },
      "source": [
        "### 결측값을 별도로 표시"
      ]
    },
    {
      "cell_type": "code",
      "metadata": {
        "id": "yo2Yp5FK-4se",
        "colab": {
          "base_uri": "https://localhost:8080/"
        },
        "outputId": "bd09814f-ae6c-49f7-c166-813d635e7a6d"
      },
      "source": [
        "# married\n",
        "train['married'].value_counts(dropna=False)"
      ],
      "execution_count": null,
      "outputs": [
        {
          "output_type": "execute_result",
          "data": {
            "text/plain": [
              "M      5455\n",
              "NaN    2210\n",
              "S       977\n",
              "W       128\n",
              "D        37\n",
              "Name: married, dtype: int64"
            ]
          },
          "metadata": {},
          "execution_count": 45
        }
      ]
    },
    {
      "cell_type": "code",
      "metadata": {
        "id": "4b7mb7RL-4se"
      },
      "source": [
        "# 결측을 하나의 범주로 취급해버리기 U\n",
        "train['married'] = train['married'].fillna('U')\n",
        "test['married'] = test['married'].fillna('U')"
      ],
      "execution_count": null,
      "outputs": []
    },
    {
      "cell_type": "code",
      "metadata": {
        "id": "3g_GQC1C-4se"
      },
      "source": [
        "sns.countplot(x='married', hue='target', data=train);"
      ],
      "execution_count": null,
      "outputs": []
    },
    {
      "cell_type": "code",
      "source": [
        "sns.countplot(x='married', hue='job', data=train);"
      ],
      "metadata": {
        "id": "TtyA6az2WtTu"
      },
      "execution_count": null,
      "outputs": []
    },
    {
      "cell_type": "markdown",
      "metadata": {
        "id": "lYaCjmNN-4se"
      },
      "source": [
        "# [실습]\n",
        "married, job 컬럼에 속하는 결측값을 적절하게 처리합니다. "
      ]
    },
    {
      "cell_type": "code",
      "source": [
        ""
      ],
      "metadata": {
        "id": "ftKtxov_xQJZ"
      },
      "execution_count": null,
      "outputs": []
    },
    {
      "cell_type": "code",
      "source": [
        "test.isnull().sum()"
      ],
      "metadata": {
        "colab": {
          "base_uri": "https://localhost:8080/"
        },
        "id": "36EJTmrqxG6p",
        "outputId": "6984353e-f57f-4463-e893-448e0f24dbe6"
      },
      "execution_count": null,
      "outputs": [
        {
          "output_type": "execute_result",
          "data": {
            "text/plain": [
              "id            0\n",
              "term          0\n",
              "fee           0\n",
              "married       0\n",
              "gender        0\n",
              "income        0\n",
              "job           9\n",
              "package       0\n",
              "age           0\n",
              "family        0\n",
              "payment       0\n",
              "agent         0\n",
              "stard_date    0\n",
              "dtype: int64"
            ]
          },
          "metadata": {},
          "execution_count": 47
        }
      ]
    },
    {
      "cell_type": "code",
      "source": [
        "train['gender'].value_counts(dropna=False).index[0]"
      ],
      "metadata": {
        "colab": {
          "base_uri": "https://localhost:8080/",
          "height": 35
        },
        "id": "KvkrO0tQw1ip",
        "outputId": "d3498011-6f67-422a-989f-1ecbeefd908d"
      },
      "execution_count": null,
      "outputs": [
        {
          "output_type": "execute_result",
          "data": {
            "application/vnd.google.colaboratory.intrinsic+json": {
              "type": "string"
            },
            "text/plain": [
              "'M'"
            ]
          },
          "metadata": {},
          "execution_count": 59
        }
      ]
    },
    {
      "cell_type": "code",
      "metadata": {
        "id": "x6pjmAv0-4se",
        "colab": {
          "base_uri": "https://localhost:8080/"
        },
        "outputId": "fd3ec463-1c7b-4322-e533-6a425839be87"
      },
      "source": [
        "# job\n",
        "train['job'].value_counts(dropna=False)"
      ],
      "execution_count": null,
      "outputs": [
        {
          "output_type": "execute_result",
          "data": {
            "text/plain": [
              "1.0    6169\n",
              "2.0    1537\n",
              "6.0     613\n",
              "5.0     276\n",
              "4.0     177\n",
              "NaN      34\n",
              "3.0       1\n",
              "Name: job, dtype: int64"
            ]
          },
          "metadata": {},
          "execution_count": 48
        }
      ]
    },
    {
      "cell_type": "code",
      "metadata": {
        "id": "tsVgXhA0-4se"
      },
      "source": [
        "train['job'] = train['job'].fillna(train['job'].mode()[0])\n",
        "test['job'] = test['job'].fillna(train['job'].mode()[0])"
      ],
      "execution_count": null,
      "outputs": []
    },
    {
      "cell_type": "code",
      "source": [
        "# married\n",
        "train['married'].value_counts(dropna=False)"
      ],
      "metadata": {
        "colab": {
          "base_uri": "https://localhost:8080/"
        },
        "id": "wVTknaY_xmCx",
        "outputId": "bf286171-042e-491b-dfb6-677fc8161122"
      },
      "execution_count": null,
      "outputs": [
        {
          "output_type": "execute_result",
          "data": {
            "text/plain": [
              "M    5455\n",
              "U    2210\n",
              "S     977\n",
              "W     128\n",
              "D      37\n",
              "Name: married, dtype: int64"
            ]
          },
          "metadata": {},
          "execution_count": 63
        }
      ]
    },
    {
      "cell_type": "code",
      "metadata": {
        "id": "D9_VmqZn-4se"
      },
      "source": [
        "train['married'] = train['married'].fillna(train['married'].mode()[0])\n",
        "test['married'] = test['married'].fillna(train['married'].mode()[0])"
      ],
      "execution_count": null,
      "outputs": []
    },
    {
      "cell_type": "code",
      "source": [
        "test.isnull().sum()"
      ],
      "metadata": {
        "colab": {
          "base_uri": "https://localhost:8080/"
        },
        "id": "8x3cE_EXx2lj",
        "outputId": "df4b24b8-70b1-4b2a-f8cb-255992f9d2e3"
      },
      "execution_count": null,
      "outputs": [
        {
          "output_type": "execute_result",
          "data": {
            "text/plain": [
              "id            0\n",
              "term          0\n",
              "fee           0\n",
              "married       0\n",
              "gender        0\n",
              "income        0\n",
              "job           0\n",
              "package       0\n",
              "age           0\n",
              "family        0\n",
              "payment       0\n",
              "agent         0\n",
              "stard_date    0\n",
              "dtype: int64"
            ]
          },
          "metadata": {},
          "execution_count": 50
        }
      ]
    },
    {
      "cell_type": "code",
      "source": [
        "train.isnull().sum()"
      ],
      "metadata": {
        "colab": {
          "base_uri": "https://localhost:8080/"
        },
        "id": "-qX2N-5XzXtU",
        "outputId": "620d0e40-bc03-42fe-f7a5-ab9afb814235"
      },
      "execution_count": null,
      "outputs": [
        {
          "output_type": "execute_result",
          "data": {
            "text/plain": [
              "id            0\n",
              "term          0\n",
              "fee           0\n",
              "married       0\n",
              "gender        0\n",
              "income        0\n",
              "job           0\n",
              "package       0\n",
              "age           0\n",
              "family        0\n",
              "payment       0\n",
              "agent         0\n",
              "target        0\n",
              "stard_date    0\n",
              "dtype: int64"
            ]
          },
          "metadata": {},
          "execution_count": 51
        }
      ]
    },
    {
      "cell_type": "code",
      "source": [
        "train.head()"
      ],
      "metadata": {
        "colab": {
          "base_uri": "https://localhost:8080/",
          "height": 206
        },
        "id": "P_UoOVLNzPGG",
        "outputId": "3fc5a92b-cc0b-4217-9fd8-4981260eb7b4"
      },
      "execution_count": null,
      "outputs": [
        {
          "output_type": "execute_result",
          "data": {
            "text/html": [
              "<div>\n",
              "<style scoped>\n",
              "    .dataframe tbody tr th:only-of-type {\n",
              "        vertical-align: middle;\n",
              "    }\n",
              "\n",
              "    .dataframe tbody tr th {\n",
              "        vertical-align: top;\n",
              "    }\n",
              "\n",
              "    .dataframe thead th {\n",
              "        text-align: right;\n",
              "    }\n",
              "</style>\n",
              "<table border=\"1\" class=\"dataframe\">\n",
              "  <thead>\n",
              "    <tr style=\"text-align: right;\">\n",
              "      <th></th>\n",
              "      <th>id</th>\n",
              "      <th>term</th>\n",
              "      <th>fee</th>\n",
              "      <th>married</th>\n",
              "      <th>gender</th>\n",
              "      <th>income</th>\n",
              "      <th>job</th>\n",
              "      <th>package</th>\n",
              "      <th>age</th>\n",
              "      <th>family</th>\n",
              "      <th>payment</th>\n",
              "      <th>agent</th>\n",
              "      <th>target</th>\n",
              "      <th>stard_date</th>\n",
              "    </tr>\n",
              "  </thead>\n",
              "  <tbody>\n",
              "    <tr>\n",
              "      <th>0</th>\n",
              "      <td>0</td>\n",
              "      <td>22</td>\n",
              "      <td>100000.00</td>\n",
              "      <td>M</td>\n",
              "      <td>M</td>\n",
              "      <td>450000.0</td>\n",
              "      <td>1.0</td>\n",
              "      <td>TYPE-B</td>\n",
              "      <td>27</td>\n",
              "      <td>1</td>\n",
              "      <td>ANNUAL</td>\n",
              "      <td>666099</td>\n",
              "      <td>0</td>\n",
              "      <td>20091029</td>\n",
              "    </tr>\n",
              "    <tr>\n",
              "      <th>1</th>\n",
              "      <td>1</td>\n",
              "      <td>88</td>\n",
              "      <td>149029.58</td>\n",
              "      <td>U</td>\n",
              "      <td>M</td>\n",
              "      <td>399996.0</td>\n",
              "      <td>6.0</td>\n",
              "      <td>TYPE-A</td>\n",
              "      <td>75</td>\n",
              "      <td>0</td>\n",
              "      <td>ANNUAL</td>\n",
              "      <td>132000</td>\n",
              "      <td>0</td>\n",
              "      <td>20131014</td>\n",
              "    </tr>\n",
              "    <tr>\n",
              "      <th>2</th>\n",
              "      <td>2</td>\n",
              "      <td>93</td>\n",
              "      <td>102999.94</td>\n",
              "      <td>U</td>\n",
              "      <td>M</td>\n",
              "      <td>600000.0</td>\n",
              "      <td>1.0</td>\n",
              "      <td>TYPE-A</td>\n",
              "      <td>49</td>\n",
              "      <td>0</td>\n",
              "      <td>ANNUAL</td>\n",
              "      <td>1407177</td>\n",
              "      <td>0</td>\n",
              "      <td>20130531</td>\n",
              "    </tr>\n",
              "    <tr>\n",
              "      <th>3</th>\n",
              "      <td>3</td>\n",
              "      <td>17</td>\n",
              "      <td>147576.48</td>\n",
              "      <td>M</td>\n",
              "      <td>F</td>\n",
              "      <td>450000.0</td>\n",
              "      <td>1.0</td>\n",
              "      <td>TYPE-A</td>\n",
              "      <td>47</td>\n",
              "      <td>3</td>\n",
              "      <td>MONTHLY</td>\n",
              "      <td>343344</td>\n",
              "      <td>0</td>\n",
              "      <td>20130331</td>\n",
              "    </tr>\n",
              "    <tr>\n",
              "      <th>4</th>\n",
              "      <td>4</td>\n",
              "      <td>39</td>\n",
              "      <td>100000.00</td>\n",
              "      <td>M</td>\n",
              "      <td>M</td>\n",
              "      <td>600000.0</td>\n",
              "      <td>1.0</td>\n",
              "      <td>TYPE-B</td>\n",
              "      <td>36</td>\n",
              "      <td>3</td>\n",
              "      <td>ANNUAL</td>\n",
              "      <td>119199</td>\n",
              "      <td>0</td>\n",
              "      <td>20080313</td>\n",
              "    </tr>\n",
              "  </tbody>\n",
              "</table>\n",
              "</div>"
            ],
            "text/plain": [
              "   id  term        fee married  ...  payment    agent  target stard_date\n",
              "0   0    22  100000.00       M  ...   ANNUAL   666099       0   20091029\n",
              "1   1    88  149029.58       U  ...   ANNUAL   132000       0   20131014\n",
              "2   2    93  102999.94       U  ...   ANNUAL  1407177       0   20130531\n",
              "3   3    17  147576.48       M  ...  MONTHLY   343344       0   20130331\n",
              "4   4    39  100000.00       M  ...   ANNUAL   119199       0   20080313\n",
              "\n",
              "[5 rows x 14 columns]"
            ]
          },
          "metadata": {},
          "execution_count": 67
        }
      ]
    },
    {
      "cell_type": "code",
      "source": [
        "train.info()"
      ],
      "metadata": {
        "colab": {
          "base_uri": "https://localhost:8080/"
        },
        "id": "k6xZ3WPQz3Xw",
        "outputId": "0ccf2e4b-26bb-456a-a2aa-f758db8d7e04"
      },
      "execution_count": null,
      "outputs": [
        {
          "output_type": "stream",
          "name": "stdout",
          "text": [
            "<class 'pandas.core.frame.DataFrame'>\n",
            "RangeIndex: 8807 entries, 0 to 8806\n",
            "Data columns (total 14 columns):\n",
            " #   Column      Non-Null Count  Dtype  \n",
            "---  ------      --------------  -----  \n",
            " 0   id          8807 non-null   int64  \n",
            " 1   term        8807 non-null   int64  \n",
            " 2   fee         8807 non-null   float64\n",
            " 3   married     8807 non-null   object \n",
            " 4   gender      8807 non-null   object \n",
            " 5   income      8807 non-null   float64\n",
            " 6   job         8807 non-null   float64\n",
            " 7   package     8807 non-null   object \n",
            " 8   age         8807 non-null   int64  \n",
            " 9   family      8807 non-null   int64  \n",
            " 10  payment     8807 non-null   object \n",
            " 11  agent       8807 non-null   object \n",
            " 12  target      8807 non-null   int64  \n",
            " 13  stard_date  8807 non-null   int64  \n",
            "dtypes: float64(3), int64(6), object(5)\n",
            "memory usage: 963.4+ KB\n"
          ]
        }
      ]
    },
    {
      "cell_type": "markdown",
      "metadata": {
        "id": "vA4Jf-SL-4sf"
      },
      "source": [
        "## Label Encoding"
      ]
    },
    {
      "cell_type": "code",
      "source": [
        "for col in train.columns:\n",
        "    print(train[col].dtype)"
      ],
      "metadata": {
        "colab": {
          "base_uri": "https://localhost:8080/"
        },
        "id": "aHoFr8qM0APD",
        "outputId": "fadda3d8-7a26-4cac-d0c2-15c754a48cb4"
      },
      "execution_count": null,
      "outputs": [
        {
          "output_type": "stream",
          "name": "stdout",
          "text": [
            "int64\n",
            "int64\n",
            "float64\n",
            "object\n",
            "object\n",
            "float64\n",
            "float64\n",
            "object\n",
            "int64\n",
            "int64\n",
            "object\n",
            "object\n",
            "int64\n",
            "int64\n"
          ]
        }
      ]
    },
    {
      "cell_type": "code",
      "source": [
        "for col in train.columns:\n",
        "    if train[col].dtype == 'object':\n",
        "        print(col)"
      ],
      "metadata": {
        "colab": {
          "base_uri": "https://localhost:8080/"
        },
        "id": "q1kA-sEp0mgv",
        "outputId": "fe944f87-d9b9-4fcf-c939-acbd927929f5"
      },
      "execution_count": null,
      "outputs": [
        {
          "output_type": "stream",
          "name": "stdout",
          "text": [
            "married\n",
            "gender\n",
            "package\n",
            "payment\n",
            "agent\n"
          ]
        }
      ]
    },
    {
      "cell_type": "code",
      "source": [
        "categorical_features = [col for col in train.columns if train[col].dtype=='object']"
      ],
      "metadata": {
        "id": "ko4GdDic0_AU"
      },
      "execution_count": null,
      "outputs": []
    },
    {
      "cell_type": "code",
      "metadata": {
        "id": "oqUztvN3-4sf",
        "colab": {
          "base_uri": "https://localhost:8080/"
        },
        "outputId": "510ea643-8b49-4c9a-c97b-83a715f0a498"
      },
      "source": [
        "# 범주형 변수\n",
        "categorical_features = []\n",
        "for col in train.columns:\n",
        "    if train[col].dtype == 'O':\n",
        "        categorical_features.append(col)\n",
        "        \n",
        "categorical_features"
      ],
      "execution_count": null,
      "outputs": [
        {
          "output_type": "execute_result",
          "data": {
            "text/plain": [
              "['married', 'gender', 'package', 'payment', 'agent']"
            ]
          },
          "metadata": {},
          "execution_count": 56
        }
      ]
    },
    {
      "cell_type": "code",
      "source": [
        "            "
      ],
      "metadata": {
        "id": "JpY6IX-w1_1N"
      },
      "execution_count": null,
      "outputs": []
    },
    {
      "cell_type": "markdown",
      "metadata": {
        "id": "vK0u4e_f-4sf"
      },
      "source": [
        "### gender"
      ]
    },
    {
      "cell_type": "code",
      "metadata": {
        "id": "43V50jlS-4sf",
        "colab": {
          "base_uri": "https://localhost:8080/"
        },
        "outputId": "ec2eddea-be09-46bd-f59f-7113122297f9"
      },
      "source": [
        "train['gender'].value_counts()"
      ],
      "execution_count": null,
      "outputs": [
        {
          "output_type": "execute_result",
          "data": {
            "text/plain": [
              "M    6751\n",
              "F    2056\n",
              "Name: gender, dtype: int64"
            ]
          },
          "metadata": {},
          "execution_count": 57
        }
      ]
    },
    {
      "cell_type": "code",
      "source": [
        "train['gender'] =='M'"
      ],
      "metadata": {
        "colab": {
          "base_uri": "https://localhost:8080/"
        },
        "id": "8ZmbMl8G5Rw-",
        "outputId": "fda123c8-8824-4cbf-810c-fcd6fa940d41"
      },
      "execution_count": null,
      "outputs": [
        {
          "output_type": "execute_result",
          "data": {
            "text/plain": [
              "0        True\n",
              "1        True\n",
              "2        True\n",
              "3       False\n",
              "4        True\n",
              "        ...  \n",
              "8802     True\n",
              "8803     True\n",
              "8804     True\n",
              "8805     True\n",
              "8806     True\n",
              "Name: gender, Length: 8807, dtype: bool"
            ]
          },
          "metadata": {},
          "execution_count": 58
        }
      ]
    },
    {
      "cell_type": "code",
      "metadata": {
        "id": "VJRi9Eek-4sf",
        "colab": {
          "base_uri": "https://localhost:8080/"
        },
        "outputId": "ec3bd9ab-6f78-4562-8071-29537fd80a5e"
      },
      "source": [
        "# Label Encoding\n",
        "train.loc[train['gender']=='M', 'gender'] = 0\n",
        "train.loc[train['gender']=='F', 'gender'] = 1\n",
        "\n",
        "test.loc[test['gender']=='M', 'gender'] = 0\n",
        "test.loc[test['gender']=='F', 'gender'] = 1\n",
        "\n",
        "train['gender'].value_counts()"
      ],
      "execution_count": null,
      "outputs": [
        {
          "output_type": "execute_result",
          "data": {
            "text/plain": [
              "0    6751\n",
              "1    2056\n",
              "Name: gender, dtype: int64"
            ]
          },
          "metadata": {},
          "execution_count": 59
        }
      ]
    },
    {
      "cell_type": "code",
      "source": [
        "train.head()"
      ],
      "metadata": {
        "colab": {
          "base_uri": "https://localhost:8080/",
          "height": 206
        },
        "id": "FcYufYBR6uwf",
        "outputId": "9c72171e-1ff4-4f85-a688-52ffd336fea9"
      },
      "execution_count": null,
      "outputs": [
        {
          "output_type": "execute_result",
          "data": {
            "text/html": [
              "<div>\n",
              "<style scoped>\n",
              "    .dataframe tbody tr th:only-of-type {\n",
              "        vertical-align: middle;\n",
              "    }\n",
              "\n",
              "    .dataframe tbody tr th {\n",
              "        vertical-align: top;\n",
              "    }\n",
              "\n",
              "    .dataframe thead th {\n",
              "        text-align: right;\n",
              "    }\n",
              "</style>\n",
              "<table border=\"1\" class=\"dataframe\">\n",
              "  <thead>\n",
              "    <tr style=\"text-align: right;\">\n",
              "      <th></th>\n",
              "      <th>id</th>\n",
              "      <th>term</th>\n",
              "      <th>fee</th>\n",
              "      <th>married</th>\n",
              "      <th>gender</th>\n",
              "      <th>income</th>\n",
              "      <th>job</th>\n",
              "      <th>package</th>\n",
              "      <th>age</th>\n",
              "      <th>family</th>\n",
              "      <th>payment</th>\n",
              "      <th>agent</th>\n",
              "      <th>target</th>\n",
              "      <th>stard_date</th>\n",
              "    </tr>\n",
              "  </thead>\n",
              "  <tbody>\n",
              "    <tr>\n",
              "      <th>0</th>\n",
              "      <td>0</td>\n",
              "      <td>22</td>\n",
              "      <td>100000.00</td>\n",
              "      <td>M</td>\n",
              "      <td>0</td>\n",
              "      <td>4.500000e+05</td>\n",
              "      <td>1.0</td>\n",
              "      <td>TYPE-B</td>\n",
              "      <td>27</td>\n",
              "      <td>1</td>\n",
              "      <td>ANNUAL</td>\n",
              "      <td>666099</td>\n",
              "      <td>0</td>\n",
              "      <td>20091029</td>\n",
              "    </tr>\n",
              "    <tr>\n",
              "      <th>1</th>\n",
              "      <td>1</td>\n",
              "      <td>88</td>\n",
              "      <td>149029.58</td>\n",
              "      <td>U</td>\n",
              "      <td>0</td>\n",
              "      <td>1.375036e+06</td>\n",
              "      <td>6.0</td>\n",
              "      <td>TYPE-A</td>\n",
              "      <td>75</td>\n",
              "      <td>0</td>\n",
              "      <td>ANNUAL</td>\n",
              "      <td>132000</td>\n",
              "      <td>0</td>\n",
              "      <td>20131014</td>\n",
              "    </tr>\n",
              "    <tr>\n",
              "      <th>2</th>\n",
              "      <td>2</td>\n",
              "      <td>93</td>\n",
              "      <td>102999.94</td>\n",
              "      <td>U</td>\n",
              "      <td>0</td>\n",
              "      <td>6.000000e+05</td>\n",
              "      <td>1.0</td>\n",
              "      <td>TYPE-A</td>\n",
              "      <td>49</td>\n",
              "      <td>0</td>\n",
              "      <td>ANNUAL</td>\n",
              "      <td>1407177</td>\n",
              "      <td>0</td>\n",
              "      <td>20130531</td>\n",
              "    </tr>\n",
              "    <tr>\n",
              "      <th>3</th>\n",
              "      <td>3</td>\n",
              "      <td>17</td>\n",
              "      <td>147576.48</td>\n",
              "      <td>M</td>\n",
              "      <td>1</td>\n",
              "      <td>4.500000e+05</td>\n",
              "      <td>1.0</td>\n",
              "      <td>TYPE-A</td>\n",
              "      <td>47</td>\n",
              "      <td>3</td>\n",
              "      <td>MONTHLY</td>\n",
              "      <td>343344</td>\n",
              "      <td>0</td>\n",
              "      <td>20130331</td>\n",
              "    </tr>\n",
              "    <tr>\n",
              "      <th>4</th>\n",
              "      <td>4</td>\n",
              "      <td>39</td>\n",
              "      <td>100000.00</td>\n",
              "      <td>M</td>\n",
              "      <td>0</td>\n",
              "      <td>6.000000e+05</td>\n",
              "      <td>1.0</td>\n",
              "      <td>TYPE-B</td>\n",
              "      <td>36</td>\n",
              "      <td>3</td>\n",
              "      <td>ANNUAL</td>\n",
              "      <td>119199</td>\n",
              "      <td>0</td>\n",
              "      <td>20080313</td>\n",
              "    </tr>\n",
              "  </tbody>\n",
              "</table>\n",
              "</div>"
            ],
            "text/plain": [
              "   id  term        fee married  ...  payment    agent  target stard_date\n",
              "0   0    22  100000.00       M  ...   ANNUAL   666099       0   20091029\n",
              "1   1    88  149029.58       U  ...   ANNUAL   132000       0   20131014\n",
              "2   2    93  102999.94       U  ...   ANNUAL  1407177       0   20130531\n",
              "3   3    17  147576.48       M  ...  MONTHLY   343344       0   20130331\n",
              "4   4    39  100000.00       M  ...   ANNUAL   119199       0   20080313\n",
              "\n",
              "[5 rows x 14 columns]"
            ]
          },
          "metadata": {},
          "execution_count": 60
        }
      ]
    },
    {
      "cell_type": "markdown",
      "metadata": {
        "id": "h2eQXEEF-4sf"
      },
      "source": [
        "### married"
      ]
    },
    {
      "cell_type": "code",
      "metadata": {
        "id": "CcjqizbH-4sf",
        "colab": {
          "base_uri": "https://localhost:8080/"
        },
        "outputId": "c575910f-c9a2-403d-c335-d46580ad0793"
      },
      "source": [
        "train['married'].value_counts(dropna=False)"
      ],
      "execution_count": null,
      "outputs": [
        {
          "output_type": "execute_result",
          "data": {
            "text/plain": [
              "M    5455\n",
              "U    2210\n",
              "S     977\n",
              "W     128\n",
              "D      37\n",
              "Name: married, dtype: int64"
            ]
          },
          "metadata": {},
          "execution_count": 61
        }
      ]
    },
    {
      "cell_type": "code",
      "metadata": {
        "id": "m6tnAfeU-4sf",
        "colab": {
          "base_uri": "https://localhost:8080/"
        },
        "outputId": "84768c9a-6c23-4e37-97e7-db77ecf053d2"
      },
      "source": [
        "# Label Encoder 활용\n",
        "from sklearn.preprocessing import LabelEncoder\n",
        "\n",
        "encoder = LabelEncoder()\n",
        "encoder.fit(train['married'])\n",
        "train['married'] = encoder.transform(train['married'])\n",
        "test['married'] = encoder.transform(test['married'])\n",
        "\n",
        "train['married'].value_counts()"
      ],
      "execution_count": null,
      "outputs": [
        {
          "output_type": "execute_result",
          "data": {
            "text/plain": [
              "1    5455\n",
              "3    2210\n",
              "2     977\n",
              "4     128\n",
              "0      37\n",
              "Name: married, dtype: int64"
            ]
          },
          "metadata": {},
          "execution_count": 62
        }
      ]
    },
    {
      "cell_type": "code",
      "source": [
        "train.head()"
      ],
      "metadata": {
        "colab": {
          "base_uri": "https://localhost:8080/",
          "height": 206
        },
        "id": "_yNCuzlj8mB1",
        "outputId": "8f9e0727-1af9-4f43-a671-69d383ff3ea7"
      },
      "execution_count": null,
      "outputs": [
        {
          "output_type": "execute_result",
          "data": {
            "text/html": [
              "<div>\n",
              "<style scoped>\n",
              "    .dataframe tbody tr th:only-of-type {\n",
              "        vertical-align: middle;\n",
              "    }\n",
              "\n",
              "    .dataframe tbody tr th {\n",
              "        vertical-align: top;\n",
              "    }\n",
              "\n",
              "    .dataframe thead th {\n",
              "        text-align: right;\n",
              "    }\n",
              "</style>\n",
              "<table border=\"1\" class=\"dataframe\">\n",
              "  <thead>\n",
              "    <tr style=\"text-align: right;\">\n",
              "      <th></th>\n",
              "      <th>id</th>\n",
              "      <th>term</th>\n",
              "      <th>fee</th>\n",
              "      <th>married</th>\n",
              "      <th>gender</th>\n",
              "      <th>income</th>\n",
              "      <th>job</th>\n",
              "      <th>package</th>\n",
              "      <th>age</th>\n",
              "      <th>family</th>\n",
              "      <th>payment</th>\n",
              "      <th>agent</th>\n",
              "      <th>target</th>\n",
              "      <th>stard_date</th>\n",
              "    </tr>\n",
              "  </thead>\n",
              "  <tbody>\n",
              "    <tr>\n",
              "      <th>0</th>\n",
              "      <td>0</td>\n",
              "      <td>22</td>\n",
              "      <td>100000.00</td>\n",
              "      <td>1</td>\n",
              "      <td>0</td>\n",
              "      <td>4.500000e+05</td>\n",
              "      <td>1.0</td>\n",
              "      <td>TYPE-B</td>\n",
              "      <td>27</td>\n",
              "      <td>1</td>\n",
              "      <td>ANNUAL</td>\n",
              "      <td>666099</td>\n",
              "      <td>0</td>\n",
              "      <td>20091029</td>\n",
              "    </tr>\n",
              "    <tr>\n",
              "      <th>1</th>\n",
              "      <td>1</td>\n",
              "      <td>88</td>\n",
              "      <td>149029.58</td>\n",
              "      <td>3</td>\n",
              "      <td>0</td>\n",
              "      <td>1.375036e+06</td>\n",
              "      <td>6.0</td>\n",
              "      <td>TYPE-A</td>\n",
              "      <td>75</td>\n",
              "      <td>0</td>\n",
              "      <td>ANNUAL</td>\n",
              "      <td>132000</td>\n",
              "      <td>0</td>\n",
              "      <td>20131014</td>\n",
              "    </tr>\n",
              "    <tr>\n",
              "      <th>2</th>\n",
              "      <td>2</td>\n",
              "      <td>93</td>\n",
              "      <td>102999.94</td>\n",
              "      <td>3</td>\n",
              "      <td>0</td>\n",
              "      <td>6.000000e+05</td>\n",
              "      <td>1.0</td>\n",
              "      <td>TYPE-A</td>\n",
              "      <td>49</td>\n",
              "      <td>0</td>\n",
              "      <td>ANNUAL</td>\n",
              "      <td>1407177</td>\n",
              "      <td>0</td>\n",
              "      <td>20130531</td>\n",
              "    </tr>\n",
              "    <tr>\n",
              "      <th>3</th>\n",
              "      <td>3</td>\n",
              "      <td>17</td>\n",
              "      <td>147576.48</td>\n",
              "      <td>1</td>\n",
              "      <td>1</td>\n",
              "      <td>4.500000e+05</td>\n",
              "      <td>1.0</td>\n",
              "      <td>TYPE-A</td>\n",
              "      <td>47</td>\n",
              "      <td>3</td>\n",
              "      <td>MONTHLY</td>\n",
              "      <td>343344</td>\n",
              "      <td>0</td>\n",
              "      <td>20130331</td>\n",
              "    </tr>\n",
              "    <tr>\n",
              "      <th>4</th>\n",
              "      <td>4</td>\n",
              "      <td>39</td>\n",
              "      <td>100000.00</td>\n",
              "      <td>1</td>\n",
              "      <td>0</td>\n",
              "      <td>6.000000e+05</td>\n",
              "      <td>1.0</td>\n",
              "      <td>TYPE-B</td>\n",
              "      <td>36</td>\n",
              "      <td>3</td>\n",
              "      <td>ANNUAL</td>\n",
              "      <td>119199</td>\n",
              "      <td>0</td>\n",
              "      <td>20080313</td>\n",
              "    </tr>\n",
              "  </tbody>\n",
              "</table>\n",
              "</div>"
            ],
            "text/plain": [
              "   id  term        fee  married  ...  payment    agent  target stard_date\n",
              "0   0    22  100000.00        1  ...   ANNUAL   666099       0   20091029\n",
              "1   1    88  149029.58        3  ...   ANNUAL   132000       0   20131014\n",
              "2   2    93  102999.94        3  ...   ANNUAL  1407177       0   20130531\n",
              "3   3    17  147576.48        1  ...  MONTHLY   343344       0   20130331\n",
              "4   4    39  100000.00        1  ...   ANNUAL   119199       0   20080313\n",
              "\n",
              "[5 rows x 14 columns]"
            ]
          },
          "metadata": {},
          "execution_count": 63
        }
      ]
    },
    {
      "cell_type": "code",
      "source": [
        "train['gender'] = train['gender'].astype(int)"
      ],
      "metadata": {
        "id": "PR2vF_BhY6qD"
      },
      "execution_count": null,
      "outputs": []
    },
    {
      "cell_type": "code",
      "source": [
        "train['package'] = train['package'].astype(int)"
      ],
      "metadata": {
        "colab": {
          "base_uri": "https://localhost:8080/",
          "height": 363
        },
        "id": "zRjnUE8LZYZX",
        "outputId": "e4437d82-67f8-43d9-ccf8-5c9b69887253"
      },
      "execution_count": null,
      "outputs": [
        {
          "output_type": "error",
          "ename": "ValueError",
          "evalue": "ignored",
          "traceback": [
            "\u001b[0;31m---------------------------------------------------------------------------\u001b[0m",
            "\u001b[0;31mValueError\u001b[0m                                Traceback (most recent call last)",
            "\u001b[0;32m<ipython-input-65-f82c326fec38>\u001b[0m in \u001b[0;36m<module>\u001b[0;34m()\u001b[0m\n\u001b[0;32m----> 1\u001b[0;31m \u001b[0mtrain\u001b[0m\u001b[0;34m[\u001b[0m\u001b[0;34m'package'\u001b[0m\u001b[0;34m]\u001b[0m \u001b[0;34m=\u001b[0m \u001b[0mtrain\u001b[0m\u001b[0;34m[\u001b[0m\u001b[0;34m'package'\u001b[0m\u001b[0;34m]\u001b[0m\u001b[0;34m.\u001b[0m\u001b[0mastype\u001b[0m\u001b[0;34m(\u001b[0m\u001b[0mint\u001b[0m\u001b[0;34m)\u001b[0m\u001b[0;34m\u001b[0m\u001b[0;34m\u001b[0m\u001b[0m\n\u001b[0m",
            "\u001b[0;32m/usr/local/lib/python3.7/dist-packages/pandas/core/generic.py\u001b[0m in \u001b[0;36mastype\u001b[0;34m(self, dtype, copy, errors)\u001b[0m\n\u001b[1;32m   5546\u001b[0m         \u001b[0;32melse\u001b[0m\u001b[0;34m:\u001b[0m\u001b[0;34m\u001b[0m\u001b[0;34m\u001b[0m\u001b[0m\n\u001b[1;32m   5547\u001b[0m             \u001b[0;31m# else, only a single dtype is given\u001b[0m\u001b[0;34m\u001b[0m\u001b[0;34m\u001b[0m\u001b[0;34m\u001b[0m\u001b[0m\n\u001b[0;32m-> 5548\u001b[0;31m             \u001b[0mnew_data\u001b[0m \u001b[0;34m=\u001b[0m \u001b[0mself\u001b[0m\u001b[0;34m.\u001b[0m\u001b[0m_mgr\u001b[0m\u001b[0;34m.\u001b[0m\u001b[0mastype\u001b[0m\u001b[0;34m(\u001b[0m\u001b[0mdtype\u001b[0m\u001b[0;34m=\u001b[0m\u001b[0mdtype\u001b[0m\u001b[0;34m,\u001b[0m \u001b[0mcopy\u001b[0m\u001b[0;34m=\u001b[0m\u001b[0mcopy\u001b[0m\u001b[0;34m,\u001b[0m \u001b[0merrors\u001b[0m\u001b[0;34m=\u001b[0m\u001b[0merrors\u001b[0m\u001b[0;34m,\u001b[0m\u001b[0;34m)\u001b[0m\u001b[0;34m\u001b[0m\u001b[0;34m\u001b[0m\u001b[0m\n\u001b[0m\u001b[1;32m   5549\u001b[0m             \u001b[0;32mreturn\u001b[0m \u001b[0mself\u001b[0m\u001b[0;34m.\u001b[0m\u001b[0m_constructor\u001b[0m\u001b[0;34m(\u001b[0m\u001b[0mnew_data\u001b[0m\u001b[0;34m)\u001b[0m\u001b[0;34m.\u001b[0m\u001b[0m__finalize__\u001b[0m\u001b[0;34m(\u001b[0m\u001b[0mself\u001b[0m\u001b[0;34m,\u001b[0m \u001b[0mmethod\u001b[0m\u001b[0;34m=\u001b[0m\u001b[0;34m\"astype\"\u001b[0m\u001b[0;34m)\u001b[0m\u001b[0;34m\u001b[0m\u001b[0;34m\u001b[0m\u001b[0m\n\u001b[1;32m   5550\u001b[0m \u001b[0;34m\u001b[0m\u001b[0m\n",
            "\u001b[0;32m/usr/local/lib/python3.7/dist-packages/pandas/core/internals/managers.py\u001b[0m in \u001b[0;36mastype\u001b[0;34m(self, dtype, copy, errors)\u001b[0m\n\u001b[1;32m    602\u001b[0m         \u001b[0mself\u001b[0m\u001b[0;34m,\u001b[0m \u001b[0mdtype\u001b[0m\u001b[0;34m,\u001b[0m \u001b[0mcopy\u001b[0m\u001b[0;34m:\u001b[0m \u001b[0mbool\u001b[0m \u001b[0;34m=\u001b[0m \u001b[0;32mFalse\u001b[0m\u001b[0;34m,\u001b[0m \u001b[0merrors\u001b[0m\u001b[0;34m:\u001b[0m \u001b[0mstr\u001b[0m \u001b[0;34m=\u001b[0m \u001b[0;34m\"raise\"\u001b[0m\u001b[0;34m\u001b[0m\u001b[0;34m\u001b[0m\u001b[0m\n\u001b[1;32m    603\u001b[0m     ) -> \"BlockManager\":\n\u001b[0;32m--> 604\u001b[0;31m         \u001b[0;32mreturn\u001b[0m \u001b[0mself\u001b[0m\u001b[0;34m.\u001b[0m\u001b[0mapply\u001b[0m\u001b[0;34m(\u001b[0m\u001b[0;34m\"astype\"\u001b[0m\u001b[0;34m,\u001b[0m \u001b[0mdtype\u001b[0m\u001b[0;34m=\u001b[0m\u001b[0mdtype\u001b[0m\u001b[0;34m,\u001b[0m \u001b[0mcopy\u001b[0m\u001b[0;34m=\u001b[0m\u001b[0mcopy\u001b[0m\u001b[0;34m,\u001b[0m \u001b[0merrors\u001b[0m\u001b[0;34m=\u001b[0m\u001b[0merrors\u001b[0m\u001b[0;34m)\u001b[0m\u001b[0;34m\u001b[0m\u001b[0;34m\u001b[0m\u001b[0m\n\u001b[0m\u001b[1;32m    605\u001b[0m \u001b[0;34m\u001b[0m\u001b[0m\n\u001b[1;32m    606\u001b[0m     def convert(\n",
            "\u001b[0;32m/usr/local/lib/python3.7/dist-packages/pandas/core/internals/managers.py\u001b[0m in \u001b[0;36mapply\u001b[0;34m(self, f, align_keys, **kwargs)\u001b[0m\n\u001b[1;32m    407\u001b[0m                 \u001b[0mapplied\u001b[0m \u001b[0;34m=\u001b[0m \u001b[0mb\u001b[0m\u001b[0;34m.\u001b[0m\u001b[0mapply\u001b[0m\u001b[0;34m(\u001b[0m\u001b[0mf\u001b[0m\u001b[0;34m,\u001b[0m \u001b[0;34m**\u001b[0m\u001b[0mkwargs\u001b[0m\u001b[0;34m)\u001b[0m\u001b[0;34m\u001b[0m\u001b[0;34m\u001b[0m\u001b[0m\n\u001b[1;32m    408\u001b[0m             \u001b[0;32melse\u001b[0m\u001b[0;34m:\u001b[0m\u001b[0;34m\u001b[0m\u001b[0;34m\u001b[0m\u001b[0m\n\u001b[0;32m--> 409\u001b[0;31m                 \u001b[0mapplied\u001b[0m \u001b[0;34m=\u001b[0m \u001b[0mgetattr\u001b[0m\u001b[0;34m(\u001b[0m\u001b[0mb\u001b[0m\u001b[0;34m,\u001b[0m \u001b[0mf\u001b[0m\u001b[0;34m)\u001b[0m\u001b[0;34m(\u001b[0m\u001b[0;34m**\u001b[0m\u001b[0mkwargs\u001b[0m\u001b[0;34m)\u001b[0m\u001b[0;34m\u001b[0m\u001b[0;34m\u001b[0m\u001b[0m\n\u001b[0m\u001b[1;32m    410\u001b[0m             \u001b[0mresult_blocks\u001b[0m \u001b[0;34m=\u001b[0m \u001b[0m_extend_blocks\u001b[0m\u001b[0;34m(\u001b[0m\u001b[0mapplied\u001b[0m\u001b[0;34m,\u001b[0m \u001b[0mresult_blocks\u001b[0m\u001b[0;34m)\u001b[0m\u001b[0;34m\u001b[0m\u001b[0;34m\u001b[0m\u001b[0m\n\u001b[1;32m    411\u001b[0m \u001b[0;34m\u001b[0m\u001b[0m\n",
            "\u001b[0;32m/usr/local/lib/python3.7/dist-packages/pandas/core/internals/blocks.py\u001b[0m in \u001b[0;36mastype\u001b[0;34m(self, dtype, copy, errors)\u001b[0m\n\u001b[1;32m    593\u001b[0m             \u001b[0mvals1d\u001b[0m \u001b[0;34m=\u001b[0m \u001b[0mvalues\u001b[0m\u001b[0;34m.\u001b[0m\u001b[0mravel\u001b[0m\u001b[0;34m(\u001b[0m\u001b[0;34m)\u001b[0m\u001b[0;34m\u001b[0m\u001b[0;34m\u001b[0m\u001b[0m\n\u001b[1;32m    594\u001b[0m             \u001b[0;32mtry\u001b[0m\u001b[0;34m:\u001b[0m\u001b[0;34m\u001b[0m\u001b[0;34m\u001b[0m\u001b[0m\n\u001b[0;32m--> 595\u001b[0;31m                 \u001b[0mvalues\u001b[0m \u001b[0;34m=\u001b[0m \u001b[0mastype_nansafe\u001b[0m\u001b[0;34m(\u001b[0m\u001b[0mvals1d\u001b[0m\u001b[0;34m,\u001b[0m \u001b[0mdtype\u001b[0m\u001b[0;34m,\u001b[0m \u001b[0mcopy\u001b[0m\u001b[0;34m=\u001b[0m\u001b[0;32mTrue\u001b[0m\u001b[0;34m)\u001b[0m\u001b[0;34m\u001b[0m\u001b[0;34m\u001b[0m\u001b[0m\n\u001b[0m\u001b[1;32m    596\u001b[0m             \u001b[0;32mexcept\u001b[0m \u001b[0;34m(\u001b[0m\u001b[0mValueError\u001b[0m\u001b[0;34m,\u001b[0m \u001b[0mTypeError\u001b[0m\u001b[0;34m)\u001b[0m\u001b[0;34m:\u001b[0m\u001b[0;34m\u001b[0m\u001b[0;34m\u001b[0m\u001b[0m\n\u001b[1;32m    597\u001b[0m                 \u001b[0;31m# e.g. astype_nansafe can fail on object-dtype of strings\u001b[0m\u001b[0;34m\u001b[0m\u001b[0;34m\u001b[0m\u001b[0;34m\u001b[0m\u001b[0m\n",
            "\u001b[0;32m/usr/local/lib/python3.7/dist-packages/pandas/core/dtypes/cast.py\u001b[0m in \u001b[0;36mastype_nansafe\u001b[0;34m(arr, dtype, copy, skipna)\u001b[0m\n\u001b[1;32m    972\u001b[0m         \u001b[0;31m# work around NumPy brokenness, #1987\u001b[0m\u001b[0;34m\u001b[0m\u001b[0;34m\u001b[0m\u001b[0;34m\u001b[0m\u001b[0m\n\u001b[1;32m    973\u001b[0m         \u001b[0;32mif\u001b[0m \u001b[0mnp\u001b[0m\u001b[0;34m.\u001b[0m\u001b[0missubdtype\u001b[0m\u001b[0;34m(\u001b[0m\u001b[0mdtype\u001b[0m\u001b[0;34m.\u001b[0m\u001b[0mtype\u001b[0m\u001b[0;34m,\u001b[0m \u001b[0mnp\u001b[0m\u001b[0;34m.\u001b[0m\u001b[0minteger\u001b[0m\u001b[0;34m)\u001b[0m\u001b[0;34m:\u001b[0m\u001b[0;34m\u001b[0m\u001b[0;34m\u001b[0m\u001b[0m\n\u001b[0;32m--> 974\u001b[0;31m             \u001b[0;32mreturn\u001b[0m \u001b[0mlib\u001b[0m\u001b[0;34m.\u001b[0m\u001b[0mastype_intsafe\u001b[0m\u001b[0;34m(\u001b[0m\u001b[0marr\u001b[0m\u001b[0;34m.\u001b[0m\u001b[0mravel\u001b[0m\u001b[0;34m(\u001b[0m\u001b[0;34m)\u001b[0m\u001b[0;34m,\u001b[0m \u001b[0mdtype\u001b[0m\u001b[0;34m)\u001b[0m\u001b[0;34m.\u001b[0m\u001b[0mreshape\u001b[0m\u001b[0;34m(\u001b[0m\u001b[0marr\u001b[0m\u001b[0;34m.\u001b[0m\u001b[0mshape\u001b[0m\u001b[0;34m)\u001b[0m\u001b[0;34m\u001b[0m\u001b[0;34m\u001b[0m\u001b[0m\n\u001b[0m\u001b[1;32m    975\u001b[0m \u001b[0;34m\u001b[0m\u001b[0m\n\u001b[1;32m    976\u001b[0m         \u001b[0;31m# if we have a datetime/timedelta array of objects\u001b[0m\u001b[0;34m\u001b[0m\u001b[0;34m\u001b[0m\u001b[0;34m\u001b[0m\u001b[0m\n",
            "\u001b[0;32mpandas/_libs/lib.pyx\u001b[0m in \u001b[0;36mpandas._libs.lib.astype_intsafe\u001b[0;34m()\u001b[0m\n",
            "\u001b[0;31mValueError\u001b[0m: invalid literal for int() with base 10: 'TYPE-B'"
          ]
        }
      ]
    },
    {
      "cell_type": "code",
      "source": [
        "train.info()"
      ],
      "metadata": {
        "colab": {
          "base_uri": "https://localhost:8080/"
        },
        "id": "99DvbtUoYqhf",
        "outputId": "4cb39fa1-f1a4-4c5b-d579-c9e24664b39b"
      },
      "execution_count": null,
      "outputs": [
        {
          "output_type": "stream",
          "name": "stdout",
          "text": [
            "<class 'pandas.core.frame.DataFrame'>\n",
            "RangeIndex: 8807 entries, 0 to 8806\n",
            "Data columns (total 14 columns):\n",
            " #   Column      Non-Null Count  Dtype  \n",
            "---  ------      --------------  -----  \n",
            " 0   id          8807 non-null   int64  \n",
            " 1   term        8807 non-null   int64  \n",
            " 2   fee         8807 non-null   float64\n",
            " 3   married     8807 non-null   int64  \n",
            " 4   gender      8807 non-null   int64  \n",
            " 5   income      8807 non-null   float64\n",
            " 6   job         8807 non-null   float64\n",
            " 7   package     8807 non-null   object \n",
            " 8   age         8807 non-null   int64  \n",
            " 9   family      8807 non-null   int64  \n",
            " 10  payment     8807 non-null   object \n",
            " 11  agent       8807 non-null   object \n",
            " 12  target      8807 non-null   int64  \n",
            " 13  stard_date  8807 non-null   int64  \n",
            "dtypes: float64(3), int64(8), object(3)\n",
            "memory usage: 963.4+ KB\n"
          ]
        }
      ]
    },
    {
      "cell_type": "markdown",
      "metadata": {
        "id": "3vm4gwyn-4sg"
      },
      "source": [
        "## [Quiz]\n",
        "package 변수의 범주형 자료를 Label Encoding 기법을 적용하여 숫자로 변환합니다. "
      ]
    },
    {
      "cell_type": "code",
      "metadata": {
        "id": "yM-qSBtg-4sg",
        "colab": {
          "base_uri": "https://localhost:8080/"
        },
        "outputId": "6481ac27-6d63-4999-c81d-dd295ad731de"
      },
      "source": [
        "train['package'].value_counts()"
      ],
      "execution_count": null,
      "outputs": [
        {
          "output_type": "execute_result",
          "data": {
            "text/plain": [
              "TYPE-B    5744\n",
              "TYPE-A    3063\n",
              "Name: package, dtype: int64"
            ]
          },
          "metadata": {},
          "execution_count": 67
        }
      ]
    },
    {
      "cell_type": "code",
      "metadata": {
        "id": "dS2-HEs8-4sg",
        "colab": {
          "base_uri": "https://localhost:8080/"
        },
        "outputId": "5a4d1368-a351-42d4-8b46-c243cb760aa0"
      },
      "source": [
        "## 아래  transform 스삼!! object에서 안변한다 이렇게하면\n",
        "# Label Encoding\n",
        "train.loc[train['package']=='TYPE-A', 'package'] = 0\n",
        "train.loc[train['package']=='TYPE-B', 'package'] = 1\n",
        "\n",
        "test.loc[test['package']=='TYPE-A', 'package'] = 0\n",
        "test.loc[test['package']=='TYPE-B', 'package'] = 1\n",
        "\n",
        "train['package'].value_counts()"
      ],
      "execution_count": null,
      "outputs": [
        {
          "output_type": "execute_result",
          "data": {
            "text/plain": [
              "1    5744\n",
              "0    3063\n",
              "Name: package, dtype: int64"
            ]
          },
          "metadata": {},
          "execution_count": 84
        }
      ]
    },
    {
      "cell_type": "code",
      "source": [
        "# Label Encoder 활용\n",
        "from sklearn.preprocessing import LabelEncoder\n",
        "\n",
        "encoder = LabelEncoder()\n",
        "encoder.fit(train['package'])\n",
        "train['package'] = encoder.transform(train['package'])\n",
        "test['package'] = encoder.transform(test['package'])\n",
        "\n",
        "train['package'].value_counts()"
      ],
      "metadata": {
        "colab": {
          "base_uri": "https://localhost:8080/"
        },
        "id": "S2dcV9c-86n-",
        "outputId": "2e0d25cd-72da-4e11-aba6-ac91d5f9f7bf"
      },
      "execution_count": null,
      "outputs": [
        {
          "output_type": "execute_result",
          "data": {
            "text/plain": [
              "1    5744\n",
              "0    3063\n",
              "Name: package, dtype: int64"
            ]
          },
          "metadata": {},
          "execution_count": 68
        }
      ]
    },
    {
      "cell_type": "code",
      "source": [
        "print(encoder.classes_)"
      ],
      "metadata": {
        "colab": {
          "base_uri": "https://localhost:8080/"
        },
        "id": "na15R46H_1Pf",
        "outputId": "58c93d10-cb2d-45f9-bff6-009adf60df3e"
      },
      "execution_count": null,
      "outputs": [
        {
          "output_type": "stream",
          "name": "stdout",
          "text": [
            "['TYPE-A' 'TYPE-B']\n"
          ]
        }
      ]
    },
    {
      "cell_type": "code",
      "source": [
        "train.head()"
      ],
      "metadata": {
        "colab": {
          "base_uri": "https://localhost:8080/",
          "height": 206
        },
        "id": "Lt9spUKZZ9lp",
        "outputId": "5e018084-eecc-48e2-a966-dac498545e4b"
      },
      "execution_count": null,
      "outputs": [
        {
          "output_type": "execute_result",
          "data": {
            "text/html": [
              "<div>\n",
              "<style scoped>\n",
              "    .dataframe tbody tr th:only-of-type {\n",
              "        vertical-align: middle;\n",
              "    }\n",
              "\n",
              "    .dataframe tbody tr th {\n",
              "        vertical-align: top;\n",
              "    }\n",
              "\n",
              "    .dataframe thead th {\n",
              "        text-align: right;\n",
              "    }\n",
              "</style>\n",
              "<table border=\"1\" class=\"dataframe\">\n",
              "  <thead>\n",
              "    <tr style=\"text-align: right;\">\n",
              "      <th></th>\n",
              "      <th>id</th>\n",
              "      <th>term</th>\n",
              "      <th>fee</th>\n",
              "      <th>married</th>\n",
              "      <th>gender</th>\n",
              "      <th>income</th>\n",
              "      <th>job</th>\n",
              "      <th>package</th>\n",
              "      <th>age</th>\n",
              "      <th>family</th>\n",
              "      <th>payment</th>\n",
              "      <th>agent</th>\n",
              "      <th>target</th>\n",
              "      <th>stard_date</th>\n",
              "    </tr>\n",
              "  </thead>\n",
              "  <tbody>\n",
              "    <tr>\n",
              "      <th>0</th>\n",
              "      <td>0</td>\n",
              "      <td>22</td>\n",
              "      <td>100000.00</td>\n",
              "      <td>1</td>\n",
              "      <td>0</td>\n",
              "      <td>4.500000e+05</td>\n",
              "      <td>1.0</td>\n",
              "      <td>1</td>\n",
              "      <td>27</td>\n",
              "      <td>1</td>\n",
              "      <td>ANNUAL</td>\n",
              "      <td>666099</td>\n",
              "      <td>0</td>\n",
              "      <td>20091029</td>\n",
              "    </tr>\n",
              "    <tr>\n",
              "      <th>1</th>\n",
              "      <td>1</td>\n",
              "      <td>88</td>\n",
              "      <td>149029.58</td>\n",
              "      <td>3</td>\n",
              "      <td>0</td>\n",
              "      <td>1.375036e+06</td>\n",
              "      <td>6.0</td>\n",
              "      <td>0</td>\n",
              "      <td>75</td>\n",
              "      <td>0</td>\n",
              "      <td>ANNUAL</td>\n",
              "      <td>132000</td>\n",
              "      <td>0</td>\n",
              "      <td>20131014</td>\n",
              "    </tr>\n",
              "    <tr>\n",
              "      <th>2</th>\n",
              "      <td>2</td>\n",
              "      <td>93</td>\n",
              "      <td>102999.94</td>\n",
              "      <td>3</td>\n",
              "      <td>0</td>\n",
              "      <td>6.000000e+05</td>\n",
              "      <td>1.0</td>\n",
              "      <td>0</td>\n",
              "      <td>49</td>\n",
              "      <td>0</td>\n",
              "      <td>ANNUAL</td>\n",
              "      <td>1407177</td>\n",
              "      <td>0</td>\n",
              "      <td>20130531</td>\n",
              "    </tr>\n",
              "    <tr>\n",
              "      <th>3</th>\n",
              "      <td>3</td>\n",
              "      <td>17</td>\n",
              "      <td>147576.48</td>\n",
              "      <td>1</td>\n",
              "      <td>1</td>\n",
              "      <td>4.500000e+05</td>\n",
              "      <td>1.0</td>\n",
              "      <td>0</td>\n",
              "      <td>47</td>\n",
              "      <td>3</td>\n",
              "      <td>MONTHLY</td>\n",
              "      <td>343344</td>\n",
              "      <td>0</td>\n",
              "      <td>20130331</td>\n",
              "    </tr>\n",
              "    <tr>\n",
              "      <th>4</th>\n",
              "      <td>4</td>\n",
              "      <td>39</td>\n",
              "      <td>100000.00</td>\n",
              "      <td>1</td>\n",
              "      <td>0</td>\n",
              "      <td>6.000000e+05</td>\n",
              "      <td>1.0</td>\n",
              "      <td>1</td>\n",
              "      <td>36</td>\n",
              "      <td>3</td>\n",
              "      <td>ANNUAL</td>\n",
              "      <td>119199</td>\n",
              "      <td>0</td>\n",
              "      <td>20080313</td>\n",
              "    </tr>\n",
              "  </tbody>\n",
              "</table>\n",
              "</div>"
            ],
            "text/plain": [
              "   id  term        fee  married  ...  payment    agent  target  stard_date\n",
              "0   0    22  100000.00        1  ...   ANNUAL   666099       0    20091029\n",
              "1   1    88  149029.58        3  ...   ANNUAL   132000       0    20131014\n",
              "2   2    93  102999.94        3  ...   ANNUAL  1407177       0    20130531\n",
              "3   3    17  147576.48        1  ...  MONTHLY   343344       0    20130331\n",
              "4   4    39  100000.00        1  ...   ANNUAL   119199       0    20080313\n",
              "\n",
              "[5 rows x 14 columns]"
            ]
          },
          "metadata": {},
          "execution_count": 70
        }
      ]
    },
    {
      "cell_type": "code",
      "metadata": {
        "id": "XUI7RMMf-4sg",
        "colab": {
          "base_uri": "https://localhost:8080/"
        },
        "outputId": "882aea89-31cd-42bf-e1bd-53f3acf061ba"
      },
      "source": [
        "train.info()"
      ],
      "execution_count": null,
      "outputs": [
        {
          "output_type": "stream",
          "name": "stdout",
          "text": [
            "<class 'pandas.core.frame.DataFrame'>\n",
            "RangeIndex: 8807 entries, 0 to 8806\n",
            "Data columns (total 14 columns):\n",
            " #   Column      Non-Null Count  Dtype  \n",
            "---  ------      --------------  -----  \n",
            " 0   id          8807 non-null   int64  \n",
            " 1   term        8807 non-null   int64  \n",
            " 2   fee         8807 non-null   float64\n",
            " 3   married     8807 non-null   int64  \n",
            " 4   gender      8807 non-null   int64  \n",
            " 5   income      8807 non-null   float64\n",
            " 6   job         8807 non-null   float64\n",
            " 7   package     8807 non-null   int64  \n",
            " 8   age         8807 non-null   int64  \n",
            " 9   family      8807 non-null   int64  \n",
            " 10  payment     8807 non-null   object \n",
            " 11  agent       8807 non-null   object \n",
            " 12  target      8807 non-null   int64  \n",
            " 13  stard_date  8807 non-null   int64  \n",
            "dtypes: float64(3), int64(9), object(2)\n",
            "memory usage: 963.4+ KB\n"
          ]
        }
      ]
    },
    {
      "cell_type": "code",
      "source": [
        "#train['gender'].astype(str)\n"
      ],
      "metadata": {
        "id": "rpcSI6Mg-wGr"
      },
      "execution_count": null,
      "outputs": []
    },
    {
      "cell_type": "code",
      "source": [
        "train['gender'] = train['gender'].astype(int)"
      ],
      "metadata": {
        "id": "DHu_GNIp-IA4"
      },
      "execution_count": null,
      "outputs": []
    },
    {
      "cell_type": "code",
      "source": [
        "train.info()"
      ],
      "metadata": {
        "colab": {
          "base_uri": "https://localhost:8080/"
        },
        "id": "SRP-Qz5n-SeT",
        "outputId": "3ed52434-497d-4b23-b564-3e8046347821"
      },
      "execution_count": null,
      "outputs": [
        {
          "output_type": "stream",
          "name": "stdout",
          "text": [
            "<class 'pandas.core.frame.DataFrame'>\n",
            "RangeIndex: 8807 entries, 0 to 8806\n",
            "Data columns (total 14 columns):\n",
            " #   Column      Non-Null Count  Dtype  \n",
            "---  ------      --------------  -----  \n",
            " 0   id          8807 non-null   int64  \n",
            " 1   term        8807 non-null   int64  \n",
            " 2   fee         8807 non-null   float64\n",
            " 3   married     8807 non-null   int64  \n",
            " 4   gender      8807 non-null   int64  \n",
            " 5   income      8807 non-null   float64\n",
            " 6   job         8807 non-null   float64\n",
            " 7   package     8807 non-null   int64  \n",
            " 8   age         8807 non-null   int64  \n",
            " 9   family      8807 non-null   int64  \n",
            " 10  payment     8807 non-null   object \n",
            " 11  agent       8807 non-null   object \n",
            " 12  target      8807 non-null   int64  \n",
            " 13  stard_date  8807 non-null   int64  \n",
            "dtypes: float64(3), int64(9), object(2)\n",
            "memory usage: 963.4+ KB\n"
          ]
        }
      ]
    },
    {
      "cell_type": "markdown",
      "metadata": {
        "id": "6RKO8QlO-4sg"
      },
      "source": [
        "## One-hot Encoding"
      ]
    },
    {
      "cell_type": "code",
      "metadata": {
        "id": "zEaiIa1x-4sg",
        "colab": {
          "base_uri": "https://localhost:8080/",
          "height": 441
        },
        "outputId": "00252e5a-67fe-4949-faa2-c5268a63f170"
      },
      "source": [
        "# One-Hot Encoding\n",
        "\n",
        "pd.get_dummies(train, columns = ['payment'], drop_first=False)"
      ],
      "execution_count": null,
      "outputs": [
        {
          "output_type": "execute_result",
          "data": {
            "text/html": [
              "<div>\n",
              "<style scoped>\n",
              "    .dataframe tbody tr th:only-of-type {\n",
              "        vertical-align: middle;\n",
              "    }\n",
              "\n",
              "    .dataframe tbody tr th {\n",
              "        vertical-align: top;\n",
              "    }\n",
              "\n",
              "    .dataframe thead th {\n",
              "        text-align: right;\n",
              "    }\n",
              "</style>\n",
              "<table border=\"1\" class=\"dataframe\">\n",
              "  <thead>\n",
              "    <tr style=\"text-align: right;\">\n",
              "      <th></th>\n",
              "      <th>id</th>\n",
              "      <th>term</th>\n",
              "      <th>fee</th>\n",
              "      <th>married</th>\n",
              "      <th>gender</th>\n",
              "      <th>income</th>\n",
              "      <th>job</th>\n",
              "      <th>package</th>\n",
              "      <th>age</th>\n",
              "      <th>family</th>\n",
              "      <th>agent</th>\n",
              "      <th>target</th>\n",
              "      <th>stard_date</th>\n",
              "      <th>payment_ANNUAL</th>\n",
              "      <th>payment_MONTHLY</th>\n",
              "      <th>payment_QUARTERLY</th>\n",
              "      <th>payment_SEMI-ANNUAL</th>\n",
              "      <th>payment_SINGLE-PREMIUM</th>\n",
              "    </tr>\n",
              "  </thead>\n",
              "  <tbody>\n",
              "    <tr>\n",
              "      <th>0</th>\n",
              "      <td>0</td>\n",
              "      <td>22</td>\n",
              "      <td>100000.00</td>\n",
              "      <td>1</td>\n",
              "      <td>0</td>\n",
              "      <td>4.500000e+05</td>\n",
              "      <td>1.0</td>\n",
              "      <td>1</td>\n",
              "      <td>27</td>\n",
              "      <td>1</td>\n",
              "      <td>666099</td>\n",
              "      <td>0</td>\n",
              "      <td>20091029</td>\n",
              "      <td>1</td>\n",
              "      <td>0</td>\n",
              "      <td>0</td>\n",
              "      <td>0</td>\n",
              "      <td>0</td>\n",
              "    </tr>\n",
              "    <tr>\n",
              "      <th>1</th>\n",
              "      <td>1</td>\n",
              "      <td>88</td>\n",
              "      <td>149029.58</td>\n",
              "      <td>3</td>\n",
              "      <td>0</td>\n",
              "      <td>1.375036e+06</td>\n",
              "      <td>6.0</td>\n",
              "      <td>0</td>\n",
              "      <td>75</td>\n",
              "      <td>0</td>\n",
              "      <td>132000</td>\n",
              "      <td>0</td>\n",
              "      <td>20131014</td>\n",
              "      <td>1</td>\n",
              "      <td>0</td>\n",
              "      <td>0</td>\n",
              "      <td>0</td>\n",
              "      <td>0</td>\n",
              "    </tr>\n",
              "    <tr>\n",
              "      <th>2</th>\n",
              "      <td>2</td>\n",
              "      <td>93</td>\n",
              "      <td>102999.94</td>\n",
              "      <td>3</td>\n",
              "      <td>0</td>\n",
              "      <td>6.000000e+05</td>\n",
              "      <td>1.0</td>\n",
              "      <td>0</td>\n",
              "      <td>49</td>\n",
              "      <td>0</td>\n",
              "      <td>1407177</td>\n",
              "      <td>0</td>\n",
              "      <td>20130531</td>\n",
              "      <td>1</td>\n",
              "      <td>0</td>\n",
              "      <td>0</td>\n",
              "      <td>0</td>\n",
              "      <td>0</td>\n",
              "    </tr>\n",
              "    <tr>\n",
              "      <th>3</th>\n",
              "      <td>3</td>\n",
              "      <td>17</td>\n",
              "      <td>147576.48</td>\n",
              "      <td>1</td>\n",
              "      <td>1</td>\n",
              "      <td>4.500000e+05</td>\n",
              "      <td>1.0</td>\n",
              "      <td>0</td>\n",
              "      <td>47</td>\n",
              "      <td>3</td>\n",
              "      <td>343344</td>\n",
              "      <td>0</td>\n",
              "      <td>20130331</td>\n",
              "      <td>0</td>\n",
              "      <td>1</td>\n",
              "      <td>0</td>\n",
              "      <td>0</td>\n",
              "      <td>0</td>\n",
              "    </tr>\n",
              "    <tr>\n",
              "      <th>4</th>\n",
              "      <td>4</td>\n",
              "      <td>39</td>\n",
              "      <td>100000.00</td>\n",
              "      <td>1</td>\n",
              "      <td>0</td>\n",
              "      <td>6.000000e+05</td>\n",
              "      <td>1.0</td>\n",
              "      <td>1</td>\n",
              "      <td>36</td>\n",
              "      <td>3</td>\n",
              "      <td>119199</td>\n",
              "      <td>0</td>\n",
              "      <td>20080313</td>\n",
              "      <td>1</td>\n",
              "      <td>0</td>\n",
              "      <td>0</td>\n",
              "      <td>0</td>\n",
              "      <td>0</td>\n",
              "    </tr>\n",
              "    <tr>\n",
              "      <th>...</th>\n",
              "      <td>...</td>\n",
              "      <td>...</td>\n",
              "      <td>...</td>\n",
              "      <td>...</td>\n",
              "      <td>...</td>\n",
              "      <td>...</td>\n",
              "      <td>...</td>\n",
              "      <td>...</td>\n",
              "      <td>...</td>\n",
              "      <td>...</td>\n",
              "      <td>...</td>\n",
              "      <td>...</td>\n",
              "      <td>...</td>\n",
              "      <td>...</td>\n",
              "      <td>...</td>\n",
              "      <td>...</td>\n",
              "      <td>...</td>\n",
              "      <td>...</td>\n",
              "    </tr>\n",
              "    <tr>\n",
              "      <th>8802</th>\n",
              "      <td>8802</td>\n",
              "      <td>17</td>\n",
              "      <td>100000.00</td>\n",
              "      <td>3</td>\n",
              "      <td>0</td>\n",
              "      <td>1.375036e+06</td>\n",
              "      <td>1.0</td>\n",
              "      <td>1</td>\n",
              "      <td>53</td>\n",
              "      <td>0</td>\n",
              "      <td>744188</td>\n",
              "      <td>0</td>\n",
              "      <td>20100115</td>\n",
              "      <td>1</td>\n",
              "      <td>0</td>\n",
              "      <td>0</td>\n",
              "      <td>0</td>\n",
              "      <td>0</td>\n",
              "    </tr>\n",
              "    <tr>\n",
              "      <th>8803</th>\n",
              "      <td>8803</td>\n",
              "      <td>49</td>\n",
              "      <td>100000.00</td>\n",
              "      <td>1</td>\n",
              "      <td>0</td>\n",
              "      <td>3.999960e+05</td>\n",
              "      <td>1.0</td>\n",
              "      <td>1</td>\n",
              "      <td>46</td>\n",
              "      <td>1</td>\n",
              "      <td>841477</td>\n",
              "      <td>0</td>\n",
              "      <td>20100208</td>\n",
              "      <td>1</td>\n",
              "      <td>0</td>\n",
              "      <td>0</td>\n",
              "      <td>0</td>\n",
              "      <td>0</td>\n",
              "    </tr>\n",
              "    <tr>\n",
              "      <th>8804</th>\n",
              "      <td>8804</td>\n",
              "      <td>54</td>\n",
              "      <td>600001.16</td>\n",
              "      <td>1</td>\n",
              "      <td>0</td>\n",
              "      <td>2.250000e+06</td>\n",
              "      <td>2.0</td>\n",
              "      <td>0</td>\n",
              "      <td>51</td>\n",
              "      <td>3</td>\n",
              "      <td>1347855</td>\n",
              "      <td>0</td>\n",
              "      <td>20130331</td>\n",
              "      <td>1</td>\n",
              "      <td>0</td>\n",
              "      <td>0</td>\n",
              "      <td>0</td>\n",
              "      <td>0</td>\n",
              "    </tr>\n",
              "    <tr>\n",
              "      <th>8805</th>\n",
              "      <td>8805</td>\n",
              "      <td>27</td>\n",
              "      <td>100000.00</td>\n",
              "      <td>1</td>\n",
              "      <td>0</td>\n",
              "      <td>6.000000e+05</td>\n",
              "      <td>1.0</td>\n",
              "      <td>1</td>\n",
              "      <td>27</td>\n",
              "      <td>2</td>\n",
              "      <td>798833</td>\n",
              "      <td>0</td>\n",
              "      <td>20100127</td>\n",
              "      <td>1</td>\n",
              "      <td>0</td>\n",
              "      <td>0</td>\n",
              "      <td>0</td>\n",
              "      <td>0</td>\n",
              "    </tr>\n",
              "    <tr>\n",
              "      <th>8806</th>\n",
              "      <td>8806</td>\n",
              "      <td>12</td>\n",
              "      <td>100000.80</td>\n",
              "      <td>1</td>\n",
              "      <td>0</td>\n",
              "      <td>2.000004e+06</td>\n",
              "      <td>1.0</td>\n",
              "      <td>1</td>\n",
              "      <td>41</td>\n",
              "      <td>1</td>\n",
              "      <td>664844</td>\n",
              "      <td>0</td>\n",
              "      <td>20100827</td>\n",
              "      <td>0</td>\n",
              "      <td>1</td>\n",
              "      <td>0</td>\n",
              "      <td>0</td>\n",
              "      <td>0</td>\n",
              "    </tr>\n",
              "  </tbody>\n",
              "</table>\n",
              "<p>8807 rows × 18 columns</p>\n",
              "</div>"
            ],
            "text/plain": [
              "        id  term  ...  payment_SEMI-ANNUAL  payment_SINGLE-PREMIUM\n",
              "0        0    22  ...                    0                       0\n",
              "1        1    88  ...                    0                       0\n",
              "2        2    93  ...                    0                       0\n",
              "3        3    17  ...                    0                       0\n",
              "4        4    39  ...                    0                       0\n",
              "...    ...   ...  ...                  ...                     ...\n",
              "8802  8802    17  ...                    0                       0\n",
              "8803  8803    49  ...                    0                       0\n",
              "8804  8804    54  ...                    0                       0\n",
              "8805  8805    27  ...                    0                       0\n",
              "8806  8806    12  ...                    0                       0\n",
              "\n",
              "[8807 rows x 18 columns]"
            ]
          },
          "metadata": {},
          "execution_count": 75
        }
      ]
    },
    {
      "cell_type": "code",
      "metadata": {
        "id": "T6YirOyL-4sh",
        "colab": {
          "base_uri": "https://localhost:8080/",
          "height": 424
        },
        "outputId": "dba1495a-7599-42f9-fef3-950cc4640bd4"
      },
      "source": [
        "pd.get_dummies(train, columns = ['payment'], drop_first=True)"
      ],
      "execution_count": null,
      "outputs": [
        {
          "output_type": "execute_result",
          "data": {
            "text/html": [
              "<div>\n",
              "<style scoped>\n",
              "    .dataframe tbody tr th:only-of-type {\n",
              "        vertical-align: middle;\n",
              "    }\n",
              "\n",
              "    .dataframe tbody tr th {\n",
              "        vertical-align: top;\n",
              "    }\n",
              "\n",
              "    .dataframe thead th {\n",
              "        text-align: right;\n",
              "    }\n",
              "</style>\n",
              "<table border=\"1\" class=\"dataframe\">\n",
              "  <thead>\n",
              "    <tr style=\"text-align: right;\">\n",
              "      <th></th>\n",
              "      <th>id</th>\n",
              "      <th>term</th>\n",
              "      <th>fee</th>\n",
              "      <th>married</th>\n",
              "      <th>gender</th>\n",
              "      <th>income</th>\n",
              "      <th>job</th>\n",
              "      <th>package</th>\n",
              "      <th>age</th>\n",
              "      <th>family</th>\n",
              "      <th>agent</th>\n",
              "      <th>target</th>\n",
              "      <th>stard_date</th>\n",
              "      <th>payment_MONTHLY</th>\n",
              "      <th>payment_QUARTERLY</th>\n",
              "      <th>payment_SEMI-ANNUAL</th>\n",
              "      <th>payment_SINGLE-PREMIUM</th>\n",
              "    </tr>\n",
              "  </thead>\n",
              "  <tbody>\n",
              "    <tr>\n",
              "      <th>0</th>\n",
              "      <td>0</td>\n",
              "      <td>22</td>\n",
              "      <td>100000.00</td>\n",
              "      <td>1</td>\n",
              "      <td>0</td>\n",
              "      <td>4.500000e+05</td>\n",
              "      <td>1.0</td>\n",
              "      <td>1</td>\n",
              "      <td>27</td>\n",
              "      <td>1</td>\n",
              "      <td>666099</td>\n",
              "      <td>0</td>\n",
              "      <td>20091029</td>\n",
              "      <td>0</td>\n",
              "      <td>0</td>\n",
              "      <td>0</td>\n",
              "      <td>0</td>\n",
              "    </tr>\n",
              "    <tr>\n",
              "      <th>1</th>\n",
              "      <td>1</td>\n",
              "      <td>88</td>\n",
              "      <td>149029.58</td>\n",
              "      <td>3</td>\n",
              "      <td>0</td>\n",
              "      <td>1.375036e+06</td>\n",
              "      <td>6.0</td>\n",
              "      <td>0</td>\n",
              "      <td>75</td>\n",
              "      <td>0</td>\n",
              "      <td>132000</td>\n",
              "      <td>0</td>\n",
              "      <td>20131014</td>\n",
              "      <td>0</td>\n",
              "      <td>0</td>\n",
              "      <td>0</td>\n",
              "      <td>0</td>\n",
              "    </tr>\n",
              "    <tr>\n",
              "      <th>2</th>\n",
              "      <td>2</td>\n",
              "      <td>93</td>\n",
              "      <td>102999.94</td>\n",
              "      <td>3</td>\n",
              "      <td>0</td>\n",
              "      <td>6.000000e+05</td>\n",
              "      <td>1.0</td>\n",
              "      <td>0</td>\n",
              "      <td>49</td>\n",
              "      <td>0</td>\n",
              "      <td>1407177</td>\n",
              "      <td>0</td>\n",
              "      <td>20130531</td>\n",
              "      <td>0</td>\n",
              "      <td>0</td>\n",
              "      <td>0</td>\n",
              "      <td>0</td>\n",
              "    </tr>\n",
              "    <tr>\n",
              "      <th>3</th>\n",
              "      <td>3</td>\n",
              "      <td>17</td>\n",
              "      <td>147576.48</td>\n",
              "      <td>1</td>\n",
              "      <td>1</td>\n",
              "      <td>4.500000e+05</td>\n",
              "      <td>1.0</td>\n",
              "      <td>0</td>\n",
              "      <td>47</td>\n",
              "      <td>3</td>\n",
              "      <td>343344</td>\n",
              "      <td>0</td>\n",
              "      <td>20130331</td>\n",
              "      <td>1</td>\n",
              "      <td>0</td>\n",
              "      <td>0</td>\n",
              "      <td>0</td>\n",
              "    </tr>\n",
              "    <tr>\n",
              "      <th>4</th>\n",
              "      <td>4</td>\n",
              "      <td>39</td>\n",
              "      <td>100000.00</td>\n",
              "      <td>1</td>\n",
              "      <td>0</td>\n",
              "      <td>6.000000e+05</td>\n",
              "      <td>1.0</td>\n",
              "      <td>1</td>\n",
              "      <td>36</td>\n",
              "      <td>3</td>\n",
              "      <td>119199</td>\n",
              "      <td>0</td>\n",
              "      <td>20080313</td>\n",
              "      <td>0</td>\n",
              "      <td>0</td>\n",
              "      <td>0</td>\n",
              "      <td>0</td>\n",
              "    </tr>\n",
              "    <tr>\n",
              "      <th>...</th>\n",
              "      <td>...</td>\n",
              "      <td>...</td>\n",
              "      <td>...</td>\n",
              "      <td>...</td>\n",
              "      <td>...</td>\n",
              "      <td>...</td>\n",
              "      <td>...</td>\n",
              "      <td>...</td>\n",
              "      <td>...</td>\n",
              "      <td>...</td>\n",
              "      <td>...</td>\n",
              "      <td>...</td>\n",
              "      <td>...</td>\n",
              "      <td>...</td>\n",
              "      <td>...</td>\n",
              "      <td>...</td>\n",
              "      <td>...</td>\n",
              "    </tr>\n",
              "    <tr>\n",
              "      <th>8802</th>\n",
              "      <td>8802</td>\n",
              "      <td>17</td>\n",
              "      <td>100000.00</td>\n",
              "      <td>3</td>\n",
              "      <td>0</td>\n",
              "      <td>1.375036e+06</td>\n",
              "      <td>1.0</td>\n",
              "      <td>1</td>\n",
              "      <td>53</td>\n",
              "      <td>0</td>\n",
              "      <td>744188</td>\n",
              "      <td>0</td>\n",
              "      <td>20100115</td>\n",
              "      <td>0</td>\n",
              "      <td>0</td>\n",
              "      <td>0</td>\n",
              "      <td>0</td>\n",
              "    </tr>\n",
              "    <tr>\n",
              "      <th>8803</th>\n",
              "      <td>8803</td>\n",
              "      <td>49</td>\n",
              "      <td>100000.00</td>\n",
              "      <td>1</td>\n",
              "      <td>0</td>\n",
              "      <td>3.999960e+05</td>\n",
              "      <td>1.0</td>\n",
              "      <td>1</td>\n",
              "      <td>46</td>\n",
              "      <td>1</td>\n",
              "      <td>841477</td>\n",
              "      <td>0</td>\n",
              "      <td>20100208</td>\n",
              "      <td>0</td>\n",
              "      <td>0</td>\n",
              "      <td>0</td>\n",
              "      <td>0</td>\n",
              "    </tr>\n",
              "    <tr>\n",
              "      <th>8804</th>\n",
              "      <td>8804</td>\n",
              "      <td>54</td>\n",
              "      <td>600001.16</td>\n",
              "      <td>1</td>\n",
              "      <td>0</td>\n",
              "      <td>2.250000e+06</td>\n",
              "      <td>2.0</td>\n",
              "      <td>0</td>\n",
              "      <td>51</td>\n",
              "      <td>3</td>\n",
              "      <td>1347855</td>\n",
              "      <td>0</td>\n",
              "      <td>20130331</td>\n",
              "      <td>0</td>\n",
              "      <td>0</td>\n",
              "      <td>0</td>\n",
              "      <td>0</td>\n",
              "    </tr>\n",
              "    <tr>\n",
              "      <th>8805</th>\n",
              "      <td>8805</td>\n",
              "      <td>27</td>\n",
              "      <td>100000.00</td>\n",
              "      <td>1</td>\n",
              "      <td>0</td>\n",
              "      <td>6.000000e+05</td>\n",
              "      <td>1.0</td>\n",
              "      <td>1</td>\n",
              "      <td>27</td>\n",
              "      <td>2</td>\n",
              "      <td>798833</td>\n",
              "      <td>0</td>\n",
              "      <td>20100127</td>\n",
              "      <td>0</td>\n",
              "      <td>0</td>\n",
              "      <td>0</td>\n",
              "      <td>0</td>\n",
              "    </tr>\n",
              "    <tr>\n",
              "      <th>8806</th>\n",
              "      <td>8806</td>\n",
              "      <td>12</td>\n",
              "      <td>100000.80</td>\n",
              "      <td>1</td>\n",
              "      <td>0</td>\n",
              "      <td>2.000004e+06</td>\n",
              "      <td>1.0</td>\n",
              "      <td>1</td>\n",
              "      <td>41</td>\n",
              "      <td>1</td>\n",
              "      <td>664844</td>\n",
              "      <td>0</td>\n",
              "      <td>20100827</td>\n",
              "      <td>1</td>\n",
              "      <td>0</td>\n",
              "      <td>0</td>\n",
              "      <td>0</td>\n",
              "    </tr>\n",
              "  </tbody>\n",
              "</table>\n",
              "<p>8807 rows × 17 columns</p>\n",
              "</div>"
            ],
            "text/plain": [
              "        id  term  ...  payment_SEMI-ANNUAL  payment_SINGLE-PREMIUM\n",
              "0        0    22  ...                    0                       0\n",
              "1        1    88  ...                    0                       0\n",
              "2        2    93  ...                    0                       0\n",
              "3        3    17  ...                    0                       0\n",
              "4        4    39  ...                    0                       0\n",
              "...    ...   ...  ...                  ...                     ...\n",
              "8802  8802    17  ...                    0                       0\n",
              "8803  8803    49  ...                    0                       0\n",
              "8804  8804    54  ...                    0                       0\n",
              "8805  8805    27  ...                    0                       0\n",
              "8806  8806    12  ...                    0                       0\n",
              "\n",
              "[8807 rows x 17 columns]"
            ]
          },
          "metadata": {},
          "execution_count": 76
        }
      ]
    },
    {
      "cell_type": "code",
      "metadata": {
        "id": "_i7wJPbU-4sh",
        "colab": {
          "base_uri": "https://localhost:8080/",
          "height": 424
        },
        "outputId": "bab8f7bc-a269-44a4-b2ce-ed5b24866e85"
      },
      "source": [
        "# train, test 결합 \n",
        "data = train.append(test)\n",
        "data"
      ],
      "execution_count": null,
      "outputs": [
        {
          "output_type": "execute_result",
          "data": {
            "text/html": [
              "<div>\n",
              "<style scoped>\n",
              "    .dataframe tbody tr th:only-of-type {\n",
              "        vertical-align: middle;\n",
              "    }\n",
              "\n",
              "    .dataframe tbody tr th {\n",
              "        vertical-align: top;\n",
              "    }\n",
              "\n",
              "    .dataframe thead th {\n",
              "        text-align: right;\n",
              "    }\n",
              "</style>\n",
              "<table border=\"1\" class=\"dataframe\">\n",
              "  <thead>\n",
              "    <tr style=\"text-align: right;\">\n",
              "      <th></th>\n",
              "      <th>id</th>\n",
              "      <th>term</th>\n",
              "      <th>fee</th>\n",
              "      <th>married</th>\n",
              "      <th>gender</th>\n",
              "      <th>income</th>\n",
              "      <th>job</th>\n",
              "      <th>package</th>\n",
              "      <th>age</th>\n",
              "      <th>family</th>\n",
              "      <th>payment</th>\n",
              "      <th>agent</th>\n",
              "      <th>target</th>\n",
              "      <th>stard_date</th>\n",
              "    </tr>\n",
              "  </thead>\n",
              "  <tbody>\n",
              "    <tr>\n",
              "      <th>0</th>\n",
              "      <td>0</td>\n",
              "      <td>22</td>\n",
              "      <td>100000.00</td>\n",
              "      <td>1</td>\n",
              "      <td>0</td>\n",
              "      <td>4.500000e+05</td>\n",
              "      <td>1.0</td>\n",
              "      <td>1</td>\n",
              "      <td>27</td>\n",
              "      <td>1</td>\n",
              "      <td>ANNUAL</td>\n",
              "      <td>666099</td>\n",
              "      <td>0.0</td>\n",
              "      <td>20091029</td>\n",
              "    </tr>\n",
              "    <tr>\n",
              "      <th>1</th>\n",
              "      <td>1</td>\n",
              "      <td>88</td>\n",
              "      <td>149029.58</td>\n",
              "      <td>3</td>\n",
              "      <td>0</td>\n",
              "      <td>1.375036e+06</td>\n",
              "      <td>6.0</td>\n",
              "      <td>0</td>\n",
              "      <td>75</td>\n",
              "      <td>0</td>\n",
              "      <td>ANNUAL</td>\n",
              "      <td>132000</td>\n",
              "      <td>0.0</td>\n",
              "      <td>20131014</td>\n",
              "    </tr>\n",
              "    <tr>\n",
              "      <th>2</th>\n",
              "      <td>2</td>\n",
              "      <td>93</td>\n",
              "      <td>102999.94</td>\n",
              "      <td>3</td>\n",
              "      <td>0</td>\n",
              "      <td>6.000000e+05</td>\n",
              "      <td>1.0</td>\n",
              "      <td>0</td>\n",
              "      <td>49</td>\n",
              "      <td>0</td>\n",
              "      <td>ANNUAL</td>\n",
              "      <td>1407177</td>\n",
              "      <td>0.0</td>\n",
              "      <td>20130531</td>\n",
              "    </tr>\n",
              "    <tr>\n",
              "      <th>3</th>\n",
              "      <td>3</td>\n",
              "      <td>17</td>\n",
              "      <td>147576.48</td>\n",
              "      <td>1</td>\n",
              "      <td>1</td>\n",
              "      <td>4.500000e+05</td>\n",
              "      <td>1.0</td>\n",
              "      <td>0</td>\n",
              "      <td>47</td>\n",
              "      <td>3</td>\n",
              "      <td>MONTHLY</td>\n",
              "      <td>343344</td>\n",
              "      <td>0.0</td>\n",
              "      <td>20130331</td>\n",
              "    </tr>\n",
              "    <tr>\n",
              "      <th>4</th>\n",
              "      <td>4</td>\n",
              "      <td>39</td>\n",
              "      <td>100000.00</td>\n",
              "      <td>1</td>\n",
              "      <td>0</td>\n",
              "      <td>6.000000e+05</td>\n",
              "      <td>1.0</td>\n",
              "      <td>1</td>\n",
              "      <td>36</td>\n",
              "      <td>3</td>\n",
              "      <td>ANNUAL</td>\n",
              "      <td>119199</td>\n",
              "      <td>0.0</td>\n",
              "      <td>20080313</td>\n",
              "    </tr>\n",
              "    <tr>\n",
              "      <th>...</th>\n",
              "      <td>...</td>\n",
              "      <td>...</td>\n",
              "      <td>...</td>\n",
              "      <td>...</td>\n",
              "      <td>...</td>\n",
              "      <td>...</td>\n",
              "      <td>...</td>\n",
              "      <td>...</td>\n",
              "      <td>...</td>\n",
              "      <td>...</td>\n",
              "      <td>...</td>\n",
              "      <td>...</td>\n",
              "      <td>...</td>\n",
              "      <td>...</td>\n",
              "    </tr>\n",
              "    <tr>\n",
              "      <th>1550</th>\n",
              "      <td>10357</td>\n",
              "      <td>79</td>\n",
              "      <td>168500.24</td>\n",
              "      <td>3</td>\n",
              "      <td>0</td>\n",
              "      <td>1.375036e+06</td>\n",
              "      <td>6.0</td>\n",
              "      <td>0</td>\n",
              "      <td>62</td>\n",
              "      <td>0</td>\n",
              "      <td>ANNUAL</td>\n",
              "      <td>1157900</td>\n",
              "      <td>NaN</td>\n",
              "      <td>20121231</td>\n",
              "    </tr>\n",
              "    <tr>\n",
              "      <th>1551</th>\n",
              "      <td>10358</td>\n",
              "      <td>12</td>\n",
              "      <td>200000.00</td>\n",
              "      <td>1</td>\n",
              "      <td>1</td>\n",
              "      <td>1.500000e+06</td>\n",
              "      <td>1.0</td>\n",
              "      <td>1</td>\n",
              "      <td>41</td>\n",
              "      <td>3</td>\n",
              "      <td>ANNUAL</td>\n",
              "      <td>867622</td>\n",
              "      <td>NaN</td>\n",
              "      <td>20110310</td>\n",
              "    </tr>\n",
              "    <tr>\n",
              "      <th>1552</th>\n",
              "      <td>10359</td>\n",
              "      <td>101</td>\n",
              "      <td>233154.49</td>\n",
              "      <td>3</td>\n",
              "      <td>0</td>\n",
              "      <td>2.460000e+06</td>\n",
              "      <td>1.0</td>\n",
              "      <td>0</td>\n",
              "      <td>33</td>\n",
              "      <td>0</td>\n",
              "      <td>ANNUAL</td>\n",
              "      <td>1120355</td>\n",
              "      <td>NaN</td>\n",
              "      <td>20110620</td>\n",
              "    </tr>\n",
              "    <tr>\n",
              "      <th>1553</th>\n",
              "      <td>10360</td>\n",
              "      <td>12</td>\n",
              "      <td>100000.00</td>\n",
              "      <td>1</td>\n",
              "      <td>1</td>\n",
              "      <td>3.999960e+05</td>\n",
              "      <td>1.0</td>\n",
              "      <td>1</td>\n",
              "      <td>38</td>\n",
              "      <td>1</td>\n",
              "      <td>ANNUAL</td>\n",
              "      <td>174766</td>\n",
              "      <td>NaN</td>\n",
              "      <td>20080205</td>\n",
              "    </tr>\n",
              "    <tr>\n",
              "      <th>1554</th>\n",
              "      <td>10361</td>\n",
              "      <td>62</td>\n",
              "      <td>125643.17</td>\n",
              "      <td>1</td>\n",
              "      <td>1</td>\n",
              "      <td>9.999600e+04</td>\n",
              "      <td>1.0</td>\n",
              "      <td>0</td>\n",
              "      <td>43</td>\n",
              "      <td>3</td>\n",
              "      <td>ANNUAL</td>\n",
              "      <td>1200166</td>\n",
              "      <td>NaN</td>\n",
              "      <td>20110325</td>\n",
              "    </tr>\n",
              "  </tbody>\n",
              "</table>\n",
              "<p>10362 rows × 14 columns</p>\n",
              "</div>"
            ],
            "text/plain": [
              "         id  term        fee  married  ...  payment    agent  target  stard_date\n",
              "0         0    22  100000.00        1  ...   ANNUAL   666099     0.0    20091029\n",
              "1         1    88  149029.58        3  ...   ANNUAL   132000     0.0    20131014\n",
              "2         2    93  102999.94        3  ...   ANNUAL  1407177     0.0    20130531\n",
              "3         3    17  147576.48        1  ...  MONTHLY   343344     0.0    20130331\n",
              "4         4    39  100000.00        1  ...   ANNUAL   119199     0.0    20080313\n",
              "...     ...   ...        ...      ...  ...      ...      ...     ...         ...\n",
              "1550  10357    79  168500.24        3  ...   ANNUAL  1157900     NaN    20121231\n",
              "1551  10358    12  200000.00        1  ...   ANNUAL   867622     NaN    20110310\n",
              "1552  10359   101  233154.49        3  ...   ANNUAL  1120355     NaN    20110620\n",
              "1553  10360    12  100000.00        1  ...   ANNUAL   174766     NaN    20080205\n",
              "1554  10361    62  125643.17        1  ...   ANNUAL  1200166     NaN    20110325\n",
              "\n",
              "[10362 rows x 14 columns]"
            ]
          },
          "metadata": {},
          "execution_count": 77
        }
      ]
    },
    {
      "cell_type": "code",
      "metadata": {
        "id": "9dyJp0tn-4sh",
        "colab": {
          "base_uri": "https://localhost:8080/",
          "height": 424
        },
        "outputId": "c4a0b786-d09d-4c03-c8d3-abd3507791fe"
      },
      "source": [
        "data = pd.get_dummies(data, columns = ['payment'], drop_first=True)\n",
        "data"
      ],
      "execution_count": null,
      "outputs": [
        {
          "output_type": "execute_result",
          "data": {
            "text/html": [
              "<div>\n",
              "<style scoped>\n",
              "    .dataframe tbody tr th:only-of-type {\n",
              "        vertical-align: middle;\n",
              "    }\n",
              "\n",
              "    .dataframe tbody tr th {\n",
              "        vertical-align: top;\n",
              "    }\n",
              "\n",
              "    .dataframe thead th {\n",
              "        text-align: right;\n",
              "    }\n",
              "</style>\n",
              "<table border=\"1\" class=\"dataframe\">\n",
              "  <thead>\n",
              "    <tr style=\"text-align: right;\">\n",
              "      <th></th>\n",
              "      <th>id</th>\n",
              "      <th>term</th>\n",
              "      <th>fee</th>\n",
              "      <th>married</th>\n",
              "      <th>gender</th>\n",
              "      <th>income</th>\n",
              "      <th>job</th>\n",
              "      <th>package</th>\n",
              "      <th>age</th>\n",
              "      <th>family</th>\n",
              "      <th>agent</th>\n",
              "      <th>target</th>\n",
              "      <th>stard_date</th>\n",
              "      <th>payment_MONTHLY</th>\n",
              "      <th>payment_QUARTERLY</th>\n",
              "      <th>payment_SEMI-ANNUAL</th>\n",
              "      <th>payment_SINGLE-PREMIUM</th>\n",
              "    </tr>\n",
              "  </thead>\n",
              "  <tbody>\n",
              "    <tr>\n",
              "      <th>0</th>\n",
              "      <td>0</td>\n",
              "      <td>22</td>\n",
              "      <td>100000.00</td>\n",
              "      <td>1</td>\n",
              "      <td>0</td>\n",
              "      <td>4.500000e+05</td>\n",
              "      <td>1.0</td>\n",
              "      <td>1</td>\n",
              "      <td>27</td>\n",
              "      <td>1</td>\n",
              "      <td>666099</td>\n",
              "      <td>0.0</td>\n",
              "      <td>20091029</td>\n",
              "      <td>0</td>\n",
              "      <td>0</td>\n",
              "      <td>0</td>\n",
              "      <td>0</td>\n",
              "    </tr>\n",
              "    <tr>\n",
              "      <th>1</th>\n",
              "      <td>1</td>\n",
              "      <td>88</td>\n",
              "      <td>149029.58</td>\n",
              "      <td>3</td>\n",
              "      <td>0</td>\n",
              "      <td>1.375036e+06</td>\n",
              "      <td>6.0</td>\n",
              "      <td>0</td>\n",
              "      <td>75</td>\n",
              "      <td>0</td>\n",
              "      <td>132000</td>\n",
              "      <td>0.0</td>\n",
              "      <td>20131014</td>\n",
              "      <td>0</td>\n",
              "      <td>0</td>\n",
              "      <td>0</td>\n",
              "      <td>0</td>\n",
              "    </tr>\n",
              "    <tr>\n",
              "      <th>2</th>\n",
              "      <td>2</td>\n",
              "      <td>93</td>\n",
              "      <td>102999.94</td>\n",
              "      <td>3</td>\n",
              "      <td>0</td>\n",
              "      <td>6.000000e+05</td>\n",
              "      <td>1.0</td>\n",
              "      <td>0</td>\n",
              "      <td>49</td>\n",
              "      <td>0</td>\n",
              "      <td>1407177</td>\n",
              "      <td>0.0</td>\n",
              "      <td>20130531</td>\n",
              "      <td>0</td>\n",
              "      <td>0</td>\n",
              "      <td>0</td>\n",
              "      <td>0</td>\n",
              "    </tr>\n",
              "    <tr>\n",
              "      <th>3</th>\n",
              "      <td>3</td>\n",
              "      <td>17</td>\n",
              "      <td>147576.48</td>\n",
              "      <td>1</td>\n",
              "      <td>1</td>\n",
              "      <td>4.500000e+05</td>\n",
              "      <td>1.0</td>\n",
              "      <td>0</td>\n",
              "      <td>47</td>\n",
              "      <td>3</td>\n",
              "      <td>343344</td>\n",
              "      <td>0.0</td>\n",
              "      <td>20130331</td>\n",
              "      <td>1</td>\n",
              "      <td>0</td>\n",
              "      <td>0</td>\n",
              "      <td>0</td>\n",
              "    </tr>\n",
              "    <tr>\n",
              "      <th>4</th>\n",
              "      <td>4</td>\n",
              "      <td>39</td>\n",
              "      <td>100000.00</td>\n",
              "      <td>1</td>\n",
              "      <td>0</td>\n",
              "      <td>6.000000e+05</td>\n",
              "      <td>1.0</td>\n",
              "      <td>1</td>\n",
              "      <td>36</td>\n",
              "      <td>3</td>\n",
              "      <td>119199</td>\n",
              "      <td>0.0</td>\n",
              "      <td>20080313</td>\n",
              "      <td>0</td>\n",
              "      <td>0</td>\n",
              "      <td>0</td>\n",
              "      <td>0</td>\n",
              "    </tr>\n",
              "    <tr>\n",
              "      <th>...</th>\n",
              "      <td>...</td>\n",
              "      <td>...</td>\n",
              "      <td>...</td>\n",
              "      <td>...</td>\n",
              "      <td>...</td>\n",
              "      <td>...</td>\n",
              "      <td>...</td>\n",
              "      <td>...</td>\n",
              "      <td>...</td>\n",
              "      <td>...</td>\n",
              "      <td>...</td>\n",
              "      <td>...</td>\n",
              "      <td>...</td>\n",
              "      <td>...</td>\n",
              "      <td>...</td>\n",
              "      <td>...</td>\n",
              "      <td>...</td>\n",
              "    </tr>\n",
              "    <tr>\n",
              "      <th>1550</th>\n",
              "      <td>10357</td>\n",
              "      <td>79</td>\n",
              "      <td>168500.24</td>\n",
              "      <td>3</td>\n",
              "      <td>0</td>\n",
              "      <td>1.375036e+06</td>\n",
              "      <td>6.0</td>\n",
              "      <td>0</td>\n",
              "      <td>62</td>\n",
              "      <td>0</td>\n",
              "      <td>1157900</td>\n",
              "      <td>NaN</td>\n",
              "      <td>20121231</td>\n",
              "      <td>0</td>\n",
              "      <td>0</td>\n",
              "      <td>0</td>\n",
              "      <td>0</td>\n",
              "    </tr>\n",
              "    <tr>\n",
              "      <th>1551</th>\n",
              "      <td>10358</td>\n",
              "      <td>12</td>\n",
              "      <td>200000.00</td>\n",
              "      <td>1</td>\n",
              "      <td>1</td>\n",
              "      <td>1.500000e+06</td>\n",
              "      <td>1.0</td>\n",
              "      <td>1</td>\n",
              "      <td>41</td>\n",
              "      <td>3</td>\n",
              "      <td>867622</td>\n",
              "      <td>NaN</td>\n",
              "      <td>20110310</td>\n",
              "      <td>0</td>\n",
              "      <td>0</td>\n",
              "      <td>0</td>\n",
              "      <td>0</td>\n",
              "    </tr>\n",
              "    <tr>\n",
              "      <th>1552</th>\n",
              "      <td>10359</td>\n",
              "      <td>101</td>\n",
              "      <td>233154.49</td>\n",
              "      <td>3</td>\n",
              "      <td>0</td>\n",
              "      <td>2.460000e+06</td>\n",
              "      <td>1.0</td>\n",
              "      <td>0</td>\n",
              "      <td>33</td>\n",
              "      <td>0</td>\n",
              "      <td>1120355</td>\n",
              "      <td>NaN</td>\n",
              "      <td>20110620</td>\n",
              "      <td>0</td>\n",
              "      <td>0</td>\n",
              "      <td>0</td>\n",
              "      <td>0</td>\n",
              "    </tr>\n",
              "    <tr>\n",
              "      <th>1553</th>\n",
              "      <td>10360</td>\n",
              "      <td>12</td>\n",
              "      <td>100000.00</td>\n",
              "      <td>1</td>\n",
              "      <td>1</td>\n",
              "      <td>3.999960e+05</td>\n",
              "      <td>1.0</td>\n",
              "      <td>1</td>\n",
              "      <td>38</td>\n",
              "      <td>1</td>\n",
              "      <td>174766</td>\n",
              "      <td>NaN</td>\n",
              "      <td>20080205</td>\n",
              "      <td>0</td>\n",
              "      <td>0</td>\n",
              "      <td>0</td>\n",
              "      <td>0</td>\n",
              "    </tr>\n",
              "    <tr>\n",
              "      <th>1554</th>\n",
              "      <td>10361</td>\n",
              "      <td>62</td>\n",
              "      <td>125643.17</td>\n",
              "      <td>1</td>\n",
              "      <td>1</td>\n",
              "      <td>9.999600e+04</td>\n",
              "      <td>1.0</td>\n",
              "      <td>0</td>\n",
              "      <td>43</td>\n",
              "      <td>3</td>\n",
              "      <td>1200166</td>\n",
              "      <td>NaN</td>\n",
              "      <td>20110325</td>\n",
              "      <td>0</td>\n",
              "      <td>0</td>\n",
              "      <td>0</td>\n",
              "      <td>0</td>\n",
              "    </tr>\n",
              "  </tbody>\n",
              "</table>\n",
              "<p>10362 rows × 17 columns</p>\n",
              "</div>"
            ],
            "text/plain": [
              "         id  term  ...  payment_SEMI-ANNUAL  payment_SINGLE-PREMIUM\n",
              "0         0    22  ...                    0                       0\n",
              "1         1    88  ...                    0                       0\n",
              "2         2    93  ...                    0                       0\n",
              "3         3    17  ...                    0                       0\n",
              "4         4    39  ...                    0                       0\n",
              "...     ...   ...  ...                  ...                     ...\n",
              "1550  10357    79  ...                    0                       0\n",
              "1551  10358    12  ...                    0                       0\n",
              "1552  10359   101  ...                    0                       0\n",
              "1553  10360    12  ...                    0                       0\n",
              "1554  10361    62  ...                    0                       0\n",
              "\n",
              "[10362 rows x 17 columns]"
            ]
          },
          "metadata": {},
          "execution_count": 78
        }
      ]
    },
    {
      "cell_type": "code",
      "metadata": {
        "id": "guCOS5IH-4sh",
        "colab": {
          "base_uri": "https://localhost:8080/"
        },
        "outputId": "5e33cffb-6169-4ec0-9b00-0467c6f983c3"
      },
      "source": [
        "new_train = data[data['target'].notnull()]\n",
        "new_test = data[data['target'].isnull()]\n",
        "\n",
        "new_train.shape, new_test.shape"
      ],
      "execution_count": null,
      "outputs": [
        {
          "output_type": "execute_result",
          "data": {
            "text/plain": [
              "((8807, 17), (1555, 17))"
            ]
          },
          "metadata": {},
          "execution_count": 79
        }
      ]
    },
    {
      "cell_type": "code",
      "metadata": {
        "id": "IJ2dpd9f-4sh",
        "colab": {
          "base_uri": "https://localhost:8080/",
          "height": 424
        },
        "outputId": "b129bd3a-00ac-4f03-8295-b93c79fb75ca"
      },
      "source": [
        "new_test"
      ],
      "execution_count": null,
      "outputs": [
        {
          "output_type": "execute_result",
          "data": {
            "text/html": [
              "<div>\n",
              "<style scoped>\n",
              "    .dataframe tbody tr th:only-of-type {\n",
              "        vertical-align: middle;\n",
              "    }\n",
              "\n",
              "    .dataframe tbody tr th {\n",
              "        vertical-align: top;\n",
              "    }\n",
              "\n",
              "    .dataframe thead th {\n",
              "        text-align: right;\n",
              "    }\n",
              "</style>\n",
              "<table border=\"1\" class=\"dataframe\">\n",
              "  <thead>\n",
              "    <tr style=\"text-align: right;\">\n",
              "      <th></th>\n",
              "      <th>id</th>\n",
              "      <th>term</th>\n",
              "      <th>fee</th>\n",
              "      <th>married</th>\n",
              "      <th>gender</th>\n",
              "      <th>income</th>\n",
              "      <th>job</th>\n",
              "      <th>package</th>\n",
              "      <th>age</th>\n",
              "      <th>family</th>\n",
              "      <th>agent</th>\n",
              "      <th>target</th>\n",
              "      <th>stard_date</th>\n",
              "      <th>payment_MONTHLY</th>\n",
              "      <th>payment_QUARTERLY</th>\n",
              "      <th>payment_SEMI-ANNUAL</th>\n",
              "      <th>payment_SINGLE-PREMIUM</th>\n",
              "    </tr>\n",
              "  </thead>\n",
              "  <tbody>\n",
              "    <tr>\n",
              "      <th>0</th>\n",
              "      <td>8807</td>\n",
              "      <td>12</td>\n",
              "      <td>100000.00</td>\n",
              "      <td>1</td>\n",
              "      <td>1</td>\n",
              "      <td>9.999960e+05</td>\n",
              "      <td>1.0</td>\n",
              "      <td>1</td>\n",
              "      <td>41</td>\n",
              "      <td>1</td>\n",
              "      <td>944999</td>\n",
              "      <td>NaN</td>\n",
              "      <td>20100331</td>\n",
              "      <td>0</td>\n",
              "      <td>0</td>\n",
              "      <td>0</td>\n",
              "      <td>0</td>\n",
              "    </tr>\n",
              "    <tr>\n",
              "      <th>1</th>\n",
              "      <td>8808</td>\n",
              "      <td>50</td>\n",
              "      <td>100000.00</td>\n",
              "      <td>1</td>\n",
              "      <td>0</td>\n",
              "      <td>3.999960e+05</td>\n",
              "      <td>1.0</td>\n",
              "      <td>1</td>\n",
              "      <td>34</td>\n",
              "      <td>2</td>\n",
              "      <td>546366</td>\n",
              "      <td>NaN</td>\n",
              "      <td>20090331</td>\n",
              "      <td>0</td>\n",
              "      <td>0</td>\n",
              "      <td>1</td>\n",
              "      <td>0</td>\n",
              "    </tr>\n",
              "    <tr>\n",
              "      <th>2</th>\n",
              "      <td>8809</td>\n",
              "      <td>12</td>\n",
              "      <td>100000.00</td>\n",
              "      <td>1</td>\n",
              "      <td>0</td>\n",
              "      <td>1.200000e+06</td>\n",
              "      <td>1.0</td>\n",
              "      <td>1</td>\n",
              "      <td>36</td>\n",
              "      <td>3</td>\n",
              "      <td>1207933</td>\n",
              "      <td>NaN</td>\n",
              "      <td>20120316</td>\n",
              "      <td>0</td>\n",
              "      <td>0</td>\n",
              "      <td>0</td>\n",
              "      <td>0</td>\n",
              "    </tr>\n",
              "    <tr>\n",
              "      <th>3</th>\n",
              "      <td>8810</td>\n",
              "      <td>12</td>\n",
              "      <td>250000.00</td>\n",
              "      <td>3</td>\n",
              "      <td>0</td>\n",
              "      <td>7.999920e+05</td>\n",
              "      <td>2.0</td>\n",
              "      <td>1</td>\n",
              "      <td>60</td>\n",
              "      <td>0</td>\n",
              "      <td>1267000</td>\n",
              "      <td>NaN</td>\n",
              "      <td>20120327</td>\n",
              "      <td>0</td>\n",
              "      <td>0</td>\n",
              "      <td>0</td>\n",
              "      <td>0</td>\n",
              "    </tr>\n",
              "    <tr>\n",
              "      <th>4</th>\n",
              "      <td>8811</td>\n",
              "      <td>17</td>\n",
              "      <td>200000.24</td>\n",
              "      <td>3</td>\n",
              "      <td>0</td>\n",
              "      <td>1.999992e+06</td>\n",
              "      <td>2.0</td>\n",
              "      <td>0</td>\n",
              "      <td>55</td>\n",
              "      <td>0</td>\n",
              "      <td>923455</td>\n",
              "      <td>NaN</td>\n",
              "      <td>20130330</td>\n",
              "      <td>0</td>\n",
              "      <td>0</td>\n",
              "      <td>0</td>\n",
              "      <td>0</td>\n",
              "    </tr>\n",
              "    <tr>\n",
              "      <th>...</th>\n",
              "      <td>...</td>\n",
              "      <td>...</td>\n",
              "      <td>...</td>\n",
              "      <td>...</td>\n",
              "      <td>...</td>\n",
              "      <td>...</td>\n",
              "      <td>...</td>\n",
              "      <td>...</td>\n",
              "      <td>...</td>\n",
              "      <td>...</td>\n",
              "      <td>...</td>\n",
              "      <td>...</td>\n",
              "      <td>...</td>\n",
              "      <td>...</td>\n",
              "      <td>...</td>\n",
              "      <td>...</td>\n",
              "      <td>...</td>\n",
              "    </tr>\n",
              "    <tr>\n",
              "      <th>1550</th>\n",
              "      <td>10357</td>\n",
              "      <td>79</td>\n",
              "      <td>168500.24</td>\n",
              "      <td>3</td>\n",
              "      <td>0</td>\n",
              "      <td>1.375036e+06</td>\n",
              "      <td>6.0</td>\n",
              "      <td>0</td>\n",
              "      <td>62</td>\n",
              "      <td>0</td>\n",
              "      <td>1157900</td>\n",
              "      <td>NaN</td>\n",
              "      <td>20121231</td>\n",
              "      <td>0</td>\n",
              "      <td>0</td>\n",
              "      <td>0</td>\n",
              "      <td>0</td>\n",
              "    </tr>\n",
              "    <tr>\n",
              "      <th>1551</th>\n",
              "      <td>10358</td>\n",
              "      <td>12</td>\n",
              "      <td>200000.00</td>\n",
              "      <td>1</td>\n",
              "      <td>1</td>\n",
              "      <td>1.500000e+06</td>\n",
              "      <td>1.0</td>\n",
              "      <td>1</td>\n",
              "      <td>41</td>\n",
              "      <td>3</td>\n",
              "      <td>867622</td>\n",
              "      <td>NaN</td>\n",
              "      <td>20110310</td>\n",
              "      <td>0</td>\n",
              "      <td>0</td>\n",
              "      <td>0</td>\n",
              "      <td>0</td>\n",
              "    </tr>\n",
              "    <tr>\n",
              "      <th>1552</th>\n",
              "      <td>10359</td>\n",
              "      <td>101</td>\n",
              "      <td>233154.49</td>\n",
              "      <td>3</td>\n",
              "      <td>0</td>\n",
              "      <td>2.460000e+06</td>\n",
              "      <td>1.0</td>\n",
              "      <td>0</td>\n",
              "      <td>33</td>\n",
              "      <td>0</td>\n",
              "      <td>1120355</td>\n",
              "      <td>NaN</td>\n",
              "      <td>20110620</td>\n",
              "      <td>0</td>\n",
              "      <td>0</td>\n",
              "      <td>0</td>\n",
              "      <td>0</td>\n",
              "    </tr>\n",
              "    <tr>\n",
              "      <th>1553</th>\n",
              "      <td>10360</td>\n",
              "      <td>12</td>\n",
              "      <td>100000.00</td>\n",
              "      <td>1</td>\n",
              "      <td>1</td>\n",
              "      <td>3.999960e+05</td>\n",
              "      <td>1.0</td>\n",
              "      <td>1</td>\n",
              "      <td>38</td>\n",
              "      <td>1</td>\n",
              "      <td>174766</td>\n",
              "      <td>NaN</td>\n",
              "      <td>20080205</td>\n",
              "      <td>0</td>\n",
              "      <td>0</td>\n",
              "      <td>0</td>\n",
              "      <td>0</td>\n",
              "    </tr>\n",
              "    <tr>\n",
              "      <th>1554</th>\n",
              "      <td>10361</td>\n",
              "      <td>62</td>\n",
              "      <td>125643.17</td>\n",
              "      <td>1</td>\n",
              "      <td>1</td>\n",
              "      <td>9.999600e+04</td>\n",
              "      <td>1.0</td>\n",
              "      <td>0</td>\n",
              "      <td>43</td>\n",
              "      <td>3</td>\n",
              "      <td>1200166</td>\n",
              "      <td>NaN</td>\n",
              "      <td>20110325</td>\n",
              "      <td>0</td>\n",
              "      <td>0</td>\n",
              "      <td>0</td>\n",
              "      <td>0</td>\n",
              "    </tr>\n",
              "  </tbody>\n",
              "</table>\n",
              "<p>1555 rows × 17 columns</p>\n",
              "</div>"
            ],
            "text/plain": [
              "         id  term  ...  payment_SEMI-ANNUAL  payment_SINGLE-PREMIUM\n",
              "0      8807    12  ...                    0                       0\n",
              "1      8808    50  ...                    1                       0\n",
              "2      8809    12  ...                    0                       0\n",
              "3      8810    12  ...                    0                       0\n",
              "4      8811    17  ...                    0                       0\n",
              "...     ...   ...  ...                  ...                     ...\n",
              "1550  10357    79  ...                    0                       0\n",
              "1551  10358    12  ...                    0                       0\n",
              "1552  10359   101  ...                    0                       0\n",
              "1553  10360    12  ...                    0                       0\n",
              "1554  10361    62  ...                    0                       0\n",
              "\n",
              "[1555 rows x 17 columns]"
            ]
          },
          "metadata": {},
          "execution_count": 80
        }
      ]
    },
    {
      "cell_type": "code",
      "metadata": {
        "id": "6jqvUFGb-4sh"
      },
      "source": [
        ""
      ],
      "execution_count": null,
      "outputs": []
    },
    {
      "cell_type": "markdown",
      "metadata": {
        "id": "SnNQCrRn-4sh"
      },
      "source": [
        "## Binning"
      ]
    },
    {
      "cell_type": "code",
      "metadata": {
        "id": "iIL8H6_HJdtK",
        "colab": {
          "base_uri": "https://localhost:8080/",
          "height": 369
        },
        "outputId": "494ff69b-c6ff-45b9-a274-6b1eab76367d"
      },
      "source": [
        "# Age 분포\n",
        "sns.displot(x='age', kind='hist', data=train);"
      ],
      "execution_count": null,
      "outputs": [
        {
          "output_type": "display_data",
          "data": {
            "image/png": "[encoded data removed]",
            "text/plain": [
              "<Figure size 360x360 with 1 Axes>"
            ]
          },
          "metadata": {
            "needs_background": "light"
          }
        }
      ]
    },
    {
      "cell_type": "code",
      "metadata": {
        "id": "kX40IsQz-4si"
      },
      "source": [
        "age_bins = [0, 20, 30, 40, 50, 60, 70, 150]"
      ],
      "execution_count": null,
      "outputs": []
    },
    {
      "cell_type": "code",
      "metadata": {
        "id": "LGCueNxU-4si"
      },
      "source": [
        "age_labels = ['10-', '20s', '30s', '40s', '50s', '60s', '70+']"
      ],
      "execution_count": null,
      "outputs": []
    },
    {
      "cell_type": "code",
      "metadata": {
        "id": "TjotK-d3-4si",
        "colab": {
          "base_uri": "https://localhost:8080/"
        },
        "outputId": "4a629324-18c3-414f-e48a-fcc9ea299c61"
      },
      "source": [
        "pd.cut(train['age'], bins=age_bins, labels=age_labels)"
      ],
      "execution_count": null,
      "outputs": [
        {
          "output_type": "execute_result",
          "data": {
            "text/plain": [
              "0       20s\n",
              "1       70+\n",
              "2       40s\n",
              "3       40s\n",
              "4       30s\n",
              "       ... \n",
              "8802    50s\n",
              "8803    40s\n",
              "8804    50s\n",
              "8805    20s\n",
              "8806    40s\n",
              "Name: age, Length: 8807, dtype: category\n",
              "Categories (7, object): ['10-' < '20s' < '30s' < '40s' < '50s' < '60s' < '70+']"
            ]
          },
          "metadata": {},
          "execution_count": 84
        }
      ]
    },
    {
      "cell_type": "code",
      "metadata": {
        "id": "cA2fKQ9H-4si",
        "colab": {
          "base_uri": "https://localhost:8080/"
        },
        "outputId": "bed0454a-ffd7-419c-d697-754825673fa5"
      },
      "source": [
        "train['age_bin'] = pd.cut(train['age'], bins=age_bins, labels=age_labels)\n",
        "train['age_bin'].value_counts()"
      ],
      "execution_count": null,
      "outputs": [
        {
          "output_type": "execute_result",
          "data": {
            "text/plain": [
              "40s    2369\n",
              "50s    1818\n",
              "30s    1764\n",
              "20s    1184\n",
              "60s    1136\n",
              "70+     434\n",
              "10-      98\n",
              "Name: age_bin, dtype: int64"
            ]
          },
          "metadata": {},
          "execution_count": 85
        }
      ]
    },
    {
      "cell_type": "code",
      "metadata": {
        "id": "uGS1WgzL-4si"
      },
      "source": [
        "sns.countplot(x='age_bin', hue='target', data=train);"
      ],
      "execution_count": null,
      "outputs": []
    },
    {
      "cell_type": "code",
      "metadata": {
        "id": "z03Dr7Hp-4si",
        "colab": {
          "base_uri": "https://localhost:8080/"
        },
        "outputId": "09595198-f92c-4f5a-b2e3-51356694f7e1"
      },
      "source": [
        "test['age_bin'] = pd.cut(test['age'], bins=age_bins, labels=age_labels)\n",
        "test['age_bin'].value_counts()"
      ],
      "execution_count": null,
      "outputs": [
        {
          "output_type": "execute_result",
          "data": {
            "text/plain": [
              "40s    413\n",
              "30s    319\n",
              "50s    316\n",
              "60s    216\n",
              "20s    199\n",
              "70+     72\n",
              "10-     20\n",
              "Name: age_bin, dtype: int64"
            ]
          },
          "metadata": {},
          "execution_count": 86
        }
      ]
    },
    {
      "cell_type": "code",
      "metadata": {
        "id": "XlSEFoLs-4si"
      },
      "source": [
        "sns.displot(x='age_bin', kind='hist', hue='target', data=train);"
      ],
      "execution_count": null,
      "outputs": []
    },
    {
      "cell_type": "code",
      "source": [
        "sns.countplot(x='age_bin', hue='target', data=train);"
      ],
      "metadata": {
        "id": "ZxJYBuQHDzad"
      },
      "execution_count": null,
      "outputs": []
    },
    {
      "cell_type": "markdown",
      "metadata": {
        "id": "CC0aISdJ_QgC"
      },
      "source": [
        "## Feature interaction"
      ]
    },
    {
      "cell_type": "code",
      "metadata": {
        "id": "OIxRifSc-4sj",
        "colab": {
          "base_uri": "https://localhost:8080/"
        },
        "outputId": "3999a701-aec3-4d4c-b044-10827c10e934"
      },
      "source": [
        "train[\"gender\"].value_counts()"
      ],
      "execution_count": null,
      "outputs": [
        {
          "output_type": "execute_result",
          "data": {
            "text/plain": [
              "0    6751\n",
              "1    2056\n",
              "Name: gender, dtype: int64"
            ]
          },
          "metadata": {},
          "execution_count": 87
        }
      ]
    },
    {
      "cell_type": "code",
      "metadata": {
        "id": "j_hNsC6X-4sj",
        "colab": {
          "base_uri": "https://localhost:8080/"
        },
        "outputId": "16822e89-b65a-4b28-f36b-6582bae7a159"
      },
      "source": [
        "train[\"gender\"].astype(str)"
      ],
      "execution_count": null,
      "outputs": [
        {
          "output_type": "execute_result",
          "data": {
            "text/plain": [
              "0       0\n",
              "1       0\n",
              "2       0\n",
              "3       1\n",
              "4       0\n",
              "       ..\n",
              "8802    0\n",
              "8803    0\n",
              "8804    0\n",
              "8805    0\n",
              "8806    0\n",
              "Name: gender, Length: 8807, dtype: object"
            ]
          },
          "metadata": {},
          "execution_count": 88
        }
      ]
    },
    {
      "cell_type": "code",
      "source": [
        ""
      ],
      "metadata": {
        "id": "Zvnrp3oWHLmo"
      },
      "execution_count": null,
      "outputs": []
    },
    {
      "cell_type": "code",
      "metadata": {
        "id": "7i0sHqha-4sj",
        "colab": {
          "base_uri": "https://localhost:8080/"
        },
        "outputId": "f329e644-e0f7-4e9f-9e4a-10cab15a5a8e"
      },
      "source": [
        "train[\"age_bin\"].astype(str) + '_' + train[\"gender\"].astype(str)"
      ],
      "execution_count": null,
      "outputs": [
        {
          "output_type": "execute_result",
          "data": {
            "text/plain": [
              "0       20s_0\n",
              "1       70+_0\n",
              "2       40s_0\n",
              "3       40s_1\n",
              "4       30s_0\n",
              "        ...  \n",
              "8802    50s_0\n",
              "8803    40s_0\n",
              "8804    50s_0\n",
              "8805    20s_0\n",
              "8806    40s_0\n",
              "Length: 8807, dtype: object"
            ]
          },
          "metadata": {},
          "execution_count": 89
        }
      ]
    },
    {
      "cell_type": "code",
      "metadata": {
        "id": "y7W7ogRk-4sj",
        "colab": {
          "base_uri": "https://localhost:8080/"
        },
        "outputId": "5494e853-2a28-4698-f01e-c11796e4626e"
      },
      "source": [
        "# Age_Bin과 Gender 결합\n",
        "train['age_gender'] = train[\"age_bin\"].astype(str) + '_' + train[\"gender\"].astype(str)\n",
        "train['age_gender'].value_counts()"
      ],
      "execution_count": null,
      "outputs": [
        {
          "output_type": "execute_result",
          "data": {
            "text/plain": [
              "40s_0    1770\n",
              "30s_0    1370\n",
              "50s_0    1363\n",
              "20s_0     926\n",
              "60s_0     873\n",
              "40s_1     599\n",
              "50s_1     455\n",
              "30s_1     394\n",
              "70+_0     364\n",
              "60s_1     263\n",
              "20s_1     258\n",
              "10-_0      81\n",
              "70+_1      70\n",
              "10-_1      17\n",
              "nan_0       4\n",
              "Name: age_gender, dtype: int64"
            ]
          },
          "metadata": {},
          "execution_count": 90
        }
      ]
    },
    {
      "cell_type": "code",
      "source": [
        "## 결측치 재확인해볼것"
      ],
      "metadata": {
        "id": "1T1HLP_fHr6m"
      },
      "execution_count": null,
      "outputs": []
    },
    {
      "cell_type": "code",
      "source": [
        "train['age_bin'].value_counts(dropna=False)"
      ],
      "metadata": {
        "colab": {
          "base_uri": "https://localhost:8080/"
        },
        "id": "BdM3rzJ-ea82",
        "outputId": "078481fe-6352-4d75-fa7e-eb1a7b553c35"
      },
      "execution_count": null,
      "outputs": [
        {
          "output_type": "execute_result",
          "data": {
            "text/plain": [
              "40s    2369\n",
              "50s    1818\n",
              "30s    1764\n",
              "20s    1184\n",
              "60s    1136\n",
              "70+     434\n",
              "10-      98\n",
              "NaN       4\n",
              "Name: age_bin, dtype: int64"
            ]
          },
          "metadata": {},
          "execution_count": 91
        }
      ]
    },
    {
      "cell_type": "code",
      "source": [
        "train['age_bin'].value_counts(dropna=False).index"
      ],
      "metadata": {
        "colab": {
          "base_uri": "https://localhost:8080/"
        },
        "id": "MD7zNm0Reaxq",
        "outputId": "1fee371b-494e-43f4-85ba-1af0ad5c4978"
      },
      "execution_count": null,
      "outputs": [
        {
          "output_type": "execute_result",
          "data": {
            "text/plain": [
              "CategoricalIndex(['40s', '50s', '30s', '20s', '60s', '70+', '10-', nan], categories=['10-', '20s', '30s', '40s', '50s', '60s', '70+'], ordered=True, dtype='category')"
            ]
          },
          "metadata": {},
          "execution_count": 92
        }
      ]
    },
    {
      "cell_type": "code",
      "source": [
        "train['age_bin'].mode()"
      ],
      "metadata": {
        "colab": {
          "base_uri": "https://localhost:8080/"
        },
        "id": "-L1mc95aeaoR",
        "outputId": "c759dc8e-beb5-4237-f451-61c3a21656ee"
      },
      "execution_count": null,
      "outputs": [
        {
          "output_type": "execute_result",
          "data": {
            "text/plain": [
              "0    40s\n",
              "Name: age_bin, dtype: category\n",
              "Categories (7, object): ['10-' < '20s' < '30s' < '40s' < '50s' < '60s' < '70+']"
            ]
          },
          "metadata": {},
          "execution_count": 93
        }
      ]
    },
    {
      "cell_type": "code",
      "source": [
        "train['age_bin'].mode()[0]"
      ],
      "metadata": {
        "colab": {
          "base_uri": "https://localhost:8080/",
          "height": 35
        },
        "id": "ATQMrc3PeaYo",
        "outputId": "9cb95469-eb58-4062-b7b3-3f93343d4dfc"
      },
      "execution_count": null,
      "outputs": [
        {
          "output_type": "execute_result",
          "data": {
            "application/vnd.google.colaboratory.intrinsic+json": {
              "type": "string"
            },
            "text/plain": [
              "'40s'"
            ]
          },
          "metadata": {},
          "execution_count": 94
        }
      ]
    },
    {
      "cell_type": "code",
      "source": [
        "train['age_bin'] = train['age_bin'].fillna(train['age_bin'].mode()[0])  \n",
        "    test['age_bin'] = test['age_bin'].fillna(train['age_bin'].mode()[0])"
      ],
      "metadata": {
        "colab": {
          "base_uri": "https://localhost:8080/",
          "height": 137
        },
        "id": "cQir8NB7er7N",
        "outputId": "890babd9-43c7-4a0f-9168-368ef20ec7a7"
      },
      "execution_count": null,
      "outputs": [
        {
          "output_type": "error",
          "ename": "SyntaxError",
          "evalue": "ignored",
          "traceback": [
            "\u001b[0;36m  File \u001b[0;32m\"<ipython-input-95-e0341b6e7eb1>\"\u001b[0;36m, line \u001b[0;32m1\u001b[0m\n\u001b[0;31m    train['age_bin'] = train['age_bin'].fillna(train['age_bin'].mode()[0])\u001b[0m\n\u001b[0m                    ^\u001b[0m\n\u001b[0;31mSyntaxError\u001b[0m\u001b[0;31m:\u001b[0m invalid character in identifier\n"
          ]
        }
      ]
    },
    {
      "cell_type": "code",
      "source": [
        "train['age_bin'] = train['age_bin'].fillna('40s')\n",
        "test['age_bin'] = test['age_bin'].fillna('40s')"
      ],
      "metadata": {
        "id": "OQlDI4X5eryv"
      },
      "execution_count": null,
      "outputs": []
    },
    {
      "cell_type": "code",
      "source": [
        ""
      ],
      "metadata": {
        "id": "WiafhDymern6"
      },
      "execution_count": null,
      "outputs": []
    },
    {
      "cell_type": "code",
      "source": [
        "train.isnull().sum()"
      ],
      "metadata": {
        "colab": {
          "base_uri": "https://localhost:8080/"
        },
        "id": "ClWJq_WZcWt4",
        "outputId": "bd800c8a-8144-4b39-b1a5-afe3058ddc77"
      },
      "execution_count": null,
      "outputs": [
        {
          "output_type": "execute_result",
          "data": {
            "text/plain": [
              "id            0\n",
              "term          0\n",
              "fee           0\n",
              "married       0\n",
              "gender        0\n",
              "income        0\n",
              "job           0\n",
              "package       0\n",
              "age           0\n",
              "family        0\n",
              "payment       0\n",
              "agent         0\n",
              "target        0\n",
              "stard_date    0\n",
              "age_bin       0\n",
              "age_gender    0\n",
              "dtype: int64"
            ]
          },
          "metadata": {},
          "execution_count": 97
        }
      ]
    },
    {
      "cell_type": "code",
      "source": [
        "train['age_bin']"
      ],
      "metadata": {
        "colab": {
          "base_uri": "https://localhost:8080/"
        },
        "id": "jNevIZ85c7Xz",
        "outputId": "675408d8-affa-4323-e6ea-154e9fb9e4a9"
      },
      "execution_count": null,
      "outputs": [
        {
          "output_type": "execute_result",
          "data": {
            "text/plain": [
              "0       20s\n",
              "1       70+\n",
              "2       40s\n",
              "3       40s\n",
              "4       30s\n",
              "       ... \n",
              "8802    50s\n",
              "8803    40s\n",
              "8804    50s\n",
              "8805    20s\n",
              "8806    40s\n",
              "Name: age_bin, Length: 8807, dtype: category\n",
              "Categories (7, object): ['10-' < '20s' < '30s' < '40s' < '50s' < '60s' < '70+']"
            ]
          },
          "metadata": {},
          "execution_count": 98
        }
      ]
    },
    {
      "cell_type": "code",
      "source": [
        "test.isnull().sum()"
      ],
      "metadata": {
        "colab": {
          "base_uri": "https://localhost:8080/"
        },
        "id": "_QozkwKbcqaL",
        "outputId": "64f0e637-389d-43da-d9dd-3fff6cd402ff"
      },
      "execution_count": null,
      "outputs": [
        {
          "output_type": "execute_result",
          "data": {
            "text/plain": [
              "id            0\n",
              "term          0\n",
              "fee           0\n",
              "married       0\n",
              "gender        0\n",
              "income        0\n",
              "job           0\n",
              "package       0\n",
              "age           0\n",
              "family        0\n",
              "payment       0\n",
              "agent         0\n",
              "stard_date    0\n",
              "age_bin       0\n",
              "dtype: int64"
            ]
          },
          "metadata": {},
          "execution_count": 99
        }
      ]
    },
    {
      "cell_type": "code",
      "metadata": {
        "id": "0SnInMMp-4sj"
      },
      "source": [
        "sns.displot(x='age_gender', kind='hist', hue='target', data=train)\n",
        "plt.xticks(rotation=90)\n",
        "plt.show()"
      ],
      "execution_count": null,
      "outputs": []
    },
    {
      "cell_type": "code",
      "metadata": {
        "id": "-t5IQdUh-4sj",
        "colab": {
          "base_uri": "https://localhost:8080/"
        },
        "outputId": "2033b1b0-c866-41f6-b82d-7bfde6001030"
      },
      "source": [
        "test['age_gender'] = test[\"age_bin\"].astype(str) + '_' + test[\"gender\"].astype(str)\n",
        "test['age_gender'].value_counts()"
      ],
      "execution_count": null,
      "outputs": [
        {
          "output_type": "execute_result",
          "data": {
            "text/plain": [
              "40s_0    314\n",
              "30s_0    251\n",
              "50s_0    233\n",
              "60s_0    166\n",
              "20s_0    153\n",
              "40s_1     99\n",
              "50s_1     83\n",
              "30s_1     68\n",
              "70+_0     57\n",
              "60s_1     50\n",
              "20s_1     46\n",
              "10-_0     16\n",
              "70+_1     15\n",
              "10-_1      4\n",
              "Name: age_gender, dtype: int64"
            ]
          },
          "metadata": {},
          "execution_count": 100
        }
      ]
    },
    {
      "cell_type": "code",
      "source": [
        "train.info()"
      ],
      "metadata": {
        "colab": {
          "base_uri": "https://localhost:8080/"
        },
        "id": "F4BMCbtxdeXp",
        "outputId": "0cd273b1-649a-49d1-c25e-fd6915eb7112"
      },
      "execution_count": null,
      "outputs": [
        {
          "output_type": "stream",
          "name": "stdout",
          "text": [
            "<class 'pandas.core.frame.DataFrame'>\n",
            "RangeIndex: 8807 entries, 0 to 8806\n",
            "Data columns (total 16 columns):\n",
            " #   Column      Non-Null Count  Dtype   \n",
            "---  ------      --------------  -----   \n",
            " 0   id          8807 non-null   int64   \n",
            " 1   term        8807 non-null   int64   \n",
            " 2   fee         8807 non-null   float64 \n",
            " 3   married     8807 non-null   int64   \n",
            " 4   gender      8807 non-null   int64   \n",
            " 5   income      8807 non-null   float64 \n",
            " 6   job         8807 non-null   float64 \n",
            " 7   package     8807 non-null   int64   \n",
            " 8   age         8807 non-null   int64   \n",
            " 9   family      8807 non-null   int64   \n",
            " 10  payment     8807 non-null   object  \n",
            " 11  agent       8807 non-null   object  \n",
            " 12  target      8807 non-null   int64   \n",
            " 13  stard_date  8807 non-null   int64   \n",
            " 14  age_bin     8807 non-null   category\n",
            " 15  age_gender  8807 non-null   object  \n",
            "dtypes: category(1), float64(3), int64(9), object(3)\n",
            "memory usage: 1.0+ MB\n"
          ]
        }
      ]
    },
    {
      "cell_type": "markdown",
      "metadata": {
        "id": "CSH3WMXKRIp0"
      },
      "source": [
        "## 로그 변환"
      ]
    },
    {
      "cell_type": "code",
      "metadata": {
        "id": "nIxQjizjMyE-",
        "colab": {
          "base_uri": "https://localhost:8080/",
          "height": 369
        },
        "outputId": "93a4516d-2bec-4c84-d3f9-47c130668862"
      },
      "source": [
        "# Annual_Premium 분포\n",
        "sns.displot(x='fee', kind='kde', hue='target', data=train);"
      ],
      "execution_count": null,
      "outputs": [
        {
          "output_type": "display_data",
          "data": {
            "image/png": "[encoded data removed]",
            "text/plain": [
              "<Figure size 402.375x360 with 1 Axes>"
            ]
          },
          "metadata": {
            "needs_background": "light"
          }
        }
      ]
    },
    {
      "cell_type": "code",
      "metadata": {
        "id": "VmL_tlYR-4sj",
        "colab": {
          "base_uri": "https://localhost:8080/"
        },
        "outputId": "2aa400ff-7ca5-4438-cbee-088f0a1f57cd"
      },
      "source": [
        "# log 변환\n",
        "train['fee_log'] = np.log1p(train['fee'])\n",
        "train['fee_log']"
      ],
      "execution_count": null,
      "outputs": [
        {
          "output_type": "execute_result",
          "data": {
            "text/plain": [
              "0       11.512935\n",
              "1       11.911907\n",
              "2       11.542493\n",
              "3       11.902109\n",
              "4       11.512935\n",
              "          ...    \n",
              "8802    11.512935\n",
              "8803    11.512935\n",
              "8804    13.304689\n",
              "8805    11.512935\n",
              "8806    11.512943\n",
              "Name: fee_log, Length: 8807, dtype: float64"
            ]
          },
          "metadata": {},
          "execution_count": 103
        }
      ]
    },
    {
      "cell_type": "code",
      "metadata": {
        "id": "AVjGLoOSsK8R",
        "colab": {
          "base_uri": "https://localhost:8080/",
          "height": 369
        },
        "outputId": "850a314d-2a8f-4172-ef98-281657603fcb"
      },
      "source": [
        "sns.displot(x='fee_log', kind='kde', hue='target', data=train);"
      ],
      "execution_count": null,
      "outputs": [
        {
          "output_type": "display_data",
          "data": {
            "image/png": "[encoded data removed]",
            "text/plain": [
              "<Figure size 402.375x360 with 1 Axes>"
            ]
          },
          "metadata": {
            "needs_background": "light"
          }
        }
      ]
    },
    {
      "cell_type": "code",
      "metadata": {
        "id": "4R0-nNlp-4sk",
        "colab": {
          "base_uri": "https://localhost:8080/",
          "height": 369
        },
        "outputId": "63860f93-f90f-4d10-d527-7a606d60bad5"
      },
      "source": [
        "test['fee_log'] = np.log1p(test['fee'])\n",
        "sns.displot(x='fee_log', kind='kde', data=test);"
      ],
      "execution_count": null,
      "outputs": [
        {
          "output_type": "display_data",
          "data": {
            "image/png": "[encoded data removed]",
            "text/plain": [
              "<Figure size 360x360 with 1 Axes>"
            ]
          },
          "metadata": {
            "needs_background": "light"
          }
        }
      ]
    },
    {
      "cell_type": "markdown",
      "metadata": {
        "id": "EBPCyuRd-4sk"
      },
      "source": [
        "# Baseline 모델"
      ]
    },
    {
      "cell_type": "code",
      "metadata": {
        "id": "KMt1PRwG-4sk",
        "colab": {
          "base_uri": "https://localhost:8080/",
          "height": 206
        },
        "outputId": "435176b7-ccde-4563-f445-dfa649aa170d"
      },
      "source": [
        "train.head()"
      ],
      "execution_count": null,
      "outputs": [
        {
          "output_type": "execute_result",
          "data": {
            "text/html": [
              "<div>\n",
              "<style scoped>\n",
              "    .dataframe tbody tr th:only-of-type {\n",
              "        vertical-align: middle;\n",
              "    }\n",
              "\n",
              "    .dataframe tbody tr th {\n",
              "        vertical-align: top;\n",
              "    }\n",
              "\n",
              "    .dataframe thead th {\n",
              "        text-align: right;\n",
              "    }\n",
              "</style>\n",
              "<table border=\"1\" class=\"dataframe\">\n",
              "  <thead>\n",
              "    <tr style=\"text-align: right;\">\n",
              "      <th></th>\n",
              "      <th>id</th>\n",
              "      <th>term</th>\n",
              "      <th>fee</th>\n",
              "      <th>married</th>\n",
              "      <th>gender</th>\n",
              "      <th>income</th>\n",
              "      <th>job</th>\n",
              "      <th>package</th>\n",
              "      <th>age</th>\n",
              "      <th>family</th>\n",
              "      <th>payment</th>\n",
              "      <th>agent</th>\n",
              "      <th>target</th>\n",
              "      <th>stard_date</th>\n",
              "      <th>age_bin</th>\n",
              "      <th>age_gender</th>\n",
              "      <th>fee_log</th>\n",
              "    </tr>\n",
              "  </thead>\n",
              "  <tbody>\n",
              "    <tr>\n",
              "      <th>0</th>\n",
              "      <td>0</td>\n",
              "      <td>22</td>\n",
              "      <td>100000.00</td>\n",
              "      <td>1</td>\n",
              "      <td>0</td>\n",
              "      <td>4.500000e+05</td>\n",
              "      <td>1.0</td>\n",
              "      <td>1</td>\n",
              "      <td>27</td>\n",
              "      <td>1</td>\n",
              "      <td>ANNUAL</td>\n",
              "      <td>666099</td>\n",
              "      <td>0</td>\n",
              "      <td>20091029</td>\n",
              "      <td>20s</td>\n",
              "      <td>20s_0</td>\n",
              "      <td>11.512935</td>\n",
              "    </tr>\n",
              "    <tr>\n",
              "      <th>1</th>\n",
              "      <td>1</td>\n",
              "      <td>88</td>\n",
              "      <td>149029.58</td>\n",
              "      <td>3</td>\n",
              "      <td>0</td>\n",
              "      <td>1.375036e+06</td>\n",
              "      <td>6.0</td>\n",
              "      <td>0</td>\n",
              "      <td>75</td>\n",
              "      <td>0</td>\n",
              "      <td>ANNUAL</td>\n",
              "      <td>132000</td>\n",
              "      <td>0</td>\n",
              "      <td>20131014</td>\n",
              "      <td>70+</td>\n",
              "      <td>70+_0</td>\n",
              "      <td>11.911907</td>\n",
              "    </tr>\n",
              "    <tr>\n",
              "      <th>2</th>\n",
              "      <td>2</td>\n",
              "      <td>93</td>\n",
              "      <td>102999.94</td>\n",
              "      <td>3</td>\n",
              "      <td>0</td>\n",
              "      <td>6.000000e+05</td>\n",
              "      <td>1.0</td>\n",
              "      <td>0</td>\n",
              "      <td>49</td>\n",
              "      <td>0</td>\n",
              "      <td>ANNUAL</td>\n",
              "      <td>1407177</td>\n",
              "      <td>0</td>\n",
              "      <td>20130531</td>\n",
              "      <td>40s</td>\n",
              "      <td>40s_0</td>\n",
              "      <td>11.542493</td>\n",
              "    </tr>\n",
              "    <tr>\n",
              "      <th>3</th>\n",
              "      <td>3</td>\n",
              "      <td>17</td>\n",
              "      <td>147576.48</td>\n",
              "      <td>1</td>\n",
              "      <td>1</td>\n",
              "      <td>4.500000e+05</td>\n",
              "      <td>1.0</td>\n",
              "      <td>0</td>\n",
              "      <td>47</td>\n",
              "      <td>3</td>\n",
              "      <td>MONTHLY</td>\n",
              "      <td>343344</td>\n",
              "      <td>0</td>\n",
              "      <td>20130331</td>\n",
              "      <td>40s</td>\n",
              "      <td>40s_1</td>\n",
              "      <td>11.902109</td>\n",
              "    </tr>\n",
              "    <tr>\n",
              "      <th>4</th>\n",
              "      <td>4</td>\n",
              "      <td>39</td>\n",
              "      <td>100000.00</td>\n",
              "      <td>1</td>\n",
              "      <td>0</td>\n",
              "      <td>6.000000e+05</td>\n",
              "      <td>1.0</td>\n",
              "      <td>1</td>\n",
              "      <td>36</td>\n",
              "      <td>3</td>\n",
              "      <td>ANNUAL</td>\n",
              "      <td>119199</td>\n",
              "      <td>0</td>\n",
              "      <td>20080313</td>\n",
              "      <td>30s</td>\n",
              "      <td>30s_0</td>\n",
              "      <td>11.512935</td>\n",
              "    </tr>\n",
              "  </tbody>\n",
              "</table>\n",
              "</div>"
            ],
            "text/plain": [
              "   id  term        fee  married  ...  stard_date  age_bin  age_gender    fee_log\n",
              "0   0    22  100000.00        1  ...    20091029      20s       20s_0  11.512935\n",
              "1   1    88  149029.58        3  ...    20131014      70+       70+_0  11.911907\n",
              "2   2    93  102999.94        3  ...    20130531      40s       40s_0  11.542493\n",
              "3   3    17  147576.48        1  ...    20130331      40s       40s_1  11.902109\n",
              "4   4    39  100000.00        1  ...    20080313      30s       30s_0  11.512935\n",
              "\n",
              "[5 rows x 17 columns]"
            ]
          },
          "metadata": {},
          "execution_count": 106
        }
      ]
    },
    {
      "cell_type": "code",
      "source": [
        "test.head()"
      ],
      "metadata": {
        "colab": {
          "base_uri": "https://localhost:8080/",
          "height": 206
        },
        "id": "GvOUUql4gMCk",
        "outputId": "fb85770f-bd22-4c50-a29a-04c33b6deaaf"
      },
      "execution_count": null,
      "outputs": [
        {
          "output_type": "execute_result",
          "data": {
            "text/html": [
              "<div>\n",
              "<style scoped>\n",
              "    .dataframe tbody tr th:only-of-type {\n",
              "        vertical-align: middle;\n",
              "    }\n",
              "\n",
              "    .dataframe tbody tr th {\n",
              "        vertical-align: top;\n",
              "    }\n",
              "\n",
              "    .dataframe thead th {\n",
              "        text-align: right;\n",
              "    }\n",
              "</style>\n",
              "<table border=\"1\" class=\"dataframe\">\n",
              "  <thead>\n",
              "    <tr style=\"text-align: right;\">\n",
              "      <th></th>\n",
              "      <th>id</th>\n",
              "      <th>term</th>\n",
              "      <th>fee</th>\n",
              "      <th>married</th>\n",
              "      <th>gender</th>\n",
              "      <th>income</th>\n",
              "      <th>job</th>\n",
              "      <th>package</th>\n",
              "      <th>age</th>\n",
              "      <th>family</th>\n",
              "      <th>payment</th>\n",
              "      <th>agent</th>\n",
              "      <th>stard_date</th>\n",
              "      <th>age_bin</th>\n",
              "      <th>age_gender</th>\n",
              "      <th>fee_log</th>\n",
              "    </tr>\n",
              "  </thead>\n",
              "  <tbody>\n",
              "    <tr>\n",
              "      <th>0</th>\n",
              "      <td>8807</td>\n",
              "      <td>12</td>\n",
              "      <td>100000.00</td>\n",
              "      <td>1</td>\n",
              "      <td>1</td>\n",
              "      <td>999996.0</td>\n",
              "      <td>1.0</td>\n",
              "      <td>1</td>\n",
              "      <td>41</td>\n",
              "      <td>1</td>\n",
              "      <td>ANNUAL</td>\n",
              "      <td>944999</td>\n",
              "      <td>20100331</td>\n",
              "      <td>40s</td>\n",
              "      <td>40s_1</td>\n",
              "      <td>11.512935</td>\n",
              "    </tr>\n",
              "    <tr>\n",
              "      <th>1</th>\n",
              "      <td>8808</td>\n",
              "      <td>50</td>\n",
              "      <td>100000.00</td>\n",
              "      <td>1</td>\n",
              "      <td>0</td>\n",
              "      <td>399996.0</td>\n",
              "      <td>1.0</td>\n",
              "      <td>1</td>\n",
              "      <td>34</td>\n",
              "      <td>2</td>\n",
              "      <td>SEMI-ANNUAL</td>\n",
              "      <td>546366</td>\n",
              "      <td>20090331</td>\n",
              "      <td>30s</td>\n",
              "      <td>30s_0</td>\n",
              "      <td>11.512935</td>\n",
              "    </tr>\n",
              "    <tr>\n",
              "      <th>2</th>\n",
              "      <td>8809</td>\n",
              "      <td>12</td>\n",
              "      <td>100000.00</td>\n",
              "      <td>1</td>\n",
              "      <td>0</td>\n",
              "      <td>1200000.0</td>\n",
              "      <td>1.0</td>\n",
              "      <td>1</td>\n",
              "      <td>36</td>\n",
              "      <td>3</td>\n",
              "      <td>ANNUAL</td>\n",
              "      <td>1207933</td>\n",
              "      <td>20120316</td>\n",
              "      <td>30s</td>\n",
              "      <td>30s_0</td>\n",
              "      <td>11.512935</td>\n",
              "    </tr>\n",
              "    <tr>\n",
              "      <th>3</th>\n",
              "      <td>8810</td>\n",
              "      <td>12</td>\n",
              "      <td>250000.00</td>\n",
              "      <td>3</td>\n",
              "      <td>0</td>\n",
              "      <td>799992.0</td>\n",
              "      <td>2.0</td>\n",
              "      <td>1</td>\n",
              "      <td>60</td>\n",
              "      <td>0</td>\n",
              "      <td>ANNUAL</td>\n",
              "      <td>1267000</td>\n",
              "      <td>20120327</td>\n",
              "      <td>50s</td>\n",
              "      <td>50s_0</td>\n",
              "      <td>12.429220</td>\n",
              "    </tr>\n",
              "    <tr>\n",
              "      <th>4</th>\n",
              "      <td>8811</td>\n",
              "      <td>17</td>\n",
              "      <td>200000.24</td>\n",
              "      <td>3</td>\n",
              "      <td>0</td>\n",
              "      <td>1999992.0</td>\n",
              "      <td>2.0</td>\n",
              "      <td>0</td>\n",
              "      <td>55</td>\n",
              "      <td>0</td>\n",
              "      <td>ANNUAL</td>\n",
              "      <td>923455</td>\n",
              "      <td>20130330</td>\n",
              "      <td>50s</td>\n",
              "      <td>50s_0</td>\n",
              "      <td>12.206079</td>\n",
              "    </tr>\n",
              "  </tbody>\n",
              "</table>\n",
              "</div>"
            ],
            "text/plain": [
              "     id  term        fee  married  ... stard_date  age_bin  age_gender    fee_log\n",
              "0  8807    12  100000.00        1  ...   20100331      40s       40s_1  11.512935\n",
              "1  8808    50  100000.00        1  ...   20090331      30s       30s_0  11.512935\n",
              "2  8809    12  100000.00        1  ...   20120316      30s       30s_0  11.512935\n",
              "3  8810    12  250000.00        3  ...   20120327      50s       50s_0  12.429220\n",
              "4  8811    17  200000.24        3  ...   20130330      50s       50s_0  12.206079\n",
              "\n",
              "[5 rows x 16 columns]"
            ]
          },
          "metadata": {},
          "execution_count": 107
        }
      ]
    },
    {
      "cell_type": "markdown",
      "metadata": {
        "id": "hYLPI306-4sk"
      },
      "source": [
        "## Feature 선택"
      ]
    },
    {
      "cell_type": "code",
      "metadata": {
        "id": "LkJ-jNTx-4sk",
        "colab": {
          "base_uri": "https://localhost:8080/"
        },
        "outputId": "18ebb8d3-cf66-4136-c005-1b42d9b63f7c"
      },
      "source": [
        "# 숫자형 변수 선택\n",
        "for col in train.columns:\n",
        "    if not train[col].dtype=='object':\n",
        "        print(col)"
      ],
      "execution_count": null,
      "outputs": [
        {
          "output_type": "stream",
          "name": "stdout",
          "text": [
            "id\n",
            "term\n",
            "fee\n",
            "married\n",
            "gender\n",
            "income\n",
            "job\n",
            "package\n",
            "age\n",
            "family\n",
            "target\n",
            "stard_date\n",
            "age_bin\n",
            "fee_log\n"
          ]
        }
      ]
    },
    {
      "cell_type": "code",
      "metadata": {
        "id": "fRwwFDSo-4sk",
        "colab": {
          "base_uri": "https://localhost:8080/"
        },
        "outputId": "2a57c956-c897-4a6b-bebb-393fcfc50ce6"
      },
      "source": [
        "print([col for col in train.columns[1:] if not train[col].dtype=='object'])"
      ],
      "execution_count": null,
      "outputs": [
        {
          "output_type": "stream",
          "name": "stdout",
          "text": [
            "['term', 'fee', 'married', 'gender', 'income', 'job', 'package', 'age', 'family', 'target', 'stard_date', 'age_bin', 'fee_log']\n"
          ]
        }
      ]
    },
    {
      "cell_type": "markdown",
      "metadata": {
        "id": "CTleYGfi-4sk"
      },
      "source": [
        "## X, y 변수 정리"
      ]
    },
    {
      "cell_type": "code",
      "metadata": {
        "id": "czZ4IiIq-4sl",
        "colab": {
          "base_uri": "https://localhost:8080/"
        },
        "outputId": "e7a4036a-8565-4268-e0fe-cb6f0401dce2"
      },
      "source": [
        "#selected_features = ['term', 'fee', 'married', 'gender', 'income', 'job', 'package', 'age', 'family', 'stard_date', 'fee_log']\n",
        "\n",
        "selected_features = ['income', 'age',  'stard_date']\n",
        "X_train = train.loc[:, selected_features]\n",
        "X_test = test.loc[:, selected_features]\n",
        "\n",
        "y_train = train.loc[:, 'target']\n",
        "\n",
        "print(X_train.shape, y_train.shape)\n",
        "print(X_test.shape)"
      ],
      "execution_count": null,
      "outputs": [
        {
          "output_type": "stream",
          "name": "stdout",
          "text": [
            "(8807, 3) (8807,)\n",
            "(1555, 3)\n"
          ]
        }
      ]
    },
    {
      "cell_type": "code",
      "source": [
        "train.iloc[ :  , 1:]. corr()"
      ],
      "metadata": {
        "colab": {
          "base_uri": "https://localhost:8080/",
          "height": 426
        },
        "id": "U6z83hGIVQBL",
        "outputId": "f595838e-d2e5-420a-95f8-58d2eee47d50"
      },
      "execution_count": null,
      "outputs": [
        {
          "output_type": "execute_result",
          "data": {
            "text/html": [
              "<div>\n",
              "<style scoped>\n",
              "    .dataframe tbody tr th:only-of-type {\n",
              "        vertical-align: middle;\n",
              "    }\n",
              "\n",
              "    .dataframe tbody tr th {\n",
              "        vertical-align: top;\n",
              "    }\n",
              "\n",
              "    .dataframe thead th {\n",
              "        text-align: right;\n",
              "    }\n",
              "</style>\n",
              "<table border=\"1\" class=\"dataframe\">\n",
              "  <thead>\n",
              "    <tr style=\"text-align: right;\">\n",
              "      <th></th>\n",
              "      <th>term</th>\n",
              "      <th>fee</th>\n",
              "      <th>married</th>\n",
              "      <th>gender</th>\n",
              "      <th>income</th>\n",
              "      <th>job</th>\n",
              "      <th>package</th>\n",
              "      <th>age</th>\n",
              "      <th>family</th>\n",
              "      <th>target</th>\n",
              "      <th>stard_date</th>\n",
              "      <th>fee_log</th>\n",
              "    </tr>\n",
              "  </thead>\n",
              "  <tbody>\n",
              "    <tr>\n",
              "      <th>term</th>\n",
              "      <td>1.000000</td>\n",
              "      <td>-0.006872</td>\n",
              "      <td>0.277981</td>\n",
              "      <td>-0.038830</td>\n",
              "      <td>0.019937</td>\n",
              "      <td>-0.006046</td>\n",
              "      <td>-0.351294</td>\n",
              "      <td>-0.020482</td>\n",
              "      <td>-0.219511</td>\n",
              "      <td>-0.037657</td>\n",
              "      <td>0.076482</td>\n",
              "      <td>0.019748</td>\n",
              "    </tr>\n",
              "    <tr>\n",
              "      <th>fee</th>\n",
              "      <td>-0.006872</td>\n",
              "      <td>1.000000</td>\n",
              "      <td>-0.003098</td>\n",
              "      <td>-0.016413</td>\n",
              "      <td>0.063831</td>\n",
              "      <td>-0.024242</td>\n",
              "      <td>0.032008</td>\n",
              "      <td>0.024164</td>\n",
              "      <td>0.010806</td>\n",
              "      <td>0.026491</td>\n",
              "      <td>0.049064</td>\n",
              "      <td>0.693272</td>\n",
              "    </tr>\n",
              "    <tr>\n",
              "      <th>married</th>\n",
              "      <td>0.277981</td>\n",
              "      <td>-0.003098</td>\n",
              "      <td>1.000000</td>\n",
              "      <td>-0.023042</td>\n",
              "      <td>0.024318</td>\n",
              "      <td>0.152214</td>\n",
              "      <td>-0.231939</td>\n",
              "      <td>0.218965</td>\n",
              "      <td>-0.555754</td>\n",
              "      <td>-0.033477</td>\n",
              "      <td>0.195324</td>\n",
              "      <td>0.029401</td>\n",
              "    </tr>\n",
              "    <tr>\n",
              "      <th>gender</th>\n",
              "      <td>-0.038830</td>\n",
              "      <td>-0.016413</td>\n",
              "      <td>-0.023042</td>\n",
              "      <td>1.000000</td>\n",
              "      <td>-0.024288</td>\n",
              "      <td>0.028462</td>\n",
              "      <td>-0.050125</td>\n",
              "      <td>-0.000358</td>\n",
              "      <td>-0.025771</td>\n",
              "      <td>-0.027180</td>\n",
              "      <td>0.069948</td>\n",
              "      <td>-0.016622</td>\n",
              "    </tr>\n",
              "    <tr>\n",
              "      <th>income</th>\n",
              "      <td>0.019937</td>\n",
              "      <td>0.063831</td>\n",
              "      <td>0.024318</td>\n",
              "      <td>-0.024288</td>\n",
              "      <td>1.000000</td>\n",
              "      <td>-0.001498</td>\n",
              "      <td>-0.007788</td>\n",
              "      <td>-0.033578</td>\n",
              "      <td>0.000286</td>\n",
              "      <td>-0.010417</td>\n",
              "      <td>0.012440</td>\n",
              "      <td>0.063841</td>\n",
              "    </tr>\n",
              "    <tr>\n",
              "      <th>job</th>\n",
              "      <td>-0.006046</td>\n",
              "      <td>-0.024242</td>\n",
              "      <td>0.152214</td>\n",
              "      <td>0.028462</td>\n",
              "      <td>-0.001498</td>\n",
              "      <td>1.000000</td>\n",
              "      <td>-0.145939</td>\n",
              "      <td>0.339045</td>\n",
              "      <td>-0.014814</td>\n",
              "      <td>-0.067773</td>\n",
              "      <td>0.171608</td>\n",
              "      <td>-0.016291</td>\n",
              "    </tr>\n",
              "    <tr>\n",
              "      <th>package</th>\n",
              "      <td>-0.351294</td>\n",
              "      <td>0.032008</td>\n",
              "      <td>-0.231939</td>\n",
              "      <td>-0.050125</td>\n",
              "      <td>-0.007788</td>\n",
              "      <td>-0.145939</td>\n",
              "      <td>1.000000</td>\n",
              "      <td>-0.148252</td>\n",
              "      <td>0.120192</td>\n",
              "      <td>0.215730</td>\n",
              "      <td>-0.683857</td>\n",
              "      <td>-0.038054</td>\n",
              "    </tr>\n",
              "    <tr>\n",
              "      <th>age</th>\n",
              "      <td>-0.020482</td>\n",
              "      <td>0.024164</td>\n",
              "      <td>0.218965</td>\n",
              "      <td>-0.000358</td>\n",
              "      <td>-0.033578</td>\n",
              "      <td>0.339045</td>\n",
              "      <td>-0.148252</td>\n",
              "      <td>1.000000</td>\n",
              "      <td>0.058676</td>\n",
              "      <td>-0.090432</td>\n",
              "      <td>0.203004</td>\n",
              "      <td>0.089067</td>\n",
              "    </tr>\n",
              "    <tr>\n",
              "      <th>family</th>\n",
              "      <td>-0.219511</td>\n",
              "      <td>0.010806</td>\n",
              "      <td>-0.555754</td>\n",
              "      <td>-0.025771</td>\n",
              "      <td>0.000286</td>\n",
              "      <td>-0.014814</td>\n",
              "      <td>0.120192</td>\n",
              "      <td>0.058676</td>\n",
              "      <td>1.000000</td>\n",
              "      <td>-0.021556</td>\n",
              "      <td>-0.069810</td>\n",
              "      <td>0.004769</td>\n",
              "    </tr>\n",
              "    <tr>\n",
              "      <th>target</th>\n",
              "      <td>-0.037657</td>\n",
              "      <td>0.026491</td>\n",
              "      <td>-0.033477</td>\n",
              "      <td>-0.027180</td>\n",
              "      <td>-0.010417</td>\n",
              "      <td>-0.067773</td>\n",
              "      <td>0.215730</td>\n",
              "      <td>-0.090432</td>\n",
              "      <td>-0.021556</td>\n",
              "      <td>1.000000</td>\n",
              "      <td>-0.186712</td>\n",
              "      <td>0.050513</td>\n",
              "    </tr>\n",
              "    <tr>\n",
              "      <th>stard_date</th>\n",
              "      <td>0.076482</td>\n",
              "      <td>0.049064</td>\n",
              "      <td>0.195324</td>\n",
              "      <td>0.069948</td>\n",
              "      <td>0.012440</td>\n",
              "      <td>0.171608</td>\n",
              "      <td>-0.683857</td>\n",
              "      <td>0.203004</td>\n",
              "      <td>-0.069810</td>\n",
              "      <td>-0.186712</td>\n",
              "      <td>1.000000</td>\n",
              "      <td>0.163625</td>\n",
              "    </tr>\n",
              "    <tr>\n",
              "      <th>fee_log</th>\n",
              "      <td>0.019748</td>\n",
              "      <td>0.693272</td>\n",
              "      <td>0.029401</td>\n",
              "      <td>-0.016622</td>\n",
              "      <td>0.063841</td>\n",
              "      <td>-0.016291</td>\n",
              "      <td>-0.038054</td>\n",
              "      <td>0.089067</td>\n",
              "      <td>0.004769</td>\n",
              "      <td>0.050513</td>\n",
              "      <td>0.163625</td>\n",
              "      <td>1.000000</td>\n",
              "    </tr>\n",
              "  </tbody>\n",
              "</table>\n",
              "</div>"
            ],
            "text/plain": [
              "                term       fee   married  ...    target  stard_date   fee_log\n",
              "term        1.000000 -0.006872  0.277981  ... -0.037657    0.076482  0.019748\n",
              "fee        -0.006872  1.000000 -0.003098  ...  0.026491    0.049064  0.693272\n",
              "married     0.277981 -0.003098  1.000000  ... -0.033477    0.195324  0.029401\n",
              "gender     -0.038830 -0.016413 -0.023042  ... -0.027180    0.069948 -0.016622\n",
              "income      0.019937  0.063831  0.024318  ... -0.010417    0.012440  0.063841\n",
              "job        -0.006046 -0.024242  0.152214  ... -0.067773    0.171608 -0.016291\n",
              "package    -0.351294  0.032008 -0.231939  ...  0.215730   -0.683857 -0.038054\n",
              "age        -0.020482  0.024164  0.218965  ... -0.090432    0.203004  0.089067\n",
              "family     -0.219511  0.010806 -0.555754  ... -0.021556   -0.069810  0.004769\n",
              "target     -0.037657  0.026491 -0.033477  ...  1.000000   -0.186712  0.050513\n",
              "stard_date  0.076482  0.049064  0.195324  ... -0.186712    1.000000  0.163625\n",
              "fee_log     0.019748  0.693272  0.029401  ...  0.050513    0.163625  1.000000\n",
              "\n",
              "[12 rows x 12 columns]"
            ]
          },
          "metadata": {},
          "execution_count": 111
        }
      ]
    },
    {
      "cell_type": "code",
      "source": [
        "X_train.head()"
      ],
      "metadata": {
        "colab": {
          "base_uri": "https://localhost:8080/",
          "height": 206
        },
        "id": "YxVKIiHuJm01",
        "outputId": "0a77964b-3a86-4ce6-b926-b0e13ca92612"
      },
      "execution_count": null,
      "outputs": [
        {
          "output_type": "execute_result",
          "data": {
            "text/html": [
              "<div>\n",
              "<style scoped>\n",
              "    .dataframe tbody tr th:only-of-type {\n",
              "        vertical-align: middle;\n",
              "    }\n",
              "\n",
              "    .dataframe tbody tr th {\n",
              "        vertical-align: top;\n",
              "    }\n",
              "\n",
              "    .dataframe thead th {\n",
              "        text-align: right;\n",
              "    }\n",
              "</style>\n",
              "<table border=\"1\" class=\"dataframe\">\n",
              "  <thead>\n",
              "    <tr style=\"text-align: right;\">\n",
              "      <th></th>\n",
              "      <th>income</th>\n",
              "      <th>age</th>\n",
              "      <th>stard_date</th>\n",
              "    </tr>\n",
              "  </thead>\n",
              "  <tbody>\n",
              "    <tr>\n",
              "      <th>0</th>\n",
              "      <td>4.500000e+05</td>\n",
              "      <td>27</td>\n",
              "      <td>20091029</td>\n",
              "    </tr>\n",
              "    <tr>\n",
              "      <th>1</th>\n",
              "      <td>1.375036e+06</td>\n",
              "      <td>75</td>\n",
              "      <td>20131014</td>\n",
              "    </tr>\n",
              "    <tr>\n",
              "      <th>2</th>\n",
              "      <td>6.000000e+05</td>\n",
              "      <td>49</td>\n",
              "      <td>20130531</td>\n",
              "    </tr>\n",
              "    <tr>\n",
              "      <th>3</th>\n",
              "      <td>4.500000e+05</td>\n",
              "      <td>47</td>\n",
              "      <td>20130331</td>\n",
              "    </tr>\n",
              "    <tr>\n",
              "      <th>4</th>\n",
              "      <td>6.000000e+05</td>\n",
              "      <td>36</td>\n",
              "      <td>20080313</td>\n",
              "    </tr>\n",
              "  </tbody>\n",
              "</table>\n",
              "</div>"
            ],
            "text/plain": [
              "         income  age  stard_date\n",
              "0  4.500000e+05   27    20091029\n",
              "1  1.375036e+06   75    20131014\n",
              "2  6.000000e+05   49    20130531\n",
              "3  4.500000e+05   47    20130331\n",
              "4  6.000000e+05   36    20080313"
            ]
          },
          "metadata": {},
          "execution_count": 112
        }
      ]
    },
    {
      "cell_type": "code",
      "source": [
        "y_train.head()"
      ],
      "metadata": {
        "colab": {
          "base_uri": "https://localhost:8080/"
        },
        "id": "uo5mOGD2Jt2o",
        "outputId": "0d373f90-02b6-4a82-9689-0b9f38e5e045"
      },
      "execution_count": null,
      "outputs": [
        {
          "output_type": "execute_result",
          "data": {
            "text/plain": [
              "0    0\n",
              "1    0\n",
              "2    0\n",
              "3    0\n",
              "4    0\n",
              "Name: target, dtype: int64"
            ]
          },
          "metadata": {},
          "execution_count": 113
        }
      ]
    },
    {
      "cell_type": "code",
      "source": [
        "X_test.isnull().sum()"
      ],
      "metadata": {
        "colab": {
          "base_uri": "https://localhost:8080/"
        },
        "id": "Vq_oRTuUJyLg",
        "outputId": "a59356a7-b77f-4288-d540-a06684fed54a"
      },
      "execution_count": null,
      "outputs": [
        {
          "output_type": "execute_result",
          "data": {
            "text/plain": [
              "income        0\n",
              "age           0\n",
              "stard_date    0\n",
              "dtype: int64"
            ]
          },
          "metadata": {},
          "execution_count": 114
        }
      ]
    },
    {
      "cell_type": "markdown",
      "metadata": {
        "id": "mwNYaLzC-4sl"
      },
      "source": [
        "## 결측치 처리"
      ]
    },
    {
      "cell_type": "code",
      "metadata": {
        "id": "vdQtWE3k-4sl",
        "colab": {
          "base_uri": "https://localhost:8080/"
        },
        "outputId": "c12798c6-1788-465a-870a-adc5d8ee9856"
      },
      "source": [
        "X_train.isnull().sum()"
      ],
      "execution_count": null,
      "outputs": [
        {
          "output_type": "execute_result",
          "data": {
            "text/plain": [
              "income        0\n",
              "age           0\n",
              "stard_date    0\n",
              "dtype: int64"
            ]
          },
          "metadata": {},
          "execution_count": 115
        }
      ]
    },
    {
      "cell_type": "code",
      "metadata": {
        "id": "FBA0AQ2Y-4sl",
        "colab": {
          "base_uri": "https://localhost:8080/"
        },
        "outputId": "d3245b67-c010-42c2-9ec2-df79d163bc85"
      },
      "source": [
        "X_test.isnull().sum()"
      ],
      "execution_count": null,
      "outputs": [
        {
          "output_type": "execute_result",
          "data": {
            "text/plain": [
              "income        0\n",
              "age           0\n",
              "stard_date    0\n",
              "dtype: int64"
            ]
          },
          "metadata": {},
          "execution_count": 116
        }
      ]
    },
    {
      "cell_type": "code",
      "source": [
        ""
      ],
      "metadata": {
        "id": "uEVBwMvkKcJd"
      },
      "execution_count": null,
      "outputs": []
    },
    {
      "cell_type": "markdown",
      "metadata": {
        "id": "qQaKi0v_S8iB"
      },
      "source": [
        "## Train-Test 데이터셋 분할"
      ]
    },
    {
      "cell_type": "code",
      "source": [
        "y_train.value_counts()"
      ],
      "metadata": {
        "colab": {
          "base_uri": "https://localhost:8080/"
        },
        "id": "WiqRCNx7KQAJ",
        "outputId": "0db04df0-c97e-4a06-bccc-a431c953d024"
      },
      "execution_count": null,
      "outputs": [
        {
          "output_type": "execute_result",
          "data": {
            "text/plain": [
              "0    6136\n",
              "1    2671\n",
              "Name: target, dtype: int64"
            ]
          },
          "metadata": {},
          "execution_count": 117
        }
      ]
    },
    {
      "cell_type": "code",
      "source": [
        "y_tr.value_counts()"
      ],
      "metadata": {
        "colab": {
          "base_uri": "https://localhost:8080/",
          "height": 174
        },
        "id": "MfFjSa7YKiM4",
        "outputId": "1d54a143-c417-4cd8-84f8-5e47e547f4ea"
      },
      "execution_count": null,
      "outputs": [
        {
          "output_type": "error",
          "ename": "NameError",
          "evalue": "ignored",
          "traceback": [
            "\u001b[0;31m---------------------------------------------------------------------------\u001b[0m",
            "\u001b[0;31mNameError\u001b[0m                                 Traceback (most recent call last)",
            "\u001b[0;32m<ipython-input-118-d2f07e69f3d5>\u001b[0m in \u001b[0;36m<module>\u001b[0;34m()\u001b[0m\n\u001b[0;32m----> 1\u001b[0;31m \u001b[0my_tr\u001b[0m\u001b[0;34m.\u001b[0m\u001b[0mvalue_counts\u001b[0m\u001b[0;34m(\u001b[0m\u001b[0;34m)\u001b[0m\u001b[0;34m\u001b[0m\u001b[0;34m\u001b[0m\u001b[0m\n\u001b[0m",
            "\u001b[0;31mNameError\u001b[0m: name 'y_tr' is not defined"
          ]
        }
      ]
    },
    {
      "cell_type": "code",
      "metadata": {
        "id": "_jLAl_hFm7ZE",
        "colab": {
          "base_uri": "https://localhost:8080/"
        },
        "outputId": "38f6bafc-679c-4df8-a897-7ddf41e690cc"
      },
      "source": [
        "from sklearn.model_selection import train_test_split\n",
        "X_tr, X_val, y_tr, y_val =  train_test_split(X_train, y_train, test_size=0.2, stratify=y_train, random_state=2021)\n",
        "\n",
        "print(\"훈련 데이터셋: \", X_tr.shape, y_tr.shape)\n",
        "print(\"검증 데이터셋: \", X_val.shape, y_val.shape)"
      ],
      "execution_count": null,
      "outputs": [
        {
          "output_type": "stream",
          "name": "stdout",
          "text": [
            "훈련 데이터셋:  (7045, 3) (7045,)\n",
            "검증 데이터셋:  (1762, 3) (1762,)\n"
          ]
        }
      ]
    },
    {
      "cell_type": "code",
      "metadata": {
        "id": "RrjmxAEo-4sl",
        "colab": {
          "base_uri": "https://localhost:8080/"
        },
        "outputId": "a5196621-61f7-47fe-c51b-563a4bed7739"
      },
      "source": [
        "X_train.isnull().sum().sum(), X_test.isnull().sum().sum()"
      ],
      "execution_count": null,
      "outputs": [
        {
          "output_type": "execute_result",
          "data": {
            "text/plain": [
              "(0, 0)"
            ]
          },
          "metadata": {},
          "execution_count": 120
        }
      ]
    },
    {
      "cell_type": "markdown",
      "metadata": {
        "id": "Dvivsdkj-4sl"
      },
      "source": [
        "## 분류 알고리즘 선택"
      ]
    },
    {
      "cell_type": "code",
      "metadata": {
        "id": "7RXnBOvT-4sl"
      },
      "source": [
        "from sklearn.ensemble import RandomForestClassifier\n",
        "model = RandomForestClassifier(random_state=2021)"
      ],
      "execution_count": null,
      "outputs": []
    },
    {
      "cell_type": "markdown",
      "metadata": {
        "id": "uG30obEw-4sm"
      },
      "source": [
        "## 모델 학습"
      ]
    },
    {
      "cell_type": "code",
      "metadata": {
        "id": "_QniViRi-4sm",
        "colab": {
          "base_uri": "https://localhost:8080/"
        },
        "outputId": "29adf818-0ca4-4260-ea7f-1a6217d0ba4b"
      },
      "source": [
        "model.fit(X_tr, y_tr)"
      ],
      "execution_count": null,
      "outputs": [
        {
          "output_type": "execute_result",
          "data": {
            "text/plain": [
              "RandomForestClassifier(random_state=2021)"
            ]
          },
          "metadata": {},
          "execution_count": 126
        }
      ]
    },
    {
      "cell_type": "markdown",
      "metadata": {
        "id": "iABSYbga-4sn"
      },
      "source": [
        "## 모델 예측"
      ]
    },
    {
      "cell_type": "code",
      "metadata": {
        "id": "zwDf_2u6-4sn",
        "colab": {
          "base_uri": "https://localhost:8080/"
        },
        "outputId": "dcf903a4-c664-4769-a3f0-28450ccf8ce4"
      },
      "source": [
        "val_pred = model.predict(X_val)\n",
        "val_pred[:10]"
      ],
      "execution_count": null,
      "outputs": [
        {
          "output_type": "execute_result",
          "data": {
            "text/plain": [
              "array([0, 0, 0, 0, 1, 0, 0, 0, 0, 0])"
            ]
          },
          "metadata": {},
          "execution_count": 127
        }
      ]
    },
    {
      "cell_type": "code",
      "metadata": {
        "id": "WaZbNefT-4sn",
        "colab": {
          "base_uri": "https://localhost:8080/"
        },
        "outputId": "f676b091-8a67-4a07-b2ab-8712242b8977"
      },
      "source": [
        "y_val[:10].to_list()"
      ],
      "execution_count": null,
      "outputs": [
        {
          "output_type": "execute_result",
          "data": {
            "text/plain": [
              "[0, 0, 1, 0, 0, 0, 0, 0, 0, 0]"
            ]
          },
          "metadata": {},
          "execution_count": 128
        }
      ]
    },
    {
      "cell_type": "markdown",
      "metadata": {
        "id": "-33wqhGM-4sn"
      },
      "source": [
        "## 성능 평가"
      ]
    },
    {
      "cell_type": "markdown",
      "metadata": {
        "id": "_vMpt9Ka-4sn"
      },
      "source": [
        "성능 평가 지표는 **f1 score**를 사용하였습니다.  \n",
        "f1 score는 Precision과 Recall의 조화평균으로 주로 **분류 클래스 간의 데이터가 불균형이 심각할때 사용**합니다.  \n",
        "<img src='https://t1.daumcdn.net/cfile/tistory/99DC064C5BE056CE10' width=50%>\n",
        "<img src='https://miro.medium.com/max/700/1*3KDYxZCMmGbUDtmQdnYhmw.jpeg' width=50%>\n",
        "<img src='https://miro.medium.com/max/1400/1*A0Lu2dZfWsCMqWlhw1ZNfQ.png' width=70%>"
      ]
    },
    {
      "cell_type": "code",
      "metadata": {
        "id": "YTOhUBpn-4sn",
        "colab": {
          "base_uri": "https://localhost:8080/",
          "height": 297
        },
        "outputId": "ea0a6242-9343-49ad-9c4f-ddcdcb4ca04f"
      },
      "source": [
        "# Confusion Matrix\n",
        "from sklearn.metrics import confusion_matrix \n",
        "from sklearn.metrics import plot_confusion_matrix\n",
        "\n",
        "plot_confusion_matrix(model, X_val, y_val,\n",
        "                      values_format='d', cmap='cividis', \n",
        "                      display_labels=[\"1\", \"0\"])"
      ],
      "execution_count": null,
      "outputs": [
        {
          "output_type": "execute_result",
          "data": {
            "text/plain": [
              "<sklearn.metrics._plot.confusion_matrix.ConfusionMatrixDisplay at 0x7fbf1cf89450>"
            ]
          },
          "metadata": {},
          "execution_count": 129
        },
        {
          "output_type": "display_data",
          "data": {
            "image/png": "[encoded data removed]",
            "text/plain": [
              "<Figure size 432x288 with 2 Axes>"
            ]
          },
          "metadata": {
            "needs_background": "light"
          }
        }
      ]
    },
    {
      "cell_type": "code",
      "source": [
        "# 평가 지표\n",
        "print(\"정확도: %0.2f\" % accuracy_score(y_val, val_pred))\n",
        "print(\"정밀도: %0.2f\" % precision_score(y_val, val_pred))\n",
        "print(\"재현율: %0.2f\" % recall_score(y_val, val_pred))\n",
        "print(\"F1 스코어: %0.2f\" % f1_score(y_val, val_pred))\n",
        "print(\"ROC AUC: %0.2f\" % roc_auc_score(y_val, val_pred))"
      ],
      "metadata": {
        "colab": {
          "base_uri": "https://localhost:8080/",
          "height": 248
        },
        "id": "7VNOdSOybkGY",
        "outputId": "39560dc1-69ee-41fb-bbeb-77eb2d75c7a4"
      },
      "execution_count": null,
      "outputs": [
        {
          "output_type": "error",
          "ename": "NameError",
          "evalue": "ignored",
          "traceback": [
            "\u001b[0;31m---------------------------------------------------------------------------\u001b[0m",
            "\u001b[0;31mNameError\u001b[0m                                 Traceback (most recent call last)",
            "\u001b[0;32m<ipython-input-130-233ac0e6df4e>\u001b[0m in \u001b[0;36m<module>\u001b[0;34m()\u001b[0m\n\u001b[1;32m      1\u001b[0m \u001b[0;31m# 평가 지표\u001b[0m\u001b[0;34m\u001b[0m\u001b[0;34m\u001b[0m\u001b[0;34m\u001b[0m\u001b[0m\n\u001b[0;32m----> 2\u001b[0;31m \u001b[0mprint\u001b[0m\u001b[0;34m(\u001b[0m\u001b[0;34m\"정확도: %0.2f\"\u001b[0m \u001b[0;34m%\u001b[0m \u001b[0maccuracy_score\u001b[0m\u001b[0;34m(\u001b[0m\u001b[0my_val\u001b[0m\u001b[0;34m,\u001b[0m \u001b[0mval_pred\u001b[0m\u001b[0;34m)\u001b[0m\u001b[0;34m)\u001b[0m\u001b[0;34m\u001b[0m\u001b[0;34m\u001b[0m\u001b[0m\n\u001b[0m\u001b[1;32m      3\u001b[0m \u001b[0mprint\u001b[0m\u001b[0;34m(\u001b[0m\u001b[0;34m\"정밀도: %0.2f\"\u001b[0m \u001b[0;34m%\u001b[0m \u001b[0mprecision_score\u001b[0m\u001b[0;34m(\u001b[0m\u001b[0my_val\u001b[0m\u001b[0;34m,\u001b[0m \u001b[0mval_pred\u001b[0m\u001b[0;34m)\u001b[0m\u001b[0;34m)\u001b[0m\u001b[0;34m\u001b[0m\u001b[0;34m\u001b[0m\u001b[0m\n\u001b[1;32m      4\u001b[0m \u001b[0mprint\u001b[0m\u001b[0;34m(\u001b[0m\u001b[0;34m\"재현율: %0.2f\"\u001b[0m \u001b[0;34m%\u001b[0m \u001b[0mrecall_score\u001b[0m\u001b[0;34m(\u001b[0m\u001b[0my_val\u001b[0m\u001b[0;34m,\u001b[0m \u001b[0mval_pred\u001b[0m\u001b[0;34m)\u001b[0m\u001b[0;34m)\u001b[0m\u001b[0;34m\u001b[0m\u001b[0;34m\u001b[0m\u001b[0m\n\u001b[1;32m      5\u001b[0m \u001b[0mprint\u001b[0m\u001b[0;34m(\u001b[0m\u001b[0;34m\"F1 스코어: %0.2f\"\u001b[0m \u001b[0;34m%\u001b[0m \u001b[0mf1_score\u001b[0m\u001b[0;34m(\u001b[0m\u001b[0my_val\u001b[0m\u001b[0;34m,\u001b[0m \u001b[0mval_pred\u001b[0m\u001b[0;34m)\u001b[0m\u001b[0;34m)\u001b[0m\u001b[0;34m\u001b[0m\u001b[0;34m\u001b[0m\u001b[0m\n",
            "\u001b[0;31mNameError\u001b[0m: name 'accuracy_score' is not defined"
          ]
        }
      ]
    },
    {
      "cell_type": "code",
      "source": [
        "# 평가 지표\n",
        "print(\"정확도: %0.2f\" % accuracy_score(y_val, val_pred))\n",
        "print(\"정밀도: %0.2f\" % precision_score(y_val, val_pred))\n",
        "print(\"재현율: %0.2f\" % recall_score(y_val, val_pred))\n",
        "print(\"F1 스코어: %0.2f\" % f1_score(y_val, val_pred))\n",
        "print(\"ROC AUC: %0.2f\" % roc_auc_score(y_val, val_pred))"
      ],
      "metadata": {
        "colab": {
          "base_uri": "https://localhost:8080/"
        },
        "id": "RBJNbqoSUHFr",
        "outputId": "0928596a-77cf-4f08-b094-eea8e5fc0a95"
      },
      "execution_count": null,
      "outputs": [
        {
          "output_type": "stream",
          "name": "stdout",
          "text": [
            "정확도: 0.69\n",
            "정밀도: 0.47\n",
            "재현율: 0.28\n",
            "F1 스코어: 0.36\n",
            "ROC AUC: 0.57\n"
          ]
        }
      ]
    },
    {
      "cell_type": "code",
      "metadata": {
        "id": "s6-RQuPL-4sn",
        "colab": {
          "base_uri": "https://localhost:8080/"
        },
        "outputId": "03f03dcd-42c1-438f-e7e9-2c2493daed8f"
      },
      "source": [
        "# 평가 지표 - Accuracy\n",
        "from sklearn.metrics import accuracy_score\n",
        "\n",
        "print(\"정확도: %0.2f\" % accuracy_score(y_val, val_pred))"
      ],
      "execution_count": null,
      "outputs": [
        {
          "output_type": "stream",
          "name": "stdout",
          "text": [
            "정확도: 0.72\n"
          ]
        }
      ]
    },
    {
      "cell_type": "code",
      "metadata": {
        "id": "xeugKycM-4sn",
        "colab": {
          "base_uri": "https://localhost:8080/"
        },
        "outputId": "43e4e83c-85ee-43cd-ea04-40ce3eac5d57"
      },
      "source": [
        "# 평가 지표 - Precision\n",
        "from sklearn.metrics import precision_score\n",
        "\n",
        "print(\"정밀도: %0.2f\" % precision_score(y_val, val_pred))"
      ],
      "execution_count": null,
      "outputs": [
        {
          "output_type": "stream",
          "name": "stdout",
          "text": [
            "정밀도: 0.54\n"
          ]
        }
      ]
    },
    {
      "cell_type": "code",
      "metadata": {
        "id": "kdFcLpxj-4so",
        "colab": {
          "base_uri": "https://localhost:8080/"
        },
        "outputId": "d917c900-b377-4f36-eb4f-7490b1c36d54"
      },
      "source": [
        "# 평가 지표 - Recall\n",
        "from sklearn.metrics import recall_score\n",
        "\n",
        "print(\"재현율: %0.2f\" % recall_score(y_val, val_pred))"
      ],
      "execution_count": null,
      "outputs": [
        {
          "output_type": "stream",
          "name": "stdout",
          "text": [
            "재현율: 0.40\n"
          ]
        }
      ]
    },
    {
      "cell_type": "code",
      "metadata": {
        "id": "vWY8P0vU-4so",
        "colab": {
          "base_uri": "https://localhost:8080/"
        },
        "outputId": "51121fee-e9cf-4b08-cd7a-9ad637ff59bc"
      },
      "source": [
        "# 평가 지표 - F1 score\n",
        "from sklearn.metrics import f1_score\n",
        "\n",
        "print(\"F1 스코어: %0.2f\" % f1_score(y_val, val_pred))"
      ],
      "execution_count": null,
      "outputs": [
        {
          "output_type": "stream",
          "name": "stdout",
          "text": [
            "F1 스코어: 0.46\n"
          ]
        }
      ]
    },
    {
      "cell_type": "code",
      "metadata": {
        "id": "mEX1CrXc-4so",
        "colab": {
          "base_uri": "https://localhost:8080/"
        },
        "outputId": "1205152d-b396-4532-ce97-7310baca1e7d"
      },
      "source": [
        "# 평가 지표 - ROC AUC\n",
        "from sklearn.metrics import roc_auc_score\n",
        "\n",
        "print(\"ROC AUC: %0.2f\" % roc_auc_score(y_val, val_pred))"
      ],
      "execution_count": null,
      "outputs": [
        {
          "output_type": "stream",
          "name": "stdout",
          "text": [
            "ROC AUC: 0.63\n"
          ]
        }
      ]
    },
    {
      "cell_type": "markdown",
      "metadata": {
        "id": "-KKGCyhe-4so"
      },
      "source": [
        "## Submission 파일 만들기"
      ]
    },
    {
      "cell_type": "code",
      "metadata": {
        "id": "XSbXvjQG-4so",
        "colab": {
          "base_uri": "https://localhost:8080/",
          "height": 424
        },
        "outputId": "4506bb2e-487a-4926-c979-ee7b5d5429ed"
      },
      "source": [
        "submission = pd.read_csv('/content/MyDrive/MyDrive/membership/sample_submission.csv')\n",
        "submission"
      ],
      "execution_count": null,
      "outputs": [
        {
          "output_type": "execute_result",
          "data": {
            "text/html": [
              "<div>\n",
              "<style scoped>\n",
              "    .dataframe tbody tr th:only-of-type {\n",
              "        vertical-align: middle;\n",
              "    }\n",
              "\n",
              "    .dataframe tbody tr th {\n",
              "        vertical-align: top;\n",
              "    }\n",
              "\n",
              "    .dataframe thead th {\n",
              "        text-align: right;\n",
              "    }\n",
              "</style>\n",
              "<table border=\"1\" class=\"dataframe\">\n",
              "  <thead>\n",
              "    <tr style=\"text-align: right;\">\n",
              "      <th></th>\n",
              "      <th>id</th>\n",
              "      <th>MEMBERSHIP_STATUS</th>\n",
              "    </tr>\n",
              "  </thead>\n",
              "  <tbody>\n",
              "    <tr>\n",
              "      <th>0</th>\n",
              "      <td>8807</td>\n",
              "      <td>0</td>\n",
              "    </tr>\n",
              "    <tr>\n",
              "      <th>1</th>\n",
              "      <td>8808</td>\n",
              "      <td>1</td>\n",
              "    </tr>\n",
              "    <tr>\n",
              "      <th>2</th>\n",
              "      <td>8809</td>\n",
              "      <td>0</td>\n",
              "    </tr>\n",
              "    <tr>\n",
              "      <th>3</th>\n",
              "      <td>8810</td>\n",
              "      <td>0</td>\n",
              "    </tr>\n",
              "    <tr>\n",
              "      <th>4</th>\n",
              "      <td>8811</td>\n",
              "      <td>1</td>\n",
              "    </tr>\n",
              "    <tr>\n",
              "      <th>...</th>\n",
              "      <td>...</td>\n",
              "      <td>...</td>\n",
              "    </tr>\n",
              "    <tr>\n",
              "      <th>1550</th>\n",
              "      <td>10357</td>\n",
              "      <td>0</td>\n",
              "    </tr>\n",
              "    <tr>\n",
              "      <th>1551</th>\n",
              "      <td>10358</td>\n",
              "      <td>1</td>\n",
              "    </tr>\n",
              "    <tr>\n",
              "      <th>1552</th>\n",
              "      <td>10359</td>\n",
              "      <td>1</td>\n",
              "    </tr>\n",
              "    <tr>\n",
              "      <th>1553</th>\n",
              "      <td>10360</td>\n",
              "      <td>1</td>\n",
              "    </tr>\n",
              "    <tr>\n",
              "      <th>1554</th>\n",
              "      <td>10361</td>\n",
              "      <td>0</td>\n",
              "    </tr>\n",
              "  </tbody>\n",
              "</table>\n",
              "<p>1555 rows × 2 columns</p>\n",
              "</div>"
            ],
            "text/plain": [
              "         id  MEMBERSHIP_STATUS\n",
              "0      8807                  0\n",
              "1      8808                  1\n",
              "2      8809                  0\n",
              "3      8810                  0\n",
              "4      8811                  1\n",
              "...     ...                ...\n",
              "1550  10357                  0\n",
              "1551  10358                  1\n",
              "1552  10359                  1\n",
              "1553  10360                  1\n",
              "1554  10361                  0\n",
              "\n",
              "[1555 rows x 2 columns]"
            ]
          },
          "metadata": {},
          "execution_count": 135
        }
      ]
    },
    {
      "cell_type": "code",
      "metadata": {
        "id": "6nQE_Gf1-4so",
        "colab": {
          "base_uri": "https://localhost:8080/",
          "height": 424
        },
        "outputId": "02d0f3c3-9300-481e-cb6b-5b3b5325f900"
      },
      "source": [
        "preds = model.predict(X_test)\n",
        "submission['MEMBERSHIP_STATUS'] = preds\n",
        "submission"
      ],
      "execution_count": null,
      "outputs": [
        {
          "output_type": "execute_result",
          "data": {
            "text/html": [
              "<div>\n",
              "<style scoped>\n",
              "    .dataframe tbody tr th:only-of-type {\n",
              "        vertical-align: middle;\n",
              "    }\n",
              "\n",
              "    .dataframe tbody tr th {\n",
              "        vertical-align: top;\n",
              "    }\n",
              "\n",
              "    .dataframe thead th {\n",
              "        text-align: right;\n",
              "    }\n",
              "</style>\n",
              "<table border=\"1\" class=\"dataframe\">\n",
              "  <thead>\n",
              "    <tr style=\"text-align: right;\">\n",
              "      <th></th>\n",
              "      <th>id</th>\n",
              "      <th>MEMBERSHIP_STATUS</th>\n",
              "    </tr>\n",
              "  </thead>\n",
              "  <tbody>\n",
              "    <tr>\n",
              "      <th>0</th>\n",
              "      <td>8807</td>\n",
              "      <td>0</td>\n",
              "    </tr>\n",
              "    <tr>\n",
              "      <th>1</th>\n",
              "      <td>8808</td>\n",
              "      <td>0</td>\n",
              "    </tr>\n",
              "    <tr>\n",
              "      <th>2</th>\n",
              "      <td>8809</td>\n",
              "      <td>0</td>\n",
              "    </tr>\n",
              "    <tr>\n",
              "      <th>3</th>\n",
              "      <td>8810</td>\n",
              "      <td>1</td>\n",
              "    </tr>\n",
              "    <tr>\n",
              "      <th>4</th>\n",
              "      <td>8811</td>\n",
              "      <td>0</td>\n",
              "    </tr>\n",
              "    <tr>\n",
              "      <th>...</th>\n",
              "      <td>...</td>\n",
              "      <td>...</td>\n",
              "    </tr>\n",
              "    <tr>\n",
              "      <th>1550</th>\n",
              "      <td>10357</td>\n",
              "      <td>0</td>\n",
              "    </tr>\n",
              "    <tr>\n",
              "      <th>1551</th>\n",
              "      <td>10358</td>\n",
              "      <td>0</td>\n",
              "    </tr>\n",
              "    <tr>\n",
              "      <th>1552</th>\n",
              "      <td>10359</td>\n",
              "      <td>0</td>\n",
              "    </tr>\n",
              "    <tr>\n",
              "      <th>1553</th>\n",
              "      <td>10360</td>\n",
              "      <td>0</td>\n",
              "    </tr>\n",
              "    <tr>\n",
              "      <th>1554</th>\n",
              "      <td>10361</td>\n",
              "      <td>0</td>\n",
              "    </tr>\n",
              "  </tbody>\n",
              "</table>\n",
              "<p>1555 rows × 2 columns</p>\n",
              "</div>"
            ],
            "text/plain": [
              "         id  MEMBERSHIP_STATUS\n",
              "0      8807                  0\n",
              "1      8808                  0\n",
              "2      8809                  0\n",
              "3      8810                  1\n",
              "4      8811                  0\n",
              "...     ...                ...\n",
              "1550  10357                  0\n",
              "1551  10358                  0\n",
              "1552  10359                  0\n",
              "1553  10360                  0\n",
              "1554  10361                  0\n",
              "\n",
              "[1555 rows x 2 columns]"
            ]
          },
          "metadata": {},
          "execution_count": 136
        }
      ]
    },
    {
      "cell_type": "code",
      "metadata": {
        "id": "QqJPcugW-4so",
        "colab": {
          "base_uri": "https://localhost:8080/"
        },
        "outputId": "4579d0ec-0061-4ac9-a4f1-b251564f198f"
      },
      "source": [
        "submission['MEMBERSHIP_STATUS'].value_counts() / submission.shape[0]"
      ],
      "execution_count": null,
      "outputs": [
        {
          "output_type": "execute_result",
          "data": {
            "text/plain": [
              "0    0.794212\n",
              "1    0.205788\n",
              "Name: MEMBERSHIP_STATUS, dtype: float64"
            ]
          },
          "metadata": {},
          "execution_count": 137
        }
      ]
    },
    {
      "cell_type": "code",
      "metadata": {
        "id": "snFdFnvd-4sp"
      },
      "source": [
        "submission.to_csv('prediction_002.csv', index=False)"
      ],
      "execution_count": null,
      "outputs": []
    },
    {
      "cell_type": "markdown",
      "metadata": {
        "id": "DvntJJZD-4sp"
      },
      "source": [
        "# Feature Engineering"
      ]
    },
    {
      "cell_type": "markdown",
      "metadata": {
        "id": "nmvTJLwX-4sp"
      },
      "source": [
        "## Feature Importance "
      ]
    },
    {
      "cell_type": "code",
      "metadata": {
        "id": "BxIui6Ff-4sp",
        "colab": {
          "base_uri": "https://localhost:8080/"
        },
        "outputId": "c4ae289e-5ac2-4d64-eecd-31ab0f0e287d"
      },
      "source": [
        "# normalization 방법\n",
        "feature_names = X_train.columns\n",
        "feature_names"
      ],
      "execution_count": null,
      "outputs": [
        {
          "output_type": "execute_result",
          "data": {
            "text/plain": [
              "Index(['income', 'age', 'stard_date'], dtype='object')"
            ]
          },
          "metadata": {},
          "execution_count": 136
        }
      ]
    },
    {
      "cell_type": "code",
      "metadata": {
        "id": "oc6YPzeE-4sp",
        "colab": {
          "base_uri": "https://localhost:8080/"
        },
        "outputId": "4a5230a7-5c15-4b57-f363-95119080314d"
      },
      "source": [
        "importances = model.feature_importances_\n",
        "importances"
      ],
      "execution_count": null,
      "outputs": [
        {
          "output_type": "execute_result",
          "data": {
            "text/plain": [
              "array([0.22971877, 0.23018282, 0.54009841])"
            ]
          },
          "metadata": {},
          "execution_count": 137
        }
      ]
    },
    {
      "cell_type": "code",
      "metadata": {
        "id": "qNQ4T2Wc-4sp"
      },
      "source": [
        "plt.figure(figsize=(12, 4))\n",
        "sns.barplot(x=feature_names, y=importances, estimator=np.mean)\n",
        "plt.title(\"Feature importances\")\n",
        "plt.ylabel(\"Mean decrease in impurity\")\n",
        "plt.show()"
      ],
      "execution_count": null,
      "outputs": []
    },
    {
      "cell_type": "markdown",
      "metadata": {
        "id": "v7gUpJYp-4sp"
      },
      "source": [
        "## Feature Scaling"
      ]
    },
    {
      "cell_type": "code",
      "metadata": {
        "id": "FFqqw90x-4sp",
        "colab": {
          "base_uri": "https://localhost:8080/",
          "height": 300
        },
        "outputId": "925e72a2-95a9-4a51-e8f3-b4d3cea212fa"
      },
      "source": [
        "X_train.describe()"
      ],
      "execution_count": null,
      "outputs": [
        {
          "output_type": "execute_result",
          "data": {
            "text/html": [
              "<div>\n",
              "<style scoped>\n",
              "    .dataframe tbody tr th:only-of-type {\n",
              "        vertical-align: middle;\n",
              "    }\n",
              "\n",
              "    .dataframe tbody tr th {\n",
              "        vertical-align: top;\n",
              "    }\n",
              "\n",
              "    .dataframe thead th {\n",
              "        text-align: right;\n",
              "    }\n",
              "</style>\n",
              "<table border=\"1\" class=\"dataframe\">\n",
              "  <thead>\n",
              "    <tr style=\"text-align: right;\">\n",
              "      <th></th>\n",
              "      <th>income</th>\n",
              "      <th>age</th>\n",
              "      <th>stard_date</th>\n",
              "    </tr>\n",
              "  </thead>\n",
              "  <tbody>\n",
              "    <tr>\n",
              "      <th>count</th>\n",
              "      <td>8.807000e+03</td>\n",
              "      <td>8807.000000</td>\n",
              "      <td>8.807000e+03</td>\n",
              "    </tr>\n",
              "    <tr>\n",
              "      <th>mean</th>\n",
              "      <td>1.375036e+06</td>\n",
              "      <td>46.766322</td>\n",
              "      <td>2.010835e+07</td>\n",
              "    </tr>\n",
              "    <tr>\n",
              "      <th>std</th>\n",
              "      <td>1.368975e+07</td>\n",
              "      <td>13.909048</td>\n",
              "      <td>1.727042e+04</td>\n",
              "    </tr>\n",
              "    <tr>\n",
              "      <th>min</th>\n",
              "      <td>9.996000e+03</td>\n",
              "      <td>0.000000</td>\n",
              "      <td>2.006091e+07</td>\n",
              "    </tr>\n",
              "    <tr>\n",
              "      <th>25%</th>\n",
              "      <td>3.999960e+05</td>\n",
              "      <td>37.000000</td>\n",
              "      <td>2.009123e+07</td>\n",
              "    </tr>\n",
              "    <tr>\n",
              "      <th>50%</th>\n",
              "      <td>6.999960e+05</td>\n",
              "      <td>46.000000</td>\n",
              "      <td>2.011011e+07</td>\n",
              "    </tr>\n",
              "    <tr>\n",
              "      <th>75%</th>\n",
              "      <td>1.375036e+06</td>\n",
              "      <td>57.000000</td>\n",
              "      <td>2.012123e+07</td>\n",
              "    </tr>\n",
              "    <tr>\n",
              "      <th>max</th>\n",
              "      <td>1.000000e+09</td>\n",
              "      <td>92.000000</td>\n",
              "      <td>2.013113e+07</td>\n",
              "    </tr>\n",
              "  </tbody>\n",
              "</table>\n",
              "</div>"
            ],
            "text/plain": [
              "             income          age    stard_date\n",
              "count  8.807000e+03  8807.000000  8.807000e+03\n",
              "mean   1.375036e+06    46.766322  2.010835e+07\n",
              "std    1.368975e+07    13.909048  1.727042e+04\n",
              "min    9.996000e+03     0.000000  2.006091e+07\n",
              "25%    3.999960e+05    37.000000  2.009123e+07\n",
              "50%    6.999960e+05    46.000000  2.011011e+07\n",
              "75%    1.375036e+06    57.000000  2.012123e+07\n",
              "max    1.000000e+09    92.000000  2.013113e+07"
            ]
          },
          "metadata": {},
          "execution_count": 138
        }
      ]
    },
    {
      "cell_type": "code",
      "metadata": {
        "id": "Mlv6ZCpF-4sp"
      },
      "source": [
        "from sklearn.preprocessing import MinMaxScaler\n",
        "scaler = MinMaxScaler()\n",
        "\n",
        "X_train_scaled = X_train.copy()\n",
        "\n",
        "scaler.fit(X_train)\n",
        "X_train_scaled.loc[:, :] = scaler.transform(X_train)\n",
        "\n",
        "X_train_scaled.head(2)"
      ],
      "execution_count": null,
      "outputs": []
    },
    {
      "cell_type": "code",
      "metadata": {
        "id": "5AtkOSCD-4sq",
        "colab": {
          "base_uri": "https://localhost:8080/",
          "height": 112
        },
        "outputId": "3d1d320b-dcb9-4a53-e982-4f04ce9f2948"
      },
      "source": [
        "X_test_scaled = X_test.copy()\n",
        "X_test_scaled.loc[:, :] = scaler.transform(X_test)\n",
        "\n",
        "X_test_scaled.head(2)"
      ],
      "execution_count": null,
      "outputs": [
        {
          "output_type": "execute_result",
          "data": {
            "text/html": [
              "<div>\n",
              "<style scoped>\n",
              "    .dataframe tbody tr th:only-of-type {\n",
              "        vertical-align: middle;\n",
              "    }\n",
              "\n",
              "    .dataframe tbody tr th {\n",
              "        vertical-align: top;\n",
              "    }\n",
              "\n",
              "    .dataframe thead th {\n",
              "        text-align: right;\n",
              "    }\n",
              "</style>\n",
              "<table border=\"1\" class=\"dataframe\">\n",
              "  <thead>\n",
              "    <tr style=\"text-align: right;\">\n",
              "      <th></th>\n",
              "      <th>income</th>\n",
              "      <th>age</th>\n",
              "      <th>stard_date</th>\n",
              "    </tr>\n",
              "  </thead>\n",
              "  <tbody>\n",
              "    <tr>\n",
              "      <th>0</th>\n",
              "      <td>0.00099</td>\n",
              "      <td>0.445652</td>\n",
              "      <td>0.561376</td>\n",
              "    </tr>\n",
              "    <tr>\n",
              "      <th>1</th>\n",
              "      <td>0.00039</td>\n",
              "      <td>0.369565</td>\n",
              "      <td>0.418956</td>\n",
              "    </tr>\n",
              "  </tbody>\n",
              "</table>\n",
              "</div>"
            ],
            "text/plain": [
              "    income       age  stard_date\n",
              "0  0.00099  0.445652    0.561376\n",
              "1  0.00039  0.369565    0.418956"
            ]
          },
          "metadata": {},
          "execution_count": 141
        }
      ]
    },
    {
      "cell_type": "code",
      "metadata": {
        "id": "AS4xyw3R-4sq",
        "colab": {
          "base_uri": "https://localhost:8080/"
        },
        "outputId": "09a1df03-4cd4-4474-f231-2cfb9d19ad80"
      },
      "source": [
        "X_tr, X_val, y_tr, y_val =  train_test_split(X_train_scaled, y_train, test_size=0.2, stratify=y_train, random_state=2021)\n",
        "\n",
        "print(\"훈련 데이터셋: \", X_tr.shape, y_tr.shape)\n",
        "print(\"검증 데이터셋: \", X_val.shape, y_val.shape)"
      ],
      "execution_count": null,
      "outputs": [
        {
          "output_type": "stream",
          "name": "stdout",
          "text": [
            "훈련 데이터셋:  (7045, 3) (7045,)\n",
            "검증 데이터셋:  (1762, 3) (1762,)\n"
          ]
        }
      ]
    },
    {
      "cell_type": "code",
      "metadata": {
        "id": "YjlpMxkl-4sq"
      },
      "source": [
        "model = RandomForestClassifier(random_state=2021)\n",
        "model.fit(X_tr, y_tr)\n",
        "val_pred = model.predict(X_val)"
      ],
      "execution_count": null,
      "outputs": []
    },
    {
      "cell_type": "code",
      "metadata": {
        "id": "W7vicwFx-4sq",
        "colab": {
          "base_uri": "https://localhost:8080/"
        },
        "outputId": "681fc29c-bbb4-4e04-ad24-273f4e184cb5"
      },
      "source": [
        "# 평가 지표\n",
        "print(\"정확도: %0.2f\" % accuracy_score(y_val, val_pred))\n",
        "print(\"정밀도: %0.2f\" % precision_score(y_val, val_pred))\n",
        "print(\"재현율: %0.2f\" % recall_score(y_val, val_pred))\n",
        "print(\"F1 스코어: %0.2f\" % f1_score(y_val, val_pred))\n",
        "print(\"ROC AUC: %0.2f\" % roc_auc_score(y_val, val_pred))"
      ],
      "execution_count": null,
      "outputs": [
        {
          "output_type": "stream",
          "name": "stdout",
          "text": [
            "정확도: 0.73\n",
            "정밀도: 0.57\n",
            "재현율: 0.44\n",
            "F1 스코어: 0.49\n",
            "ROC AUC: 0.65\n"
          ]
        }
      ]
    },
    {
      "cell_type": "code",
      "metadata": {
        "id": "7ZhGjPK7-4sq"
      },
      "source": [
        "plt.figure(figsize=(12, 4))\n",
        "sns.barplot(x=X_train.columns, y=model.feature_importances_, estimator=np.mean)\n",
        "plt.title(\"Feature importances\")\n",
        "plt.ylabel(\"Mean decrease in impurity\")\n",
        "plt.show()"
      ],
      "execution_count": null,
      "outputs": []
    },
    {
      "cell_type": "code",
      "metadata": {
        "id": "bcLs4gON-4sq",
        "colab": {
          "base_uri": "https://localhost:8080/",
          "height": 424
        },
        "outputId": "01788656-1a2a-48ce-dba4-ec2c13afae81"
      },
      "source": [
        "preds = model.predict(X_test_scaled)\n",
        "submission['MEMBERSHIP_STATUS'] = preds\n",
        "submission.to_csv('prediction_002.csv', index=False)\n",
        "submission"
      ],
      "execution_count": null,
      "outputs": [
        {
          "output_type": "execute_result",
          "data": {
            "text/html": [
              "<div>\n",
              "<style scoped>\n",
              "    .dataframe tbody tr th:only-of-type {\n",
              "        vertical-align: middle;\n",
              "    }\n",
              "\n",
              "    .dataframe tbody tr th {\n",
              "        vertical-align: top;\n",
              "    }\n",
              "\n",
              "    .dataframe thead th {\n",
              "        text-align: right;\n",
              "    }\n",
              "</style>\n",
              "<table border=\"1\" class=\"dataframe\">\n",
              "  <thead>\n",
              "    <tr style=\"text-align: right;\">\n",
              "      <th></th>\n",
              "      <th>id</th>\n",
              "      <th>MEMBERSHIP_STATUS</th>\n",
              "    </tr>\n",
              "  </thead>\n",
              "  <tbody>\n",
              "    <tr>\n",
              "      <th>0</th>\n",
              "      <td>8807</td>\n",
              "      <td>0</td>\n",
              "    </tr>\n",
              "    <tr>\n",
              "      <th>1</th>\n",
              "      <td>8808</td>\n",
              "      <td>1</td>\n",
              "    </tr>\n",
              "    <tr>\n",
              "      <th>2</th>\n",
              "      <td>8809</td>\n",
              "      <td>0</td>\n",
              "    </tr>\n",
              "    <tr>\n",
              "      <th>3</th>\n",
              "      <td>8810</td>\n",
              "      <td>1</td>\n",
              "    </tr>\n",
              "    <tr>\n",
              "      <th>4</th>\n",
              "      <td>8811</td>\n",
              "      <td>0</td>\n",
              "    </tr>\n",
              "    <tr>\n",
              "      <th>...</th>\n",
              "      <td>...</td>\n",
              "      <td>...</td>\n",
              "    </tr>\n",
              "    <tr>\n",
              "      <th>1550</th>\n",
              "      <td>10357</td>\n",
              "      <td>0</td>\n",
              "    </tr>\n",
              "    <tr>\n",
              "      <th>1551</th>\n",
              "      <td>10358</td>\n",
              "      <td>1</td>\n",
              "    </tr>\n",
              "    <tr>\n",
              "      <th>1552</th>\n",
              "      <td>10359</td>\n",
              "      <td>0</td>\n",
              "    </tr>\n",
              "    <tr>\n",
              "      <th>1553</th>\n",
              "      <td>10360</td>\n",
              "      <td>0</td>\n",
              "    </tr>\n",
              "    <tr>\n",
              "      <th>1554</th>\n",
              "      <td>10361</td>\n",
              "      <td>1</td>\n",
              "    </tr>\n",
              "  </tbody>\n",
              "</table>\n",
              "<p>1555 rows × 2 columns</p>\n",
              "</div>"
            ],
            "text/plain": [
              "         id  MEMBERSHIP_STATUS\n",
              "0      8807                  0\n",
              "1      8808                  1\n",
              "2      8809                  0\n",
              "3      8810                  1\n",
              "4      8811                  0\n",
              "...     ...                ...\n",
              "1550  10357                  0\n",
              "1551  10358                  1\n",
              "1552  10359                  0\n",
              "1553  10360                  0\n",
              "1554  10361                  1\n",
              "\n",
              "[1555 rows x 2 columns]"
            ]
          },
          "metadata": {},
          "execution_count": 145
        }
      ]
    },
    {
      "cell_type": "code",
      "metadata": {
        "id": "OOCjUWkJ-4sr",
        "colab": {
          "base_uri": "https://localhost:8080/"
        },
        "outputId": "05d22f07-f171-416c-ab96-156c62687885"
      },
      "source": [
        "submission['MEMBERSHIP_STATUS'].value_counts() / submission.shape[0]"
      ],
      "execution_count": null,
      "outputs": [
        {
          "output_type": "execute_result",
          "data": {
            "text/plain": [
              "0    0.733762\n",
              "1    0.266238\n",
              "Name: MEMBERSHIP_STATUS, dtype: float64"
            ]
          },
          "metadata": {},
          "execution_count": 146
        }
      ]
    },
    {
      "cell_type": "markdown",
      "metadata": {
        "id": "9eZpV6FY-4sr"
      },
      "source": [
        "# 모델 성능 개선하기"
      ]
    },
    {
      "cell_type": "markdown",
      "metadata": {
        "id": "LDFPSd03-4sr"
      },
      "source": [
        "## 변수 선택 \n",
        "Feature Importance 분석에 따라, 가장 낮는 married, job 열을 제외하고 분석"
      ]
    },
    {
      "cell_type": "code",
      "metadata": {
        "id": "K37FNRD6-4sr",
        "colab": {
          "base_uri": "https://localhost:8080/",
          "height": 112
        },
        "outputId": "ae29a1d5-ba51-4433-d27a-0fa96b8a2c57"
      },
      "source": [
        "X_train_scaled.head(2)"
      ],
      "execution_count": null,
      "outputs": [
        {
          "output_type": "execute_result",
          "data": {
            "text/html": [
              "<div>\n",
              "<style scoped>\n",
              "    .dataframe tbody tr th:only-of-type {\n",
              "        vertical-align: middle;\n",
              "    }\n",
              "\n",
              "    .dataframe tbody tr th {\n",
              "        vertical-align: top;\n",
              "    }\n",
              "\n",
              "    .dataframe thead th {\n",
              "        text-align: right;\n",
              "    }\n",
              "</style>\n",
              "<table border=\"1\" class=\"dataframe\">\n",
              "  <thead>\n",
              "    <tr style=\"text-align: right;\">\n",
              "      <th></th>\n",
              "      <th>income</th>\n",
              "      <th>age</th>\n",
              "      <th>stard_date</th>\n",
              "    </tr>\n",
              "  </thead>\n",
              "  <tbody>\n",
              "    <tr>\n",
              "      <th>0</th>\n",
              "      <td>0.000440</td>\n",
              "      <td>0.293478</td>\n",
              "      <td>0.428897</td>\n",
              "    </tr>\n",
              "    <tr>\n",
              "      <th>1</th>\n",
              "      <td>0.001365</td>\n",
              "      <td>0.815217</td>\n",
              "      <td>0.998362</td>\n",
              "    </tr>\n",
              "  </tbody>\n",
              "</table>\n",
              "</div>"
            ],
            "text/plain": [
              "     income       age  stard_date\n",
              "0  0.000440  0.293478    0.428897\n",
              "1  0.001365  0.815217    0.998362"
            ]
          },
          "metadata": {},
          "execution_count": 147
        }
      ]
    },
    {
      "cell_type": "code",
      "metadata": {
        "id": "a61f3Mbu-4sr",
        "colab": {
          "base_uri": "https://localhost:8080/"
        },
        "outputId": "708b26b2-14e9-420b-d54f-4de1e78e4df7"
      },
      "source": [
        "X_train_scaled.columns"
      ],
      "execution_count": null,
      "outputs": [
        {
          "output_type": "execute_result",
          "data": {
            "text/plain": [
              "Index(['income', 'age', 'stard_date'], dtype='object')"
            ]
          },
          "metadata": {},
          "execution_count": 148
        }
      ]
    },
    {
      "cell_type": "code",
      "metadata": {
        "id": "cTeYEneu-4sr",
        "colab": {
          "base_uri": "https://localhost:8080/",
          "height": 418
        },
        "outputId": "c2a8c9ec-39e4-4d69-bdcb-67d7507961f0"
      },
      "source": [
        "selected_features = ['term', 'fee', 'married', 'gender', 'income', 'job', 'package', 'age','family', 'stard_date', 'fee_log']\n",
        "X_train_scaled = X_train_scaled.loc[:, selected_features]\n",
        "X_test_scaled = X_test_scaled.loc[:, selected_features]\n",
        "\n",
        "X_tr, X_val, y_tr, y_val =  train_test_split(X_train_scaled, y_train, test_size=0.2, random_state=2021)\n",
        "print(\"훈련 데이터셋: \", X_tr.shape, y_tr.shape)\n",
        "print(\"검증 데이터셋: \", X_val.shape, y_val.shape)"
      ],
      "execution_count": null,
      "outputs": [
        {
          "output_type": "error",
          "ename": "KeyError",
          "evalue": "ignored",
          "traceback": [
            "\u001b[0;31m---------------------------------------------------------------------------\u001b[0m",
            "\u001b[0;31mKeyError\u001b[0m                                  Traceback (most recent call last)",
            "\u001b[0;32m<ipython-input-150-a2e0ade4d02c>\u001b[0m in \u001b[0;36m<module>\u001b[0;34m()\u001b[0m\n\u001b[1;32m      1\u001b[0m \u001b[0mselected_features\u001b[0m \u001b[0;34m=\u001b[0m \u001b[0;34m[\u001b[0m\u001b[0;34m'term'\u001b[0m\u001b[0;34m,\u001b[0m \u001b[0;34m'fee'\u001b[0m\u001b[0;34m,\u001b[0m \u001b[0;34m'married'\u001b[0m\u001b[0;34m,\u001b[0m \u001b[0;34m'gender'\u001b[0m\u001b[0;34m,\u001b[0m \u001b[0;34m'income'\u001b[0m\u001b[0;34m,\u001b[0m \u001b[0;34m'job'\u001b[0m\u001b[0;34m,\u001b[0m \u001b[0;34m'package'\u001b[0m\u001b[0;34m,\u001b[0m \u001b[0;34m'age'\u001b[0m\u001b[0;34m,\u001b[0m\u001b[0;34m'family'\u001b[0m\u001b[0;34m,\u001b[0m \u001b[0;34m'stard_date'\u001b[0m\u001b[0;34m,\u001b[0m \u001b[0;34m'fee_log'\u001b[0m\u001b[0;34m]\u001b[0m\u001b[0;34m\u001b[0m\u001b[0;34m\u001b[0m\u001b[0m\n\u001b[0;32m----> 2\u001b[0;31m \u001b[0mX_train_scaled\u001b[0m \u001b[0;34m=\u001b[0m \u001b[0mX_train_scaled\u001b[0m\u001b[0;34m.\u001b[0m\u001b[0mloc\u001b[0m\u001b[0;34m[\u001b[0m\u001b[0;34m:\u001b[0m\u001b[0;34m,\u001b[0m \u001b[0mselected_features\u001b[0m\u001b[0;34m]\u001b[0m\u001b[0;34m\u001b[0m\u001b[0;34m\u001b[0m\u001b[0m\n\u001b[0m\u001b[1;32m      3\u001b[0m \u001b[0mX_test_scaled\u001b[0m \u001b[0;34m=\u001b[0m \u001b[0mX_test_scaled\u001b[0m\u001b[0;34m.\u001b[0m\u001b[0mloc\u001b[0m\u001b[0;34m[\u001b[0m\u001b[0;34m:\u001b[0m\u001b[0;34m,\u001b[0m \u001b[0mselected_features\u001b[0m\u001b[0;34m]\u001b[0m\u001b[0;34m\u001b[0m\u001b[0;34m\u001b[0m\u001b[0m\n\u001b[1;32m      4\u001b[0m \u001b[0;34m\u001b[0m\u001b[0m\n\u001b[1;32m      5\u001b[0m \u001b[0mX_tr\u001b[0m\u001b[0;34m,\u001b[0m \u001b[0mX_val\u001b[0m\u001b[0;34m,\u001b[0m \u001b[0my_tr\u001b[0m\u001b[0;34m,\u001b[0m \u001b[0my_val\u001b[0m \u001b[0;34m=\u001b[0m  \u001b[0mtrain_test_split\u001b[0m\u001b[0;34m(\u001b[0m\u001b[0mX_train_scaled\u001b[0m\u001b[0;34m,\u001b[0m \u001b[0my_train\u001b[0m\u001b[0;34m,\u001b[0m \u001b[0mtest_size\u001b[0m\u001b[0;34m=\u001b[0m\u001b[0;36m0.2\u001b[0m\u001b[0;34m,\u001b[0m \u001b[0mrandom_state\u001b[0m\u001b[0;34m=\u001b[0m\u001b[0;36m2021\u001b[0m\u001b[0;34m)\u001b[0m\u001b[0;34m\u001b[0m\u001b[0;34m\u001b[0m\u001b[0m\n",
            "\u001b[0;32m/usr/local/lib/python3.7/dist-packages/pandas/core/indexing.py\u001b[0m in \u001b[0;36m__getitem__\u001b[0;34m(self, key)\u001b[0m\n\u001b[1;32m    871\u001b[0m                     \u001b[0;31m# AttributeError for IntervalTree get_value\u001b[0m\u001b[0;34m\u001b[0m\u001b[0;34m\u001b[0m\u001b[0;34m\u001b[0m\u001b[0m\n\u001b[1;32m    872\u001b[0m                     \u001b[0;32mpass\u001b[0m\u001b[0;34m\u001b[0m\u001b[0;34m\u001b[0m\u001b[0m\n\u001b[0;32m--> 873\u001b[0;31m             \u001b[0;32mreturn\u001b[0m \u001b[0mself\u001b[0m\u001b[0;34m.\u001b[0m\u001b[0m_getitem_tuple\u001b[0m\u001b[0;34m(\u001b[0m\u001b[0mkey\u001b[0m\u001b[0;34m)\u001b[0m\u001b[0;34m\u001b[0m\u001b[0;34m\u001b[0m\u001b[0m\n\u001b[0m\u001b[1;32m    874\u001b[0m         \u001b[0;32melse\u001b[0m\u001b[0;34m:\u001b[0m\u001b[0;34m\u001b[0m\u001b[0;34m\u001b[0m\u001b[0m\n\u001b[1;32m    875\u001b[0m             \u001b[0;31m# we by definition only have the 0th axis\u001b[0m\u001b[0;34m\u001b[0m\u001b[0;34m\u001b[0m\u001b[0;34m\u001b[0m\u001b[0m\n",
            "\u001b[0;32m/usr/local/lib/python3.7/dist-packages/pandas/core/indexing.py\u001b[0m in \u001b[0;36m_getitem_tuple\u001b[0;34m(self, tup)\u001b[0m\n\u001b[1;32m   1053\u001b[0m             \u001b[0;32mreturn\u001b[0m \u001b[0mself\u001b[0m\u001b[0;34m.\u001b[0m\u001b[0m_multi_take\u001b[0m\u001b[0;34m(\u001b[0m\u001b[0mtup\u001b[0m\u001b[0;34m)\u001b[0m\u001b[0;34m\u001b[0m\u001b[0;34m\u001b[0m\u001b[0m\n\u001b[1;32m   1054\u001b[0m \u001b[0;34m\u001b[0m\u001b[0m\n\u001b[0;32m-> 1055\u001b[0;31m         \u001b[0;32mreturn\u001b[0m \u001b[0mself\u001b[0m\u001b[0;34m.\u001b[0m\u001b[0m_getitem_tuple_same_dim\u001b[0m\u001b[0;34m(\u001b[0m\u001b[0mtup\u001b[0m\u001b[0;34m)\u001b[0m\u001b[0;34m\u001b[0m\u001b[0;34m\u001b[0m\u001b[0m\n\u001b[0m\u001b[1;32m   1056\u001b[0m \u001b[0;34m\u001b[0m\u001b[0m\n\u001b[1;32m   1057\u001b[0m     \u001b[0;32mdef\u001b[0m \u001b[0m_get_label\u001b[0m\u001b[0;34m(\u001b[0m\u001b[0mself\u001b[0m\u001b[0;34m,\u001b[0m \u001b[0mlabel\u001b[0m\u001b[0;34m,\u001b[0m \u001b[0maxis\u001b[0m\u001b[0;34m:\u001b[0m \u001b[0mint\u001b[0m\u001b[0;34m)\u001b[0m\u001b[0;34m:\u001b[0m\u001b[0;34m\u001b[0m\u001b[0;34m\u001b[0m\u001b[0m\n",
            "\u001b[0;32m/usr/local/lib/python3.7/dist-packages/pandas/core/indexing.py\u001b[0m in \u001b[0;36m_getitem_tuple_same_dim\u001b[0;34m(self, tup)\u001b[0m\n\u001b[1;32m    748\u001b[0m                 \u001b[0;32mcontinue\u001b[0m\u001b[0;34m\u001b[0m\u001b[0;34m\u001b[0m\u001b[0m\n\u001b[1;32m    749\u001b[0m \u001b[0;34m\u001b[0m\u001b[0m\n\u001b[0;32m--> 750\u001b[0;31m             \u001b[0mretval\u001b[0m \u001b[0;34m=\u001b[0m \u001b[0mgetattr\u001b[0m\u001b[0;34m(\u001b[0m\u001b[0mretval\u001b[0m\u001b[0;34m,\u001b[0m \u001b[0mself\u001b[0m\u001b[0;34m.\u001b[0m\u001b[0mname\u001b[0m\u001b[0;34m)\u001b[0m\u001b[0;34m.\u001b[0m\u001b[0m_getitem_axis\u001b[0m\u001b[0;34m(\u001b[0m\u001b[0mkey\u001b[0m\u001b[0;34m,\u001b[0m \u001b[0maxis\u001b[0m\u001b[0;34m=\u001b[0m\u001b[0mi\u001b[0m\u001b[0;34m)\u001b[0m\u001b[0;34m\u001b[0m\u001b[0;34m\u001b[0m\u001b[0m\n\u001b[0m\u001b[1;32m    751\u001b[0m             \u001b[0;31m# We should never have retval.ndim < self.ndim, as that should\u001b[0m\u001b[0;34m\u001b[0m\u001b[0;34m\u001b[0m\u001b[0;34m\u001b[0m\u001b[0m\n\u001b[1;32m    752\u001b[0m             \u001b[0;31m#  be handled by the _getitem_lowerdim call above.\u001b[0m\u001b[0;34m\u001b[0m\u001b[0;34m\u001b[0m\u001b[0;34m\u001b[0m\u001b[0m\n",
            "\u001b[0;32m/usr/local/lib/python3.7/dist-packages/pandas/core/indexing.py\u001b[0m in \u001b[0;36m_getitem_axis\u001b[0;34m(self, key, axis)\u001b[0m\n\u001b[1;32m   1097\u001b[0m                     \u001b[0;32mraise\u001b[0m \u001b[0mValueError\u001b[0m\u001b[0;34m(\u001b[0m\u001b[0;34m\"Cannot index with multidimensional key\"\u001b[0m\u001b[0;34m)\u001b[0m\u001b[0;34m\u001b[0m\u001b[0;34m\u001b[0m\u001b[0m\n\u001b[1;32m   1098\u001b[0m \u001b[0;34m\u001b[0m\u001b[0m\n\u001b[0;32m-> 1099\u001b[0;31m                 \u001b[0;32mreturn\u001b[0m \u001b[0mself\u001b[0m\u001b[0;34m.\u001b[0m\u001b[0m_getitem_iterable\u001b[0m\u001b[0;34m(\u001b[0m\u001b[0mkey\u001b[0m\u001b[0;34m,\u001b[0m \u001b[0maxis\u001b[0m\u001b[0;34m=\u001b[0m\u001b[0maxis\u001b[0m\u001b[0;34m)\u001b[0m\u001b[0;34m\u001b[0m\u001b[0;34m\u001b[0m\u001b[0m\n\u001b[0m\u001b[1;32m   1100\u001b[0m \u001b[0;34m\u001b[0m\u001b[0m\n\u001b[1;32m   1101\u001b[0m             \u001b[0;31m# nested tuple slicing\u001b[0m\u001b[0;34m\u001b[0m\u001b[0;34m\u001b[0m\u001b[0;34m\u001b[0m\u001b[0m\n",
            "\u001b[0;32m/usr/local/lib/python3.7/dist-packages/pandas/core/indexing.py\u001b[0m in \u001b[0;36m_getitem_iterable\u001b[0;34m(self, key, axis)\u001b[0m\n\u001b[1;32m   1035\u001b[0m \u001b[0;34m\u001b[0m\u001b[0m\n\u001b[1;32m   1036\u001b[0m         \u001b[0;31m# A collection of keys\u001b[0m\u001b[0;34m\u001b[0m\u001b[0;34m\u001b[0m\u001b[0;34m\u001b[0m\u001b[0m\n\u001b[0;32m-> 1037\u001b[0;31m         \u001b[0mkeyarr\u001b[0m\u001b[0;34m,\u001b[0m \u001b[0mindexer\u001b[0m \u001b[0;34m=\u001b[0m \u001b[0mself\u001b[0m\u001b[0;34m.\u001b[0m\u001b[0m_get_listlike_indexer\u001b[0m\u001b[0;34m(\u001b[0m\u001b[0mkey\u001b[0m\u001b[0;34m,\u001b[0m \u001b[0maxis\u001b[0m\u001b[0;34m,\u001b[0m \u001b[0mraise_missing\u001b[0m\u001b[0;34m=\u001b[0m\u001b[0;32mFalse\u001b[0m\u001b[0;34m)\u001b[0m\u001b[0;34m\u001b[0m\u001b[0;34m\u001b[0m\u001b[0m\n\u001b[0m\u001b[1;32m   1038\u001b[0m         return self.obj._reindex_with_indexers(\n\u001b[1;32m   1039\u001b[0m             \u001b[0;34m{\u001b[0m\u001b[0maxis\u001b[0m\u001b[0;34m:\u001b[0m \u001b[0;34m[\u001b[0m\u001b[0mkeyarr\u001b[0m\u001b[0;34m,\u001b[0m \u001b[0mindexer\u001b[0m\u001b[0;34m]\u001b[0m\u001b[0;34m}\u001b[0m\u001b[0;34m,\u001b[0m \u001b[0mcopy\u001b[0m\u001b[0;34m=\u001b[0m\u001b[0;32mTrue\u001b[0m\u001b[0;34m,\u001b[0m \u001b[0mallow_dups\u001b[0m\u001b[0;34m=\u001b[0m\u001b[0;32mTrue\u001b[0m\u001b[0;34m\u001b[0m\u001b[0;34m\u001b[0m\u001b[0m\n",
            "\u001b[0;32m/usr/local/lib/python3.7/dist-packages/pandas/core/indexing.py\u001b[0m in \u001b[0;36m_get_listlike_indexer\u001b[0;34m(self, key, axis, raise_missing)\u001b[0m\n\u001b[1;32m   1252\u001b[0m             \u001b[0mkeyarr\u001b[0m\u001b[0;34m,\u001b[0m \u001b[0mindexer\u001b[0m\u001b[0;34m,\u001b[0m \u001b[0mnew_indexer\u001b[0m \u001b[0;34m=\u001b[0m \u001b[0max\u001b[0m\u001b[0;34m.\u001b[0m\u001b[0m_reindex_non_unique\u001b[0m\u001b[0;34m(\u001b[0m\u001b[0mkeyarr\u001b[0m\u001b[0;34m)\u001b[0m\u001b[0;34m\u001b[0m\u001b[0;34m\u001b[0m\u001b[0m\n\u001b[1;32m   1253\u001b[0m \u001b[0;34m\u001b[0m\u001b[0m\n\u001b[0;32m-> 1254\u001b[0;31m         \u001b[0mself\u001b[0m\u001b[0;34m.\u001b[0m\u001b[0m_validate_read_indexer\u001b[0m\u001b[0;34m(\u001b[0m\u001b[0mkeyarr\u001b[0m\u001b[0;34m,\u001b[0m \u001b[0mindexer\u001b[0m\u001b[0;34m,\u001b[0m \u001b[0maxis\u001b[0m\u001b[0;34m,\u001b[0m \u001b[0mraise_missing\u001b[0m\u001b[0;34m=\u001b[0m\u001b[0mraise_missing\u001b[0m\u001b[0;34m)\u001b[0m\u001b[0;34m\u001b[0m\u001b[0;34m\u001b[0m\u001b[0m\n\u001b[0m\u001b[1;32m   1255\u001b[0m         \u001b[0;32mreturn\u001b[0m \u001b[0mkeyarr\u001b[0m\u001b[0;34m,\u001b[0m \u001b[0mindexer\u001b[0m\u001b[0;34m\u001b[0m\u001b[0;34m\u001b[0m\u001b[0m\n\u001b[1;32m   1256\u001b[0m \u001b[0;34m\u001b[0m\u001b[0m\n",
            "\u001b[0;32m/usr/local/lib/python3.7/dist-packages/pandas/core/indexing.py\u001b[0m in \u001b[0;36m_validate_read_indexer\u001b[0;34m(self, key, indexer, axis, raise_missing)\u001b[0m\n\u001b[1;32m   1314\u001b[0m                 \u001b[0;32mwith\u001b[0m \u001b[0moption_context\u001b[0m\u001b[0;34m(\u001b[0m\u001b[0;34m\"display.max_seq_items\"\u001b[0m\u001b[0;34m,\u001b[0m \u001b[0;36m10\u001b[0m\u001b[0;34m,\u001b[0m \u001b[0;34m\"display.width\"\u001b[0m\u001b[0;34m,\u001b[0m \u001b[0;36m80\u001b[0m\u001b[0;34m)\u001b[0m\u001b[0;34m:\u001b[0m\u001b[0;34m\u001b[0m\u001b[0;34m\u001b[0m\u001b[0m\n\u001b[1;32m   1315\u001b[0m                     raise KeyError(\n\u001b[0;32m-> 1316\u001b[0;31m                         \u001b[0;34m\"Passing list-likes to .loc or [] with any missing labels \"\u001b[0m\u001b[0;34m\u001b[0m\u001b[0;34m\u001b[0m\u001b[0m\n\u001b[0m\u001b[1;32m   1317\u001b[0m                         \u001b[0;34m\"is no longer supported. \"\u001b[0m\u001b[0;34m\u001b[0m\u001b[0;34m\u001b[0m\u001b[0m\n\u001b[1;32m   1318\u001b[0m                         \u001b[0;34mf\"The following labels were missing: {not_found}. \"\u001b[0m\u001b[0;34m\u001b[0m\u001b[0;34m\u001b[0m\u001b[0m\n",
            "\u001b[0;31mKeyError\u001b[0m: \"Passing list-likes to .loc or [] with any missing labels is no longer supported. The following labels were missing: Index(['term', 'fee', 'married', 'gender', 'job', 'package', 'family',\\n       'fee_log'],\\n      dtype='object'). See https://pandas.pydata.org/pandas-docs/stable/user_guide/indexing.html#deprecate-loc-reindex-listlike\""
          ]
        }
      ]
    },
    {
      "cell_type": "code",
      "metadata": {
        "id": "cW5fKfOj-4sr"
      },
      "source": [
        "model = RandomForestClassifier(random_state=2021)\n",
        "model.fit(X_tr, y_tr)\n",
        "val_pred = model.predict(X_val)"
      ],
      "execution_count": null,
      "outputs": []
    },
    {
      "cell_type": "code",
      "metadata": {
        "id": "aR0bXh6b-4sr",
        "colab": {
          "base_uri": "https://localhost:8080/"
        },
        "outputId": "4a09dfd1-e2f0-4b87-bed2-e2ae4687690d"
      },
      "source": [
        "# 평가 지표\n",
        "print(\"정확도: %0.2f\" % accuracy_score(y_val, val_pred))\n",
        "print(\"정밀도: %0.2f\" % precision_score(y_val, val_pred))\n",
        "print(\"재현율: %0.2f\" % recall_score(y_val, val_pred))\n",
        "print(\"F1 스코어: %0.2f\" % f1_score(y_val, val_pred))\n",
        "print(\"ROC AUC: %0.2f\" % roc_auc_score(y_val, val_pred))"
      ],
      "execution_count": null,
      "outputs": [
        {
          "output_type": "stream",
          "name": "stdout",
          "text": [
            "정확도: 0.73\n",
            "정밀도: 0.57\n",
            "재현율: 0.44\n",
            "F1 스코어: 0.49\n",
            "ROC AUC: 0.65\n"
          ]
        }
      ]
    },
    {
      "cell_type": "code",
      "metadata": {
        "id": "RPYqumgd-4ss",
        "colab": {
          "base_uri": "https://localhost:8080/",
          "height": 282
        },
        "outputId": "6a9f2356-d1ed-4c08-fa00-4aef43db5e7c"
      },
      "source": [
        "plt.figure(figsize=(12, 4))\n",
        "sns.barplot(x=X_train_scaled.columns, y=model.feature_importances_, estimator=np.mean)\n",
        "plt.title(\"Feature importances\")\n",
        "plt.ylabel(\"Mean decrease in impurity\")\n",
        "plt.show()"
      ],
      "execution_count": null,
      "outputs": [
        {
          "output_type": "display_data",
          "data": {
            "image/png": "[encoded data removed]",
            "text/plain": [
              "<Figure size 864x288 with 1 Axes>"
            ]
          },
          "metadata": {
            "needs_background": "light"
          }
        }
      ]
    },
    {
      "cell_type": "markdown",
      "metadata": {
        "id": "_I5VNcUa-4ss"
      },
      "source": [
        "## 모델 파라미터 변경"
      ]
    },
    {
      "cell_type": "code",
      "metadata": {
        "id": "VREEmKmP-4ss"
      },
      "source": [
        "model = RandomForestClassifier(n_estimators=300, class_weight='balanced', random_state=2021)\n",
        "model.fit(X_tr, y_tr)\n",
        "val_pred = model.predict(X_val)"
      ],
      "execution_count": null,
      "outputs": []
    },
    {
      "cell_type": "code",
      "metadata": {
        "id": "sGtjWJRf-4ss",
        "colab": {
          "base_uri": "https://localhost:8080/"
        },
        "outputId": "3b2485c5-41aa-4ecf-b176-38b7ee2b10aa"
      },
      "source": [
        "# 평가 지표\n",
        "print(\"정확도: %0.2f\" % accuracy_score(y_val, val_pred))\n",
        "print(\"정밀도: %0.2f\" % precision_score(y_val, val_pred))\n",
        "print(\"재현율: %0.2f\" % recall_score(y_val, val_pred))\n",
        "print(\"F1 스코어: %0.2f\" % f1_score(y_val, val_pred))\n",
        "print(\"ROC AUC: %0.2f\" % roc_auc_score(y_val, val_pred))"
      ],
      "execution_count": null,
      "outputs": [
        {
          "output_type": "stream",
          "name": "stdout",
          "text": [
            "정확도: 0.73\n",
            "정밀도: 0.57\n",
            "재현율: 0.43\n",
            "F1 스코어: 0.49\n",
            "ROC AUC: 0.64\n"
          ]
        }
      ]
    },
    {
      "cell_type": "code",
      "metadata": {
        "id": "9YXclEuW-4ss",
        "colab": {
          "base_uri": "https://localhost:8080/",
          "height": 281
        },
        "outputId": "586f0dc0-298a-4143-e8d0-696c85203668"
      },
      "source": [
        "plt.figure(figsize=(12, 4))\n",
        "sns.barplot(x=X_train_scaled.columns, y=model.feature_importances_, estimator=np.mean)\n",
        "plt.title(\"Feature importances\")\n",
        "plt.ylabel(\"Mean decrease in impurity\")\n",
        "plt.show()"
      ],
      "execution_count": null,
      "outputs": [
        {
          "output_type": "display_data",
          "data": {
            "image/png": "[encoded data removed]",
            "text/plain": [
              "<Figure size 864x288 with 1 Axes>"
            ]
          },
          "metadata": {
            "needs_background": "light"
          }
        }
      ]
    },
    {
      "cell_type": "markdown",
      "metadata": {
        "id": "o_gr2Exm-4ss"
      },
      "source": [
        "## SMOTE 업샘플링"
      ]
    },
    {
      "cell_type": "code",
      "metadata": {
        "id": "lhuVEriJ-4st"
      },
      "source": [
        "# !pip install imblearn"
      ],
      "execution_count": null,
      "outputs": []
    },
    {
      "cell_type": "code",
      "metadata": {
        "id": "R8VLp01P-4st",
        "colab": {
          "base_uri": "https://localhost:8080/"
        },
        "outputId": "227e3e84-c622-4520-8eea-9eda89746383"
      },
      "source": [
        "from imblearn.over_sampling import SMOTE\n",
        "smote = SMOTE()\n",
        "len_train = len(X_train)\n",
        "X_tr_smote, y_tr_smote = smote.fit_resample(X_tr, y_tr)\n",
        "\n",
        "X_tr_smote.shape, X_tr.shape"
      ],
      "execution_count": null,
      "outputs": [
        {
          "output_type": "execute_result",
          "data": {
            "text/plain": [
              "((9816, 3), (7045, 3))"
            ]
          },
          "metadata": {},
          "execution_count": 156
        }
      ]
    },
    {
      "cell_type": "code",
      "metadata": {
        "id": "Vd1LiSqp-4st"
      },
      "source": [
        "model = RandomForestClassifier(n_estimators=300, class_weight='balanced', random_state=2021)\n",
        "model.fit(X_tr_smote, y_tr_smote)\n",
        "val_pred = model.predict(X_val)"
      ],
      "execution_count": null,
      "outputs": []
    },
    {
      "cell_type": "code",
      "metadata": {
        "id": "5MXZQswW-4st",
        "colab": {
          "base_uri": "https://localhost:8080/"
        },
        "outputId": "e32f589b-dc75-478a-94d0-7cbdc321ac75"
      },
      "source": [
        "# 평가 지표\n",
        "print(\"정확도: %0.2f\" % accuracy_score(y_val, val_pred))\n",
        "print(\"정밀도: %0.2f\" % precision_score(y_val, val_pred))\n",
        "print(\"재현율: %0.2f\" % recall_score(y_val, val_pred))\n",
        "print(\"F1 스코어: %0.2f\" % f1_score(y_val, val_pred))\n",
        "print(\"ROC AUC: %0.2f\" % roc_auc_score(y_val, val_pred))"
      ],
      "execution_count": null,
      "outputs": [
        {
          "output_type": "stream",
          "name": "stdout",
          "text": [
            "정확도: 0.71\n",
            "정밀도: 0.52\n",
            "재현율: 0.56\n",
            "F1 스코어: 0.54\n",
            "ROC AUC: 0.67\n"
          ]
        }
      ]
    },
    {
      "cell_type": "code",
      "source": [
        "submission = pd.read_csv('/content/MyDrive/MyDrive/membership/sample_submission.csv')\n",
        "submission"
      ],
      "metadata": {
        "colab": {
          "base_uri": "https://localhost:8080/",
          "height": 424
        },
        "id": "A2uwQwfpiRwv",
        "outputId": "e42e2d99-3f95-4bf0-dd42-c4a41189baba"
      },
      "execution_count": null,
      "outputs": [
        {
          "output_type": "execute_result",
          "data": {
            "text/html": [
              "<div>\n",
              "<style scoped>\n",
              "    .dataframe tbody tr th:only-of-type {\n",
              "        vertical-align: middle;\n",
              "    }\n",
              "\n",
              "    .dataframe tbody tr th {\n",
              "        vertical-align: top;\n",
              "    }\n",
              "\n",
              "    .dataframe thead th {\n",
              "        text-align: right;\n",
              "    }\n",
              "</style>\n",
              "<table border=\"1\" class=\"dataframe\">\n",
              "  <thead>\n",
              "    <tr style=\"text-align: right;\">\n",
              "      <th></th>\n",
              "      <th>id</th>\n",
              "      <th>MEMBERSHIP_STATUS</th>\n",
              "    </tr>\n",
              "  </thead>\n",
              "  <tbody>\n",
              "    <tr>\n",
              "      <th>0</th>\n",
              "      <td>8807</td>\n",
              "      <td>0</td>\n",
              "    </tr>\n",
              "    <tr>\n",
              "      <th>1</th>\n",
              "      <td>8808</td>\n",
              "      <td>1</td>\n",
              "    </tr>\n",
              "    <tr>\n",
              "      <th>2</th>\n",
              "      <td>8809</td>\n",
              "      <td>0</td>\n",
              "    </tr>\n",
              "    <tr>\n",
              "      <th>3</th>\n",
              "      <td>8810</td>\n",
              "      <td>0</td>\n",
              "    </tr>\n",
              "    <tr>\n",
              "      <th>4</th>\n",
              "      <td>8811</td>\n",
              "      <td>1</td>\n",
              "    </tr>\n",
              "    <tr>\n",
              "      <th>...</th>\n",
              "      <td>...</td>\n",
              "      <td>...</td>\n",
              "    </tr>\n",
              "    <tr>\n",
              "      <th>1550</th>\n",
              "      <td>10357</td>\n",
              "      <td>0</td>\n",
              "    </tr>\n",
              "    <tr>\n",
              "      <th>1551</th>\n",
              "      <td>10358</td>\n",
              "      <td>1</td>\n",
              "    </tr>\n",
              "    <tr>\n",
              "      <th>1552</th>\n",
              "      <td>10359</td>\n",
              "      <td>1</td>\n",
              "    </tr>\n",
              "    <tr>\n",
              "      <th>1553</th>\n",
              "      <td>10360</td>\n",
              "      <td>1</td>\n",
              "    </tr>\n",
              "    <tr>\n",
              "      <th>1554</th>\n",
              "      <td>10361</td>\n",
              "      <td>0</td>\n",
              "    </tr>\n",
              "  </tbody>\n",
              "</table>\n",
              "<p>1555 rows × 2 columns</p>\n",
              "</div>"
            ],
            "text/plain": [
              "         id  MEMBERSHIP_STATUS\n",
              "0      8807                  0\n",
              "1      8808                  1\n",
              "2      8809                  0\n",
              "3      8810                  0\n",
              "4      8811                  1\n",
              "...     ...                ...\n",
              "1550  10357                  0\n",
              "1551  10358                  1\n",
              "1552  10359                  1\n",
              "1553  10360                  1\n",
              "1554  10361                  0\n",
              "\n",
              "[1555 rows x 2 columns]"
            ]
          },
          "metadata": {},
          "execution_count": 334
        }
      ]
    },
    {
      "cell_type": "code",
      "source": [
        "preds = model.predict(X_test)\n",
        "submission['MEMBERSHIP_STATUS'] = preds\n",
        "submission"
      ],
      "metadata": {
        "colab": {
          "base_uri": "https://localhost:8080/",
          "height": 424
        },
        "id": "2yEKhfKgiRoo",
        "outputId": "031ec457-ec8f-4f17-b78b-9dde3b6e8b92"
      },
      "execution_count": null,
      "outputs": [
        {
          "output_type": "execute_result",
          "data": {
            "text/html": [
              "<div>\n",
              "<style scoped>\n",
              "    .dataframe tbody tr th:only-of-type {\n",
              "        vertical-align: middle;\n",
              "    }\n",
              "\n",
              "    .dataframe tbody tr th {\n",
              "        vertical-align: top;\n",
              "    }\n",
              "\n",
              "    .dataframe thead th {\n",
              "        text-align: right;\n",
              "    }\n",
              "</style>\n",
              "<table border=\"1\" class=\"dataframe\">\n",
              "  <thead>\n",
              "    <tr style=\"text-align: right;\">\n",
              "      <th></th>\n",
              "      <th>id</th>\n",
              "      <th>MEMBERSHIP_STATUS</th>\n",
              "    </tr>\n",
              "  </thead>\n",
              "  <tbody>\n",
              "    <tr>\n",
              "      <th>0</th>\n",
              "      <td>8807</td>\n",
              "      <td>1</td>\n",
              "    </tr>\n",
              "    <tr>\n",
              "      <th>1</th>\n",
              "      <td>8808</td>\n",
              "      <td>1</td>\n",
              "    </tr>\n",
              "    <tr>\n",
              "      <th>2</th>\n",
              "      <td>8809</td>\n",
              "      <td>1</td>\n",
              "    </tr>\n",
              "    <tr>\n",
              "      <th>3</th>\n",
              "      <td>8810</td>\n",
              "      <td>1</td>\n",
              "    </tr>\n",
              "    <tr>\n",
              "      <th>4</th>\n",
              "      <td>8811</td>\n",
              "      <td>0</td>\n",
              "    </tr>\n",
              "    <tr>\n",
              "      <th>...</th>\n",
              "      <td>...</td>\n",
              "      <td>...</td>\n",
              "    </tr>\n",
              "    <tr>\n",
              "      <th>1550</th>\n",
              "      <td>10357</td>\n",
              "      <td>0</td>\n",
              "    </tr>\n",
              "    <tr>\n",
              "      <th>1551</th>\n",
              "      <td>10358</td>\n",
              "      <td>1</td>\n",
              "    </tr>\n",
              "    <tr>\n",
              "      <th>1552</th>\n",
              "      <td>10359</td>\n",
              "      <td>0</td>\n",
              "    </tr>\n",
              "    <tr>\n",
              "      <th>1553</th>\n",
              "      <td>10360</td>\n",
              "      <td>0</td>\n",
              "    </tr>\n",
              "    <tr>\n",
              "      <th>1554</th>\n",
              "      <td>10361</td>\n",
              "      <td>1</td>\n",
              "    </tr>\n",
              "  </tbody>\n",
              "</table>\n",
              "<p>1555 rows × 2 columns</p>\n",
              "</div>"
            ],
            "text/plain": [
              "         id  MEMBERSHIP_STATUS\n",
              "0      8807                  1\n",
              "1      8808                  1\n",
              "2      8809                  1\n",
              "3      8810                  1\n",
              "4      8811                  0\n",
              "...     ...                ...\n",
              "1550  10357                  0\n",
              "1551  10358                  1\n",
              "1552  10359                  0\n",
              "1553  10360                  0\n",
              "1554  10361                  1\n",
              "\n",
              "[1555 rows x 2 columns]"
            ]
          },
          "metadata": {},
          "execution_count": 335
        }
      ]
    },
    {
      "cell_type": "code",
      "source": [
        "submission['MEMBERSHIP_STATUS'].value_counts() / submission.shape[0]"
      ],
      "metadata": {
        "colab": {
          "base_uri": "https://localhost:8080/"
        },
        "id": "DUFOcnyRiRei",
        "outputId": "752ddd8c-dc07-4787-d080-f85586264c53"
      },
      "execution_count": null,
      "outputs": [
        {
          "output_type": "execute_result",
          "data": {
            "text/plain": [
              "0    0.595498\n",
              "1    0.404502\n",
              "Name: MEMBERSHIP_STATUS, dtype: float64"
            ]
          },
          "metadata": {},
          "execution_count": 336
        }
      ]
    },
    {
      "cell_type": "code",
      "source": [
        "submission.to_csv('prediction_009.csv', index=False)"
      ],
      "metadata": {
        "id": "8rxN9L2qj2Jr"
      },
      "execution_count": null,
      "outputs": []
    },
    {
      "cell_type": "code",
      "source": [
        ""
      ],
      "metadata": {
        "id": "hkJ4L7brj2GO"
      },
      "execution_count": null,
      "outputs": []
    },
    {
      "cell_type": "code",
      "source": [
        ""
      ],
      "metadata": {
        "id": "Wvqv22rCj2Cp"
      },
      "execution_count": null,
      "outputs": []
    },
    {
      "cell_type": "code",
      "source": [
        ""
      ],
      "metadata": {
        "id": "G54mhdiIj1_a"
      },
      "execution_count": null,
      "outputs": []
    },
    {
      "cell_type": "code",
      "source": [
        ""
      ],
      "metadata": {
        "id": "fuMbtUTkj179"
      },
      "execution_count": null,
      "outputs": []
    },
    {
      "cell_type": "code",
      "source": [
        ""
      ],
      "metadata": {
        "id": "C0xJBXvKj1zU"
      },
      "execution_count": null,
      "outputs": []
    },
    {
      "cell_type": "code",
      "source": [
        ""
      ],
      "metadata": {
        "id": "rU26hb4Hj1q7"
      },
      "execution_count": null,
      "outputs": []
    },
    {
      "cell_type": "code",
      "source": [
        ""
      ],
      "metadata": {
        "id": "sTqKkSKaiRT4"
      },
      "execution_count": null,
      "outputs": []
    },
    {
      "cell_type": "code",
      "metadata": {
        "id": "4mTLTYAw-4st",
        "colab": {
          "base_uri": "https://localhost:8080/",
          "height": 281
        },
        "outputId": "e7163005-6b5a-4ef4-db28-a06ed609d631"
      },
      "source": [
        "plt.figure(figsize=(12, 4))\n",
        "sns.barplot(x=X_train_scaled.columns, y=model.feature_importances_, estimator=np.mean)\n",
        "plt.title(\"Feature importances\")\n",
        "plt.ylabel(\"Mean decrease in impurity\")\n",
        "plt.show()"
      ],
      "execution_count": null,
      "outputs": [
        {
          "output_type": "display_data",
          "data": {
            "image/png": "[encoded data removed]",
            "text/plain": [
              "<Figure size 864x288 with 1 Axes>"
            ]
          },
          "metadata": {
            "needs_background": "light"
          }
        }
      ]
    },
    {
      "cell_type": "markdown",
      "metadata": {
        "id": "T85uhZBy-4st"
      },
      "source": [
        "## One-Hot Encoding"
      ]
    },
    {
      "cell_type": "code",
      "metadata": {
        "id": "8HOgeyHW-4st",
        "colab": {
          "base_uri": "https://localhost:8080/",
          "height": 345
        },
        "outputId": "ae7ac9ea-c67f-43d9-8f87-3038505f2aa3"
      },
      "source": [
        "# Vehicle_Damage \n",
        "pd.get_dummies(X_train, columns = ['married'], drop_first=True)"
      ],
      "execution_count": null,
      "outputs": [
        {
          "output_type": "error",
          "ename": "KeyError",
          "evalue": "ignored",
          "traceback": [
            "\u001b[0;31m---------------------------------------------------------------------------\u001b[0m",
            "\u001b[0;31mKeyError\u001b[0m                                  Traceback (most recent call last)",
            "\u001b[0;32m<ipython-input-159-e1802bccf904>\u001b[0m in \u001b[0;36m<module>\u001b[0;34m()\u001b[0m\n\u001b[1;32m      1\u001b[0m \u001b[0;31m# Vehicle_Damage\u001b[0m\u001b[0;34m\u001b[0m\u001b[0;34m\u001b[0m\u001b[0;34m\u001b[0m\u001b[0m\n\u001b[0;32m----> 2\u001b[0;31m \u001b[0mpd\u001b[0m\u001b[0;34m.\u001b[0m\u001b[0mget_dummies\u001b[0m\u001b[0;34m(\u001b[0m\u001b[0mX_train\u001b[0m\u001b[0;34m,\u001b[0m \u001b[0mcolumns\u001b[0m \u001b[0;34m=\u001b[0m \u001b[0;34m[\u001b[0m\u001b[0;34m'married'\u001b[0m\u001b[0;34m]\u001b[0m\u001b[0;34m,\u001b[0m \u001b[0mdrop_first\u001b[0m\u001b[0;34m=\u001b[0m\u001b[0;32mTrue\u001b[0m\u001b[0;34m)\u001b[0m\u001b[0;34m\u001b[0m\u001b[0;34m\u001b[0m\u001b[0m\n\u001b[0m",
            "\u001b[0;32m/usr/local/lib/python3.7/dist-packages/pandas/core/reshape/reshape.py\u001b[0m in \u001b[0;36mget_dummies\u001b[0;34m(data, prefix, prefix_sep, dummy_na, columns, sparse, drop_first, dtype)\u001b[0m\n\u001b[1;32m    841\u001b[0m             \u001b[0;32mraise\u001b[0m \u001b[0mTypeError\u001b[0m\u001b[0;34m(\u001b[0m\u001b[0;34m\"Input must be a list-like for parameter `columns`\"\u001b[0m\u001b[0;34m)\u001b[0m\u001b[0;34m\u001b[0m\u001b[0;34m\u001b[0m\u001b[0m\n\u001b[1;32m    842\u001b[0m         \u001b[0;32melse\u001b[0m\u001b[0;34m:\u001b[0m\u001b[0;34m\u001b[0m\u001b[0;34m\u001b[0m\u001b[0m\n\u001b[0;32m--> 843\u001b[0;31m             \u001b[0mdata_to_encode\u001b[0m \u001b[0;34m=\u001b[0m \u001b[0mdata\u001b[0m\u001b[0;34m[\u001b[0m\u001b[0mcolumns\u001b[0m\u001b[0;34m]\u001b[0m\u001b[0;34m\u001b[0m\u001b[0;34m\u001b[0m\u001b[0m\n\u001b[0m\u001b[1;32m    844\u001b[0m \u001b[0;34m\u001b[0m\u001b[0m\n\u001b[1;32m    845\u001b[0m         \u001b[0;31m# validate prefixes and separator to avoid silently dropping cols\u001b[0m\u001b[0;34m\u001b[0m\u001b[0;34m\u001b[0m\u001b[0;34m\u001b[0m\u001b[0m\n",
            "\u001b[0;32m/usr/local/lib/python3.7/dist-packages/pandas/core/frame.py\u001b[0m in \u001b[0;36m__getitem__\u001b[0;34m(self, key)\u001b[0m\n\u001b[1;32m   2910\u001b[0m             \u001b[0;32mif\u001b[0m \u001b[0mis_iterator\u001b[0m\u001b[0;34m(\u001b[0m\u001b[0mkey\u001b[0m\u001b[0;34m)\u001b[0m\u001b[0;34m:\u001b[0m\u001b[0;34m\u001b[0m\u001b[0;34m\u001b[0m\u001b[0m\n\u001b[1;32m   2911\u001b[0m                 \u001b[0mkey\u001b[0m \u001b[0;34m=\u001b[0m \u001b[0mlist\u001b[0m\u001b[0;34m(\u001b[0m\u001b[0mkey\u001b[0m\u001b[0;34m)\u001b[0m\u001b[0;34m\u001b[0m\u001b[0;34m\u001b[0m\u001b[0m\n\u001b[0;32m-> 2912\u001b[0;31m             \u001b[0mindexer\u001b[0m \u001b[0;34m=\u001b[0m \u001b[0mself\u001b[0m\u001b[0;34m.\u001b[0m\u001b[0mloc\u001b[0m\u001b[0;34m.\u001b[0m\u001b[0m_get_listlike_indexer\u001b[0m\u001b[0;34m(\u001b[0m\u001b[0mkey\u001b[0m\u001b[0;34m,\u001b[0m \u001b[0maxis\u001b[0m\u001b[0;34m=\u001b[0m\u001b[0;36m1\u001b[0m\u001b[0;34m,\u001b[0m \u001b[0mraise_missing\u001b[0m\u001b[0;34m=\u001b[0m\u001b[0;32mTrue\u001b[0m\u001b[0;34m)\u001b[0m\u001b[0;34m[\u001b[0m\u001b[0;36m1\u001b[0m\u001b[0;34m]\u001b[0m\u001b[0;34m\u001b[0m\u001b[0;34m\u001b[0m\u001b[0m\n\u001b[0m\u001b[1;32m   2913\u001b[0m \u001b[0;34m\u001b[0m\u001b[0m\n\u001b[1;32m   2914\u001b[0m         \u001b[0;31m# take() does not accept boolean indexers\u001b[0m\u001b[0;34m\u001b[0m\u001b[0;34m\u001b[0m\u001b[0;34m\u001b[0m\u001b[0m\n",
            "\u001b[0;32m/usr/local/lib/python3.7/dist-packages/pandas/core/indexing.py\u001b[0m in \u001b[0;36m_get_listlike_indexer\u001b[0;34m(self, key, axis, raise_missing)\u001b[0m\n\u001b[1;32m   1252\u001b[0m             \u001b[0mkeyarr\u001b[0m\u001b[0;34m,\u001b[0m \u001b[0mindexer\u001b[0m\u001b[0;34m,\u001b[0m \u001b[0mnew_indexer\u001b[0m \u001b[0;34m=\u001b[0m \u001b[0max\u001b[0m\u001b[0;34m.\u001b[0m\u001b[0m_reindex_non_unique\u001b[0m\u001b[0;34m(\u001b[0m\u001b[0mkeyarr\u001b[0m\u001b[0;34m)\u001b[0m\u001b[0;34m\u001b[0m\u001b[0;34m\u001b[0m\u001b[0m\n\u001b[1;32m   1253\u001b[0m \u001b[0;34m\u001b[0m\u001b[0m\n\u001b[0;32m-> 1254\u001b[0;31m         \u001b[0mself\u001b[0m\u001b[0;34m.\u001b[0m\u001b[0m_validate_read_indexer\u001b[0m\u001b[0;34m(\u001b[0m\u001b[0mkeyarr\u001b[0m\u001b[0;34m,\u001b[0m \u001b[0mindexer\u001b[0m\u001b[0;34m,\u001b[0m \u001b[0maxis\u001b[0m\u001b[0;34m,\u001b[0m \u001b[0mraise_missing\u001b[0m\u001b[0;34m=\u001b[0m\u001b[0mraise_missing\u001b[0m\u001b[0;34m)\u001b[0m\u001b[0;34m\u001b[0m\u001b[0;34m\u001b[0m\u001b[0m\n\u001b[0m\u001b[1;32m   1255\u001b[0m         \u001b[0;32mreturn\u001b[0m \u001b[0mkeyarr\u001b[0m\u001b[0;34m,\u001b[0m \u001b[0mindexer\u001b[0m\u001b[0;34m\u001b[0m\u001b[0;34m\u001b[0m\u001b[0m\n\u001b[1;32m   1256\u001b[0m \u001b[0;34m\u001b[0m\u001b[0m\n",
            "\u001b[0;32m/usr/local/lib/python3.7/dist-packages/pandas/core/indexing.py\u001b[0m in \u001b[0;36m_validate_read_indexer\u001b[0;34m(self, key, indexer, axis, raise_missing)\u001b[0m\n\u001b[1;32m   1296\u001b[0m             \u001b[0;32mif\u001b[0m \u001b[0mmissing\u001b[0m \u001b[0;34m==\u001b[0m \u001b[0mlen\u001b[0m\u001b[0;34m(\u001b[0m\u001b[0mindexer\u001b[0m\u001b[0;34m)\u001b[0m\u001b[0;34m:\u001b[0m\u001b[0;34m\u001b[0m\u001b[0;34m\u001b[0m\u001b[0m\n\u001b[1;32m   1297\u001b[0m                 \u001b[0maxis_name\u001b[0m \u001b[0;34m=\u001b[0m \u001b[0mself\u001b[0m\u001b[0;34m.\u001b[0m\u001b[0mobj\u001b[0m\u001b[0;34m.\u001b[0m\u001b[0m_get_axis_name\u001b[0m\u001b[0;34m(\u001b[0m\u001b[0maxis\u001b[0m\u001b[0;34m)\u001b[0m\u001b[0;34m\u001b[0m\u001b[0;34m\u001b[0m\u001b[0m\n\u001b[0;32m-> 1298\u001b[0;31m                 \u001b[0;32mraise\u001b[0m \u001b[0mKeyError\u001b[0m\u001b[0;34m(\u001b[0m\u001b[0;34mf\"None of [{key}] are in the [{axis_name}]\"\u001b[0m\u001b[0;34m)\u001b[0m\u001b[0;34m\u001b[0m\u001b[0;34m\u001b[0m\u001b[0m\n\u001b[0m\u001b[1;32m   1299\u001b[0m \u001b[0;34m\u001b[0m\u001b[0m\n\u001b[1;32m   1300\u001b[0m             \u001b[0;31m# We (temporarily) allow for some missing keys with .loc, except in\u001b[0m\u001b[0;34m\u001b[0m\u001b[0;34m\u001b[0m\u001b[0;34m\u001b[0m\u001b[0m\n",
            "\u001b[0;31mKeyError\u001b[0m: \"None of [Index(['married'], dtype='object')] are in the [columns]\""
          ]
        }
      ]
    },
    {
      "cell_type": "code",
      "metadata": {
        "id": "IP_9RbW4-4st",
        "colab": {
          "base_uri": "https://localhost:8080/",
          "height": 363
        },
        "outputId": "abe24356-2817-4b2d-d42a-f53da11cf303"
      },
      "source": [
        "X_data = X_train.append(X_test)\n",
        "X_data = pd.get_dummies(X_data, columns = ['married', 'job'], drop_first=True)\n",
        "X_data.head()"
      ],
      "execution_count": null,
      "outputs": [
        {
          "output_type": "error",
          "ename": "KeyError",
          "evalue": "ignored",
          "traceback": [
            "\u001b[0;31m---------------------------------------------------------------------------\u001b[0m",
            "\u001b[0;31mKeyError\u001b[0m                                  Traceback (most recent call last)",
            "\u001b[0;32m<ipython-input-223-01e66e5df37d>\u001b[0m in \u001b[0;36m<module>\u001b[0;34m()\u001b[0m\n\u001b[1;32m      1\u001b[0m \u001b[0mX_data\u001b[0m \u001b[0;34m=\u001b[0m \u001b[0mX_train\u001b[0m\u001b[0;34m.\u001b[0m\u001b[0mappend\u001b[0m\u001b[0;34m(\u001b[0m\u001b[0mX_test\u001b[0m\u001b[0;34m)\u001b[0m\u001b[0;34m\u001b[0m\u001b[0;34m\u001b[0m\u001b[0m\n\u001b[0;32m----> 2\u001b[0;31m \u001b[0mX_data\u001b[0m \u001b[0;34m=\u001b[0m \u001b[0mpd\u001b[0m\u001b[0;34m.\u001b[0m\u001b[0mget_dummies\u001b[0m\u001b[0;34m(\u001b[0m\u001b[0mX_data\u001b[0m\u001b[0;34m,\u001b[0m \u001b[0mcolumns\u001b[0m \u001b[0;34m=\u001b[0m \u001b[0;34m[\u001b[0m\u001b[0;34m'married'\u001b[0m\u001b[0;34m,\u001b[0m \u001b[0;34m'job'\u001b[0m\u001b[0;34m]\u001b[0m\u001b[0;34m,\u001b[0m \u001b[0mdrop_first\u001b[0m\u001b[0;34m=\u001b[0m\u001b[0;32mTrue\u001b[0m\u001b[0;34m)\u001b[0m\u001b[0;34m\u001b[0m\u001b[0;34m\u001b[0m\u001b[0m\n\u001b[0m\u001b[1;32m      3\u001b[0m \u001b[0mX_data\u001b[0m\u001b[0;34m.\u001b[0m\u001b[0mhead\u001b[0m\u001b[0;34m(\u001b[0m\u001b[0;34m)\u001b[0m\u001b[0;34m\u001b[0m\u001b[0;34m\u001b[0m\u001b[0m\n",
            "\u001b[0;32m/usr/local/lib/python3.7/dist-packages/pandas/core/reshape/reshape.py\u001b[0m in \u001b[0;36mget_dummies\u001b[0;34m(data, prefix, prefix_sep, dummy_na, columns, sparse, drop_first, dtype)\u001b[0m\n\u001b[1;32m    841\u001b[0m             \u001b[0;32mraise\u001b[0m \u001b[0mTypeError\u001b[0m\u001b[0;34m(\u001b[0m\u001b[0;34m\"Input must be a list-like for parameter `columns`\"\u001b[0m\u001b[0;34m)\u001b[0m\u001b[0;34m\u001b[0m\u001b[0;34m\u001b[0m\u001b[0m\n\u001b[1;32m    842\u001b[0m         \u001b[0;32melse\u001b[0m\u001b[0;34m:\u001b[0m\u001b[0;34m\u001b[0m\u001b[0;34m\u001b[0m\u001b[0m\n\u001b[0;32m--> 843\u001b[0;31m             \u001b[0mdata_to_encode\u001b[0m \u001b[0;34m=\u001b[0m \u001b[0mdata\u001b[0m\u001b[0;34m[\u001b[0m\u001b[0mcolumns\u001b[0m\u001b[0;34m]\u001b[0m\u001b[0;34m\u001b[0m\u001b[0;34m\u001b[0m\u001b[0m\n\u001b[0m\u001b[1;32m    844\u001b[0m \u001b[0;34m\u001b[0m\u001b[0m\n\u001b[1;32m    845\u001b[0m         \u001b[0;31m# validate prefixes and separator to avoid silently dropping cols\u001b[0m\u001b[0;34m\u001b[0m\u001b[0;34m\u001b[0m\u001b[0;34m\u001b[0m\u001b[0m\n",
            "\u001b[0;32m/usr/local/lib/python3.7/dist-packages/pandas/core/frame.py\u001b[0m in \u001b[0;36m__getitem__\u001b[0;34m(self, key)\u001b[0m\n\u001b[1;32m   2910\u001b[0m             \u001b[0;32mif\u001b[0m \u001b[0mis_iterator\u001b[0m\u001b[0;34m(\u001b[0m\u001b[0mkey\u001b[0m\u001b[0;34m)\u001b[0m\u001b[0;34m:\u001b[0m\u001b[0;34m\u001b[0m\u001b[0;34m\u001b[0m\u001b[0m\n\u001b[1;32m   2911\u001b[0m                 \u001b[0mkey\u001b[0m \u001b[0;34m=\u001b[0m \u001b[0mlist\u001b[0m\u001b[0;34m(\u001b[0m\u001b[0mkey\u001b[0m\u001b[0;34m)\u001b[0m\u001b[0;34m\u001b[0m\u001b[0;34m\u001b[0m\u001b[0m\n\u001b[0;32m-> 2912\u001b[0;31m             \u001b[0mindexer\u001b[0m \u001b[0;34m=\u001b[0m \u001b[0mself\u001b[0m\u001b[0;34m.\u001b[0m\u001b[0mloc\u001b[0m\u001b[0;34m.\u001b[0m\u001b[0m_get_listlike_indexer\u001b[0m\u001b[0;34m(\u001b[0m\u001b[0mkey\u001b[0m\u001b[0;34m,\u001b[0m \u001b[0maxis\u001b[0m\u001b[0;34m=\u001b[0m\u001b[0;36m1\u001b[0m\u001b[0;34m,\u001b[0m \u001b[0mraise_missing\u001b[0m\u001b[0;34m=\u001b[0m\u001b[0;32mTrue\u001b[0m\u001b[0;34m)\u001b[0m\u001b[0;34m[\u001b[0m\u001b[0;36m1\u001b[0m\u001b[0;34m]\u001b[0m\u001b[0;34m\u001b[0m\u001b[0;34m\u001b[0m\u001b[0m\n\u001b[0m\u001b[1;32m   2913\u001b[0m \u001b[0;34m\u001b[0m\u001b[0m\n\u001b[1;32m   2914\u001b[0m         \u001b[0;31m# take() does not accept boolean indexers\u001b[0m\u001b[0;34m\u001b[0m\u001b[0;34m\u001b[0m\u001b[0;34m\u001b[0m\u001b[0m\n",
            "\u001b[0;32m/usr/local/lib/python3.7/dist-packages/pandas/core/indexing.py\u001b[0m in \u001b[0;36m_get_listlike_indexer\u001b[0;34m(self, key, axis, raise_missing)\u001b[0m\n\u001b[1;32m   1252\u001b[0m             \u001b[0mkeyarr\u001b[0m\u001b[0;34m,\u001b[0m \u001b[0mindexer\u001b[0m\u001b[0;34m,\u001b[0m \u001b[0mnew_indexer\u001b[0m \u001b[0;34m=\u001b[0m \u001b[0max\u001b[0m\u001b[0;34m.\u001b[0m\u001b[0m_reindex_non_unique\u001b[0m\u001b[0;34m(\u001b[0m\u001b[0mkeyarr\u001b[0m\u001b[0;34m)\u001b[0m\u001b[0;34m\u001b[0m\u001b[0;34m\u001b[0m\u001b[0m\n\u001b[1;32m   1253\u001b[0m \u001b[0;34m\u001b[0m\u001b[0m\n\u001b[0;32m-> 1254\u001b[0;31m         \u001b[0mself\u001b[0m\u001b[0;34m.\u001b[0m\u001b[0m_validate_read_indexer\u001b[0m\u001b[0;34m(\u001b[0m\u001b[0mkeyarr\u001b[0m\u001b[0;34m,\u001b[0m \u001b[0mindexer\u001b[0m\u001b[0;34m,\u001b[0m \u001b[0maxis\u001b[0m\u001b[0;34m,\u001b[0m \u001b[0mraise_missing\u001b[0m\u001b[0;34m=\u001b[0m\u001b[0mraise_missing\u001b[0m\u001b[0;34m)\u001b[0m\u001b[0;34m\u001b[0m\u001b[0;34m\u001b[0m\u001b[0m\n\u001b[0m\u001b[1;32m   1255\u001b[0m         \u001b[0;32mreturn\u001b[0m \u001b[0mkeyarr\u001b[0m\u001b[0;34m,\u001b[0m \u001b[0mindexer\u001b[0m\u001b[0;34m\u001b[0m\u001b[0;34m\u001b[0m\u001b[0m\n\u001b[1;32m   1256\u001b[0m \u001b[0;34m\u001b[0m\u001b[0m\n",
            "\u001b[0;32m/usr/local/lib/python3.7/dist-packages/pandas/core/indexing.py\u001b[0m in \u001b[0;36m_validate_read_indexer\u001b[0;34m(self, key, indexer, axis, raise_missing)\u001b[0m\n\u001b[1;32m   1296\u001b[0m             \u001b[0;32mif\u001b[0m \u001b[0mmissing\u001b[0m \u001b[0;34m==\u001b[0m \u001b[0mlen\u001b[0m\u001b[0;34m(\u001b[0m\u001b[0mindexer\u001b[0m\u001b[0;34m)\u001b[0m\u001b[0;34m:\u001b[0m\u001b[0;34m\u001b[0m\u001b[0;34m\u001b[0m\u001b[0m\n\u001b[1;32m   1297\u001b[0m                 \u001b[0maxis_name\u001b[0m \u001b[0;34m=\u001b[0m \u001b[0mself\u001b[0m\u001b[0;34m.\u001b[0m\u001b[0mobj\u001b[0m\u001b[0;34m.\u001b[0m\u001b[0m_get_axis_name\u001b[0m\u001b[0;34m(\u001b[0m\u001b[0maxis\u001b[0m\u001b[0;34m)\u001b[0m\u001b[0;34m\u001b[0m\u001b[0;34m\u001b[0m\u001b[0m\n\u001b[0;32m-> 1298\u001b[0;31m                 \u001b[0;32mraise\u001b[0m \u001b[0mKeyError\u001b[0m\u001b[0;34m(\u001b[0m\u001b[0;34mf\"None of [{key}] are in the [{axis_name}]\"\u001b[0m\u001b[0;34m)\u001b[0m\u001b[0;34m\u001b[0m\u001b[0;34m\u001b[0m\u001b[0m\n\u001b[0m\u001b[1;32m   1299\u001b[0m \u001b[0;34m\u001b[0m\u001b[0m\n\u001b[1;32m   1300\u001b[0m             \u001b[0;31m# We (temporarily) allow for some missing keys with .loc, except in\u001b[0m\u001b[0;34m\u001b[0m\u001b[0;34m\u001b[0m\u001b[0;34m\u001b[0m\u001b[0m\n",
            "\u001b[0;31mKeyError\u001b[0m: \"None of [Index(['married', 'job'], dtype='object')] are in the [columns]\""
          ]
        }
      ]
    },
    {
      "cell_type": "code",
      "metadata": {
        "id": "adDV7YsV-4su",
        "colab": {
          "base_uri": "https://localhost:8080/",
          "height": 424
        },
        "outputId": "6edb8e54-f924-4ae7-cd33-6fa08ea619bf"
      },
      "source": [
        "X_train = X_data.iloc[:len(X_train)]\n",
        "X_test = X_data.iloc[len(X_train):]\n",
        "X_test"
      ],
      "execution_count": null,
      "outputs": [
        {
          "output_type": "execute_result",
          "data": {
            "text/html": [
              "<div>\n",
              "<style scoped>\n",
              "    .dataframe tbody tr th:only-of-type {\n",
              "        vertical-align: middle;\n",
              "    }\n",
              "\n",
              "    .dataframe tbody tr th {\n",
              "        vertical-align: top;\n",
              "    }\n",
              "\n",
              "    .dataframe thead th {\n",
              "        text-align: right;\n",
              "    }\n",
              "</style>\n",
              "<table border=\"1\" class=\"dataframe\">\n",
              "  <thead>\n",
              "    <tr style=\"text-align: right;\">\n",
              "      <th></th>\n",
              "      <th>term</th>\n",
              "      <th>fee</th>\n",
              "      <th>income</th>\n",
              "      <th>age</th>\n",
              "      <th>family</th>\n",
              "      <th>married_1</th>\n",
              "      <th>married_2</th>\n",
              "      <th>married_3</th>\n",
              "      <th>married_4</th>\n",
              "      <th>job_2.0</th>\n",
              "      <th>job_3.0</th>\n",
              "      <th>job_4.0</th>\n",
              "      <th>job_5.0</th>\n",
              "      <th>job_6.0</th>\n",
              "    </tr>\n",
              "  </thead>\n",
              "  <tbody>\n",
              "    <tr>\n",
              "      <th>0</th>\n",
              "      <td>12</td>\n",
              "      <td>100000.00</td>\n",
              "      <td>9.999960e+05</td>\n",
              "      <td>41</td>\n",
              "      <td>1</td>\n",
              "      <td>1</td>\n",
              "      <td>0</td>\n",
              "      <td>0</td>\n",
              "      <td>0</td>\n",
              "      <td>0</td>\n",
              "      <td>0</td>\n",
              "      <td>0</td>\n",
              "      <td>0</td>\n",
              "      <td>0</td>\n",
              "    </tr>\n",
              "    <tr>\n",
              "      <th>1</th>\n",
              "      <td>50</td>\n",
              "      <td>100000.00</td>\n",
              "      <td>3.999960e+05</td>\n",
              "      <td>34</td>\n",
              "      <td>2</td>\n",
              "      <td>1</td>\n",
              "      <td>0</td>\n",
              "      <td>0</td>\n",
              "      <td>0</td>\n",
              "      <td>0</td>\n",
              "      <td>0</td>\n",
              "      <td>0</td>\n",
              "      <td>0</td>\n",
              "      <td>0</td>\n",
              "    </tr>\n",
              "    <tr>\n",
              "      <th>2</th>\n",
              "      <td>12</td>\n",
              "      <td>100000.00</td>\n",
              "      <td>1.200000e+06</td>\n",
              "      <td>36</td>\n",
              "      <td>3</td>\n",
              "      <td>1</td>\n",
              "      <td>0</td>\n",
              "      <td>0</td>\n",
              "      <td>0</td>\n",
              "      <td>0</td>\n",
              "      <td>0</td>\n",
              "      <td>0</td>\n",
              "      <td>0</td>\n",
              "      <td>0</td>\n",
              "    </tr>\n",
              "    <tr>\n",
              "      <th>3</th>\n",
              "      <td>12</td>\n",
              "      <td>250000.00</td>\n",
              "      <td>7.999920e+05</td>\n",
              "      <td>60</td>\n",
              "      <td>0</td>\n",
              "      <td>0</td>\n",
              "      <td>0</td>\n",
              "      <td>1</td>\n",
              "      <td>0</td>\n",
              "      <td>1</td>\n",
              "      <td>0</td>\n",
              "      <td>0</td>\n",
              "      <td>0</td>\n",
              "      <td>0</td>\n",
              "    </tr>\n",
              "    <tr>\n",
              "      <th>4</th>\n",
              "      <td>17</td>\n",
              "      <td>200000.24</td>\n",
              "      <td>1.999992e+06</td>\n",
              "      <td>55</td>\n",
              "      <td>0</td>\n",
              "      <td>0</td>\n",
              "      <td>0</td>\n",
              "      <td>1</td>\n",
              "      <td>0</td>\n",
              "      <td>1</td>\n",
              "      <td>0</td>\n",
              "      <td>0</td>\n",
              "      <td>0</td>\n",
              "      <td>0</td>\n",
              "    </tr>\n",
              "    <tr>\n",
              "      <th>...</th>\n",
              "      <td>...</td>\n",
              "      <td>...</td>\n",
              "      <td>...</td>\n",
              "      <td>...</td>\n",
              "      <td>...</td>\n",
              "      <td>...</td>\n",
              "      <td>...</td>\n",
              "      <td>...</td>\n",
              "      <td>...</td>\n",
              "      <td>...</td>\n",
              "      <td>...</td>\n",
              "      <td>...</td>\n",
              "      <td>...</td>\n",
              "      <td>...</td>\n",
              "    </tr>\n",
              "    <tr>\n",
              "      <th>1550</th>\n",
              "      <td>79</td>\n",
              "      <td>168500.24</td>\n",
              "      <td>1.375036e+06</td>\n",
              "      <td>62</td>\n",
              "      <td>0</td>\n",
              "      <td>0</td>\n",
              "      <td>0</td>\n",
              "      <td>1</td>\n",
              "      <td>0</td>\n",
              "      <td>0</td>\n",
              "      <td>0</td>\n",
              "      <td>0</td>\n",
              "      <td>0</td>\n",
              "      <td>1</td>\n",
              "    </tr>\n",
              "    <tr>\n",
              "      <th>1551</th>\n",
              "      <td>12</td>\n",
              "      <td>200000.00</td>\n",
              "      <td>1.500000e+06</td>\n",
              "      <td>41</td>\n",
              "      <td>3</td>\n",
              "      <td>1</td>\n",
              "      <td>0</td>\n",
              "      <td>0</td>\n",
              "      <td>0</td>\n",
              "      <td>0</td>\n",
              "      <td>0</td>\n",
              "      <td>0</td>\n",
              "      <td>0</td>\n",
              "      <td>0</td>\n",
              "    </tr>\n",
              "    <tr>\n",
              "      <th>1552</th>\n",
              "      <td>101</td>\n",
              "      <td>233154.49</td>\n",
              "      <td>2.460000e+06</td>\n",
              "      <td>33</td>\n",
              "      <td>0</td>\n",
              "      <td>0</td>\n",
              "      <td>0</td>\n",
              "      <td>1</td>\n",
              "      <td>0</td>\n",
              "      <td>0</td>\n",
              "      <td>0</td>\n",
              "      <td>0</td>\n",
              "      <td>0</td>\n",
              "      <td>0</td>\n",
              "    </tr>\n",
              "    <tr>\n",
              "      <th>1553</th>\n",
              "      <td>12</td>\n",
              "      <td>100000.00</td>\n",
              "      <td>3.999960e+05</td>\n",
              "      <td>38</td>\n",
              "      <td>1</td>\n",
              "      <td>1</td>\n",
              "      <td>0</td>\n",
              "      <td>0</td>\n",
              "      <td>0</td>\n",
              "      <td>0</td>\n",
              "      <td>0</td>\n",
              "      <td>0</td>\n",
              "      <td>0</td>\n",
              "      <td>0</td>\n",
              "    </tr>\n",
              "    <tr>\n",
              "      <th>1554</th>\n",
              "      <td>62</td>\n",
              "      <td>125643.17</td>\n",
              "      <td>9.999600e+04</td>\n",
              "      <td>43</td>\n",
              "      <td>3</td>\n",
              "      <td>1</td>\n",
              "      <td>0</td>\n",
              "      <td>0</td>\n",
              "      <td>0</td>\n",
              "      <td>0</td>\n",
              "      <td>0</td>\n",
              "      <td>0</td>\n",
              "      <td>0</td>\n",
              "      <td>0</td>\n",
              "    </tr>\n",
              "  </tbody>\n",
              "</table>\n",
              "<p>1555 rows × 14 columns</p>\n",
              "</div>"
            ],
            "text/plain": [
              "      term        fee        income  age  ...  job_3.0  job_4.0  job_5.0  job_6.0\n",
              "0       12  100000.00  9.999960e+05   41  ...        0        0        0        0\n",
              "1       50  100000.00  3.999960e+05   34  ...        0        0        0        0\n",
              "2       12  100000.00  1.200000e+06   36  ...        0        0        0        0\n",
              "3       12  250000.00  7.999920e+05   60  ...        0        0        0        0\n",
              "4       17  200000.24  1.999992e+06   55  ...        0        0        0        0\n",
              "...    ...        ...           ...  ...  ...      ...      ...      ...      ...\n",
              "1550    79  168500.24  1.375036e+06   62  ...        0        0        0        1\n",
              "1551    12  200000.00  1.500000e+06   41  ...        0        0        0        0\n",
              "1552   101  233154.49  2.460000e+06   33  ...        0        0        0        0\n",
              "1553    12  100000.00  3.999960e+05   38  ...        0        0        0        0\n",
              "1554    62  125643.17  9.999600e+04   43  ...        0        0        0        0\n",
              "\n",
              "[1555 rows x 14 columns]"
            ]
          },
          "metadata": {},
          "execution_count": 168
        }
      ]
    },
    {
      "cell_type": "code",
      "metadata": {
        "id": "X3qVQOwL-4su",
        "colab": {
          "base_uri": "https://localhost:8080/"
        },
        "outputId": "b559a2b7-c1c3-4feb-9302-b207d14aaef7"
      },
      "source": [
        "# stratify\n",
        "X_tr, X_val, y_tr, y_val =  train_test_split(X_train, y_train, test_size=0.2, stratify=y_train, random_state=2021)\n",
        "print(\"훈련 데이터셋: \", X_tr.shape, y_tr.shape)\n",
        "print(\"검증 데이터셋: \", X_val.shape, y_val.shape)"
      ],
      "execution_count": null,
      "outputs": [
        {
          "output_type": "stream",
          "name": "stdout",
          "text": [
            "훈련 데이터셋:  (7045, 14) (7045,)\n",
            "검증 데이터셋:  (1762, 14) (1762,)\n"
          ]
        }
      ]
    },
    {
      "cell_type": "code",
      "metadata": {
        "id": "LseyDhec-4su"
      },
      "source": [
        "model = RandomForestClassifier(n_estimators=300, class_weight='balanced', random_state=2021)\n",
        "model.fit(X_tr, y_tr)\n",
        "val_pred = model.predict(X_val)"
      ],
      "execution_count": null,
      "outputs": []
    },
    {
      "cell_type": "code",
      "metadata": {
        "id": "ygEzwvc_-4su",
        "colab": {
          "base_uri": "https://localhost:8080/"
        },
        "outputId": "53eef6a3-0e84-4a18-a17b-8a997b5ca4bd"
      },
      "source": [
        "# 평가 지표\n",
        "print(\"정확도: %0.2f\" % accuracy_score(y_val, val_pred))\n",
        "print(\"정밀도: %0.2f\" % precision_score(y_val, val_pred))\n",
        "print(\"재현율: %0.2f\" % recall_score(y_val, val_pred))\n",
        "print(\"F1 스코어: %0.2f\" % f1_score(y_val, val_pred))\n",
        "print(\"ROC AUC: %0.2f\" % roc_auc_score(y_val, val_pred))"
      ],
      "execution_count": null,
      "outputs": [
        {
          "output_type": "stream",
          "name": "stdout",
          "text": [
            "정확도: 0.68\n",
            "정밀도: 0.51\n",
            "재현율: 0.27\n",
            "F1 스코어: 0.36\n",
            "ROC AUC: 0.58\n"
          ]
        }
      ]
    },
    {
      "cell_type": "code",
      "metadata": {
        "id": "JHIEA0Rv-4su",
        "colab": {
          "base_uri": "https://localhost:8080/",
          "height": 282
        },
        "outputId": "41f418cf-8673-4503-a31f-52068831c0b2"
      },
      "source": [
        "plt.figure(figsize=(12, 4))\n",
        "sns.barplot(x=X_train.columns, y=model.feature_importances_, estimator=np.mean)\n",
        "plt.title(\"Feature importances\")\n",
        "plt.ylabel(\"Mean decrease in impurity\")\n",
        "plt.show()"
      ],
      "execution_count": null,
      "outputs": [
        {
          "output_type": "display_data",
          "data": {
            "image/png": "[encoded data removed]",
            "text/plain": [
              "<Figure size 864x288 with 1 Axes>"
            ]
          },
          "metadata": {
            "needs_background": "light"
          }
        }
      ]
    },
    {
      "cell_type": "markdown",
      "metadata": {
        "id": "0C7xUDZl-4su"
      },
      "source": [
        "# 다른 알고리즘 적용"
      ]
    },
    {
      "cell_type": "markdown",
      "metadata": {
        "id": "HLi4cw2M-4su"
      },
      "source": [
        "### XGBoost"
      ]
    },
    {
      "cell_type": "code",
      "source": [
        ""
      ],
      "metadata": {
        "id": "RcSJK256U-VX"
      },
      "execution_count": null,
      "outputs": []
    },
    {
      "cell_type": "code",
      "source": [
        ""
      ],
      "metadata": {
        "id": "qFHqd0meU-KY"
      },
      "execution_count": null,
      "outputs": []
    },
    {
      "cell_type": "code",
      "source": [
        ""
      ],
      "metadata": {
        "id": "XfAQ83K4VYXI"
      },
      "execution_count": null,
      "outputs": []
    },
    {
      "cell_type": "code",
      "source": [
        ""
      ],
      "metadata": {
        "id": "kPLbtcKYVYOf"
      },
      "execution_count": null,
      "outputs": []
    },
    {
      "cell_type": "code",
      "metadata": {
        "id": "fnOFCAjx-4sv"
      },
      "source": [
        "import xgboost as xgb\n",
        "\n",
        "model2 = xgb.XGBClassifier(n_estimators=800, scale_pos_weight=5, random_state=2021)  # scale_pos_weight = total_majority_examples / total_minority_examples\n",
        "model2.fit(X_tr, y_tr)\n",
        "val_pred2 = model2.predict(X_val)"
      ],
      "execution_count": null,
      "outputs": []
    },
    {
      "cell_type": "code",
      "source": [
        "model2.fit(X_tr, y_tr)"
      ],
      "metadata": {
        "colab": {
          "base_uri": "https://localhost:8080/"
        },
        "id": "1Q62vc5AVrIn",
        "outputId": "b0cfb54c-3a94-4e92-8461-5539d34ab22c"
      },
      "execution_count": null,
      "outputs": [
        {
          "output_type": "execute_result",
          "data": {
            "text/plain": [
              "XGBClassifier(n_estimators=800, random_state=2021, scale_pos_weight=5)"
            ]
          },
          "metadata": {},
          "execution_count": 161
        }
      ]
    },
    {
      "cell_type": "code",
      "source": [
        "val_pred = model2.predict(X_val)\n",
        "val_pred[:10]"
      ],
      "metadata": {
        "colab": {
          "base_uri": "https://localhost:8080/"
        },
        "id": "7toEj6GyVz9n",
        "outputId": "a6a77eed-e694-412f-f587-ccbcb67f00f1"
      },
      "execution_count": null,
      "outputs": [
        {
          "output_type": "execute_result",
          "data": {
            "text/plain": [
              "array([0, 0, 1, 0, 1, 1, 0, 0, 1, 0])"
            ]
          },
          "metadata": {},
          "execution_count": 162
        }
      ]
    },
    {
      "cell_type": "code",
      "source": [
        "y_val[:10].to_list()"
      ],
      "metadata": {
        "colab": {
          "base_uri": "https://localhost:8080/"
        },
        "id": "GsWEWNSbVz0q",
        "outputId": "2ba0d956-d39e-459a-edc7-8619bc52dbec"
      },
      "execution_count": null,
      "outputs": [
        {
          "output_type": "execute_result",
          "data": {
            "text/plain": [
              "[0, 0, 1, 0, 0, 0, 0, 0, 0, 0]"
            ]
          },
          "metadata": {},
          "execution_count": 163
        }
      ]
    },
    {
      "cell_type": "code",
      "metadata": {
        "id": "tElRC1QR-4sv",
        "colab": {
          "base_uri": "https://localhost:8080/"
        },
        "outputId": "0e59bed2-6376-4dde-a014-cec7aed3b1d0"
      },
      "source": [
        "# 평가 지표\n",
        "print(\"정확도: %0.2f\" % accuracy_score(y_val, val_pred2))\n",
        "print(\"정밀도: %0.2f\" % precision_score(y_val, val_pred2))\n",
        "print(\"재현율: %0.2f\" % recall_score(y_val, val_pred2))\n",
        "print(\"F1 스코어: %0.2f\" % f1_score(y_val, val_pred2))\n",
        "print(\"ROC AUC: %0.2f\" % roc_auc_score(y_val, val_pred2))"
      ],
      "execution_count": null,
      "outputs": [
        {
          "output_type": "stream",
          "name": "stdout",
          "text": [
            "정확도: 0.59\n",
            "정밀도: 0.42\n",
            "재현율: 0.89\n",
            "F1 스코어: 0.57\n",
            "ROC AUC: 0.68\n"
          ]
        }
      ]
    },
    {
      "cell_type": "code",
      "metadata": {
        "id": "J7Y8DMg_-4sv",
        "colab": {
          "base_uri": "https://localhost:8080/",
          "height": 281
        },
        "outputId": "ac2e2297-e37a-4f29-b6d5-a1a66d0018eb"
      },
      "source": [
        "plt.figure(figsize=(12, 4))\n",
        "sns.barplot(x=X_train.columns, y=model2.feature_importances_, estimator=np.mean)\n",
        "plt.title(\"Feature importances\")\n",
        "plt.ylabel(\"Mean decrease in impurity\")\n",
        "plt.show()"
      ],
      "execution_count": null,
      "outputs": [
        {
          "output_type": "display_data",
          "data": {
            "image/png": "[encoded data removed]",
            "text/plain": [
              "<Figure size 864x288 with 1 Axes>"
            ]
          },
          "metadata": {
            "needs_background": "light"
          }
        }
      ]
    },
    {
      "cell_type": "code",
      "source": [
        "submission = pd.read_csv('/content/MyDrive/MyDrive/membership/sample_submission.csv')\n",
        "submission"
      ],
      "metadata": {
        "colab": {
          "base_uri": "https://localhost:8080/",
          "height": 424
        },
        "id": "jlTst4cnR3US",
        "outputId": "1119f053-bbe9-47d9-da9e-bba65cd237fc"
      },
      "execution_count": null,
      "outputs": [
        {
          "output_type": "execute_result",
          "data": {
            "text/html": [
              "<div>\n",
              "<style scoped>\n",
              "    .dataframe tbody tr th:only-of-type {\n",
              "        vertical-align: middle;\n",
              "    }\n",
              "\n",
              "    .dataframe tbody tr th {\n",
              "        vertical-align: top;\n",
              "    }\n",
              "\n",
              "    .dataframe thead th {\n",
              "        text-align: right;\n",
              "    }\n",
              "</style>\n",
              "<table border=\"1\" class=\"dataframe\">\n",
              "  <thead>\n",
              "    <tr style=\"text-align: right;\">\n",
              "      <th></th>\n",
              "      <th>id</th>\n",
              "      <th>MEMBERSHIP_STATUS</th>\n",
              "    </tr>\n",
              "  </thead>\n",
              "  <tbody>\n",
              "    <tr>\n",
              "      <th>0</th>\n",
              "      <td>8807</td>\n",
              "      <td>0</td>\n",
              "    </tr>\n",
              "    <tr>\n",
              "      <th>1</th>\n",
              "      <td>8808</td>\n",
              "      <td>1</td>\n",
              "    </tr>\n",
              "    <tr>\n",
              "      <th>2</th>\n",
              "      <td>8809</td>\n",
              "      <td>0</td>\n",
              "    </tr>\n",
              "    <tr>\n",
              "      <th>3</th>\n",
              "      <td>8810</td>\n",
              "      <td>0</td>\n",
              "    </tr>\n",
              "    <tr>\n",
              "      <th>4</th>\n",
              "      <td>8811</td>\n",
              "      <td>1</td>\n",
              "    </tr>\n",
              "    <tr>\n",
              "      <th>...</th>\n",
              "      <td>...</td>\n",
              "      <td>...</td>\n",
              "    </tr>\n",
              "    <tr>\n",
              "      <th>1550</th>\n",
              "      <td>10357</td>\n",
              "      <td>0</td>\n",
              "    </tr>\n",
              "    <tr>\n",
              "      <th>1551</th>\n",
              "      <td>10358</td>\n",
              "      <td>1</td>\n",
              "    </tr>\n",
              "    <tr>\n",
              "      <th>1552</th>\n",
              "      <td>10359</td>\n",
              "      <td>1</td>\n",
              "    </tr>\n",
              "    <tr>\n",
              "      <th>1553</th>\n",
              "      <td>10360</td>\n",
              "      <td>1</td>\n",
              "    </tr>\n",
              "    <tr>\n",
              "      <th>1554</th>\n",
              "      <td>10361</td>\n",
              "      <td>0</td>\n",
              "    </tr>\n",
              "  </tbody>\n",
              "</table>\n",
              "<p>1555 rows × 2 columns</p>\n",
              "</div>"
            ],
            "text/plain": [
              "         id  MEMBERSHIP_STATUS\n",
              "0      8807                  0\n",
              "1      8808                  1\n",
              "2      8809                  0\n",
              "3      8810                  0\n",
              "4      8811                  1\n",
              "...     ...                ...\n",
              "1550  10357                  0\n",
              "1551  10358                  1\n",
              "1552  10359                  1\n",
              "1553  10360                  1\n",
              "1554  10361                  0\n",
              "\n",
              "[1555 rows x 2 columns]"
            ]
          },
          "metadata": {},
          "execution_count": 233
        }
      ]
    },
    {
      "cell_type": "code",
      "source": [
        "preds = model2.predict(X_test)\n",
        "submission['MEMBERSHIP_STATUS'] = preds\n",
        "submission"
      ],
      "metadata": {
        "colab": {
          "base_uri": "https://localhost:8080/",
          "height": 424
        },
        "id": "Yzt5flxER3Q8",
        "outputId": "42f99ae8-b443-4f06-cdb2-a10f818dd8e8"
      },
      "execution_count": null,
      "outputs": [
        {
          "output_type": "execute_result",
          "data": {
            "text/html": [
              "<div>\n",
              "<style scoped>\n",
              "    .dataframe tbody tr th:only-of-type {\n",
              "        vertical-align: middle;\n",
              "    }\n",
              "\n",
              "    .dataframe tbody tr th {\n",
              "        vertical-align: top;\n",
              "    }\n",
              "\n",
              "    .dataframe thead th {\n",
              "        text-align: right;\n",
              "    }\n",
              "</style>\n",
              "<table border=\"1\" class=\"dataframe\">\n",
              "  <thead>\n",
              "    <tr style=\"text-align: right;\">\n",
              "      <th></th>\n",
              "      <th>id</th>\n",
              "      <th>MEMBERSHIP_STATUS</th>\n",
              "    </tr>\n",
              "  </thead>\n",
              "  <tbody>\n",
              "    <tr>\n",
              "      <th>0</th>\n",
              "      <td>8807</td>\n",
              "      <td>0</td>\n",
              "    </tr>\n",
              "    <tr>\n",
              "      <th>1</th>\n",
              "      <td>8808</td>\n",
              "      <td>0</td>\n",
              "    </tr>\n",
              "    <tr>\n",
              "      <th>2</th>\n",
              "      <td>8809</td>\n",
              "      <td>0</td>\n",
              "    </tr>\n",
              "    <tr>\n",
              "      <th>3</th>\n",
              "      <td>8810</td>\n",
              "      <td>0</td>\n",
              "    </tr>\n",
              "    <tr>\n",
              "      <th>4</th>\n",
              "      <td>8811</td>\n",
              "      <td>0</td>\n",
              "    </tr>\n",
              "    <tr>\n",
              "      <th>...</th>\n",
              "      <td>...</td>\n",
              "      <td>...</td>\n",
              "    </tr>\n",
              "    <tr>\n",
              "      <th>1550</th>\n",
              "      <td>10357</td>\n",
              "      <td>0</td>\n",
              "    </tr>\n",
              "    <tr>\n",
              "      <th>1551</th>\n",
              "      <td>10358</td>\n",
              "      <td>0</td>\n",
              "    </tr>\n",
              "    <tr>\n",
              "      <th>1552</th>\n",
              "      <td>10359</td>\n",
              "      <td>0</td>\n",
              "    </tr>\n",
              "    <tr>\n",
              "      <th>1553</th>\n",
              "      <td>10360</td>\n",
              "      <td>0</td>\n",
              "    </tr>\n",
              "    <tr>\n",
              "      <th>1554</th>\n",
              "      <td>10361</td>\n",
              "      <td>0</td>\n",
              "    </tr>\n",
              "  </tbody>\n",
              "</table>\n",
              "<p>1555 rows × 2 columns</p>\n",
              "</div>"
            ],
            "text/plain": [
              "         id  MEMBERSHIP_STATUS\n",
              "0      8807                  0\n",
              "1      8808                  0\n",
              "2      8809                  0\n",
              "3      8810                  0\n",
              "4      8811                  0\n",
              "...     ...                ...\n",
              "1550  10357                  0\n",
              "1551  10358                  0\n",
              "1552  10359                  0\n",
              "1553  10360                  0\n",
              "1554  10361                  0\n",
              "\n",
              "[1555 rows x 2 columns]"
            ]
          },
          "metadata": {},
          "execution_count": 234
        }
      ]
    },
    {
      "cell_type": "code",
      "source": [
        "submission['MEMBERSHIP_STATUS'].value_counts() / submission.shape[0]"
      ],
      "metadata": {
        "colab": {
          "base_uri": "https://localhost:8080/"
        },
        "id": "HouBJEgUR3N5",
        "outputId": "4f7894f4-6fb4-4438-8860-c888a197b9c0"
      },
      "execution_count": null,
      "outputs": [
        {
          "output_type": "execute_result",
          "data": {
            "text/plain": [
              "0    1.0\n",
              "Name: MEMBERSHIP_STATUS, dtype: float64"
            ]
          },
          "metadata": {},
          "execution_count": 235
        }
      ]
    },
    {
      "cell_type": "code",
      "source": [
        "submission.to_csv('prediction_007.csv', index=False)"
      ],
      "metadata": {
        "id": "ihcr6EKFR3L3"
      },
      "execution_count": null,
      "outputs": []
    },
    {
      "cell_type": "code",
      "source": [
        ""
      ],
      "metadata": {
        "id": "pa_esmOPR3KO"
      },
      "execution_count": null,
      "outputs": []
    },
    {
      "cell_type": "code",
      "source": [
        "from sklearn.ensemble import RandomForestClassifier\n",
        "model = RandomForestClassifier(random_state=2021)"
      ],
      "metadata": {
        "id": "KONVd5Q6R3G-"
      },
      "execution_count": null,
      "outputs": []
    },
    {
      "cell_type": "code",
      "source": [
        ""
      ],
      "metadata": {
        "id": "FlQUR9-8R3Dt"
      },
      "execution_count": null,
      "outputs": []
    },
    {
      "cell_type": "code",
      "source": [
        ""
      ],
      "metadata": {
        "id": "vwnTOSOGR3An"
      },
      "execution_count": null,
      "outputs": []
    },
    {
      "cell_type": "code",
      "source": [
        ""
      ],
      "metadata": {
        "id": "g5F3W6RSR23_"
      },
      "execution_count": null,
      "outputs": []
    },
    {
      "cell_type": "markdown",
      "metadata": {
        "id": "1xWHik_R-4sv"
      },
      "source": [
        "### LightGBM"
      ]
    },
    {
      "cell_type": "code",
      "metadata": {
        "id": "xbMtOp_D-4sv"
      },
      "source": [
        "import lightgbm as lgb\n",
        "model3 = lgb.LGBMClassifier(n_estimators=15, scale_pos_weight=4, random_state=2021)\n",
        "model3.fit(X_tr, y_tr)\n",
        "val_pred3 = model3.predict(X_val)"
      ],
      "execution_count": null,
      "outputs": []
    },
    {
      "cell_type": "code",
      "source": [
        "model3.fit(X_tr, y_tr)"
      ],
      "metadata": {
        "colab": {
          "base_uri": "https://localhost:8080/"
        },
        "id": "0IbuBa-nXUqV",
        "outputId": "73c33046-b17b-46f1-94fb-b443bca4f1de"
      },
      "execution_count": null,
      "outputs": [
        {
          "output_type": "execute_result",
          "data": {
            "text/plain": [
              "LGBMClassifier(n_estimators=15, random_state=2021, scale_pos_weight=4)"
            ]
          },
          "metadata": {},
          "execution_count": 344
        }
      ]
    },
    {
      "cell_type": "code",
      "source": [
        "val_pred = model3.predict(X_val)\n",
        "val_pred[:10]"
      ],
      "metadata": {
        "colab": {
          "base_uri": "https://localhost:8080/"
        },
        "id": "j6TfyKfCXUm3",
        "outputId": "6f58f936-f43a-4616-8884-c81a84e3866e"
      },
      "execution_count": null,
      "outputs": [
        {
          "output_type": "execute_result",
          "data": {
            "text/plain": [
              "array([0, 0, 1, 0, 1, 1, 0, 0, 1, 0])"
            ]
          },
          "metadata": {},
          "execution_count": 345
        }
      ]
    },
    {
      "cell_type": "code",
      "source": [
        "y_val[:10].to_list()"
      ],
      "metadata": {
        "colab": {
          "base_uri": "https://localhost:8080/"
        },
        "id": "LWgIqWpdXUjg",
        "outputId": "a529d72f-83f2-44fb-c337-37cf31961da5"
      },
      "execution_count": null,
      "outputs": [
        {
          "output_type": "execute_result",
          "data": {
            "text/plain": [
              "[0, 0, 1, 0, 0, 0, 0, 0, 0, 0]"
            ]
          },
          "metadata": {},
          "execution_count": 346
        }
      ]
    },
    {
      "cell_type": "code",
      "metadata": {
        "id": "kjLeWeL9-4sv",
        "colab": {
          "base_uri": "https://localhost:8080/"
        },
        "outputId": "4acba2b8-d705-4e7b-b012-b1d609e626fe"
      },
      "source": [
        "# 평가 지표\n",
        "print(\"정확도: %0.2f\" % accuracy_score(y_val, val_pred3))\n",
        "print(\"정밀도: %0.2f\" % precision_score(y_val, val_pred3))\n",
        "print(\"재현율: %0.2f\" % recall_score(y_val, val_pred3))\n",
        "print(\"F1 스코어: %0.2f\" % f1_score(y_val, val_pred3))\n",
        "print(\"ROC AUC: %0.2f\" % roc_auc_score(y_val, val_pred3))"
      ],
      "execution_count": null,
      "outputs": [
        {
          "output_type": "stream",
          "name": "stdout",
          "text": [
            "정확도: 0.60\n",
            "정밀도: 0.42\n",
            "재현율: 0.90\n",
            "F1 스코어: 0.58\n",
            "ROC AUC: 0.69\n"
          ]
        }
      ]
    },
    {
      "cell_type": "code",
      "metadata": {
        "id": "Ybs7auv9-4sw",
        "colab": {
          "base_uri": "https://localhost:8080/",
          "height": 282
        },
        "outputId": "5e6bc164-4bfe-4653-8c1c-15de709ca472"
      },
      "source": [
        "plt.figure(figsize=(12, 4))\n",
        "sns.barplot(x=X_train.columns, y=model3.feature_importances_, estimator=np.mean)\n",
        "plt.title(\"Feature importances\")\n",
        "plt.ylabel(\"Mean decrease in impurity\")\n",
        "plt.show()"
      ],
      "execution_count": null,
      "outputs": [
        {
          "output_type": "display_data",
          "data": {
            "image/png": "[encoded data removed]",
            "text/plain": [
              "<Figure size 864x288 with 1 Axes>"
            ]
          },
          "metadata": {
            "needs_background": "light"
          }
        }
      ]
    },
    {
      "cell_type": "code",
      "source": [
        "submission = pd.read_csv('/content/MyDrive/MyDrive/membership/sample_submission.csv')\n",
        "submission"
      ],
      "metadata": {
        "colab": {
          "base_uri": "https://localhost:8080/",
          "height": 424
        },
        "id": "pXvJw0F4Rck2",
        "outputId": "cdebc69d-6ce4-4474-e4ff-004dc9c2d40e"
      },
      "execution_count": null,
      "outputs": [
        {
          "output_type": "execute_result",
          "data": {
            "text/html": [
              "<div>\n",
              "<style scoped>\n",
              "    .dataframe tbody tr th:only-of-type {\n",
              "        vertical-align: middle;\n",
              "    }\n",
              "\n",
              "    .dataframe tbody tr th {\n",
              "        vertical-align: top;\n",
              "    }\n",
              "\n",
              "    .dataframe thead th {\n",
              "        text-align: right;\n",
              "    }\n",
              "</style>\n",
              "<table border=\"1\" class=\"dataframe\">\n",
              "  <thead>\n",
              "    <tr style=\"text-align: right;\">\n",
              "      <th></th>\n",
              "      <th>id</th>\n",
              "      <th>MEMBERSHIP_STATUS</th>\n",
              "    </tr>\n",
              "  </thead>\n",
              "  <tbody>\n",
              "    <tr>\n",
              "      <th>0</th>\n",
              "      <td>8807</td>\n",
              "      <td>0</td>\n",
              "    </tr>\n",
              "    <tr>\n",
              "      <th>1</th>\n",
              "      <td>8808</td>\n",
              "      <td>1</td>\n",
              "    </tr>\n",
              "    <tr>\n",
              "      <th>2</th>\n",
              "      <td>8809</td>\n",
              "      <td>0</td>\n",
              "    </tr>\n",
              "    <tr>\n",
              "      <th>3</th>\n",
              "      <td>8810</td>\n",
              "      <td>0</td>\n",
              "    </tr>\n",
              "    <tr>\n",
              "      <th>4</th>\n",
              "      <td>8811</td>\n",
              "      <td>1</td>\n",
              "    </tr>\n",
              "    <tr>\n",
              "      <th>...</th>\n",
              "      <td>...</td>\n",
              "      <td>...</td>\n",
              "    </tr>\n",
              "    <tr>\n",
              "      <th>1550</th>\n",
              "      <td>10357</td>\n",
              "      <td>0</td>\n",
              "    </tr>\n",
              "    <tr>\n",
              "      <th>1551</th>\n",
              "      <td>10358</td>\n",
              "      <td>1</td>\n",
              "    </tr>\n",
              "    <tr>\n",
              "      <th>1552</th>\n",
              "      <td>10359</td>\n",
              "      <td>1</td>\n",
              "    </tr>\n",
              "    <tr>\n",
              "      <th>1553</th>\n",
              "      <td>10360</td>\n",
              "      <td>1</td>\n",
              "    </tr>\n",
              "    <tr>\n",
              "      <th>1554</th>\n",
              "      <td>10361</td>\n",
              "      <td>0</td>\n",
              "    </tr>\n",
              "  </tbody>\n",
              "</table>\n",
              "<p>1555 rows × 2 columns</p>\n",
              "</div>"
            ],
            "text/plain": [
              "         id  MEMBERSHIP_STATUS\n",
              "0      8807                  0\n",
              "1      8808                  1\n",
              "2      8809                  0\n",
              "3      8810                  0\n",
              "4      8811                  1\n",
              "...     ...                ...\n",
              "1550  10357                  0\n",
              "1551  10358                  1\n",
              "1552  10359                  1\n",
              "1553  10360                  1\n",
              "1554  10361                  0\n",
              "\n",
              "[1555 rows x 2 columns]"
            ]
          },
          "metadata": {},
          "execution_count": 348
        }
      ]
    },
    {
      "cell_type": "code",
      "source": [
        "preds = model3.predict(X_test)\n",
        "submission['MEMBERSHIP_STATUS'] = preds\n",
        "submission"
      ],
      "metadata": {
        "colab": {
          "base_uri": "https://localhost:8080/",
          "height": 424
        },
        "id": "Jime8W7ORcbI",
        "outputId": "e5790e88-e6a4-4a16-ddac-d41f7fab9341"
      },
      "execution_count": null,
      "outputs": [
        {
          "output_type": "execute_result",
          "data": {
            "text/html": [
              "<div>\n",
              "<style scoped>\n",
              "    .dataframe tbody tr th:only-of-type {\n",
              "        vertical-align: middle;\n",
              "    }\n",
              "\n",
              "    .dataframe tbody tr th {\n",
              "        vertical-align: top;\n",
              "    }\n",
              "\n",
              "    .dataframe thead th {\n",
              "        text-align: right;\n",
              "    }\n",
              "</style>\n",
              "<table border=\"1\" class=\"dataframe\">\n",
              "  <thead>\n",
              "    <tr style=\"text-align: right;\">\n",
              "      <th></th>\n",
              "      <th>id</th>\n",
              "      <th>MEMBERSHIP_STATUS</th>\n",
              "    </tr>\n",
              "  </thead>\n",
              "  <tbody>\n",
              "    <tr>\n",
              "      <th>0</th>\n",
              "      <td>8807</td>\n",
              "      <td>1</td>\n",
              "    </tr>\n",
              "    <tr>\n",
              "      <th>1</th>\n",
              "      <td>8808</td>\n",
              "      <td>1</td>\n",
              "    </tr>\n",
              "    <tr>\n",
              "      <th>2</th>\n",
              "      <td>8809</td>\n",
              "      <td>1</td>\n",
              "    </tr>\n",
              "    <tr>\n",
              "      <th>3</th>\n",
              "      <td>8810</td>\n",
              "      <td>1</td>\n",
              "    </tr>\n",
              "    <tr>\n",
              "      <th>4</th>\n",
              "      <td>8811</td>\n",
              "      <td>0</td>\n",
              "    </tr>\n",
              "    <tr>\n",
              "      <th>...</th>\n",
              "      <td>...</td>\n",
              "      <td>...</td>\n",
              "    </tr>\n",
              "    <tr>\n",
              "      <th>1550</th>\n",
              "      <td>10357</td>\n",
              "      <td>0</td>\n",
              "    </tr>\n",
              "    <tr>\n",
              "      <th>1551</th>\n",
              "      <td>10358</td>\n",
              "      <td>1</td>\n",
              "    </tr>\n",
              "    <tr>\n",
              "      <th>1552</th>\n",
              "      <td>10359</td>\n",
              "      <td>1</td>\n",
              "    </tr>\n",
              "    <tr>\n",
              "      <th>1553</th>\n",
              "      <td>10360</td>\n",
              "      <td>1</td>\n",
              "    </tr>\n",
              "    <tr>\n",
              "      <th>1554</th>\n",
              "      <td>10361</td>\n",
              "      <td>1</td>\n",
              "    </tr>\n",
              "  </tbody>\n",
              "</table>\n",
              "<p>1555 rows × 2 columns</p>\n",
              "</div>"
            ],
            "text/plain": [
              "         id  MEMBERSHIP_STATUS\n",
              "0      8807                  1\n",
              "1      8808                  1\n",
              "2      8809                  1\n",
              "3      8810                  1\n",
              "4      8811                  0\n",
              "...     ...                ...\n",
              "1550  10357                  0\n",
              "1551  10358                  1\n",
              "1552  10359                  1\n",
              "1553  10360                  1\n",
              "1554  10361                  1\n",
              "\n",
              "[1555 rows x 2 columns]"
            ]
          },
          "metadata": {},
          "execution_count": 349
        }
      ]
    },
    {
      "cell_type": "code",
      "source": [
        "submission['MEMBERSHIP_STATUS'].value_counts() / submission.shape[0]"
      ],
      "metadata": {
        "colab": {
          "base_uri": "https://localhost:8080/"
        },
        "id": "WFGguA6oRcXp",
        "outputId": "a6ea6429-d286-4e33-f642-3b3e2f7ddc91"
      },
      "execution_count": null,
      "outputs": [
        {
          "output_type": "execute_result",
          "data": {
            "text/plain": [
              "1    0.662379\n",
              "0    0.337621\n",
              "Name: MEMBERSHIP_STATUS, dtype: float64"
            ]
          },
          "metadata": {},
          "execution_count": 350
        }
      ]
    },
    {
      "cell_type": "code",
      "source": [
        "submission.to_csv('prediction_010.csv', index=False)"
      ],
      "metadata": {
        "id": "-DUF5d5XRcUK"
      },
      "execution_count": null,
      "outputs": []
    },
    {
      "cell_type": "code",
      "source": [
        ""
      ],
      "metadata": {
        "id": "Iz-3MRPvRcQ-"
      },
      "execution_count": null,
      "outputs": []
    },
    {
      "cell_type": "code",
      "source": [
        ""
      ],
      "metadata": {
        "id": "g7A8a72zRcKv"
      },
      "execution_count": null,
      "outputs": []
    },
    {
      "cell_type": "code",
      "source": [
        ""
      ],
      "metadata": {
        "id": "gPo-utDoRcBf"
      },
      "execution_count": null,
      "outputs": []
    },
    {
      "cell_type": "code",
      "source": [
        ""
      ],
      "metadata": {
        "id": "GkPp9kczRb3J"
      },
      "execution_count": null,
      "outputs": []
    },
    {
      "cell_type": "markdown",
      "metadata": {
        "id": "mo0D-eN0-4sw"
      },
      "source": [
        "# K-fold 교차검증"
      ]
    },
    {
      "cell_type": "code",
      "metadata": {
        "ExecuteTime": {
          "end_time": "2021-09-14T07:32:20.993530Z",
          "start_time": "2021-09-14T07:32:20.990824Z"
        },
        "id": "_ZEaGped-4sw",
        "colab": {
          "base_uri": "https://localhost:8080/"
        },
        "outputId": "2cfeac62-966d-4bac-c7bd-a7847517fdd8"
      },
      "source": [
        "from sklearn.model_selection import StratifiedKFold\n",
        "\n",
        "cv_score = []\n",
        "cv_model = lgb.LGBMClassifier(n_estimators=300, scale_pos_weight=10, random_state=2021)\n",
        "\n",
        "idx_iter = 0\n",
        "for train_idx , valid_idx in StratifiedKFold(n_splits=5, random_state=42, shuffle=True).split(X_train, y_train):  \n",
        "\n",
        "    X_tr, X_val = X_train.iloc[train_idx], X_train.iloc[valid_idx]\n",
        "    y_tr, y_val = y_train.iloc[train_idx], y_train.iloc[valid_idx]\n",
        "\n",
        "    #학습 및 예측 \n",
        "    cv_model.fit(X_tr , y_tr)    \n",
        "    y_pred = cv_model.predict(X_val)\n",
        "\n",
        "    # 반복 시 마다 정확도 측정 \n",
        "    idx_iter += 1\n",
        "    score = f1_score(y_val, y_pred)\n",
        "\n",
        "    print(f\"{idx_iter}번째 Valid Fold의 F1 Score: {score}\")\n",
        "\n",
        "    cv_score.append(score)"
      ],
      "execution_count": null,
      "outputs": [
        {
          "output_type": "stream",
          "name": "stdout",
          "text": [
            "1번째 Valid Fold의 F1 Score: 0.5107871720116619\n",
            "2번째 Valid Fold의 F1 Score: 0.5167351732237229\n",
            "3번째 Valid Fold의 F1 Score: 0.5180442374854481\n",
            "4번째 Valid Fold의 F1 Score: 0.5280373831775701\n",
            "5번째 Valid Fold의 F1 Score: 0.518562874251497\n"
          ]
        }
      ]
    },
    {
      "cell_type": "code",
      "metadata": {
        "ExecuteTime": {
          "end_time": "2021-09-14T07:34:03.991737Z",
          "start_time": "2021-09-14T07:32:43.773834Z"
        },
        "id": "UuUqEw8y-4sw",
        "colab": {
          "base_uri": "https://localhost:8080/"
        },
        "outputId": "4d54af6e-dd3c-4619-b8a7-8ce1a4cf6b45"
      },
      "source": [
        "# 평균 스코어\n",
        "np.mean(cv_score)"
      ],
      "execution_count": null,
      "outputs": [
        {
          "output_type": "execute_result",
          "data": {
            "text/plain": [
              "0.51843336802998"
            ]
          },
          "metadata": {},
          "execution_count": 180
        }
      ]
    },
    {
      "cell_type": "markdown",
      "metadata": {
        "id": "7af674be-b9e7-45ad-b5fd-91b0371ff631"
      },
      "source": [
        "# [실습]\n",
        "고객 이탈 여부를 예측하는 모델을 훈련시키고 예측 결과를 시스템에 제출합니다. (합격 점수: F1스코어 0.52 이상)"
      ]
    },
    {
      "cell_type": "code",
      "metadata": {
        "id": "umcAJjQEv9fc"
      },
      "source": [
        ""
      ],
      "execution_count": null,
      "outputs": []
    }
  ]
}