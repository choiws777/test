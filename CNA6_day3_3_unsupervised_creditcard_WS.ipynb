{
  "cells": [
    {
      "cell_type": "markdown",
      "metadata": {
        "id": "view-in-github",
        "colab_type": "text"
      },
      "source": [
        "<a href=\"https://colab.research.google.com/github/choiws777/test/blob/master/CNA6_day3_3_unsupervised_creditcard_WS.ipynb\" target=\"_parent\"><img src=\"https://colab.research.google.com/assets/colab-badge.svg\" alt=\"Open In Colab\"/></a>"
      ]
    },
    {
      "cell_type": "markdown",
      "metadata": {
        "id": "B0l_qiBbpOc4"
      },
      "source": [
        "# 신용카드 거래사기 탐지\n",
        "\n",
        "https://www.kaggle.com/mlg-ulb/creditcardfraud"
      ]
    },
    {
      "cell_type": "markdown",
      "metadata": {
        "id": "OJCmslN4pOc7"
      },
      "source": [
        "# Library"
      ]
    },
    {
      "cell_type": "code",
      "execution_count": null,
      "metadata": {
        "id": "PPp9bsnHpOc7"
      },
      "outputs": [],
      "source": [
        "import pandas as pd\n",
        "import numpy as np\n",
        "\n",
        "import matplotlib.pyplot as plt\n",
        "import seaborn as sns"
      ]
    },
    {
      "cell_type": "markdown",
      "metadata": {
        "id": "Kdj5Fl3apOc8"
      },
      "source": [
        "# Dataset"
      ]
    },
    {
      "cell_type": "code",
      "source": [
        "from google.colab import drive\n",
        "drive.mount('/content/drive')"
      ],
      "metadata": {
        "colab": {
          "base_uri": "https://localhost:8080/"
        },
        "id": "uxbP71_QpT3p",
        "outputId": "b02bfca7-d856-4dbe-9bd0-dcd1ee878d7d"
      },
      "execution_count": null,
      "outputs": [
        {
          "output_type": "stream",
          "name": "stdout",
          "text": [
            "Mounted at /content/drive\n"
          ]
        }
      ]
    },
    {
      "cell_type": "code",
      "execution_count": null,
      "metadata": {
        "colab": {
          "base_uri": "https://localhost:8080/",
          "height": 226
        },
        "id": "1O2fUr3rpOc8",
        "outputId": "895752a4-c221-484d-b767-74ff583f7a8b"
      },
      "outputs": [
        {
          "output_type": "execute_result",
          "data": {
            "text/html": [
              "<div>\n",
              "<style scoped>\n",
              "    .dataframe tbody tr th:only-of-type {\n",
              "        vertical-align: middle;\n",
              "    }\n",
              "\n",
              "    .dataframe tbody tr th {\n",
              "        vertical-align: top;\n",
              "    }\n",
              "\n",
              "    .dataframe thead th {\n",
              "        text-align: right;\n",
              "    }\n",
              "</style>\n",
              "<table border=\"1\" class=\"dataframe\">\n",
              "  <thead>\n",
              "    <tr style=\"text-align: right;\">\n",
              "      <th></th>\n",
              "      <th>Time</th>\n",
              "      <th>V1</th>\n",
              "      <th>V2</th>\n",
              "      <th>V3</th>\n",
              "      <th>V4</th>\n",
              "      <th>V5</th>\n",
              "      <th>V6</th>\n",
              "      <th>V7</th>\n",
              "      <th>V8</th>\n",
              "      <th>V9</th>\n",
              "      <th>V10</th>\n",
              "      <th>V11</th>\n",
              "      <th>V12</th>\n",
              "      <th>V13</th>\n",
              "      <th>V14</th>\n",
              "      <th>V15</th>\n",
              "      <th>V16</th>\n",
              "      <th>V17</th>\n",
              "      <th>V18</th>\n",
              "      <th>V19</th>\n",
              "      <th>V20</th>\n",
              "      <th>V21</th>\n",
              "      <th>V22</th>\n",
              "      <th>V23</th>\n",
              "      <th>V24</th>\n",
              "      <th>V25</th>\n",
              "      <th>V26</th>\n",
              "      <th>V27</th>\n",
              "      <th>V28</th>\n",
              "      <th>Amount</th>\n",
              "      <th>Class</th>\n",
              "    </tr>\n",
              "  </thead>\n",
              "  <tbody>\n",
              "    <tr>\n",
              "      <th>0</th>\n",
              "      <td>0.0</td>\n",
              "      <td>-1.359807</td>\n",
              "      <td>-0.072781</td>\n",
              "      <td>2.536347</td>\n",
              "      <td>1.378155</td>\n",
              "      <td>-0.338321</td>\n",
              "      <td>0.462388</td>\n",
              "      <td>0.239599</td>\n",
              "      <td>0.098698</td>\n",
              "      <td>0.363787</td>\n",
              "      <td>0.090794</td>\n",
              "      <td>-0.551600</td>\n",
              "      <td>-0.617801</td>\n",
              "      <td>-0.991390</td>\n",
              "      <td>-0.311169</td>\n",
              "      <td>1.468177</td>\n",
              "      <td>-0.470401</td>\n",
              "      <td>0.207971</td>\n",
              "      <td>0.025791</td>\n",
              "      <td>0.403993</td>\n",
              "      <td>0.251412</td>\n",
              "      <td>-0.018307</td>\n",
              "      <td>0.277838</td>\n",
              "      <td>-0.110474</td>\n",
              "      <td>0.066928</td>\n",
              "      <td>0.128539</td>\n",
              "      <td>-0.189115</td>\n",
              "      <td>0.133558</td>\n",
              "      <td>-0.021053</td>\n",
              "      <td>149.62</td>\n",
              "      <td>0</td>\n",
              "    </tr>\n",
              "    <tr>\n",
              "      <th>1</th>\n",
              "      <td>0.0</td>\n",
              "      <td>1.191857</td>\n",
              "      <td>0.266151</td>\n",
              "      <td>0.166480</td>\n",
              "      <td>0.448154</td>\n",
              "      <td>0.060018</td>\n",
              "      <td>-0.082361</td>\n",
              "      <td>-0.078803</td>\n",
              "      <td>0.085102</td>\n",
              "      <td>-0.255425</td>\n",
              "      <td>-0.166974</td>\n",
              "      <td>1.612727</td>\n",
              "      <td>1.065235</td>\n",
              "      <td>0.489095</td>\n",
              "      <td>-0.143772</td>\n",
              "      <td>0.635558</td>\n",
              "      <td>0.463917</td>\n",
              "      <td>-0.114805</td>\n",
              "      <td>-0.183361</td>\n",
              "      <td>-0.145783</td>\n",
              "      <td>-0.069083</td>\n",
              "      <td>-0.225775</td>\n",
              "      <td>-0.638672</td>\n",
              "      <td>0.101288</td>\n",
              "      <td>-0.339846</td>\n",
              "      <td>0.167170</td>\n",
              "      <td>0.125895</td>\n",
              "      <td>-0.008983</td>\n",
              "      <td>0.014724</td>\n",
              "      <td>2.69</td>\n",
              "      <td>0</td>\n",
              "    </tr>\n",
              "    <tr>\n",
              "      <th>2</th>\n",
              "      <td>1.0</td>\n",
              "      <td>-1.358354</td>\n",
              "      <td>-1.340163</td>\n",
              "      <td>1.773209</td>\n",
              "      <td>0.379780</td>\n",
              "      <td>-0.503198</td>\n",
              "      <td>1.800499</td>\n",
              "      <td>0.791461</td>\n",
              "      <td>0.247676</td>\n",
              "      <td>-1.514654</td>\n",
              "      <td>0.207643</td>\n",
              "      <td>0.624501</td>\n",
              "      <td>0.066084</td>\n",
              "      <td>0.717293</td>\n",
              "      <td>-0.165946</td>\n",
              "      <td>2.345865</td>\n",
              "      <td>-2.890083</td>\n",
              "      <td>1.109969</td>\n",
              "      <td>-0.121359</td>\n",
              "      <td>-2.261857</td>\n",
              "      <td>0.524980</td>\n",
              "      <td>0.247998</td>\n",
              "      <td>0.771679</td>\n",
              "      <td>0.909412</td>\n",
              "      <td>-0.689281</td>\n",
              "      <td>-0.327642</td>\n",
              "      <td>-0.139097</td>\n",
              "      <td>-0.055353</td>\n",
              "      <td>-0.059752</td>\n",
              "      <td>378.66</td>\n",
              "      <td>0</td>\n",
              "    </tr>\n",
              "    <tr>\n",
              "      <th>3</th>\n",
              "      <td>1.0</td>\n",
              "      <td>-0.966272</td>\n",
              "      <td>-0.185226</td>\n",
              "      <td>1.792993</td>\n",
              "      <td>-0.863291</td>\n",
              "      <td>-0.010309</td>\n",
              "      <td>1.247203</td>\n",
              "      <td>0.237609</td>\n",
              "      <td>0.377436</td>\n",
              "      <td>-1.387024</td>\n",
              "      <td>-0.054952</td>\n",
              "      <td>-0.226487</td>\n",
              "      <td>0.178228</td>\n",
              "      <td>0.507757</td>\n",
              "      <td>-0.287924</td>\n",
              "      <td>-0.631418</td>\n",
              "      <td>-1.059647</td>\n",
              "      <td>-0.684093</td>\n",
              "      <td>1.965775</td>\n",
              "      <td>-1.232622</td>\n",
              "      <td>-0.208038</td>\n",
              "      <td>-0.108300</td>\n",
              "      <td>0.005274</td>\n",
              "      <td>-0.190321</td>\n",
              "      <td>-1.175575</td>\n",
              "      <td>0.647376</td>\n",
              "      <td>-0.221929</td>\n",
              "      <td>0.062723</td>\n",
              "      <td>0.061458</td>\n",
              "      <td>123.50</td>\n",
              "      <td>0</td>\n",
              "    </tr>\n",
              "    <tr>\n",
              "      <th>4</th>\n",
              "      <td>2.0</td>\n",
              "      <td>-1.158233</td>\n",
              "      <td>0.877737</td>\n",
              "      <td>1.548718</td>\n",
              "      <td>0.403034</td>\n",
              "      <td>-0.407193</td>\n",
              "      <td>0.095921</td>\n",
              "      <td>0.592941</td>\n",
              "      <td>-0.270533</td>\n",
              "      <td>0.817739</td>\n",
              "      <td>0.753074</td>\n",
              "      <td>-0.822843</td>\n",
              "      <td>0.538196</td>\n",
              "      <td>1.345852</td>\n",
              "      <td>-1.119670</td>\n",
              "      <td>0.175121</td>\n",
              "      <td>-0.451449</td>\n",
              "      <td>-0.237033</td>\n",
              "      <td>-0.038195</td>\n",
              "      <td>0.803487</td>\n",
              "      <td>0.408542</td>\n",
              "      <td>-0.009431</td>\n",
              "      <td>0.798278</td>\n",
              "      <td>-0.137458</td>\n",
              "      <td>0.141267</td>\n",
              "      <td>-0.206010</td>\n",
              "      <td>0.502292</td>\n",
              "      <td>0.219422</td>\n",
              "      <td>0.215153</td>\n",
              "      <td>69.99</td>\n",
              "      <td>0</td>\n",
              "    </tr>\n",
              "  </tbody>\n",
              "</table>\n",
              "</div>"
            ],
            "text/plain": [
              "   Time        V1        V2        V3  ...       V27       V28  Amount  Class\n",
              "0   0.0 -1.359807 -0.072781  2.536347  ...  0.133558 -0.021053  149.62      0\n",
              "1   0.0  1.191857  0.266151  0.166480  ... -0.008983  0.014724    2.69      0\n",
              "2   1.0 -1.358354 -1.340163  1.773209  ... -0.055353 -0.059752  378.66      0\n",
              "3   1.0 -0.966272 -0.185226  1.792993  ...  0.062723  0.061458  123.50      0\n",
              "4   2.0 -1.158233  0.877737  1.548718  ...  0.219422  0.215153   69.99      0\n",
              "\n",
              "[5 rows x 31 columns]"
            ]
          },
          "metadata": {},
          "execution_count": 3
        }
      ],
      "source": [
        "df = pd.read_csv('/content/drive/MyDrive/creditcard.csv의 사본')\n",
        "df.head()"
      ]
    },
    {
      "cell_type": "code",
      "execution_count": null,
      "metadata": {
        "colab": {
          "base_uri": "https://localhost:8080/",
          "height": 279
        },
        "id": "kB_j7e7QpOc9",
        "outputId": "187ffdb5-a6b3-4814-b092-a4cf4fc8cd75"
      },
      "outputs": [
        {
          "output_type": "display_data",
          "data": {
            "image/png": "[encoded data removed]",
            "text/plain": [
              "<Figure size 432x288 with 1 Axes>"
            ]
          },
          "metadata": {
            "needs_background": "light"
          }
        }
      ],
      "source": [
        "# Target Class 분포\n",
        "sns.countplot(x='Class', data=df);"
      ]
    },
    {
      "cell_type": "code",
      "execution_count": null,
      "metadata": {
        "colab": {
          "base_uri": "https://localhost:8080/"
        },
        "id": "RKDgRkEDpOc-",
        "outputId": "d9504226-f283-46c2-f98d-bbeb676fbb12"
      },
      "outputs": [
        {
          "output_type": "execute_result",
          "data": {
            "text/plain": [
              "((284807, 30), (284807,))"
            ]
          },
          "metadata": {},
          "execution_count": 5
        }
      ],
      "source": [
        "X = df.iloc[:, :-1]\n",
        "Y = df.iloc[:, -1]\n",
        "\n",
        "X.shape, Y.shape"
      ]
    },
    {
      "cell_type": "code",
      "execution_count": null,
      "metadata": {
        "colab": {
          "base_uri": "https://localhost:8080/",
          "height": 390
        },
        "id": "ZcykKBCvpOc_",
        "outputId": "907f3c4c-5ae1-4c42-e583-d9b333aa07bb"
      },
      "outputs": [
        {
          "output_type": "execute_result",
          "data": {
            "text/html": [
              "<div>\n",
              "<style scoped>\n",
              "    .dataframe tbody tr th:only-of-type {\n",
              "        vertical-align: middle;\n",
              "    }\n",
              "\n",
              "    .dataframe tbody tr th {\n",
              "        vertical-align: top;\n",
              "    }\n",
              "\n",
              "    .dataframe thead th {\n",
              "        text-align: right;\n",
              "    }\n",
              "</style>\n",
              "<table border=\"1\" class=\"dataframe\">\n",
              "  <thead>\n",
              "    <tr style=\"text-align: right;\">\n",
              "      <th></th>\n",
              "      <th>Time</th>\n",
              "      <th>V1</th>\n",
              "      <th>V2</th>\n",
              "      <th>V3</th>\n",
              "      <th>V4</th>\n",
              "      <th>V5</th>\n",
              "      <th>V6</th>\n",
              "      <th>V7</th>\n",
              "      <th>V8</th>\n",
              "      <th>V9</th>\n",
              "      <th>V10</th>\n",
              "      <th>V11</th>\n",
              "      <th>V12</th>\n",
              "      <th>V13</th>\n",
              "      <th>V14</th>\n",
              "      <th>V15</th>\n",
              "      <th>V16</th>\n",
              "      <th>V17</th>\n",
              "      <th>V18</th>\n",
              "      <th>V19</th>\n",
              "      <th>V20</th>\n",
              "      <th>V21</th>\n",
              "      <th>V22</th>\n",
              "      <th>V23</th>\n",
              "      <th>V24</th>\n",
              "      <th>V25</th>\n",
              "      <th>V26</th>\n",
              "      <th>V27</th>\n",
              "      <th>V28</th>\n",
              "      <th>Amount</th>\n",
              "    </tr>\n",
              "  </thead>\n",
              "  <tbody>\n",
              "    <tr>\n",
              "      <th>count</th>\n",
              "      <td>2.848070e+05</td>\n",
              "      <td>2.848070e+05</td>\n",
              "      <td>2.848070e+05</td>\n",
              "      <td>2.848070e+05</td>\n",
              "      <td>2.848070e+05</td>\n",
              "      <td>2.848070e+05</td>\n",
              "      <td>2.848070e+05</td>\n",
              "      <td>2.848070e+05</td>\n",
              "      <td>2.848070e+05</td>\n",
              "      <td>2.848070e+05</td>\n",
              "      <td>2.848070e+05</td>\n",
              "      <td>2.848070e+05</td>\n",
              "      <td>2.848070e+05</td>\n",
              "      <td>2.848070e+05</td>\n",
              "      <td>2.848070e+05</td>\n",
              "      <td>2.848070e+05</td>\n",
              "      <td>2.848070e+05</td>\n",
              "      <td>2.848070e+05</td>\n",
              "      <td>2.848070e+05</td>\n",
              "      <td>2.848070e+05</td>\n",
              "      <td>2.848070e+05</td>\n",
              "      <td>2.848070e+05</td>\n",
              "      <td>2.848070e+05</td>\n",
              "      <td>2.848070e+05</td>\n",
              "      <td>2.848070e+05</td>\n",
              "      <td>2.848070e+05</td>\n",
              "      <td>2.848070e+05</td>\n",
              "      <td>2.848070e+05</td>\n",
              "      <td>2.848070e+05</td>\n",
              "      <td>2.848070e+05</td>\n",
              "    </tr>\n",
              "    <tr>\n",
              "      <th>mean</th>\n",
              "      <td>-1.050379e-14</td>\n",
              "      <td>-8.157366e-16</td>\n",
              "      <td>3.154853e-17</td>\n",
              "      <td>-4.409878e-15</td>\n",
              "      <td>-6.734811e-16</td>\n",
              "      <td>-2.874435e-16</td>\n",
              "      <td>4.168992e-16</td>\n",
              "      <td>-8.767997e-16</td>\n",
              "      <td>-2.423604e-16</td>\n",
              "      <td>3.078727e-16</td>\n",
              "      <td>2.026926e-17</td>\n",
              "      <td>1.622758e-15</td>\n",
              "      <td>2.052953e-15</td>\n",
              "      <td>-8.310622e-17</td>\n",
              "      <td>-8.845502e-16</td>\n",
              "      <td>-1.789241e-15</td>\n",
              "      <td>-1.542079e-16</td>\n",
              "      <td>8.046919e-16</td>\n",
              "      <td>-2.547965e-16</td>\n",
              "      <td>-4.550555e-16</td>\n",
              "      <td>2.754870e-16</td>\n",
              "      <td>1.685077e-17</td>\n",
              "      <td>1.478472e-15</td>\n",
              "      <td>-6.797197e-16</td>\n",
              "      <td>1.234659e-16</td>\n",
              "      <td>-7.659279e-16</td>\n",
              "      <td>3.247603e-16</td>\n",
              "      <td>-2.953495e-18</td>\n",
              "      <td>5.401572e-17</td>\n",
              "      <td>3.202236e-16</td>\n",
              "    </tr>\n",
              "    <tr>\n",
              "      <th>std</th>\n",
              "      <td>1.000002e+00</td>\n",
              "      <td>1.000002e+00</td>\n",
              "      <td>1.000002e+00</td>\n",
              "      <td>1.000002e+00</td>\n",
              "      <td>1.000002e+00</td>\n",
              "      <td>1.000002e+00</td>\n",
              "      <td>1.000002e+00</td>\n",
              "      <td>1.000002e+00</td>\n",
              "      <td>1.000002e+00</td>\n",
              "      <td>1.000002e+00</td>\n",
              "      <td>1.000002e+00</td>\n",
              "      <td>1.000002e+00</td>\n",
              "      <td>1.000002e+00</td>\n",
              "      <td>1.000002e+00</td>\n",
              "      <td>1.000002e+00</td>\n",
              "      <td>1.000002e+00</td>\n",
              "      <td>1.000002e+00</td>\n",
              "      <td>1.000002e+00</td>\n",
              "      <td>1.000002e+00</td>\n",
              "      <td>1.000002e+00</td>\n",
              "      <td>1.000002e+00</td>\n",
              "      <td>1.000002e+00</td>\n",
              "      <td>1.000002e+00</td>\n",
              "      <td>1.000002e+00</td>\n",
              "      <td>1.000002e+00</td>\n",
              "      <td>1.000002e+00</td>\n",
              "      <td>1.000002e+00</td>\n",
              "      <td>1.000002e+00</td>\n",
              "      <td>1.000002e+00</td>\n",
              "      <td>1.000002e+00</td>\n",
              "    </tr>\n",
              "    <tr>\n",
              "      <th>min</th>\n",
              "      <td>-1.996583e+00</td>\n",
              "      <td>-2.879855e+01</td>\n",
              "      <td>-4.403529e+01</td>\n",
              "      <td>-3.187173e+01</td>\n",
              "      <td>-4.013919e+00</td>\n",
              "      <td>-8.240810e+01</td>\n",
              "      <td>-1.963606e+01</td>\n",
              "      <td>-3.520940e+01</td>\n",
              "      <td>-6.130252e+01</td>\n",
              "      <td>-1.222802e+01</td>\n",
              "      <td>-2.258191e+01</td>\n",
              "      <td>-4.700128e+00</td>\n",
              "      <td>-1.869868e+01</td>\n",
              "      <td>-5.819392e+00</td>\n",
              "      <td>-2.004428e+01</td>\n",
              "      <td>-4.915191e+00</td>\n",
              "      <td>-1.612534e+01</td>\n",
              "      <td>-2.962645e+01</td>\n",
              "      <td>-1.133266e+01</td>\n",
              "      <td>-8.861402e+00</td>\n",
              "      <td>-7.069146e+01</td>\n",
              "      <td>-4.741907e+01</td>\n",
              "      <td>-1.506565e+01</td>\n",
              "      <td>-7.175446e+01</td>\n",
              "      <td>-4.683638e+00</td>\n",
              "      <td>-1.975033e+01</td>\n",
              "      <td>-5.401098e+00</td>\n",
              "      <td>-5.590660e+01</td>\n",
              "      <td>-4.674612e+01</td>\n",
              "      <td>-3.532294e-01</td>\n",
              "    </tr>\n",
              "    <tr>\n",
              "      <th>25%</th>\n",
              "      <td>-8.552120e-01</td>\n",
              "      <td>-4.698918e-01</td>\n",
              "      <td>-3.624707e-01</td>\n",
              "      <td>-5.872142e-01</td>\n",
              "      <td>-5.993788e-01</td>\n",
              "      <td>-5.010686e-01</td>\n",
              "      <td>-5.766822e-01</td>\n",
              "      <td>-4.478860e-01</td>\n",
              "      <td>-1.746805e-01</td>\n",
              "      <td>-5.853631e-01</td>\n",
              "      <td>-4.917360e-01</td>\n",
              "      <td>-7.470224e-01</td>\n",
              "      <td>-4.058964e-01</td>\n",
              "      <td>-6.516198e-01</td>\n",
              "      <td>-4.439565e-01</td>\n",
              "      <td>-6.368132e-01</td>\n",
              "      <td>-5.341353e-01</td>\n",
              "      <td>-5.695609e-01</td>\n",
              "      <td>-5.951621e-01</td>\n",
              "      <td>-5.605369e-01</td>\n",
              "      <td>-2.746334e-01</td>\n",
              "      <td>-3.109433e-01</td>\n",
              "      <td>-7.473476e-01</td>\n",
              "      <td>-2.591784e-01</td>\n",
              "      <td>-5.854676e-01</td>\n",
              "      <td>-6.084001e-01</td>\n",
              "      <td>-6.780717e-01</td>\n",
              "      <td>-1.755053e-01</td>\n",
              "      <td>-1.604440e-01</td>\n",
              "      <td>-3.308401e-01</td>\n",
              "    </tr>\n",
              "    <tr>\n",
              "      <th>50%</th>\n",
              "      <td>-2.131453e-01</td>\n",
              "      <td>9.245351e-03</td>\n",
              "      <td>3.965683e-02</td>\n",
              "      <td>1.186124e-01</td>\n",
              "      <td>-1.401724e-02</td>\n",
              "      <td>-3.936682e-02</td>\n",
              "      <td>-2.058046e-01</td>\n",
              "      <td>3.241723e-02</td>\n",
              "      <td>1.871982e-02</td>\n",
              "      <td>-4.681169e-02</td>\n",
              "      <td>-8.533551e-02</td>\n",
              "      <td>-3.209268e-02</td>\n",
              "      <td>1.401448e-01</td>\n",
              "      <td>-1.363250e-02</td>\n",
              "      <td>5.278702e-02</td>\n",
              "      <td>5.251917e-02</td>\n",
              "      <td>7.579255e-02</td>\n",
              "      <td>-7.732604e-02</td>\n",
              "      <td>-4.338370e-03</td>\n",
              "      <td>4.588014e-03</td>\n",
              "      <td>-8.104705e-02</td>\n",
              "      <td>-4.009429e-02</td>\n",
              "      <td>9.345377e-03</td>\n",
              "      <td>-1.792420e-02</td>\n",
              "      <td>6.765678e-02</td>\n",
              "      <td>3.183240e-02</td>\n",
              "      <td>-1.081217e-01</td>\n",
              "      <td>3.325174e-03</td>\n",
              "      <td>3.406368e-02</td>\n",
              "      <td>-2.652715e-01</td>\n",
              "    </tr>\n",
              "    <tr>\n",
              "      <th>75%</th>\n",
              "      <td>9.372174e-01</td>\n",
              "      <td>6.716939e-01</td>\n",
              "      <td>4.867202e-01</td>\n",
              "      <td>6.774569e-01</td>\n",
              "      <td>5.250082e-01</td>\n",
              "      <td>4.433465e-01</td>\n",
              "      <td>2.991625e-01</td>\n",
              "      <td>4.611107e-01</td>\n",
              "      <td>2.740785e-01</td>\n",
              "      <td>5.435305e-01</td>\n",
              "      <td>4.168842e-01</td>\n",
              "      <td>7.245863e-01</td>\n",
              "      <td>6.187332e-01</td>\n",
              "      <td>6.656518e-01</td>\n",
              "      <td>5.144513e-01</td>\n",
              "      <td>7.088502e-01</td>\n",
              "      <td>5.971989e-01</td>\n",
              "      <td>4.705737e-01</td>\n",
              "      <td>5.974968e-01</td>\n",
              "      <td>5.637928e-01</td>\n",
              "      <td>1.725733e-01</td>\n",
              "      <td>2.537392e-01</td>\n",
              "      <td>7.283360e-01</td>\n",
              "      <td>2.364319e-01</td>\n",
              "      <td>7.257153e-01</td>\n",
              "      <td>6.728006e-01</td>\n",
              "      <td>4.996663e-01</td>\n",
              "      <td>2.255648e-01</td>\n",
              "      <td>2.371526e-01</td>\n",
              "      <td>-4.471707e-02</td>\n",
              "    </tr>\n",
              "    <tr>\n",
              "      <th>max</th>\n",
              "      <td>1.642058e+00</td>\n",
              "      <td>1.253351e+00</td>\n",
              "      <td>1.335775e+01</td>\n",
              "      <td>6.187993e+00</td>\n",
              "      <td>1.191874e+01</td>\n",
              "      <td>2.521413e+01</td>\n",
              "      <td>5.502015e+01</td>\n",
              "      <td>9.747824e+01</td>\n",
              "      <td>1.675153e+01</td>\n",
              "      <td>1.419494e+01</td>\n",
              "      <td>2.180758e+01</td>\n",
              "      <td>1.177504e+01</td>\n",
              "      <td>7.854679e+00</td>\n",
              "      <td>7.160735e+00</td>\n",
              "      <td>1.098147e+01</td>\n",
              "      <td>9.699117e+00</td>\n",
              "      <td>1.976044e+01</td>\n",
              "      <td>1.089502e+01</td>\n",
              "      <td>6.014342e+00</td>\n",
              "      <td>6.869414e+00</td>\n",
              "      <td>5.113464e+01</td>\n",
              "      <td>3.703471e+01</td>\n",
              "      <td>1.447304e+01</td>\n",
              "      <td>3.607668e+01</td>\n",
              "      <td>7.569684e+00</td>\n",
              "      <td>1.442532e+01</td>\n",
              "      <td>7.293975e+00</td>\n",
              "      <td>7.831940e+01</td>\n",
              "      <td>1.025434e+02</td>\n",
              "      <td>1.023622e+02</td>\n",
              "    </tr>\n",
              "  </tbody>\n",
              "</table>\n",
              "</div>"
            ],
            "text/plain": [
              "               Time            V1  ...           V28        Amount\n",
              "count  2.848070e+05  2.848070e+05  ...  2.848070e+05  2.848070e+05\n",
              "mean  -1.050379e-14 -8.157366e-16  ...  5.401572e-17  3.202236e-16\n",
              "std    1.000002e+00  1.000002e+00  ...  1.000002e+00  1.000002e+00\n",
              "min   -1.996583e+00 -2.879855e+01  ... -4.674612e+01 -3.532294e-01\n",
              "25%   -8.552120e-01 -4.698918e-01  ... -1.604440e-01 -3.308401e-01\n",
              "50%   -2.131453e-01  9.245351e-03  ...  3.406368e-02 -2.652715e-01\n",
              "75%    9.372174e-01  6.716939e-01  ...  2.371526e-01 -4.471707e-02\n",
              "max    1.642058e+00  1.253351e+00  ...  1.025434e+02  1.023622e+02\n",
              "\n",
              "[8 rows x 30 columns]"
            ]
          },
          "metadata": {},
          "execution_count": 6
        }
      ],
      "source": [
        "# 피처 스케일링\n",
        "from sklearn.preprocessing import StandardScaler\n",
        "scaler = StandardScaler()\n",
        "X.loc[:, X.columns] = scaler.fit_transform(X[X.columns])\n",
        "\n",
        "X.describe()"
      ]
    },
    {
      "cell_type": "code",
      "execution_count": null,
      "metadata": {
        "colab": {
          "base_uri": "https://localhost:8080/"
        },
        "id": "FFMP8-SKpOc_",
        "outputId": "1f44ba13-d5d0-4485-a885-f639dcce069a"
      },
      "outputs": [
        {
          "output_type": "execute_result",
          "data": {
            "text/plain": [
              "((199364, 30), (199364,))"
            ]
          },
          "metadata": {},
          "execution_count": 7
        }
      ],
      "source": [
        "# 데이터 분리\n",
        "from sklearn.model_selection import train_test_split \n",
        "X_train, X_test, y_train, y_test = train_test_split(X, Y, \n",
        "                                                    test_size=0.3, \n",
        "                                                    stratify=Y, \n",
        "                                                    random_state=2021)\n",
        "X_train.shape, y_train.shape"
      ]
    },
    {
      "cell_type": "markdown",
      "metadata": {
        "id": "F_iYl-iopOdA"
      },
      "source": [
        "# 군집 분석"
      ]
    },
    {
      "cell_type": "code",
      "execution_count": null,
      "metadata": {
        "id": "iGeXT1UZpOdA"
      },
      "outputs": [],
      "source": [
        "from sklearn.cluster import KMeans, AgglomerativeClustering, DBSCAN"
      ]
    },
    {
      "cell_type": "markdown",
      "metadata": {
        "id": "RmrfD_5ZpOdB"
      },
      "source": [
        "### k-Means"
      ]
    },
    {
      "cell_type": "code",
      "execution_count": null,
      "metadata": {
        "colab": {
          "base_uri": "https://localhost:8080/"
        },
        "id": "wr4FHHq2pOdB",
        "outputId": "6b76dfb1-00f8-4978-84b4-abc06733c17c"
      },
      "outputs": [
        {
          "output_type": "execute_result",
          "data": {
            "text/plain": [
              "KMeans(n_clusters=5)"
            ]
          },
          "metadata": {},
          "execution_count": 9
        }
      ],
      "source": [
        "kmeans = KMeans(init='k-means++', n_clusters=5)\n",
        "kmeans.fit(X_train)   "
      ]
    },
    {
      "cell_type": "code",
      "execution_count": null,
      "metadata": {
        "colab": {
          "base_uri": "https://localhost:8080/"
        },
        "id": "dO7FjPQgpOdB",
        "outputId": "9852b051-413a-4d6a-ebb9-0721f7039335"
      },
      "outputs": [
        {
          "output_type": "execute_result",
          "data": {
            "text/plain": [
              "array([1, 2, 1, ..., 2, 2, 1], dtype=int32)"
            ]
          },
          "metadata": {},
          "execution_count": 10
        }
      ],
      "source": [
        "clusters = kmeans.labels_  \n",
        "clusters"
      ]
    },
    {
      "cell_type": "code",
      "execution_count": null,
      "metadata": {
        "colab": {
          "base_uri": "https://localhost:8080/",
          "height": 424
        },
        "id": "M9q5z5IApOdB",
        "outputId": "90d1b1a5-91bc-4aac-aafb-75f37e94b391"
      },
      "outputs": [
        {
          "output_type": "execute_result",
          "data": {
            "text/html": [
              "<div>\n",
              "<style scoped>\n",
              "    .dataframe tbody tr th:only-of-type {\n",
              "        vertical-align: middle;\n",
              "    }\n",
              "\n",
              "    .dataframe tbody tr th {\n",
              "        vertical-align: top;\n",
              "    }\n",
              "\n",
              "    .dataframe thead th {\n",
              "        text-align: right;\n",
              "    }\n",
              "</style>\n",
              "<table border=\"1\" class=\"dataframe\">\n",
              "  <thead>\n",
              "    <tr style=\"text-align: right;\">\n",
              "      <th></th>\n",
              "      <th>Class</th>\n",
              "      <th>Cluster</th>\n",
              "    </tr>\n",
              "  </thead>\n",
              "  <tbody>\n",
              "    <tr>\n",
              "      <th>224717</th>\n",
              "      <td>0</td>\n",
              "      <td>1</td>\n",
              "    </tr>\n",
              "    <tr>\n",
              "      <th>216687</th>\n",
              "      <td>0</td>\n",
              "      <td>2</td>\n",
              "    </tr>\n",
              "    <tr>\n",
              "      <th>259613</th>\n",
              "      <td>0</td>\n",
              "      <td>1</td>\n",
              "    </tr>\n",
              "    <tr>\n",
              "      <th>241557</th>\n",
              "      <td>0</td>\n",
              "      <td>1</td>\n",
              "    </tr>\n",
              "    <tr>\n",
              "      <th>32839</th>\n",
              "      <td>0</td>\n",
              "      <td>2</td>\n",
              "    </tr>\n",
              "    <tr>\n",
              "      <th>...</th>\n",
              "      <td>...</td>\n",
              "      <td>...</td>\n",
              "    </tr>\n",
              "    <tr>\n",
              "      <th>61508</th>\n",
              "      <td>0</td>\n",
              "      <td>2</td>\n",
              "    </tr>\n",
              "    <tr>\n",
              "      <th>232786</th>\n",
              "      <td>0</td>\n",
              "      <td>1</td>\n",
              "    </tr>\n",
              "    <tr>\n",
              "      <th>72000</th>\n",
              "      <td>0</td>\n",
              "      <td>2</td>\n",
              "    </tr>\n",
              "    <tr>\n",
              "      <th>79914</th>\n",
              "      <td>0</td>\n",
              "      <td>2</td>\n",
              "    </tr>\n",
              "    <tr>\n",
              "      <th>188171</th>\n",
              "      <td>0</td>\n",
              "      <td>1</td>\n",
              "    </tr>\n",
              "  </tbody>\n",
              "</table>\n",
              "<p>199364 rows × 2 columns</p>\n",
              "</div>"
            ],
            "text/plain": [
              "        Class  Cluster\n",
              "224717      0        1\n",
              "216687      0        2\n",
              "259613      0        1\n",
              "241557      0        1\n",
              "32839       0        2\n",
              "...       ...      ...\n",
              "61508       0        2\n",
              "232786      0        1\n",
              "72000       0        2\n",
              "79914       0        2\n",
              "188171      0        1\n",
              "\n",
              "[199364 rows x 2 columns]"
            ]
          },
          "metadata": {},
          "execution_count": 11
        }
      ],
      "source": [
        "# 클래스 레이블과 비교\n",
        "df_cluster = pd.DataFrame()\n",
        "df_cluster['Class'] = y_train\n",
        "df_cluster['Cluster'] = clusters\n",
        "df_cluster"
      ]
    },
    {
      "cell_type": "code",
      "execution_count": null,
      "metadata": {
        "tags": [],
        "colab": {
          "base_uri": "https://localhost:8080/"
        },
        "id": "HqEafOWmpOdC",
        "outputId": "ef45a442-1ac6-4a12-922e-ddb8520e4796"
      },
      "outputs": [
        {
          "output_type": "execute_result",
          "data": {
            "text/plain": [
              "0    199020\n",
              "1       344\n",
              "Name: Class, dtype: int64"
            ]
          },
          "metadata": {},
          "execution_count": 20
        }
      ],
      "source": [
        "df_cluster['Class'].value_counts()\n",
        "# 정상 거래 비정상 거래 비교,  1이 비정상"
      ]
    },
    {
      "cell_type": "code",
      "execution_count": null,
      "metadata": {
        "colab": {
          "base_uri": "https://localhost:8080/"
        },
        "id": "IOQRhSa1pOdC",
        "outputId": "3fa81578-ab45-449a-cf9e-7e11c51878be"
      },
      "outputs": [
        {
          "output_type": "execute_result",
          "data": {
            "text/plain": [
              "2    98671\n",
              "1    83618\n",
              "0    14021\n",
              "4     2878\n",
              "3      176\n",
              "Name: Cluster, dtype: int64"
            ]
          },
          "metadata": {},
          "execution_count": 21
        }
      ],
      "source": [
        "df_cluster['Cluster'].value_counts()"
      ]
    },
    {
      "cell_type": "markdown",
      "metadata": {
        "id": "eKZdfTFXpOdC"
      },
      "source": [
        "### 군집 분석 결과와 실제 클래스 비교"
      ]
    },
    {
      "cell_type": "code",
      "execution_count": null,
      "metadata": {
        "colab": {
          "base_uri": "https://localhost:8080/"
        },
        "id": "1FumiogUpOdD",
        "outputId": "8cc63a8b-99a2-451c-a46a-6f1e483d057f"
      },
      "outputs": [
        {
          "output_type": "execute_result",
          "data": {
            "text/plain": [
              "0    2872\n",
              "1       6\n",
              "Name: Class, dtype: int64"
            ]
          },
          "metadata": {},
          "execution_count": 22
        }
      ],
      "source": [
        "df_cluster.loc[df_cluster['Cluster']==4, 'Class'].value_counts()"
      ]
    },
    {
      "cell_type": "code",
      "execution_count": null,
      "metadata": {
        "colab": {
          "base_uri": "https://localhost:8080/"
        },
        "id": "gGwkX9S1pOdD",
        "outputId": "785fbb26-9e41-4ccd-ada8-03938420264b"
      },
      "outputs": [
        {
          "output_type": "execute_result",
          "data": {
            "text/plain": [
              "1    152\n",
              "0     24\n",
              "Name: Class, dtype: int64"
            ]
          },
          "metadata": {},
          "execution_count": 23
        }
      ],
      "source": [
        "df_cluster.loc[df_cluster['Cluster']==3, 'Class'].value_counts()"
      ]
    },
    {
      "cell_type": "code",
      "execution_count": null,
      "metadata": {
        "colab": {
          "base_uri": "https://localhost:8080/"
        },
        "id": "uEjVVhHnpOdD",
        "outputId": "17147b33-0446-4dc8-beff-52e21f23fd8d"
      },
      "outputs": [
        {
          "output_type": "execute_result",
          "data": {
            "text/plain": [
              "0    98601\n",
              "1       70\n",
              "Name: Class, dtype: int64"
            ]
          },
          "metadata": {},
          "execution_count": 24
        }
      ],
      "source": [
        "df_cluster.loc[df_cluster['Cluster']==2, 'Class'].value_counts()"
      ]
    },
    {
      "cell_type": "code",
      "execution_count": null,
      "metadata": {
        "colab": {
          "base_uri": "https://localhost:8080/"
        },
        "id": "A6jdI-14pOdD",
        "outputId": "ff013fde-d143-4a5a-b990-b765b6372d8c"
      },
      "outputs": [
        {
          "output_type": "execute_result",
          "data": {
            "text/plain": [
              "0    83532\n",
              "1       86\n",
              "Name: Class, dtype: int64"
            ]
          },
          "metadata": {},
          "execution_count": 25
        }
      ],
      "source": [
        "df_cluster.loc[df_cluster['Cluster']==1, 'Class'].value_counts()"
      ]
    },
    {
      "cell_type": "code",
      "execution_count": null,
      "metadata": {
        "colab": {
          "base_uri": "https://localhost:8080/"
        },
        "id": "npeFAHCfpOdE",
        "outputId": "34066957-3fcf-4d4b-972a-af74ce13f6a1"
      },
      "outputs": [
        {
          "output_type": "execute_result",
          "data": {
            "text/plain": [
              "0    13991\n",
              "1       30\n",
              "Name: Class, dtype: int64"
            ]
          },
          "metadata": {},
          "execution_count": 26
        }
      ],
      "source": [
        "df_cluster.loc[df_cluster['Cluster']==0, 'Class'].value_counts()"
      ]
    },
    {
      "cell_type": "markdown",
      "metadata": {
        "id": "f-A5s6HZpOdE"
      },
      "source": [
        "# 주성분 분석 (PCA)"
      ]
    },
    {
      "cell_type": "code",
      "execution_count": null,
      "metadata": {
        "colab": {
          "base_uri": "https://localhost:8080/",
          "height": 226
        },
        "id": "xqpvPU38pOdE",
        "outputId": "55cb75dd-36b4-4aa8-d494-5718bc13700e"
      },
      "outputs": [
        {
          "output_type": "execute_result",
          "data": {
            "text/html": [
              "<div>\n",
              "<style scoped>\n",
              "    .dataframe tbody tr th:only-of-type {\n",
              "        vertical-align: middle;\n",
              "    }\n",
              "\n",
              "    .dataframe tbody tr th {\n",
              "        vertical-align: top;\n",
              "    }\n",
              "\n",
              "    .dataframe thead th {\n",
              "        text-align: right;\n",
              "    }\n",
              "</style>\n",
              "<table border=\"1\" class=\"dataframe\">\n",
              "  <thead>\n",
              "    <tr style=\"text-align: right;\">\n",
              "      <th></th>\n",
              "      <th>Time</th>\n",
              "      <th>V1</th>\n",
              "      <th>V2</th>\n",
              "      <th>V3</th>\n",
              "      <th>V4</th>\n",
              "      <th>V5</th>\n",
              "      <th>V6</th>\n",
              "      <th>V7</th>\n",
              "      <th>V8</th>\n",
              "      <th>V9</th>\n",
              "      <th>V10</th>\n",
              "      <th>V11</th>\n",
              "      <th>V12</th>\n",
              "      <th>V13</th>\n",
              "      <th>V14</th>\n",
              "      <th>V15</th>\n",
              "      <th>V16</th>\n",
              "      <th>V17</th>\n",
              "      <th>V18</th>\n",
              "      <th>V19</th>\n",
              "      <th>V20</th>\n",
              "      <th>V21</th>\n",
              "      <th>V22</th>\n",
              "      <th>V23</th>\n",
              "      <th>V24</th>\n",
              "      <th>V25</th>\n",
              "      <th>V26</th>\n",
              "      <th>V27</th>\n",
              "      <th>V28</th>\n",
              "      <th>Amount</th>\n",
              "    </tr>\n",
              "  </thead>\n",
              "  <tbody>\n",
              "    <tr>\n",
              "      <th>224717</th>\n",
              "      <td>1.034305</td>\n",
              "      <td>-0.171481</td>\n",
              "      <td>0.292348</td>\n",
              "      <td>-1.291464</td>\n",
              "      <td>-0.594819</td>\n",
              "      <td>2.509676</td>\n",
              "      <td>2.474780</td>\n",
              "      <td>1.229704</td>\n",
              "      <td>0.514406</td>\n",
              "      <td>-1.018309</td>\n",
              "      <td>-0.410955</td>\n",
              "      <td>-0.277587</td>\n",
              "      <td>-0.256987</td>\n",
              "      <td>-0.446773</td>\n",
              "      <td>1.011496</td>\n",
              "      <td>0.091578</td>\n",
              "      <td>-0.541429</td>\n",
              "      <td>-0.783530</td>\n",
              "      <td>-0.369833</td>\n",
              "      <td>-0.892105</td>\n",
              "      <td>0.205482</td>\n",
              "      <td>0.466885</td>\n",
              "      <td>0.895125</td>\n",
              "      <td>0.196011</td>\n",
              "      <td>1.126437</td>\n",
              "      <td>-0.187600</td>\n",
              "      <td>-1.267268</td>\n",
              "      <td>0.382243</td>\n",
              "      <td>0.641222</td>\n",
              "      <td>0.222495</td>\n",
              "    </tr>\n",
              "    <tr>\n",
              "      <th>216687</th>\n",
              "      <td>0.963908</td>\n",
              "      <td>-0.646197</td>\n",
              "      <td>-0.288262</td>\n",
              "      <td>1.256260</td>\n",
              "      <td>-1.753057</td>\n",
              "      <td>-0.015516</td>\n",
              "      <td>0.191675</td>\n",
              "      <td>0.679110</td>\n",
              "      <td>-0.296878</td>\n",
              "      <td>-0.037723</td>\n",
              "      <td>0.841870</td>\n",
              "      <td>0.653302</td>\n",
              "      <td>-1.441807</td>\n",
              "      <td>-2.326490</td>\n",
              "      <td>-0.893136</td>\n",
              "      <td>-1.383451</td>\n",
              "      <td>1.278010</td>\n",
              "      <td>-0.331658</td>\n",
              "      <td>-1.415264</td>\n",
              "      <td>0.745685</td>\n",
              "      <td>0.185656</td>\n",
              "      <td>-0.687778</td>\n",
              "      <td>-0.951128</td>\n",
              "      <td>0.203436</td>\n",
              "      <td>0.999543</td>\n",
              "      <td>0.818232</td>\n",
              "      <td>-1.297997</td>\n",
              "      <td>-0.266465</td>\n",
              "      <td>-1.842608</td>\n",
              "      <td>-0.001398</td>\n",
              "    </tr>\n",
              "    <tr>\n",
              "      <th>259613</th>\n",
              "      <td>1.355775</td>\n",
              "      <td>1.026926</td>\n",
              "      <td>0.054635</td>\n",
              "      <td>-1.063730</td>\n",
              "      <td>0.238524</td>\n",
              "      <td>0.289788</td>\n",
              "      <td>-0.434342</td>\n",
              "      <td>0.046235</td>\n",
              "      <td>-0.052908</td>\n",
              "      <td>0.229228</td>\n",
              "      <td>-0.194506</td>\n",
              "      <td>1.279232</td>\n",
              "      <td>0.805058</td>\n",
              "      <td>-0.263113</td>\n",
              "      <td>-0.616011</td>\n",
              "      <td>-0.478890</td>\n",
              "      <td>0.469990</td>\n",
              "      <td>0.418858</td>\n",
              "      <td>0.078450</td>\n",
              "      <td>0.251594</td>\n",
              "      <td>-0.221949</td>\n",
              "      <td>-0.405661</td>\n",
              "      <td>-1.091838</td>\n",
              "      <td>0.574954</td>\n",
              "      <td>0.998266</td>\n",
              "      <td>-0.640541</td>\n",
              "      <td>0.308977</td>\n",
              "      <td>-0.159469</td>\n",
              "      <td>-0.120894</td>\n",
              "      <td>-0.348072</td>\n",
              "    </tr>\n",
              "    <tr>\n",
              "      <th>241557</th>\n",
              "      <td>1.184764</td>\n",
              "      <td>-0.375008</td>\n",
              "      <td>-0.461349</td>\n",
              "      <td>0.511589</td>\n",
              "      <td>-0.247657</td>\n",
              "      <td>1.323522</td>\n",
              "      <td>-0.692566</td>\n",
              "      <td>-0.048089</td>\n",
              "      <td>0.016576</td>\n",
              "      <td>0.155748</td>\n",
              "      <td>-0.116250</td>\n",
              "      <td>0.598059</td>\n",
              "      <td>0.625643</td>\n",
              "      <td>-0.564744</td>\n",
              "      <td>0.133685</td>\n",
              "      <td>-1.205606</td>\n",
              "      <td>0.228302</td>\n",
              "      <td>-0.973846</td>\n",
              "      <td>-0.172854</td>\n",
              "      <td>0.288093</td>\n",
              "      <td>0.250776</td>\n",
              "      <td>-0.316302</td>\n",
              "      <td>-1.215054</td>\n",
              "      <td>0.963173</td>\n",
              "      <td>1.143363</td>\n",
              "      <td>-3.173784</td>\n",
              "      <td>-1.113847</td>\n",
              "      <td>0.044757</td>\n",
              "      <td>0.206122</td>\n",
              "      <td>-0.341275</td>\n",
              "    </tr>\n",
              "    <tr>\n",
              "      <th>32839</th>\n",
              "      <td>-1.217714</td>\n",
              "      <td>0.591882</td>\n",
              "      <td>-0.947099</td>\n",
              "      <td>0.411739</td>\n",
              "      <td>-0.764738</td>\n",
              "      <td>-1.348348</td>\n",
              "      <td>-0.337431</td>\n",
              "      <td>-0.770491</td>\n",
              "      <td>-0.048177</td>\n",
              "      <td>-1.586025</td>\n",
              "      <td>1.268696</td>\n",
              "      <td>1.078369</td>\n",
              "      <td>0.231483</td>\n",
              "      <td>0.404906</td>\n",
              "      <td>-0.475720</td>\n",
              "      <td>-1.402702</td>\n",
              "      <td>-0.779824</td>\n",
              "      <td>0.849004</td>\n",
              "      <td>0.002234</td>\n",
              "      <td>0.424627</td>\n",
              "      <td>-0.065936</td>\n",
              "      <td>-0.402738</td>\n",
              "      <td>-0.912750</td>\n",
              "      <td>-0.005029</td>\n",
              "      <td>0.850893</td>\n",
              "      <td>0.431100</td>\n",
              "      <td>-0.781521</td>\n",
              "      <td>0.042554</td>\n",
              "      <td>0.119719</td>\n",
              "      <td>0.263275</td>\n",
              "    </tr>\n",
              "  </tbody>\n",
              "</table>\n",
              "</div>"
            ],
            "text/plain": [
              "            Time        V1        V2  ...       V27       V28    Amount\n",
              "224717  1.034305 -0.171481  0.292348  ...  0.382243  0.641222  0.222495\n",
              "216687  0.963908 -0.646197 -0.288262  ... -0.266465 -1.842608 -0.001398\n",
              "259613  1.355775  1.026926  0.054635  ... -0.159469 -0.120894 -0.348072\n",
              "241557  1.184764 -0.375008 -0.461349  ...  0.044757  0.206122 -0.341275\n",
              "32839  -1.217714  0.591882 -0.947099  ...  0.042554  0.119719  0.263275\n",
              "\n",
              "[5 rows x 30 columns]"
            ]
          },
          "metadata": {},
          "execution_count": 27
        }
      ],
      "source": [
        "X_train.head()"
      ]
    },
    {
      "cell_type": "code",
      "execution_count": null,
      "metadata": {
        "colab": {
          "base_uri": "https://localhost:8080/",
          "height": 206
        },
        "id": "9S2zLp5QpOdE",
        "outputId": "ca61ca3c-184b-4866-9a96-6f8382a0e599"
      },
      "outputs": [
        {
          "output_type": "execute_result",
          "data": {
            "text/html": [
              "<div>\n",
              "<style scoped>\n",
              "    .dataframe tbody tr th:only-of-type {\n",
              "        vertical-align: middle;\n",
              "    }\n",
              "\n",
              "    .dataframe tbody tr th {\n",
              "        vertical-align: top;\n",
              "    }\n",
              "\n",
              "    .dataframe thead th {\n",
              "        text-align: right;\n",
              "    }\n",
              "</style>\n",
              "<table border=\"1\" class=\"dataframe\">\n",
              "  <thead>\n",
              "    <tr style=\"text-align: right;\">\n",
              "      <th></th>\n",
              "      <th>0</th>\n",
              "      <th>1</th>\n",
              "      <th>2</th>\n",
              "      <th>3</th>\n",
              "      <th>4</th>\n",
              "      <th>5</th>\n",
              "      <th>6</th>\n",
              "      <th>7</th>\n",
              "      <th>8</th>\n",
              "    </tr>\n",
              "  </thead>\n",
              "  <tbody>\n",
              "    <tr>\n",
              "      <th>224717</th>\n",
              "      <td>0.352923</td>\n",
              "      <td>1.825717</td>\n",
              "      <td>0.070662</td>\n",
              "      <td>0.149183</td>\n",
              "      <td>-0.527195</td>\n",
              "      <td>-0.562427</td>\n",
              "      <td>-0.296411</td>\n",
              "      <td>-0.917351</td>\n",
              "      <td>-1.753666</td>\n",
              "    </tr>\n",
              "    <tr>\n",
              "      <th>216687</th>\n",
              "      <td>-0.094816</td>\n",
              "      <td>0.127534</td>\n",
              "      <td>1.183896</td>\n",
              "      <td>-1.295347</td>\n",
              "      <td>-0.682898</td>\n",
              "      <td>1.574471</td>\n",
              "      <td>2.122413</td>\n",
              "      <td>0.056448</td>\n",
              "      <td>0.876331</td>\n",
              "    </tr>\n",
              "    <tr>\n",
              "      <th>259613</th>\n",
              "      <td>-0.555061</td>\n",
              "      <td>1.526898</td>\n",
              "      <td>0.182957</td>\n",
              "      <td>-0.002390</td>\n",
              "      <td>0.081205</td>\n",
              "      <td>0.173747</td>\n",
              "      <td>0.155814</td>\n",
              "      <td>0.361314</td>\n",
              "      <td>-0.726453</td>\n",
              "    </tr>\n",
              "    <tr>\n",
              "      <th>241557</th>\n",
              "      <td>-0.477615</td>\n",
              "      <td>1.815618</td>\n",
              "      <td>-0.051271</td>\n",
              "      <td>-1.121163</td>\n",
              "      <td>0.039318</td>\n",
              "      <td>0.030175</td>\n",
              "      <td>0.404813</td>\n",
              "      <td>0.755003</td>\n",
              "      <td>0.029707</td>\n",
              "    </tr>\n",
              "    <tr>\n",
              "      <th>32839</th>\n",
              "      <td>0.430751</td>\n",
              "      <td>-1.348039</td>\n",
              "      <td>0.056367</td>\n",
              "      <td>-0.649525</td>\n",
              "      <td>0.701570</td>\n",
              "      <td>-0.339578</td>\n",
              "      <td>2.378723</td>\n",
              "      <td>0.465543</td>\n",
              "      <td>-1.236058</td>\n",
              "    </tr>\n",
              "  </tbody>\n",
              "</table>\n",
              "</div>"
            ],
            "text/plain": [
              "               0         1         2  ...         6         7         8\n",
              "224717  0.352923  1.825717  0.070662  ... -0.296411 -0.917351 -1.753666\n",
              "216687 -0.094816  0.127534  1.183896  ...  2.122413  0.056448  0.876331\n",
              "259613 -0.555061  1.526898  0.182957  ...  0.155814  0.361314 -0.726453\n",
              "241557 -0.477615  1.815618 -0.051271  ...  0.404813  0.755003  0.029707\n",
              "32839   0.430751 -1.348039  0.056367  ...  2.378723  0.465543 -1.236058\n",
              "\n",
              "[5 rows x 9 columns]"
            ]
          },
          "metadata": {},
          "execution_count": 28
        }
      ],
      "source": [
        "from sklearn.decomposition import PCA\n",
        "# 차원을 9개의 변수?차원? 으로 지정한것임 이건 \n",
        "pca = PCA(n_components=9, random_state=2021)\n",
        "pca.fit(X_train)\n",
        "X_train_pca = pca.transform(X_train)\n",
        "X_train_pca = pd.DataFrame(data=X_train_pca, index=X_train.index)\n",
        "X_train_pca.head()"
      ]
    },
    {
      "cell_type": "code",
      "execution_count": null,
      "metadata": {
        "colab": {
          "base_uri": "https://localhost:8080/",
          "height": 369
        },
        "id": "-OTG7SanpOdE",
        "outputId": "9c0c6fe2-ebda-4770-b2c1-30397e90149b"
      },
      "outputs": [
        {
          "output_type": "display_data",
          "data": {
            "image/png": "[encoded data removed]",
            "text/plain": [
              "<Figure size 402.375x360 with 1 Axes>"
            ]
          },
          "metadata": {
            "needs_background": "light"
          }
        }
      ],
      "source": [
        "# 2개의 주성분으로 클래스 구분한 결과를 시각화\n",
        "def plot_scatter(dfx, dfy, col1=0, col2=1):\n",
        "    temp = pd.DataFrame(data=dfx.loc[:,[col1, col2]], index=dfx.index)\n",
        "    temp = pd.concat((temp,dfy), axis=1, join=\"inner\")\n",
        "    temp.columns = [f\"Vector {col1}\", f\"Vector {col2}\", \"Class\"]\n",
        "    sns.lmplot(x=f\"Vector {col1}\", y=f\"Vector {col2}\", hue=\"Class\", \n",
        "               data=temp, fit_reg=False)\n",
        "    \n",
        "plot_scatter(X_train_pca, y_train, 3, 5)"
      ]
    },
    {
      "cell_type": "markdown",
      "metadata": {
        "id": "lMSHs_48pOdF"
      },
      "source": [
        "## 이상 탐지"
      ]
    },
    {
      "cell_type": "code",
      "execution_count": null,
      "metadata": {
        "colab": {
          "base_uri": "https://localhost:8080/",
          "height": 226
        },
        "id": "EAcXPLaOpOdF",
        "outputId": "84ef2734-cb7b-4937-c842-89c24a88812f"
      },
      "outputs": [
        {
          "output_type": "execute_result",
          "data": {
            "text/html": [
              "<div>\n",
              "<style scoped>\n",
              "    .dataframe tbody tr th:only-of-type {\n",
              "        vertical-align: middle;\n",
              "    }\n",
              "\n",
              "    .dataframe tbody tr th {\n",
              "        vertical-align: top;\n",
              "    }\n",
              "\n",
              "    .dataframe thead th {\n",
              "        text-align: right;\n",
              "    }\n",
              "</style>\n",
              "<table border=\"1\" class=\"dataframe\">\n",
              "  <thead>\n",
              "    <tr style=\"text-align: right;\">\n",
              "      <th></th>\n",
              "      <th>0</th>\n",
              "      <th>1</th>\n",
              "      <th>2</th>\n",
              "      <th>3</th>\n",
              "      <th>4</th>\n",
              "      <th>5</th>\n",
              "      <th>6</th>\n",
              "      <th>7</th>\n",
              "      <th>8</th>\n",
              "      <th>9</th>\n",
              "      <th>10</th>\n",
              "      <th>11</th>\n",
              "      <th>12</th>\n",
              "      <th>13</th>\n",
              "      <th>14</th>\n",
              "      <th>15</th>\n",
              "      <th>16</th>\n",
              "      <th>17</th>\n",
              "      <th>18</th>\n",
              "      <th>19</th>\n",
              "      <th>20</th>\n",
              "      <th>21</th>\n",
              "      <th>22</th>\n",
              "      <th>23</th>\n",
              "      <th>24</th>\n",
              "      <th>25</th>\n",
              "      <th>26</th>\n",
              "      <th>27</th>\n",
              "      <th>28</th>\n",
              "      <th>29</th>\n",
              "    </tr>\n",
              "  </thead>\n",
              "  <tbody>\n",
              "    <tr>\n",
              "      <th>224717</th>\n",
              "      <td>1.278694</td>\n",
              "      <td>0.886078</td>\n",
              "      <td>-0.147772</td>\n",
              "      <td>-1.128194</td>\n",
              "      <td>0.376150</td>\n",
              "      <td>0.176824</td>\n",
              "      <td>0.879054</td>\n",
              "      <td>-0.096799</td>\n",
              "      <td>0.370019</td>\n",
              "      <td>-0.658725</td>\n",
              "      <td>0.052752</td>\n",
              "      <td>-0.667422</td>\n",
              "      <td>0.512629</td>\n",
              "      <td>-0.205670</td>\n",
              "      <td>-0.029161</td>\n",
              "      <td>-0.011682</td>\n",
              "      <td>-0.299829</td>\n",
              "      <td>-0.446295</td>\n",
              "      <td>0.486079</td>\n",
              "      <td>-0.624078</td>\n",
              "      <td>0.172485</td>\n",
              "      <td>0.266874</td>\n",
              "      <td>0.042458</td>\n",
              "      <td>0.741222</td>\n",
              "      <td>0.627161</td>\n",
              "      <td>-0.120725</td>\n",
              "      <td>-0.175521</td>\n",
              "      <td>0.099927</td>\n",
              "      <td>-0.012334</td>\n",
              "      <td>0.290034</td>\n",
              "    </tr>\n",
              "    <tr>\n",
              "      <th>216687</th>\n",
              "      <td>0.086405</td>\n",
              "      <td>-0.262487</td>\n",
              "      <td>-0.029049</td>\n",
              "      <td>0.341177</td>\n",
              "      <td>-0.821993</td>\n",
              "      <td>0.063149</td>\n",
              "      <td>-0.147910</td>\n",
              "      <td>0.250612</td>\n",
              "      <td>-0.972508</td>\n",
              "      <td>0.406129</td>\n",
              "      <td>0.856586</td>\n",
              "      <td>0.358228</td>\n",
              "      <td>-0.891031</td>\n",
              "      <td>-0.044891</td>\n",
              "      <td>-0.110783</td>\n",
              "      <td>-1.436699</td>\n",
              "      <td>-0.444871</td>\n",
              "      <td>0.010734</td>\n",
              "      <td>-0.327775</td>\n",
              "      <td>0.597189</td>\n",
              "      <td>0.585720</td>\n",
              "      <td>-0.948188</td>\n",
              "      <td>0.157917</td>\n",
              "      <td>0.192300</td>\n",
              "      <td>0.052372</td>\n",
              "      <td>-0.048570</td>\n",
              "      <td>-0.086015</td>\n",
              "      <td>-0.959224</td>\n",
              "      <td>-1.620691</td>\n",
              "      <td>-0.046687</td>\n",
              "    </tr>\n",
              "    <tr>\n",
              "      <th>259613</th>\n",
              "      <td>1.095682</td>\n",
              "      <td>0.486240</td>\n",
              "      <td>-0.028362</td>\n",
              "      <td>-0.665156</td>\n",
              "      <td>-0.003479</td>\n",
              "      <td>0.414637</td>\n",
              "      <td>-0.051655</td>\n",
              "      <td>-0.244767</td>\n",
              "      <td>-0.050724</td>\n",
              "      <td>-0.187527</td>\n",
              "      <td>0.171944</td>\n",
              "      <td>-0.155170</td>\n",
              "      <td>0.306579</td>\n",
              "      <td>0.013415</td>\n",
              "      <td>-0.290470</td>\n",
              "      <td>-0.473048</td>\n",
              "      <td>0.052831</td>\n",
              "      <td>-0.024115</td>\n",
              "      <td>-0.137114</td>\n",
              "      <td>-0.260852</td>\n",
              "      <td>-0.205241</td>\n",
              "      <td>-0.064727</td>\n",
              "      <td>0.464573</td>\n",
              "      <td>0.172159</td>\n",
              "      <td>0.280444</td>\n",
              "      <td>-0.378846</td>\n",
              "      <td>-0.203513</td>\n",
              "      <td>0.019178</td>\n",
              "      <td>-0.137751</td>\n",
              "      <td>-0.350725</td>\n",
              "    </tr>\n",
              "    <tr>\n",
              "      <th>241557</th>\n",
              "      <td>1.297067</td>\n",
              "      <td>0.570901</td>\n",
              "      <td>-0.197728</td>\n",
              "      <td>-0.191800</td>\n",
              "      <td>-0.576460</td>\n",
              "      <td>0.516469</td>\n",
              "      <td>-0.522684</td>\n",
              "      <td>0.287287</td>\n",
              "      <td>-0.448932</td>\n",
              "      <td>0.299305</td>\n",
              "      <td>0.271151</td>\n",
              "      <td>-0.166761</td>\n",
              "      <td>0.400948</td>\n",
              "      <td>0.053373</td>\n",
              "      <td>-0.190199</td>\n",
              "      <td>-0.865397</td>\n",
              "      <td>-0.067291</td>\n",
              "      <td>0.083342</td>\n",
              "      <td>0.125959</td>\n",
              "      <td>-0.058182</td>\n",
              "      <td>-0.054376</td>\n",
              "      <td>-0.025817</td>\n",
              "      <td>0.480830</td>\n",
              "      <td>0.186193</td>\n",
              "      <td>-0.026748</td>\n",
              "      <td>-0.591414</td>\n",
              "      <td>-0.490935</td>\n",
              "      <td>0.259480</td>\n",
              "      <td>-0.330612</td>\n",
              "      <td>-0.281697</td>\n",
              "    </tr>\n",
              "    <tr>\n",
              "      <th>32839</th>\n",
              "      <td>-0.962939</td>\n",
              "      <td>0.169043</td>\n",
              "      <td>-0.505997</td>\n",
              "      <td>0.860910</td>\n",
              "      <td>0.034405</td>\n",
              "      <td>-0.620613</td>\n",
              "      <td>0.598742</td>\n",
              "      <td>-0.153107</td>\n",
              "      <td>0.307729</td>\n",
              "      <td>-0.296148</td>\n",
              "      <td>0.790231</td>\n",
              "      <td>0.720979</td>\n",
              "      <td>0.027731</td>\n",
              "      <td>0.395186</td>\n",
              "      <td>-0.037478</td>\n",
              "      <td>-1.508132</td>\n",
              "      <td>-0.739337</td>\n",
              "      <td>0.897927</td>\n",
              "      <td>-0.182314</td>\n",
              "      <td>-0.319852</td>\n",
              "      <td>0.188134</td>\n",
              "      <td>-0.970797</td>\n",
              "      <td>0.015593</td>\n",
              "      <td>-0.272276</td>\n",
              "      <td>0.815672</td>\n",
              "      <td>0.430528</td>\n",
              "      <td>-0.690713</td>\n",
              "      <td>0.090331</td>\n",
              "      <td>0.076178</td>\n",
              "      <td>0.277851</td>\n",
              "    </tr>\n",
              "  </tbody>\n",
              "</table>\n",
              "</div>"
            ],
            "text/plain": [
              "              0         1         2   ...        27        28        29\n",
              "224717  1.278694  0.886078 -0.147772  ...  0.099927 -0.012334  0.290034\n",
              "216687  0.086405 -0.262487 -0.029049  ... -0.959224 -1.620691 -0.046687\n",
              "259613  1.095682  0.486240 -0.028362  ...  0.019178 -0.137751 -0.350725\n",
              "241557  1.297067  0.570901 -0.197728  ...  0.259480 -0.330612 -0.281697\n",
              "32839  -0.962939  0.169043 -0.505997  ...  0.090331  0.076178  0.277851\n",
              "\n",
              "[5 rows x 30 columns]"
            ]
          },
          "metadata": {},
          "execution_count": 23
        }
      ],
      "source": [
        "# 원본 데이터를 재구성\n",
        "X_train_inverse_pca = pca.inverse_transform(X_train_pca)\n",
        "X_train_inverse_pca = pd.DataFrame(data=X_train_inverse_pca, index=X_train.index)\n",
        "X_train_inverse_pca.head()"
      ]
    },
    {
      "cell_type": "code",
      "execution_count": null,
      "metadata": {
        "colab": {
          "base_uri": "https://localhost:8080/"
        },
        "id": "riGHRpgLpOdF",
        "outputId": "c255a78a-8f51-4e09-ef44-a326ac3b214d"
      },
      "outputs": [
        {
          "output_type": "stream",
          "name": "stdout",
          "text": [
            "0.0017107714409176692\n"
          ]
        },
        {
          "output_type": "execute_result",
          "data": {
            "text/plain": [
              "array([0.00162756, 0.00171874, 0.00057426, ..., 0.00138892, 0.00025865,\n",
              "       0.0003105 ])"
            ]
          },
          "metadata": {},
          "execution_count": 24
        }
      ],
      "source": [
        "# 원본 데이터와 PCA 복원 데이터의 재구성 오차 계산\n",
        "\n",
        "def anomaly_score(df_origin, df_recon):\n",
        "    loss = np.sum((df_origin.values - df_recon.values)**2, axis=1)\n",
        "    loss = (loss-np.min(loss))/(np.max(loss)-np.min(loss))\n",
        "    return loss\n",
        "\n",
        "scores = anomaly_score(X_train, X_train_inverse_pca)\n",
        "print(np.mean(scores))\n",
        "scores"
      ]
    },
    {
      "cell_type": "code",
      "execution_count": null,
      "metadata": {
        "colab": {
          "base_uri": "https://localhost:8080/",
          "height": 423
        },
        "id": "ze7om2_1pOdF",
        "outputId": "6725e0f8-c63c-425b-dcc3-9e96a724026b"
      },
      "outputs": [
        {
          "output_type": "execute_result",
          "data": {
            "text/html": [
              "<div>\n",
              "<style scoped>\n",
              "    .dataframe tbody tr th:only-of-type {\n",
              "        vertical-align: middle;\n",
              "    }\n",
              "\n",
              "    .dataframe tbody tr th {\n",
              "        vertical-align: top;\n",
              "    }\n",
              "\n",
              "    .dataframe thead th {\n",
              "        text-align: right;\n",
              "    }\n",
              "</style>\n",
              "<table border=\"1\" class=\"dataframe\">\n",
              "  <thead>\n",
              "    <tr style=\"text-align: right;\">\n",
              "      <th></th>\n",
              "      <th>Class</th>\n",
              "      <th>Score</th>\n",
              "    </tr>\n",
              "  </thead>\n",
              "  <tbody>\n",
              "    <tr>\n",
              "      <th>224717</th>\n",
              "      <td>0</td>\n",
              "      <td>0.001628</td>\n",
              "    </tr>\n",
              "    <tr>\n",
              "      <th>216687</th>\n",
              "      <td>0</td>\n",
              "      <td>0.001719</td>\n",
              "    </tr>\n",
              "    <tr>\n",
              "      <th>259613</th>\n",
              "      <td>0</td>\n",
              "      <td>0.000574</td>\n",
              "    </tr>\n",
              "    <tr>\n",
              "      <th>241557</th>\n",
              "      <td>0</td>\n",
              "      <td>0.001576</td>\n",
              "    </tr>\n",
              "    <tr>\n",
              "      <th>32839</th>\n",
              "      <td>0</td>\n",
              "      <td>0.000524</td>\n",
              "    </tr>\n",
              "    <tr>\n",
              "      <th>...</th>\n",
              "      <td>...</td>\n",
              "      <td>...</td>\n",
              "    </tr>\n",
              "    <tr>\n",
              "      <th>61508</th>\n",
              "      <td>0</td>\n",
              "      <td>0.004838</td>\n",
              "    </tr>\n",
              "    <tr>\n",
              "      <th>232786</th>\n",
              "      <td>0</td>\n",
              "      <td>0.001267</td>\n",
              "    </tr>\n",
              "    <tr>\n",
              "      <th>72000</th>\n",
              "      <td>0</td>\n",
              "      <td>0.001389</td>\n",
              "    </tr>\n",
              "    <tr>\n",
              "      <th>79914</th>\n",
              "      <td>0</td>\n",
              "      <td>0.000259</td>\n",
              "    </tr>\n",
              "    <tr>\n",
              "      <th>188171</th>\n",
              "      <td>0</td>\n",
              "      <td>0.000310</td>\n",
              "    </tr>\n",
              "  </tbody>\n",
              "</table>\n",
              "<p>199364 rows × 2 columns</p>\n",
              "</div>"
            ],
            "text/plain": [
              "        Class     Score\n",
              "224717      0  0.001628\n",
              "216687      0  0.001719\n",
              "259613      0  0.000574\n",
              "241557      0  0.001576\n",
              "32839       0  0.000524\n",
              "...       ...       ...\n",
              "61508       0  0.004838\n",
              "232786      0  0.001267\n",
              "72000       0  0.001389\n",
              "79914       0  0.000259\n",
              "188171      0  0.000310\n",
              "\n",
              "[199364 rows x 2 columns]"
            ]
          },
          "metadata": {},
          "execution_count": 25
        }
      ],
      "source": [
        "df_pca = pd.DataFrame()\n",
        "df_pca['Class'] = y_train\n",
        "df_pca['Score'] = scores\n",
        "df_pca"
      ]
    },
    {
      "cell_type": "code",
      "execution_count": null,
      "metadata": {
        "colab": {
          "base_uri": "https://localhost:8080/"
        },
        "id": "YJGDD6EnpOdF",
        "outputId": "0fa42d50-6e50-4690-f06f-72ca928860cf"
      },
      "outputs": [
        {
          "output_type": "execute_result",
          "data": {
            "text/plain": [
              "0    199020\n",
              "1       344\n",
              "Name: Class, dtype: int64"
            ]
          },
          "metadata": {},
          "execution_count": 26
        }
      ],
      "source": [
        "df_pca['Class'].value_counts()"
      ]
    },
    {
      "cell_type": "code",
      "execution_count": null,
      "metadata": {
        "colab": {
          "base_uri": "https://localhost:8080/"
        },
        "id": "VG4lKiDSpOdF",
        "outputId": "f8e96ee3-bca9-4c75-e789-3f7032dce93e"
      },
      "outputs": [
        {
          "output_type": "execute_result",
          "data": {
            "text/plain": [
              "0    248\n",
              "1    102\n",
              "Name: Class, dtype: int64"
            ]
          },
          "metadata": {},
          "execution_count": 27
        }
      ],
      "source": [
        "df_pca.sort_values(by='Score', ascending=False).iloc[:350, 0].value_counts()"
      ]
    },
    {
      "cell_type": "markdown",
      "metadata": {
        "id": "VCmMois9pOdG"
      },
      "source": [
        "## 테스트 데이터로 성능 평가"
      ]
    },
    {
      "cell_type": "code",
      "execution_count": null,
      "metadata": {
        "colab": {
          "base_uri": "https://localhost:8080/",
          "height": 387
        },
        "id": "htxrNa8RpOdG",
        "outputId": "2391f6bd-9fca-4e1c-a674-249f291fd07f"
      },
      "outputs": [
        {
          "output_type": "stream",
          "name": "stdout",
          "text": [
            "0.0005252016418513471\n"
          ]
        },
        {
          "output_type": "display_data",
          "data": {
            "image/png": "[encoded data removed]",
            "text/plain": [
              "<Figure size 402.375x360 with 1 Axes>"
            ]
          },
          "metadata": {
            "needs_background": "light"
          }
        }
      ],
      "source": [
        "X_test_pca = pca.transform(X_test)\n",
        "X_test_pca = pd.DataFrame(data=X_test_pca, index=X_test.index)\n",
        "\n",
        "X_test_inverse_pca = pca.inverse_transform(X_test_pca)\n",
        "X_test_inverse_pca = pd.DataFrame(data=X_test_inverse_pca, \\\n",
        "                                  index=X_test.index)\n",
        "\n",
        "scores = anomaly_score(X_test, X_test_inverse_pca)\n",
        "print(np.mean(scores))\n",
        "\n",
        "plot_scatter(X_test_pca, y_test, 3, 5)"
      ]
    },
    {
      "cell_type": "code",
      "execution_count": null,
      "metadata": {
        "colab": {
          "base_uri": "https://localhost:8080/",
          "height": 423
        },
        "id": "waVsN6PhpOdG",
        "outputId": "12be6535-0bf1-4a7b-ab05-309d2a6b4d22"
      },
      "outputs": [
        {
          "output_type": "execute_result",
          "data": {
            "text/html": [
              "<div>\n",
              "<style scoped>\n",
              "    .dataframe tbody tr th:only-of-type {\n",
              "        vertical-align: middle;\n",
              "    }\n",
              "\n",
              "    .dataframe tbody tr th {\n",
              "        vertical-align: top;\n",
              "    }\n",
              "\n",
              "    .dataframe thead th {\n",
              "        text-align: right;\n",
              "    }\n",
              "</style>\n",
              "<table border=\"1\" class=\"dataframe\">\n",
              "  <thead>\n",
              "    <tr style=\"text-align: right;\">\n",
              "      <th></th>\n",
              "      <th>Class</th>\n",
              "      <th>Score</th>\n",
              "    </tr>\n",
              "  </thead>\n",
              "  <tbody>\n",
              "    <tr>\n",
              "      <th>119747</th>\n",
              "      <td>0</td>\n",
              "      <td>0.000166</td>\n",
              "    </tr>\n",
              "    <tr>\n",
              "      <th>44848</th>\n",
              "      <td>0</td>\n",
              "      <td>0.000122</td>\n",
              "    </tr>\n",
              "    <tr>\n",
              "      <th>147344</th>\n",
              "      <td>0</td>\n",
              "      <td>0.000579</td>\n",
              "    </tr>\n",
              "    <tr>\n",
              "      <th>201629</th>\n",
              "      <td>0</td>\n",
              "      <td>0.000160</td>\n",
              "    </tr>\n",
              "    <tr>\n",
              "      <th>175463</th>\n",
              "      <td>0</td>\n",
              "      <td>0.000289</td>\n",
              "    </tr>\n",
              "    <tr>\n",
              "      <th>...</th>\n",
              "      <td>...</td>\n",
              "      <td>...</td>\n",
              "    </tr>\n",
              "    <tr>\n",
              "      <th>7212</th>\n",
              "      <td>0</td>\n",
              "      <td>0.000461</td>\n",
              "    </tr>\n",
              "    <tr>\n",
              "      <th>63415</th>\n",
              "      <td>0</td>\n",
              "      <td>0.000229</td>\n",
              "    </tr>\n",
              "    <tr>\n",
              "      <th>254004</th>\n",
              "      <td>0</td>\n",
              "      <td>0.000257</td>\n",
              "    </tr>\n",
              "    <tr>\n",
              "      <th>199532</th>\n",
              "      <td>0</td>\n",
              "      <td>0.000559</td>\n",
              "    </tr>\n",
              "    <tr>\n",
              "      <th>220035</th>\n",
              "      <td>0</td>\n",
              "      <td>0.000192</td>\n",
              "    </tr>\n",
              "  </tbody>\n",
              "</table>\n",
              "<p>85443 rows × 2 columns</p>\n",
              "</div>"
            ],
            "text/plain": [
              "        Class     Score\n",
              "119747      0  0.000166\n",
              "44848       0  0.000122\n",
              "147344      0  0.000579\n",
              "201629      0  0.000160\n",
              "175463      0  0.000289\n",
              "...       ...       ...\n",
              "7212        0  0.000461\n",
              "63415       0  0.000229\n",
              "254004      0  0.000257\n",
              "199532      0  0.000559\n",
              "220035      0  0.000192\n",
              "\n",
              "[85443 rows x 2 columns]"
            ]
          },
          "metadata": {},
          "execution_count": 29
        }
      ],
      "source": [
        "df_test_pca = pd.DataFrame()\n",
        "df_test_pca['Class'] = y_test\n",
        "df_test_pca['Score'] = scores\n",
        "df_test_pca"
      ]
    },
    {
      "cell_type": "code",
      "execution_count": null,
      "metadata": {
        "colab": {
          "base_uri": "https://localhost:8080/"
        },
        "id": "sJbeeWrHpOdG",
        "outputId": "01271cd0-a221-4e16-9ebf-428d89b2cda6"
      },
      "outputs": [
        {
          "output_type": "execute_result",
          "data": {
            "text/plain": [
              "0    85295\n",
              "1      148\n",
              "Name: Class, dtype: int64"
            ]
          },
          "metadata": {},
          "execution_count": 30
        }
      ],
      "source": [
        "df_test_pca['Class'].value_counts()"
      ]
    },
    {
      "cell_type": "code",
      "execution_count": null,
      "metadata": {
        "colab": {
          "base_uri": "https://localhost:8080/"
        },
        "id": "a6VNqqx9pOdG",
        "outputId": "0531f032-09a2-42b7-c4be-99ce17e10cd5"
      },
      "outputs": [
        {
          "output_type": "execute_result",
          "data": {
            "text/plain": [
              "0    293\n",
              "1     57\n",
              "Name: Class, dtype: int64"
            ]
          },
          "metadata": {},
          "execution_count": 31
        }
      ],
      "source": [
        "df_test_pca.sort_values(by='Score', ascending=False).iloc[:350, 0].value_counts()"
      ]
    }
  ],
  "metadata": {
    "colab": {
      "collapsed_sections": [],
      "name": "CNA6_day3-3_unsupervised_creditcard_WS.ipynb",
      "provenance": [],
      "include_colab_link": true
    },
    "kernelspec": {
      "display_name": "Python 3",
      "name": "python3"
    },
    "language_info": {
      "name": "python"
    }
  },
  "nbformat": 4,
  "nbformat_minor": 0
}